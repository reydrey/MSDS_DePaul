{
 "cells": [
  {
   "cell_type": "markdown",
   "metadata": {
    "id": "iArKQxWlG_oP"
   },
   "source": [
    "## Support Vector Machines: Fit and evaluate a model\n",
    "\n",
    "Using the Titanic dataset from [this](https://www.kaggle.com/c/titanic/overview) Kaggle competition.\n",
    "\n",
    "In this section, we will fit and evaluate a simple Support Vector Machines model."
   ]
  },
  {
   "cell_type": "markdown",
   "metadata": {
    "id": "G5p6sV6PG_oS"
   },
   "source": [
    "### Read in Data"
   ]
  },
  {
   "cell_type": "code",
   "execution_count": 1,
   "metadata": {
    "colab": {
     "base_uri": "https://localhost:8080/",
     "height": 421
    },
    "executionInfo": {
     "elapsed": 1453,
     "status": "error",
     "timestamp": 1633565816803,
     "user": {
      "displayName": "Ilyas Ustun",
      "photoUrl": "https://lh3.googleusercontent.com/a/default-user=s64",
      "userId": "07102234121230289250"
     },
     "user_tz": 300
    },
    "id": "K_jREzeYG_oS",
    "outputId": "9f44c7aa-1ffb-4efa-ea01-5480ce558e16"
   },
   "outputs": [],
   "source": [
    "import joblib\n",
    "import pandas as pd\n",
    "from sklearn.model_selection import GridSearchCV, RandomizedSearchCV\n",
    "from sklearn.svm import SVC\n",
    "import warnings\n",
    "\n",
    "from sklearn import metrics\n",
    "warnings.filterwarnings('ignore', category=FutureWarning)\n",
    "warnings.filterwarnings('ignore', category=DeprecationWarning)\n",
    "\n",
    "# The path to your data. Arrange this based on your own file location.\n",
    "df_tr = pd.read_csv('titanic_data/train_features.csv')\n",
    "df_tr_labels = pd.read_csv('titanic_data/train_labels.csv', header=None)"
   ]
  },
  {
   "cell_type": "code",
   "execution_count": 2,
   "metadata": {},
   "outputs": [],
   "source": [
    "# The path to your data. Arrange this based on your own file location.\n",
    "df_val = pd.read_csv('titanic_data/val_features.csv')\n",
    "df_val_labels = pd.read_csv('titanic_data/val_labels.csv', header=None)\n",
    "\n",
    "# The path to your data. Arrange this based on your own file location.\n",
    "df_test = pd.read_csv('titanic_data/test_features.csv')\n",
    "df_test_labels = pd.read_csv('titanic_data/test_labels.csv', header=None)"
   ]
  },
  {
   "cell_type": "markdown",
   "metadata": {
    "id": "GIGpJZlIG_oT"
   },
   "source": [
    "### Cross Validation\n",
    "![CV](img/CV.png)\n",
    "![Cross-Val](img/Cross-Val.png)"
   ]
  },
  {
   "cell_type": "markdown",
   "metadata": {
    "id": "2jQmzHSiG_oU"
   },
   "source": [
    "### Hyperparameter tuning\n",
    "\n",
    "![c](img/c.png)"
   ]
  },
  {
   "cell_type": "code",
   "execution_count": 3,
   "metadata": {},
   "outputs": [
    {
     "data": {
      "text/html": [
       "<div>\n",
       "<style scoped>\n",
       "    .dataframe tbody tr th:only-of-type {\n",
       "        vertical-align: middle;\n",
       "    }\n",
       "\n",
       "    .dataframe tbody tr th {\n",
       "        vertical-align: top;\n",
       "    }\n",
       "\n",
       "    .dataframe thead th {\n",
       "        text-align: right;\n",
       "    }\n",
       "</style>\n",
       "<table border=\"1\" class=\"dataframe\">\n",
       "  <thead>\n",
       "    <tr style=\"text-align: right;\">\n",
       "      <th></th>\n",
       "      <th>Pclass</th>\n",
       "      <th>Sex</th>\n",
       "      <th>Age</th>\n",
       "      <th>Fare</th>\n",
       "      <th>Family_cnt</th>\n",
       "      <th>Cabin_ind</th>\n",
       "    </tr>\n",
       "  </thead>\n",
       "  <tbody>\n",
       "    <tr>\n",
       "      <th>0</th>\n",
       "      <td>2</td>\n",
       "      <td>0</td>\n",
       "      <td>62.0</td>\n",
       "      <td>10.5000</td>\n",
       "      <td>0</td>\n",
       "      <td>0</td>\n",
       "    </tr>\n",
       "    <tr>\n",
       "      <th>1</th>\n",
       "      <td>3</td>\n",
       "      <td>0</td>\n",
       "      <td>8.0</td>\n",
       "      <td>29.1250</td>\n",
       "      <td>5</td>\n",
       "      <td>0</td>\n",
       "    </tr>\n",
       "    <tr>\n",
       "      <th>2</th>\n",
       "      <td>3</td>\n",
       "      <td>0</td>\n",
       "      <td>32.0</td>\n",
       "      <td>56.4958</td>\n",
       "      <td>0</td>\n",
       "      <td>0</td>\n",
       "    </tr>\n",
       "    <tr>\n",
       "      <th>3</th>\n",
       "      <td>3</td>\n",
       "      <td>1</td>\n",
       "      <td>20.0</td>\n",
       "      <td>9.8250</td>\n",
       "      <td>1</td>\n",
       "      <td>0</td>\n",
       "    </tr>\n",
       "    <tr>\n",
       "      <th>4</th>\n",
       "      <td>2</td>\n",
       "      <td>1</td>\n",
       "      <td>28.0</td>\n",
       "      <td>13.0000</td>\n",
       "      <td>0</td>\n",
       "      <td>0</td>\n",
       "    </tr>\n",
       "  </tbody>\n",
       "</table>\n",
       "</div>"
      ],
      "text/plain": [
       "   Pclass  Sex   Age     Fare  Family_cnt  Cabin_ind\n",
       "0       2    0  62.0  10.5000           0          0\n",
       "1       3    0   8.0  29.1250           5          0\n",
       "2       3    0  32.0  56.4958           0          0\n",
       "3       3    1  20.0   9.8250           1          0\n",
       "4       2    1  28.0  13.0000           0          0"
      ]
     },
     "execution_count": 3,
     "metadata": {},
     "output_type": "execute_result"
    }
   ],
   "source": [
    "df_tr.head()"
   ]
  },
  {
   "cell_type": "code",
   "execution_count": 4,
   "metadata": {},
   "outputs": [
    {
     "data": {
      "text/plain": [
       "0    333\n",
       "1    201\n",
       "dtype: int64"
      ]
     },
     "execution_count": 4,
     "metadata": {},
     "output_type": "execute_result"
    }
   ],
   "source": [
    "df_tr_labels.value_counts()"
   ]
  },
  {
   "cell_type": "code",
   "execution_count": 5,
   "metadata": {
    "id": "IgRQppoSG_oU"
   },
   "outputs": [],
   "source": [
    "def print_results(results):\n",
    "    print('BEST PARAMS: {}\\n'.format(results.best_params_))\n",
    "\n",
    "    means = results.cv_results_['mean_test_score']\n",
    "    stds = results.cv_results_['std_test_score']\n",
    "    for mean, std, params in zip(means, stds, results.cv_results_['params']):\n",
    "        print('{:.3f} (+/-{:.2f}) for {}'.format(round(mean, 3), round(std * 2, 3), params))"
   ]
  },
  {
   "cell_type": "markdown",
   "metadata": {},
   "source": [
    "### 1. Find the best parameter values of kernel type and C in SVM"
   ]
  },
  {
   "cell_type": "code",
   "execution_count": 6,
   "metadata": {
    "id": "FvzgbFU3G_oV",
    "outputId": "e7197da3-8f5a-4b3d-e95c-ef97ed69056a"
   },
   "outputs": [
    {
     "name": "stdout",
     "output_type": "stream",
     "text": [
      "BEST PARAMS: {'C': 100, 'kernel': 'linear'}\n",
      "\n",
      "0.672 (+/-0.03) for {'C': 0.001, 'kernel': 'linear'}\n",
      "0.624 (+/-0.00) for {'C': 0.001, 'kernel': 'rbf'}\n",
      "0.704 (+/-0.04) for {'C': 0.01, 'kernel': 'linear'}\n",
      "0.624 (+/-0.00) for {'C': 0.01, 'kernel': 'rbf'}\n",
      "0.798 (+/-0.12) for {'C': 0.1, 'kernel': 'linear'}\n",
      "0.648 (+/-0.01) for {'C': 0.1, 'kernel': 'rbf'}\n",
      "0.798 (+/-0.12) for {'C': 1, 'kernel': 'linear'}\n",
      "0.646 (+/-0.02) for {'C': 1, 'kernel': 'rbf'}\n",
      "0.796 (+/-0.11) for {'C': 10, 'kernel': 'linear'}\n",
      "0.678 (+/-0.04) for {'C': 10, 'kernel': 'rbf'}\n",
      "0.801 (+/-0.11) for {'C': 100, 'kernel': 'linear'}\n",
      "0.783 (+/-0.05) for {'C': 100, 'kernel': 'rbf'}\n"
     ]
    }
   ],
   "source": [
    "svc = SVC()\n",
    "parameters = {\n",
    "    'kernel': ['linear', 'rbf'],\n",
    "    'C': [0.001, 0.01, 0.1, 1, 10, 100]\n",
    "}\n",
    "\n",
    "cv = GridSearchCV(svc, parameters, cv=3, n_jobs=-1)\n",
    "cv.fit(df_tr, df_tr_labels.values.ravel())\n",
    "\n",
    "print_results(cv)"
   ]
  },
  {
   "cell_type": "code",
   "execution_count": 7,
   "metadata": {},
   "outputs": [
    {
     "data": {
      "text/plain": [
       "SVC(C=100, kernel='linear')"
      ]
     },
     "execution_count": 7,
     "metadata": {},
     "output_type": "execute_result"
    }
   ],
   "source": [
    "cv.best_estimator_"
   ]
  },
  {
   "cell_type": "code",
   "execution_count": 8,
   "metadata": {},
   "outputs": [
    {
     "data": {
      "text/plain": [
       "0.7528089887640449"
      ]
     },
     "execution_count": 8,
     "metadata": {},
     "output_type": "execute_result"
    }
   ],
   "source": [
    "cv.best_estimator_.score(df_val, df_val_labels)"
   ]
  },
  {
   "cell_type": "markdown",
   "metadata": {},
   "source": [
    "What is the model performance when tested on the validation set?"
   ]
  },
  {
   "cell_type": "code",
   "execution_count": 9,
   "metadata": {},
   "outputs": [],
   "source": [
    "pred = cv.best_estimator_.predict(df_val)"
   ]
  },
  {
   "cell_type": "code",
   "execution_count": 10,
   "metadata": {},
   "outputs": [
    {
     "name": "stdout",
     "output_type": "stream",
     "text": [
      "              precision    recall  f1-score   support\n",
      "\n",
      "           0       0.79      0.84      0.81       113\n",
      "           1       0.68      0.60      0.64        65\n",
      "\n",
      "    accuracy                           0.75       178\n",
      "   macro avg       0.73      0.72      0.73       178\n",
      "weighted avg       0.75      0.75      0.75       178\n",
      "\n"
     ]
    }
   ],
   "source": [
    "print(metrics.classification_report(df_val_labels, pred))"
   ]
  },
  {
   "cell_type": "markdown",
   "metadata": {},
   "source": [
    "#### Randomized Search"
   ]
  },
  {
   "cell_type": "code",
   "execution_count": 11,
   "metadata": {},
   "outputs": [
    {
     "name": "stdout",
     "output_type": "stream",
     "text": [
      "BEST PARAMS: {'C': 4.631719300611734, 'kernel': 'linear'}\n",
      "\n",
      "0.798 (+/-0.12) for {'C': 4.631719300611734, 'kernel': 'linear'}\n",
      "0.654 (+/-0.02) for {'C': 5.557853341152079, 'kernel': 'rbf'}\n",
      "0.648 (+/-0.02) for {'C': 2.153025794028304, 'kernel': 'rbf'}\n",
      "0.655 (+/-0.04) for {'C': 0.2100503276029786, 'kernel': 'rbf'}\n",
      "0.798 (+/-0.12) for {'C': 1.2452639700196255, 'kernel': 'linear'}\n",
      "0.798 (+/-0.12) for {'C': 5.601837052007713, 'kernel': 'linear'}\n",
      "0.796 (+/-0.11) for {'C': 8.525211693816937, 'kernel': 'linear'}\n",
      "0.674 (+/-0.03) for {'C': 7.955646533932077, 'kernel': 'rbf'}\n",
      "0.798 (+/-0.12) for {'C': 1.6002852690192926, 'kernel': 'linear'}\n",
      "0.798 (+/-0.12) for {'C': 5.704511570871247, 'kernel': 'linear'}\n",
      "0.654 (+/-0.01) for {'C': 4.790495876410203, 'kernel': 'rbf'}\n",
      "0.646 (+/-0.02) for {'C': 0.9778986682425606, 'kernel': 'rbf'}\n",
      "0.798 (+/-0.12) for {'C': 1.5285147411971256, 'kernel': 'linear'}\n",
      "0.674 (+/-0.03) for {'C': 8.13228293636323, 'kernel': 'rbf'}\n",
      "0.648 (+/-0.02) for {'C': 1.2285094627911641, 'kernel': 'rbf'}\n",
      "0.796 (+/-0.11) for {'C': 8.914170637298547, 'kernel': 'linear'}\n",
      "0.648 (+/-0.02) for {'C': 1.4027549135604334, 'kernel': 'rbf'}\n",
      "0.798 (+/-0.12) for {'C': 0.6189558758806668, 'kernel': 'linear'}\n",
      "0.798 (+/-0.12) for {'C': 6.003044135692792, 'kernel': 'linear'}\n",
      "0.796 (+/-0.11) for {'C': 8.191544075884233, 'kernel': 'linear'}\n"
     ]
    }
   ],
   "source": [
    "svc = SVC()\n",
    "from scipy.stats import uniform\n",
    "\n",
    "parameters = {\n",
    "    'kernel': ['linear', 'rbf'],\n",
    "    'C': uniform(loc=0, scale=10)\n",
    "}\n",
    "\n",
    "cv = RandomizedSearchCV(svc, parameters, cv=3, n_iter=20, n_jobs=-1)\n",
    "cv.fit(df_tr, df_tr_labels.values.ravel())\n",
    "\n",
    "print_results(cv)"
   ]
  },
  {
   "cell_type": "code",
   "execution_count": 12,
   "metadata": {},
   "outputs": [
    {
     "data": {
      "text/plain": [
       "SVC(C=4.631719300611734, kernel='linear')"
      ]
     },
     "execution_count": 12,
     "metadata": {},
     "output_type": "execute_result"
    }
   ],
   "source": [
    "cv.best_estimator_"
   ]
  },
  {
   "cell_type": "markdown",
   "metadata": {},
   "source": [
    "### 2. Find the best parameter values of kernel type, C, and gamma in SVM"
   ]
  },
  {
   "cell_type": "code",
   "execution_count": null,
   "metadata": {},
   "outputs": [],
   "source": []
  },
  {
   "cell_type": "code",
   "execution_count": 13,
   "metadata": {
    "scrolled": true
   },
   "outputs": [
    {
     "data": {
      "text/plain": [
       "SVC(C=4.631719300611734, kernel='linear')"
      ]
     },
     "execution_count": 13,
     "metadata": {},
     "output_type": "execute_result"
    }
   ],
   "source": [
    "cv.best_estimator_"
   ]
  },
  {
   "cell_type": "code",
   "execution_count": 14,
   "metadata": {},
   "outputs": [
    {
     "data": {
      "text/plain": [
       "0.7471910112359551"
      ]
     },
     "execution_count": 14,
     "metadata": {},
     "output_type": "execute_result"
    }
   ],
   "source": [
    "cv.best_estimator_.score(df_val, df_val_labels)"
   ]
  },
  {
   "cell_type": "markdown",
   "metadata": {},
   "source": [
    "What is the model performance when tested on the validation set?"
   ]
  },
  {
   "cell_type": "code",
   "execution_count": 15,
   "metadata": {},
   "outputs": [],
   "source": [
    "pred = cv.best_estimator_.predict(df_val)"
   ]
  },
  {
   "cell_type": "code",
   "execution_count": 16,
   "metadata": {},
   "outputs": [
    {
     "name": "stdout",
     "output_type": "stream",
     "text": [
      "              precision    recall  f1-score   support\n",
      "\n",
      "           0       0.78      0.83      0.81       113\n",
      "           1       0.67      0.60      0.63        65\n",
      "\n",
      "    accuracy                           0.75       178\n",
      "   macro avg       0.73      0.72      0.72       178\n",
      "weighted avg       0.74      0.75      0.74       178\n",
      "\n"
     ]
    }
   ],
   "source": [
    "print(metrics.classification_report(df_val_labels, pred))"
   ]
  },
  {
   "cell_type": "markdown",
   "metadata": {},
   "source": [
    "### 3. Choose another model and perform hyperparameter tuning using the train set.   \n",
    "What is the model performance when tested on the validation set?"
   ]
  },
  {
   "cell_type": "markdown",
   "metadata": {},
   "source": [
    "### 4. (Optional) You are free to check other models, apply feature engineering, etc.Try new ideas and see if the model performance improves."
   ]
  },
  {
   "cell_type": "markdown",
   "metadata": {},
   "source": [
    "### 5. Finally, choose your best model (compared based on validation performance) and test it on the testing set.   \n",
    "Which model is the nest?  \n",
    "What is the model performance when tested on the testing set? "
   ]
  },
  {
   "cell_type": "markdown",
   "metadata": {
    "id": "yrNvTi0BG_oW"
   },
   "source": [
    "### Write out pickled model\n",
    "Sklearn models can be saved. \n",
    "- joblib's dump (to save) and load (to load) methods can be used for this purpose."
   ]
  },
  {
   "cell_type": "code",
   "execution_count": 17,
   "metadata": {
    "id": "RI_afGvgG_oX",
    "outputId": "270175ca-888e-4058-91f1-f379ff4ffaf4"
   },
   "outputs": [
    {
     "data": {
      "text/plain": [
       "['SVM_model.pkl']"
      ]
     },
     "execution_count": 17,
     "metadata": {},
     "output_type": "execute_result"
    }
   ],
   "source": [
    "joblib.dump(cv.best_estimator_, 'SVM_model.pkl')"
   ]
  },
  {
   "cell_type": "code",
   "execution_count": 18,
   "metadata": {
    "id": "fVmXeTJAG_oX"
   },
   "outputs": [
    {
     "data": {
      "text/plain": [
       "SVC(C=4.631719300611734, kernel='linear')"
      ]
     },
     "execution_count": 18,
     "metadata": {},
     "output_type": "execute_result"
    }
   ],
   "source": [
    "joblib.load(\"SVM_model.pkl\")"
   ]
  }
 ],
 "metadata": {
  "colab": {
   "name": "titanic support vector machines.ipynb",
   "provenance": []
  },
  "kernelspec": {
   "display_name": "Python 3 (ipykernel)",
   "language": "python",
   "name": "python3"
  },
  "language_info": {
   "codemirror_mode": {
    "name": "ipython",
    "version": 3
   },
   "file_extension": ".py",
   "mimetype": "text/x-python",
   "name": "python",
   "nbconvert_exporter": "python",
   "pygments_lexer": "ipython3",
   "version": "3.8.10"
  }
 },
 "nbformat": 4,
 "nbformat_minor": 1
}
