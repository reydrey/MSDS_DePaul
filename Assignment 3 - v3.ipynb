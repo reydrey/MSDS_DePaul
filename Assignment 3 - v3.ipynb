{
 "cells": [
  {
   "cell_type": "markdown",
   "metadata": {},
   "source": [
    "# DSC540 Project 3"
   ]
  },
  {
   "cell_type": "markdown",
   "metadata": {},
   "source": [
    "DePaul University  \n",
    "Ilyas Ustun, PhD  \n",
    "Chicago, IL  "
   ]
  },
  {
   "cell_type": "markdown",
   "metadata": {},
   "source": [
    "## Rules\n",
    "- Write your code under the corresponding questions. You are encouraged to use more than one cell.\n",
    "- Provide explanation in a separate Markdown formatted cell. \n",
    "- You can change the cell type by:\n",
    "    - Click on the outer area of the cell type you want to change,\n",
    "    - Go to the top, and select either Code or Markdown from the dropdown menu.\n",
    "- Be concise in your explanations and conclusions.\n",
    "- Write clear code and provide explanation to functions you create by using `#` comment sign.\n",
    "- Try to answer the questions by yourself. Use documentation from pandas, sklearn and similar libraries to solve the problem.\n",
    "- If you are stuck you can use different resources. Do not find an identical project and copy paste the solutions. \n",
    "- Write your name at the beginning of the jupyter notebook.\n",
    "\n",
    "\n",
    "Important:  \n",
    "- **Do NOT share the solutions with other people.**\n",
    "- **Do NOT share the solutions on the internet including but not limited to Github and other platforms.**\n",
    "- Sign the Honor Pledge below indicating that you have agreed to these rules listed here, and any other ethical and honor rules as required by the university.\n",
    "\n",
    "\n",
    "\n",
    "- **Deliverables:**\n",
    "    1. The Python Jupyter notebook file named properly with your name. Example: dsc540_project1_john_doe.ipynb\n",
    "    2. The HTML output of this code notebook names the same way. Example: dsc540_project1_john_doe.html\n",
    "        - File -> Download as -> HTML  \n",
    "        \n",
    "        \n",
    "**DO NOT zip the files.**\n",
    "\n",
    "Good Luck!"
   ]
  },
  {
   "cell_type": "markdown",
   "metadata": {},
   "source": [
    "### Shreyas Ravi"
   ]
  },
  {
   "cell_type": "markdown",
   "metadata": {},
   "source": [
    "**Honor Pledge:**  \n",
    "I pledge on my honor that I, **Shreyas Ravi**, have followed the rules listed above, that I have not given or received any unauthorized assistance on this assignment. \n"
   ]
  },
  {
   "cell_type": "markdown",
   "metadata": {},
   "source": [
    "\n",
    "## Project Description\n",
    "\n",
    "In this project we will be analyzing CO and NOX gas emissions from a power plant. The variables, their meanings and some statistics are given in the table below."
   ]
  },
  {
   "cell_type": "markdown",
   "metadata": {},
   "source": [
    "![PowerPlantEmissionsFeaturesTable](PowerPlantEmissionsFeaturesTable.PNG)"
   ]
  },
  {
   "cell_type": "markdown",
   "metadata": {},
   "source": [
    "## Import Libraries\n",
    "\n",
    "**Import the usual libraries for pandas and plotting, and sklearn.**"
   ]
  },
  {
   "cell_type": "code",
   "execution_count": 1,
   "metadata": {},
   "outputs": [],
   "source": [
    "import pandas as pd\n",
    "import numpy as np\n",
    "import matplotlib.pyplot as plt\n",
    "import seaborn as sns\n",
    "\n",
    "from sklearn import metrics"
   ]
  },
  {
   "cell_type": "code",
   "execution_count": 2,
   "metadata": {},
   "outputs": [
    {
     "data": {
      "text/plain": [
       "'0.24.2'"
      ]
     },
     "execution_count": 2,
     "metadata": {},
     "output_type": "execute_result"
    }
   ],
   "source": [
    "import sklearn\n",
    "sklearn.__version__"
   ]
  },
  {
   "cell_type": "code",
   "execution_count": 3,
   "metadata": {},
   "outputs": [],
   "source": [
    "pd.set_option('display.max_columns', 100)\n",
    "RANDOM_STATE = 0"
   ]
  },
  {
   "cell_type": "markdown",
   "metadata": {},
   "source": [
    "### These are the packages I used"
   ]
  },
  {
   "cell_type": "code",
   "execution_count": 4,
   "metadata": {},
   "outputs": [],
   "source": [
    "# Your package imports here"
   ]
  },
  {
   "cell_type": "code",
   "execution_count": null,
   "metadata": {},
   "outputs": [],
   "source": []
  },
  {
   "cell_type": "markdown",
   "metadata": {},
   "source": [
    "> NOTE: For the Kernel RBF SVM hyper parameter tuning use these parameters in the questions:\n",
    "        \n",
    "        'C': [1, 10, 100, 1000]\n",
    "        'gamma': [0.001, 0.01, 0.1, 1]"
   ]
  },
  {
   "cell_type": "markdown",
   "metadata": {},
   "source": [
    "## Q1 [10]\n",
    "- Read in the dataset\n",
    "- How many rows and variables are there?\n"
   ]
  },
  {
   "cell_type": "markdown",
   "metadata": {},
   "source": [
    "#### Get the Data\n",
    "\n",
    "**Use pandas to read in the datasets as a dataframe.**"
   ]
  },
  {
   "cell_type": "code",
   "execution_count": 4,
   "metadata": {},
   "outputs": [],
   "source": [
    "df = pd.read_csv('gas_emissions.csv')"
   ]
  },
  {
   "cell_type": "code",
   "execution_count": 5,
   "metadata": {},
   "outputs": [
    {
     "data": {
      "text/html": [
       "<div>\n",
       "<style scoped>\n",
       "    .dataframe tbody tr th:only-of-type {\n",
       "        vertical-align: middle;\n",
       "    }\n",
       "\n",
       "    .dataframe tbody tr th {\n",
       "        vertical-align: top;\n",
       "    }\n",
       "\n",
       "    .dataframe thead th {\n",
       "        text-align: right;\n",
       "    }\n",
       "</style>\n",
       "<table border=\"1\" class=\"dataframe\">\n",
       "  <thead>\n",
       "    <tr style=\"text-align: right;\">\n",
       "      <th></th>\n",
       "      <th>AT</th>\n",
       "      <th>AP</th>\n",
       "      <th>AH</th>\n",
       "      <th>AFDP</th>\n",
       "      <th>GTEP</th>\n",
       "      <th>TIT</th>\n",
       "      <th>TAT</th>\n",
       "      <th>TEY</th>\n",
       "      <th>CDP</th>\n",
       "      <th>CO</th>\n",
       "      <th>NOX</th>\n",
       "    </tr>\n",
       "  </thead>\n",
       "  <tbody>\n",
       "    <tr>\n",
       "      <th>0</th>\n",
       "      <td>1.95320</td>\n",
       "      <td>1020.1</td>\n",
       "      <td>84.985</td>\n",
       "      <td>2.5304</td>\n",
       "      <td>20.116</td>\n",
       "      <td>1048.7</td>\n",
       "      <td>544.92</td>\n",
       "      <td>116.27</td>\n",
       "      <td>10.799</td>\n",
       "      <td>7.4491</td>\n",
       "      <td>113.250</td>\n",
       "    </tr>\n",
       "    <tr>\n",
       "      <th>1</th>\n",
       "      <td>1.21910</td>\n",
       "      <td>1020.1</td>\n",
       "      <td>87.523</td>\n",
       "      <td>2.3937</td>\n",
       "      <td>18.584</td>\n",
       "      <td>1045.5</td>\n",
       "      <td>548.50</td>\n",
       "      <td>109.18</td>\n",
       "      <td>10.347</td>\n",
       "      <td>6.4684</td>\n",
       "      <td>112.020</td>\n",
       "    </tr>\n",
       "    <tr>\n",
       "      <th>2</th>\n",
       "      <td>0.94915</td>\n",
       "      <td>1022.2</td>\n",
       "      <td>78.335</td>\n",
       "      <td>2.7789</td>\n",
       "      <td>22.264</td>\n",
       "      <td>1068.8</td>\n",
       "      <td>549.95</td>\n",
       "      <td>125.88</td>\n",
       "      <td>11.256</td>\n",
       "      <td>3.6335</td>\n",
       "      <td>88.147</td>\n",
       "    </tr>\n",
       "    <tr>\n",
       "      <th>3</th>\n",
       "      <td>1.00750</td>\n",
       "      <td>1021.7</td>\n",
       "      <td>76.942</td>\n",
       "      <td>2.8170</td>\n",
       "      <td>23.358</td>\n",
       "      <td>1075.2</td>\n",
       "      <td>549.63</td>\n",
       "      <td>132.21</td>\n",
       "      <td>11.702</td>\n",
       "      <td>3.1972</td>\n",
       "      <td>87.078</td>\n",
       "    </tr>\n",
       "    <tr>\n",
       "      <th>4</th>\n",
       "      <td>1.28580</td>\n",
       "      <td>1021.6</td>\n",
       "      <td>76.732</td>\n",
       "      <td>2.8377</td>\n",
       "      <td>23.483</td>\n",
       "      <td>1076.2</td>\n",
       "      <td>549.68</td>\n",
       "      <td>133.58</td>\n",
       "      <td>11.737</td>\n",
       "      <td>2.3833</td>\n",
       "      <td>82.515</td>\n",
       "    </tr>\n",
       "  </tbody>\n",
       "</table>\n",
       "</div>"
      ],
      "text/plain": [
       "        AT      AP      AH    AFDP    GTEP     TIT     TAT     TEY     CDP  \\\n",
       "0  1.95320  1020.1  84.985  2.5304  20.116  1048.7  544.92  116.27  10.799   \n",
       "1  1.21910  1020.1  87.523  2.3937  18.584  1045.5  548.50  109.18  10.347   \n",
       "2  0.94915  1022.2  78.335  2.7789  22.264  1068.8  549.95  125.88  11.256   \n",
       "3  1.00750  1021.7  76.942  2.8170  23.358  1075.2  549.63  132.21  11.702   \n",
       "4  1.28580  1021.6  76.732  2.8377  23.483  1076.2  549.68  133.58  11.737   \n",
       "\n",
       "       CO      NOX  \n",
       "0  7.4491  113.250  \n",
       "1  6.4684  112.020  \n",
       "2  3.6335   88.147  \n",
       "3  3.1972   87.078  \n",
       "4  2.3833   82.515  "
      ]
     },
     "execution_count": 5,
     "metadata": {},
     "output_type": "execute_result"
    }
   ],
   "source": []
  },
  {
   "cell_type": "markdown",
   "metadata": {},
   "source": [
    "#### Is there any missing data?"
   ]
  },
  {
   "cell_type": "code",
   "execution_count": 6,
   "metadata": {},
   "outputs": [
    {
     "data": {
      "text/plain": [
       "AT      0\n",
       "AP      0\n",
       "AH      0\n",
       "AFDP    0\n",
       "GTEP    0\n",
       "TIT     0\n",
       "TAT     0\n",
       "TEY     0\n",
       "CDP     0\n",
       "CO      0\n",
       "NOX     0\n",
       "dtype: int64"
      ]
     },
     "execution_count": 6,
     "metadata": {},
     "output_type": "execute_result"
    }
   ],
   "source": [
    "df.isnull().sum()"
   ]
  },
  {
   "cell_type": "markdown",
   "metadata": {},
   "source": [
    "#### What is the average value of AP for those points who have CO levels above 3 $mg/m^3$?"
   ]
  },
  {
   "cell_type": "code",
   "execution_count": 7,
   "metadata": {},
   "outputs": [
    {
     "data": {
      "text/plain": [
       "1015.6900173490633"
      ]
     },
     "execution_count": 7,
     "metadata": {},
     "output_type": "execute_result"
    }
   ],
   "source": [
    "df[df['CO']>3.0]['AP'].mean()\n",
    "# average value of AP for co > 3"
   ]
  },
  {
   "cell_type": "markdown",
   "metadata": {},
   "source": [
    "#### Create a correlation map between the variables. Which variables have high correlation (> |0.9|)?"
   ]
  },
  {
   "cell_type": "code",
   "execution_count": 9,
   "metadata": {},
   "outputs": [
    {
     "data": {
      "text/html": [
       "<div>\n",
       "<style scoped>\n",
       "    .dataframe tbody tr th:only-of-type {\n",
       "        vertical-align: middle;\n",
       "    }\n",
       "\n",
       "    .dataframe tbody tr th {\n",
       "        vertical-align: top;\n",
       "    }\n",
       "\n",
       "    .dataframe thead th {\n",
       "        text-align: right;\n",
       "    }\n",
       "</style>\n",
       "<table border=\"1\" class=\"dataframe\">\n",
       "  <thead>\n",
       "    <tr style=\"text-align: right;\">\n",
       "      <th></th>\n",
       "      <th>AT</th>\n",
       "      <th>AP</th>\n",
       "      <th>AH</th>\n",
       "      <th>AFDP</th>\n",
       "      <th>GTEP</th>\n",
       "      <th>TIT</th>\n",
       "      <th>TAT</th>\n",
       "      <th>TEY</th>\n",
       "      <th>CDP</th>\n",
       "      <th>CO</th>\n",
       "      <th>NOX</th>\n",
       "    </tr>\n",
       "  </thead>\n",
       "  <tbody>\n",
       "    <tr>\n",
       "      <th>AT</th>\n",
       "      <td>1.000000</td>\n",
       "      <td>-0.493098</td>\n",
       "      <td>-0.466288</td>\n",
       "      <td>0.468976</td>\n",
       "      <td>0.193578</td>\n",
       "      <td>0.330112</td>\n",
       "      <td>0.208277</td>\n",
       "      <td>0.109437</td>\n",
       "      <td>0.200909</td>\n",
       "      <td>-0.390647</td>\n",
       "      <td>-0.593580</td>\n",
       "    </tr>\n",
       "    <tr>\n",
       "      <th>AP</th>\n",
       "      <td>-0.493098</td>\n",
       "      <td>1.000000</td>\n",
       "      <td>0.084381</td>\n",
       "      <td>-0.094144</td>\n",
       "      <td>-0.043730</td>\n",
       "      <td>-0.081605</td>\n",
       "      <td>-0.290147</td>\n",
       "      <td>0.050326</td>\n",
       "      <td>0.029420</td>\n",
       "      <td>0.200945</td>\n",
       "      <td>0.214236</td>\n",
       "    </tr>\n",
       "    <tr>\n",
       "      <th>AH</th>\n",
       "      <td>-0.466288</td>\n",
       "      <td>0.084381</td>\n",
       "      <td>1.000000</td>\n",
       "      <td>-0.245456</td>\n",
       "      <td>-0.297708</td>\n",
       "      <td>-0.260683</td>\n",
       "      <td>0.026251</td>\n",
       "      <td>-0.182732</td>\n",
       "      <td>-0.221706</td>\n",
       "      <td>0.158999</td>\n",
       "      <td>0.065351</td>\n",
       "    </tr>\n",
       "    <tr>\n",
       "      <th>AFDP</th>\n",
       "      <td>0.468976</td>\n",
       "      <td>-0.094144</td>\n",
       "      <td>-0.245456</td>\n",
       "      <td>1.000000</td>\n",
       "      <td>0.843958</td>\n",
       "      <td>0.915128</td>\n",
       "      <td>-0.519807</td>\n",
       "      <td>0.884954</td>\n",
       "      <td>0.922991</td>\n",
       "      <td>-0.640789</td>\n",
       "      <td>-0.584452</td>\n",
       "    </tr>\n",
       "    <tr>\n",
       "      <th>GTEP</th>\n",
       "      <td>0.193578</td>\n",
       "      <td>-0.043730</td>\n",
       "      <td>-0.297708</td>\n",
       "      <td>0.843958</td>\n",
       "      <td>1.000000</td>\n",
       "      <td>0.892851</td>\n",
       "      <td>-0.620652</td>\n",
       "      <td>0.932337</td>\n",
       "      <td>0.938142</td>\n",
       "      <td>-0.557177</td>\n",
       "      <td>-0.366655</td>\n",
       "    </tr>\n",
       "    <tr>\n",
       "      <th>TIT</th>\n",
       "      <td>0.330112</td>\n",
       "      <td>-0.081605</td>\n",
       "      <td>-0.260683</td>\n",
       "      <td>0.915128</td>\n",
       "      <td>0.892851</td>\n",
       "      <td>1.000000</td>\n",
       "      <td>-0.396161</td>\n",
       "      <td>0.951813</td>\n",
       "      <td>0.951590</td>\n",
       "      <td>-0.738092</td>\n",
       "      <td>-0.520081</td>\n",
       "    </tr>\n",
       "    <tr>\n",
       "      <th>TAT</th>\n",
       "      <td>0.208277</td>\n",
       "      <td>-0.290147</td>\n",
       "      <td>0.026251</td>\n",
       "      <td>-0.519807</td>\n",
       "      <td>-0.620652</td>\n",
       "      <td>-0.396161</td>\n",
       "      <td>1.000000</td>\n",
       "      <td>-0.633933</td>\n",
       "      <td>-0.656613</td>\n",
       "      <td>0.025768</td>\n",
       "      <td>0.054455</td>\n",
       "    </tr>\n",
       "    <tr>\n",
       "      <th>TEY</th>\n",
       "      <td>0.109437</td>\n",
       "      <td>0.050326</td>\n",
       "      <td>-0.182732</td>\n",
       "      <td>0.884954</td>\n",
       "      <td>0.932337</td>\n",
       "      <td>0.951813</td>\n",
       "      <td>-0.633933</td>\n",
       "      <td>1.000000</td>\n",
       "      <td>0.991207</td>\n",
       "      <td>-0.616791</td>\n",
       "      <td>-0.403278</td>\n",
       "    </tr>\n",
       "    <tr>\n",
       "      <th>CDP</th>\n",
       "      <td>0.200909</td>\n",
       "      <td>0.029420</td>\n",
       "      <td>-0.221706</td>\n",
       "      <td>0.922991</td>\n",
       "      <td>0.938142</td>\n",
       "      <td>0.951590</td>\n",
       "      <td>-0.656613</td>\n",
       "      <td>0.991207</td>\n",
       "      <td>1.000000</td>\n",
       "      <td>-0.612653</td>\n",
       "      <td>-0.443093</td>\n",
       "    </tr>\n",
       "    <tr>\n",
       "      <th>CO</th>\n",
       "      <td>-0.390647</td>\n",
       "      <td>0.200945</td>\n",
       "      <td>0.158999</td>\n",
       "      <td>-0.640789</td>\n",
       "      <td>-0.557177</td>\n",
       "      <td>-0.738092</td>\n",
       "      <td>0.025768</td>\n",
       "      <td>-0.616791</td>\n",
       "      <td>-0.612653</td>\n",
       "      <td>1.000000</td>\n",
       "      <td>0.678394</td>\n",
       "    </tr>\n",
       "    <tr>\n",
       "      <th>NOX</th>\n",
       "      <td>-0.593580</td>\n",
       "      <td>0.214236</td>\n",
       "      <td>0.065351</td>\n",
       "      <td>-0.584452</td>\n",
       "      <td>-0.366655</td>\n",
       "      <td>-0.520081</td>\n",
       "      <td>0.054455</td>\n",
       "      <td>-0.403278</td>\n",
       "      <td>-0.443093</td>\n",
       "      <td>0.678394</td>\n",
       "      <td>1.000000</td>\n",
       "    </tr>\n",
       "  </tbody>\n",
       "</table>\n",
       "</div>"
      ],
      "text/plain": [
       "            AT        AP        AH      AFDP      GTEP       TIT       TAT  \\\n",
       "AT    1.000000 -0.493098 -0.466288  0.468976  0.193578  0.330112  0.208277   \n",
       "AP   -0.493098  1.000000  0.084381 -0.094144 -0.043730 -0.081605 -0.290147   \n",
       "AH   -0.466288  0.084381  1.000000 -0.245456 -0.297708 -0.260683  0.026251   \n",
       "AFDP  0.468976 -0.094144 -0.245456  1.000000  0.843958  0.915128 -0.519807   \n",
       "GTEP  0.193578 -0.043730 -0.297708  0.843958  1.000000  0.892851 -0.620652   \n",
       "TIT   0.330112 -0.081605 -0.260683  0.915128  0.892851  1.000000 -0.396161   \n",
       "TAT   0.208277 -0.290147  0.026251 -0.519807 -0.620652 -0.396161  1.000000   \n",
       "TEY   0.109437  0.050326 -0.182732  0.884954  0.932337  0.951813 -0.633933   \n",
       "CDP   0.200909  0.029420 -0.221706  0.922991  0.938142  0.951590 -0.656613   \n",
       "CO   -0.390647  0.200945  0.158999 -0.640789 -0.557177 -0.738092  0.025768   \n",
       "NOX  -0.593580  0.214236  0.065351 -0.584452 -0.366655 -0.520081  0.054455   \n",
       "\n",
       "           TEY       CDP        CO       NOX  \n",
       "AT    0.109437  0.200909 -0.390647 -0.593580  \n",
       "AP    0.050326  0.029420  0.200945  0.214236  \n",
       "AH   -0.182732 -0.221706  0.158999  0.065351  \n",
       "AFDP  0.884954  0.922991 -0.640789 -0.584452  \n",
       "GTEP  0.932337  0.938142 -0.557177 -0.366655  \n",
       "TIT   0.951813  0.951590 -0.738092 -0.520081  \n",
       "TAT  -0.633933 -0.656613  0.025768  0.054455  \n",
       "TEY   1.000000  0.991207 -0.616791 -0.403278  \n",
       "CDP   0.991207  1.000000 -0.612653 -0.443093  \n",
       "CO   -0.616791 -0.612653  1.000000  0.678394  \n",
       "NOX  -0.403278 -0.443093  0.678394  1.000000  "
      ]
     },
     "execution_count": 9,
     "metadata": {},
     "output_type": "execute_result"
    }
   ],
   "source": [
    "df.corr()"
   ]
  },
  {
   "cell_type": "code",
   "execution_count": 14,
   "metadata": {},
   "outputs": [
    {
     "name": "stdout",
     "output_type": "stream",
     "text": [
      "TEY  CDP     0.991207\n",
      "TIT  TEY     0.951813\n",
      "     CDP     0.951590\n",
      "CDP  GTEP    0.938142\n",
      "TEY  GTEP    0.932337\n",
      "CDP  AFDP    0.922991\n",
      "TIT  AFDP    0.915128\n",
      "dtype: float64\n"
     ]
    }
   ],
   "source": [
    "# displaying variables with correlation > 0.9\n",
    "c1 = df.corr().stack().sort_values(ascending=False).drop_duplicates()\n",
    "cor = c1[c1!=1]\n",
    "print(cor[cor>0.9])"
   ]
  },
  {
   "cell_type": "markdown",
   "metadata": {},
   "source": [
    "#### Create a scatter plot of 'TEY' vs 'CDP'"
   ]
  },
  {
   "cell_type": "code",
   "execution_count": 15,
   "metadata": {},
   "outputs": [
    {
     "data": {
      "text/plain": [
       "<AxesSubplot:xlabel='CDP', ylabel='TEY'>"
      ]
     },
     "execution_count": 15,
     "metadata": {},
     "output_type": "execute_result"
    },
    {
     "data": {
      "image/png": "[encoded data removed]",
      "text/plain": [
       "<Figure size 432x288 with 1 Axes>"
      ]
     },
     "metadata": {
      "needs_background": "light"
     },
     "output_type": "display_data"
    }
   ],
   "source": [
    "sns.scatterplot(data=df, x=\"CDP\", y=\"TEY\")"
   ]
  },
  {
   "cell_type": "markdown",
   "metadata": {},
   "source": [
    "#### Create histograms for CO and NOX."
   ]
  },
  {
   "cell_type": "code",
   "execution_count": 25,
   "metadata": {},
   "outputs": [
    {
     "data": {
      "image/png": "[encoded data removed]",
      "text/plain": [
       "<Figure size 432x288 with 1 Axes>"
      ]
     },
     "metadata": {
      "needs_background": "light"
     },
     "output_type": "display_data"
    }
   ],
   "source": [
    "df['CO'].hist(bins=30)\n",
    "plt.grid(b=None)"
   ]
  },
  {
   "cell_type": "code",
   "execution_count": 26,
   "metadata": {},
   "outputs": [
    {
     "data": {
      "image/png": "[encoded data removed]",
      "text/plain": [
       "<Figure size 432x288 with 1 Axes>"
      ]
     },
     "metadata": {
      "needs_background": "light"
     },
     "output_type": "display_data"
    }
   ],
   "source": [
    "df['NOX'].hist(bins=30)\n",
    "plt.grid(b=None)"
   ]
  },
  {
   "cell_type": "markdown",
   "metadata": {},
   "source": [
    "#### Create a sctter plot of CO vs NOX."
   ]
  },
  {
   "cell_type": "code",
   "execution_count": 28,
   "metadata": {},
   "outputs": [
    {
     "data": {
      "text/plain": [
       "<AxesSubplot:xlabel='NOX', ylabel='CO'>"
      ]
     },
     "execution_count": 28,
     "metadata": {},
     "output_type": "execute_result"
    },
    {
     "data": {
      "image/png": "[encoded data removed]",
      "text/plain": [
       "<Figure size 432x288 with 1 Axes>"
      ]
     },
     "metadata": {
      "needs_background": "light"
     },
     "output_type": "display_data"
    }
   ],
   "source": [
    "sns.scatterplot(data=df, x=\"NOX\", y=\"CO\")"
   ]
  },
  {
   "cell_type": "markdown",
   "metadata": {},
   "source": [
    "### Prepare data for machine learning"
   ]
  },
  {
   "cell_type": "markdown",
   "metadata": {},
   "source": [
    "- We will predict CO using all the other variables.\n",
    "- NOX, which is another emission gas, will not be used as predictor.\n",
    "- CO is a continuous variable, thus we will be doing regression.\n",
    "- Many of algorithms that do classification also have regression counterparts."
   ]
  },
  {
   "cell_type": "code",
   "execution_count": 29,
   "metadata": {},
   "outputs": [],
   "source": [
    "y = df.CO\n",
    "X = df.drop(['CO', 'NOX'], axis=1)"
   ]
  },
  {
   "cell_type": "code",
   "execution_count": 31,
   "metadata": {},
   "outputs": [],
   "source": [
    "from sklearn.model_selection import train_test_split\n",
    "X_train, X_test, y_train, y_test = train_test_split(X, y, test_size=0.10, random_state=RANDOM_STATE)\n",
    "X_train, X_val, y_train, y_val = train_test_split(X_train, y_train, test_size=0.20, random_state=RANDOM_STATE)"
   ]
  },
  {
   "cell_type": "code",
   "execution_count": 32,
   "metadata": {},
   "outputs": [],
   "source": [
    "# Standardization of the data\n",
    "from sklearn.preprocessing import StandardScaler\n",
    "ss = StandardScaler()\n",
    "ss.fit(X_train)\n",
    "X_train = ss.transform(X_train)\n",
    "X_val = ss.transform(X_val)\n",
    "X_test = ss.transform(X_test)"
   ]
  },
  {
   "cell_type": "code",
   "execution_count": 33,
   "metadata": {},
   "outputs": [
    {
     "data": {
      "text/plain": [
       "(5316, 9)"
      ]
     },
     "execution_count": 33,
     "metadata": {},
     "output_type": "execute_result"
    }
   ],
   "source": [
    "X_train.shape"
   ]
  },
  {
   "cell_type": "code",
   "execution_count": 34,
   "metadata": {},
   "outputs": [
    {
     "data": {
      "text/plain": [
       "(1329, 9)"
      ]
     },
     "execution_count": 34,
     "metadata": {},
     "output_type": "execute_result"
    }
   ],
   "source": [
    "X_val.shape"
   ]
  },
  {
   "cell_type": "code",
   "execution_count": 35,
   "metadata": {},
   "outputs": [
    {
     "data": {
      "text/plain": [
       "(739, 9)"
      ]
     },
     "execution_count": 35,
     "metadata": {},
     "output_type": "execute_result"
    }
   ],
   "source": [
    "X_test.shape"
   ]
  },
  {
   "cell_type": "markdown",
   "metadata": {},
   "source": [
    "## Utility Functions"
   ]
  },
  {
   "cell_type": "markdown",
   "metadata": {},
   "source": [
    "You can create helper functions.\n",
    "For example, create functions that take the score and store it in a dataframe for a specific model."
   ]
  },
  {
   "cell_type": "code",
   "execution_count": 139,
   "metadata": {},
   "outputs": [],
   "source": [
    "score_df = pd.DataFrame(columns=['model type','train_r2','val_r2','train_rmse','val_rmse'])\n",
    "def score(mdl, name):\n",
    "    train_r2 = metrics.r2_score(y_train, mdl.predict(X_train))\n",
    "    val_r2 = metrics.r2_score(y_val, mdl.predict(X_val))\n",
    "    train_rmse = metrics.mean_squared_error(y_train, mdl.predict(X_train))**0.5\n",
    "    val_rmse = metrics.mean_squared_error(y_val, mdl.predict(X_val))**0.5\n",
    "    score_df.loc[len(score_df.index)] = [name, train_r2, val_r2, train_rmse, val_rmse]\n",
    "    \n",
    "\n",
    "\n",
    "def score_updated(mdl, name, x_train, x_val):\n",
    "    train_r2 = metrics.r2_score(y_train, mdl.predict(x_train))\n",
    "    val_r2 = metrics.r2_score(y_val, mdl.predict(x_val))\n",
    "    train_rmse = metrics.mean_squared_error(y_train, mdl.predict(x_train))**0.5\n",
    "    val_rmse = metrics.mean_squared_error(y_val, mdl.predict(x_val))**0.5\n",
    "    score_df.loc[len(score_df.index)] = [name, train_r2, val_r2, train_rmse, val_rmse]\n",
    "    "
   ]
  },
  {
   "cell_type": "markdown",
   "metadata": {},
   "source": [
    "## Q2 [10]"
   ]
  },
  {
   "cell_type": "markdown",
   "metadata": {},
   "source": [
    "- Apply Linear Regression. Predict CO emission using other variables.\n",
    "    - What is the model $R^2$ on training data?\n",
    "    - What is the $R^2$ on validation data?\n",
    "    - What is the Root Mean Squared Error (RMSE) on training data?\n",
    "    - What is the RMSE on validation data?\n",
    "    \n",
    "> - $R^2$ higher is better. ($R^2$ is % variation in data being explained)  \n",
    "> - RMSE lower is better. (RMSE (Root Mean Squared Error) is error, meaning the difference between predictions and actual data)  \n",
    "\n",
    "Hint:  \n",
    "- You can use the `r2_score` and `mean_squared_error` methods in `sklearn.metrics`.   \n",
    "- You need to take the square root of Mean Squared Error to get to RMSE. (MSE $\\rightarrow$ square root $\\rightarrow$ RMSE)"
   ]
  },
  {
   "cell_type": "code",
   "execution_count": 36,
   "metadata": {},
   "outputs": [],
   "source": [
    "from sklearn.linear_model import LinearRegression"
   ]
  },
  {
   "cell_type": "code",
   "execution_count": 184,
   "metadata": {},
   "outputs": [
    {
     "data": {
      "text/plain": [
       "LinearRegression()"
      ]
     },
     "execution_count": 184,
     "metadata": {},
     "output_type": "execute_result"
    }
   ],
   "source": [
    "lin_reg = LinearRegression()\n",
    "lin_reg.fit(X_train, y_train)"
   ]
  },
  {
   "cell_type": "code",
   "execution_count": 185,
   "metadata": {},
   "outputs": [],
   "source": [
    "score(lin_reg, 'linear regression')"
   ]
  },
  {
   "cell_type": "code",
   "execution_count": 46,
   "metadata": {
    "scrolled": true
   },
   "outputs": [
    {
     "data": {
      "text/html": [
       "<div>\n",
       "<style scoped>\n",
       "    .dataframe tbody tr th:only-of-type {\n",
       "        vertical-align: middle;\n",
       "    }\n",
       "\n",
       "    .dataframe tbody tr th {\n",
       "        vertical-align: top;\n",
       "    }\n",
       "\n",
       "    .dataframe thead th {\n",
       "        text-align: right;\n",
       "    }\n",
       "</style>\n",
       "<table border=\"1\" class=\"dataframe\">\n",
       "  <thead>\n",
       "    <tr style=\"text-align: right;\">\n",
       "      <th></th>\n",
       "      <th>model type</th>\n",
       "      <th>train_r2</th>\n",
       "      <th>val_r2</th>\n",
       "      <th>train_rmse</th>\n",
       "      <th>val_rmse</th>\n",
       "    </tr>\n",
       "  </thead>\n",
       "  <tbody>\n",
       "    <tr>\n",
       "      <th>0</th>\n",
       "      <td>linear regression</td>\n",
       "      <td>0.664009</td>\n",
       "      <td>0.646343</td>\n",
       "      <td>1.272012</td>\n",
       "      <td>1.388489</td>\n",
       "    </tr>\n",
       "  </tbody>\n",
       "</table>\n",
       "</div>"
      ],
      "text/plain": [
       "          model type  train_r2    val_r2  train_rmse  val_rmse\n",
       "0  linear regression  0.664009  0.646343    1.272012  1.388489"
      ]
     },
     "execution_count": 46,
     "metadata": {},
     "output_type": "execute_result"
    }
   ],
   "source": [
    "score_df"
   ]
  },
  {
   "cell_type": "markdown",
   "metadata": {},
   "source": [
    "The above shows the training R squared, validation R squared, training RMSE and Validation RMSE all in one table along with the model type. "
   ]
  },
  {
   "cell_type": "markdown",
   "metadata": {},
   "source": [
    "## Q3 [10]"
   ]
  },
  {
   "cell_type": "markdown",
   "metadata": {},
   "source": [
    "- Apply Random Forest Regression with 100 trees. Predict CO emission using other variables.\n",
    "    - What is the model $R^2$?\n",
    "    - What is the $R^2$ on validation data?\n",
    "    - What is the RMSE on training data?\n",
    "    - What is the RMSE on validation data?\n",
    "\n",
    "- Is training and validation score close? If not what might be the problem?\n",
    "- If there is a large gap, try to decrease the gap by changing some hyperparameters of the Random Forest model. (In this analysis, any difference more than 0.10 $R^2$ difference can be assumed to be large.)\n",
    "    - Once you reach a difference of less than or close to 0.10 between training $R^2$ and validation $R^2$ you can stop. \n",
    "    - During this process your training score will probably decrease, and that is OK. "
   ]
  },
  {
   "cell_type": "code",
   "execution_count": 47,
   "metadata": {},
   "outputs": [],
   "source": [
    "from sklearn.ensemble import RandomForestRegressor"
   ]
  },
  {
   "cell_type": "code",
   "execution_count": 74,
   "metadata": {},
   "outputs": [],
   "source": [
    "estimator = RandomForestRegressor(n_estimators=100, random_state=RANDOM_STATE)"
   ]
  },
  {
   "cell_type": "code",
   "execution_count": 186,
   "metadata": {},
   "outputs": [
    {
     "data": {
      "text/plain": [
       "RandomForestRegressor(min_samples_leaf=6, random_state=0)"
      ]
     },
     "execution_count": 186,
     "metadata": {},
     "output_type": "execute_result"
    }
   ],
   "source": [
    "estimator.fit(X_train,y_train)"
   ]
  },
  {
   "cell_type": "code",
   "execution_count": 187,
   "metadata": {},
   "outputs": [],
   "source": [
    "score(estimator, 'random forest')"
   ]
  },
  {
   "cell_type": "code",
   "execution_count": 77,
   "metadata": {},
   "outputs": [
    {
     "data": {
      "text/html": [
       "<div>\n",
       "<style scoped>\n",
       "    .dataframe tbody tr th:only-of-type {\n",
       "        vertical-align: middle;\n",
       "    }\n",
       "\n",
       "    .dataframe tbody tr th {\n",
       "        vertical-align: top;\n",
       "    }\n",
       "\n",
       "    .dataframe thead th {\n",
       "        text-align: right;\n",
       "    }\n",
       "</style>\n",
       "<table border=\"1\" class=\"dataframe\">\n",
       "  <thead>\n",
       "    <tr style=\"text-align: right;\">\n",
       "      <th></th>\n",
       "      <th>model type</th>\n",
       "      <th>train_r2</th>\n",
       "      <th>val_r2</th>\n",
       "      <th>train_rmse</th>\n",
       "      <th>val_rmse</th>\n",
       "    </tr>\n",
       "  </thead>\n",
       "  <tbody>\n",
       "    <tr>\n",
       "      <th>0</th>\n",
       "      <td>linear regression</td>\n",
       "      <td>0.664009</td>\n",
       "      <td>0.646343</td>\n",
       "      <td>1.272012</td>\n",
       "      <td>1.388489</td>\n",
       "    </tr>\n",
       "    <tr>\n",
       "      <th>1</th>\n",
       "      <td>random forest</td>\n",
       "      <td>0.963542</td>\n",
       "      <td>0.755775</td>\n",
       "      <td>0.419012</td>\n",
       "      <td>1.153843</td>\n",
       "    </tr>\n",
       "  </tbody>\n",
       "</table>\n",
       "</div>"
      ],
      "text/plain": [
       "          model type  train_r2    val_r2  train_rmse  val_rmse\n",
       "0  linear regression  0.664009  0.646343    1.272012  1.388489\n",
       "1      random forest  0.963542  0.755775    0.419012  1.153843"
      ]
     },
     "execution_count": 77,
     "metadata": {},
     "output_type": "execute_result"
    }
   ],
   "source": [
    "score_df"
   ]
  },
  {
   "cell_type": "code",
   "execution_count": 173,
   "metadata": {},
   "outputs": [],
   "source": [
    "estimator = RandomForestRegressor(n_estimators=100, random_state=RANDOM_STATE, min_samples_leaf = 6)"
   ]
  },
  {
   "cell_type": "code",
   "execution_count": 174,
   "metadata": {},
   "outputs": [
    {
     "data": {
      "text/plain": [
       "RandomForestRegressor(min_samples_leaf=6, random_state=0)"
      ]
     },
     "execution_count": 174,
     "metadata": {},
     "output_type": "execute_result"
    }
   ],
   "source": [
    "estimator.fit(X_train,y_train)"
   ]
  },
  {
   "cell_type": "code",
   "execution_count": 175,
   "metadata": {},
   "outputs": [],
   "source": [
    "score(estimator, 'random forest')"
   ]
  },
  {
   "cell_type": "code",
   "execution_count": 82,
   "metadata": {},
   "outputs": [
    {
     "data": {
      "text/html": [
       "<div>\n",
       "<style scoped>\n",
       "    .dataframe tbody tr th:only-of-type {\n",
       "        vertical-align: middle;\n",
       "    }\n",
       "\n",
       "    .dataframe tbody tr th {\n",
       "        vertical-align: top;\n",
       "    }\n",
       "\n",
       "    .dataframe thead th {\n",
       "        text-align: right;\n",
       "    }\n",
       "</style>\n",
       "<table border=\"1\" class=\"dataframe\">\n",
       "  <thead>\n",
       "    <tr style=\"text-align: right;\">\n",
       "      <th></th>\n",
       "      <th>model type</th>\n",
       "      <th>train_r2</th>\n",
       "      <th>val_r2</th>\n",
       "      <th>train_rmse</th>\n",
       "      <th>val_rmse</th>\n",
       "    </tr>\n",
       "  </thead>\n",
       "  <tbody>\n",
       "    <tr>\n",
       "      <th>0</th>\n",
       "      <td>linear regression</td>\n",
       "      <td>0.664009</td>\n",
       "      <td>0.646343</td>\n",
       "      <td>1.272012</td>\n",
       "      <td>1.388489</td>\n",
       "    </tr>\n",
       "    <tr>\n",
       "      <th>1</th>\n",
       "      <td>random forest</td>\n",
       "      <td>0.963542</td>\n",
       "      <td>0.755775</td>\n",
       "      <td>0.419012</td>\n",
       "      <td>1.153843</td>\n",
       "    </tr>\n",
       "    <tr>\n",
       "      <th>2</th>\n",
       "      <td>random forest</td>\n",
       "      <td>0.849095</td>\n",
       "      <td>0.752569</td>\n",
       "      <td>0.852470</td>\n",
       "      <td>1.161392</td>\n",
       "    </tr>\n",
       "  </tbody>\n",
       "</table>\n",
       "</div>"
      ],
      "text/plain": [
       "          model type  train_r2    val_r2  train_rmse  val_rmse\n",
       "0  linear regression  0.664009  0.646343    1.272012  1.388489\n",
       "1      random forest  0.963542  0.755775    0.419012  1.153843\n",
       "2      random forest  0.849095  0.752569    0.852470  1.161392"
      ]
     },
     "execution_count": 82,
     "metadata": {},
     "output_type": "execute_result"
    }
   ],
   "source": [
    "score_df"
   ]
  },
  {
   "cell_type": "code",
   "execution_count": 83,
   "metadata": {},
   "outputs": [],
   "source": [
    "score_df.drop(1,inplace=True)"
   ]
  },
  {
   "cell_type": "markdown",
   "metadata": {},
   "source": [
    "In the second Random Forest row we can see that the difference between the training R squared and Validation R Squared are within 0.10 of each other, which is why i stopped at this value. "
   ]
  },
  {
   "cell_type": "markdown",
   "metadata": {},
   "source": [
    "## Q4 [10]"
   ]
  },
  {
   "cell_type": "markdown",
   "metadata": {},
   "source": [
    "- Apply Support Vector Regression. Predict CO emission using other variables.\n",
    "    - What is the model $R^2$?\n",
    "    - What is the $R^2$ on validation data?\n",
    "    - What is the RMSE on training data?\n",
    "    - What is the RMSE on validation data?\n",
    "    \n",
    "- Do this for each of the models listed below using the default parameters:  \n",
    "    1. **Linear kernel SVR**  \n",
    "    2. **Polynomial kernel SVR**  \n",
    "    3. **RBF kernel SVR** "
   ]
  },
  {
   "cell_type": "code",
   "execution_count": 84,
   "metadata": {},
   "outputs": [],
   "source": [
    "from sklearn.svm import SVR"
   ]
  },
  {
   "cell_type": "markdown",
   "metadata": {},
   "source": [
    "### Linear SVM Regressor"
   ]
  },
  {
   "cell_type": "code",
   "execution_count": 169,
   "metadata": {},
   "outputs": [],
   "source": [
    "estimator_svm = SVR(kernel='linear')\n",
    "estimator_svm.fit(X_train, y_train)\n",
    "score(estimator_svm, 'Linear SVM')"
   ]
  },
  {
   "cell_type": "code",
   "execution_count": 93,
   "metadata": {},
   "outputs": [
    {
     "data": {
      "text/html": [
       "<div>\n",
       "<style scoped>\n",
       "    .dataframe tbody tr th:only-of-type {\n",
       "        vertical-align: middle;\n",
       "    }\n",
       "\n",
       "    .dataframe tbody tr th {\n",
       "        vertical-align: top;\n",
       "    }\n",
       "\n",
       "    .dataframe thead th {\n",
       "        text-align: right;\n",
       "    }\n",
       "</style>\n",
       "<table border=\"1\" class=\"dataframe\">\n",
       "  <thead>\n",
       "    <tr style=\"text-align: right;\">\n",
       "      <th></th>\n",
       "      <th>model type</th>\n",
       "      <th>train_r2</th>\n",
       "      <th>val_r2</th>\n",
       "      <th>train_rmse</th>\n",
       "      <th>val_rmse</th>\n",
       "    </tr>\n",
       "  </thead>\n",
       "  <tbody>\n",
       "    <tr>\n",
       "      <th>0</th>\n",
       "      <td>linear regression</td>\n",
       "      <td>0.664009</td>\n",
       "      <td>0.646343</td>\n",
       "      <td>1.272012</td>\n",
       "      <td>1.388489</td>\n",
       "    </tr>\n",
       "    <tr>\n",
       "      <th>2</th>\n",
       "      <td>Linear SVM</td>\n",
       "      <td>0.624427</td>\n",
       "      <td>0.602165</td>\n",
       "      <td>1.344852</td>\n",
       "      <td>1.472661</td>\n",
       "    </tr>\n",
       "  </tbody>\n",
       "</table>\n",
       "</div>"
      ],
      "text/plain": [
       "          model type  train_r2    val_r2  train_rmse  val_rmse\n",
       "0  linear regression  0.664009  0.646343    1.272012  1.388489\n",
       "2         Linear SVM  0.624427  0.602165    1.344852  1.472661"
      ]
     },
     "execution_count": 93,
     "metadata": {},
     "output_type": "execute_result"
    }
   ],
   "source": [
    "score_df"
   ]
  },
  {
   "cell_type": "markdown",
   "metadata": {},
   "source": [
    "### Polynomial Kernel SVM Regressor"
   ]
  },
  {
   "cell_type": "code",
   "execution_count": 170,
   "metadata": {},
   "outputs": [],
   "source": [
    "from sklearn.svm import SVR\n",
    "estimator_pksvm = SVR(kernel='poly')\n",
    "estimator_pksvm.fit(X_train, y_train)\n",
    "score(estimator_pksvm, 'Polynomial Kernel SVM')"
   ]
  },
  {
   "cell_type": "code",
   "execution_count": 95,
   "metadata": {},
   "outputs": [
    {
     "data": {
      "text/html": [
       "<div>\n",
       "<style scoped>\n",
       "    .dataframe tbody tr th:only-of-type {\n",
       "        vertical-align: middle;\n",
       "    }\n",
       "\n",
       "    .dataframe tbody tr th {\n",
       "        vertical-align: top;\n",
       "    }\n",
       "\n",
       "    .dataframe thead th {\n",
       "        text-align: right;\n",
       "    }\n",
       "</style>\n",
       "<table border=\"1\" class=\"dataframe\">\n",
       "  <thead>\n",
       "    <tr style=\"text-align: right;\">\n",
       "      <th></th>\n",
       "      <th>model type</th>\n",
       "      <th>train_r2</th>\n",
       "      <th>val_r2</th>\n",
       "      <th>train_rmse</th>\n",
       "      <th>val_rmse</th>\n",
       "    </tr>\n",
       "  </thead>\n",
       "  <tbody>\n",
       "    <tr>\n",
       "      <th>0</th>\n",
       "      <td>linear regression</td>\n",
       "      <td>0.664009</td>\n",
       "      <td>0.646343</td>\n",
       "      <td>1.272012</td>\n",
       "      <td>1.388489</td>\n",
       "    </tr>\n",
       "    <tr>\n",
       "      <th>2</th>\n",
       "      <td>Polynomial Kernel SVM</td>\n",
       "      <td>0.740485</td>\n",
       "      <td>0.731049</td>\n",
       "      <td>1.117914</td>\n",
       "      <td>1.210845</td>\n",
       "    </tr>\n",
       "  </tbody>\n",
       "</table>\n",
       "</div>"
      ],
      "text/plain": [
       "              model type  train_r2    val_r2  train_rmse  val_rmse\n",
       "0      linear regression  0.664009  0.646343    1.272012  1.388489\n",
       "2  Polynomial Kernel SVM  0.740485  0.731049    1.117914  1.210845"
      ]
     },
     "execution_count": 95,
     "metadata": {},
     "output_type": "execute_result"
    }
   ],
   "source": [
    "score_df"
   ]
  },
  {
   "cell_type": "markdown",
   "metadata": {},
   "source": [
    "### RBF Kernel SVM Regressor"
   ]
  },
  {
   "cell_type": "code",
   "execution_count": 188,
   "metadata": {},
   "outputs": [],
   "source": [
    "from sklearn.svm import SVR\n",
    "estimator_rbf = SVR(kernel='rbf')\n",
    "estimator_rbf.fit(X_train, y_train)\n",
    "score(estimator_rbf, 'RBF Kernel SVM')"
   ]
  },
  {
   "cell_type": "code",
   "execution_count": 91,
   "metadata": {},
   "outputs": [
    {
     "data": {
      "text/html": [
       "<div>\n",
       "<style scoped>\n",
       "    .dataframe tbody tr th:only-of-type {\n",
       "        vertical-align: middle;\n",
       "    }\n",
       "\n",
       "    .dataframe tbody tr th {\n",
       "        vertical-align: top;\n",
       "    }\n",
       "\n",
       "    .dataframe thead th {\n",
       "        text-align: right;\n",
       "    }\n",
       "</style>\n",
       "<table border=\"1\" class=\"dataframe\">\n",
       "  <thead>\n",
       "    <tr style=\"text-align: right;\">\n",
       "      <th></th>\n",
       "      <th>model type</th>\n",
       "      <th>train_r2</th>\n",
       "      <th>val_r2</th>\n",
       "      <th>train_rmse</th>\n",
       "      <th>val_rmse</th>\n",
       "    </tr>\n",
       "  </thead>\n",
       "  <tbody>\n",
       "    <tr>\n",
       "      <th>0</th>\n",
       "      <td>linear regression</td>\n",
       "      <td>0.664009</td>\n",
       "      <td>0.646343</td>\n",
       "      <td>1.272012</td>\n",
       "      <td>1.388489</td>\n",
       "    </tr>\n",
       "    <tr>\n",
       "      <th>2</th>\n",
       "      <td>RBF Kernel SVM</td>\n",
       "      <td>0.765323</td>\n",
       "      <td>0.747617</td>\n",
       "      <td>1.063073</td>\n",
       "      <td>1.172955</td>\n",
       "    </tr>\n",
       "  </tbody>\n",
       "</table>\n",
       "</div>"
      ],
      "text/plain": [
       "          model type  train_r2    val_r2  train_rmse  val_rmse\n",
       "0  linear regression  0.664009  0.646343    1.272012  1.388489\n",
       "2     RBF Kernel SVM  0.765323  0.747617    1.063073  1.172955"
      ]
     },
     "execution_count": 91,
     "metadata": {},
     "output_type": "execute_result"
    }
   ],
   "source": [
    "score_df"
   ]
  },
  {
   "cell_type": "markdown",
   "metadata": {},
   "source": [
    "### Q5 [10]"
   ]
  },
  {
   "cell_type": "markdown",
   "metadata": {},
   "source": [
    "- Take RBF Kernel SVM and perform hyperparameter tuning. See if you can increase the $R^2$ score.   \n",
    "    - Use:  \n",
    "          'C': [1, 10, 100, 1000]\n",
    "          'gamma': [0.001, 0.01, 0.1, 1]  \n",
    "\n",
    "    - What is the model $R^2$?\n",
    "    - What is the $R^2$ on validation data?\n",
    "    - What is the RMSE on training data?\n",
    "    - What is the RMSE on validation data?"
   ]
  },
  {
   "cell_type": "code",
   "execution_count": 97,
   "metadata": {},
   "outputs": [],
   "source": [
    "from sklearn.model_selection import GridSearchCV"
   ]
  },
  {
   "cell_type": "code",
   "execution_count": 115,
   "metadata": {
    "scrolled": true
   },
   "outputs": [
    {
     "data": {
      "text/plain": [
       "GridSearchCV(cv=3, estimator=SVR(), n_jobs=-1,\n",
       "             param_grid={'C': [1, 10, 100, 1000],\n",
       "                         'gamma': [0.001, 0.01, 0.1, 1]})"
      ]
     },
     "execution_count": 115,
     "metadata": {},
     "output_type": "execute_result"
    }
   ],
   "source": [
    "svc_cv = SVR(kernel='rbf')\n",
    "parameters = {\n",
    "    'gamma': [0.001, 0.01, 0.1, 1],\n",
    "    'C': [1, 10, 100, 1000]\n",
    "}\n",
    "\n",
    "cv = GridSearchCV(svc_cv, parameters, cv=3, n_jobs=-1)\n",
    "cv.fit(X_train, y_train)\n",
    "\n",
    "#print_results(cv)"
   ]
  },
  {
   "cell_type": "code",
   "execution_count": 117,
   "metadata": {},
   "outputs": [],
   "source": [
    "score(cv, 'RBF Kernel SVM')"
   ]
  },
  {
   "cell_type": "code",
   "execution_count": 118,
   "metadata": {},
   "outputs": [
    {
     "data": {
      "text/html": [
       "<div>\n",
       "<style scoped>\n",
       "    .dataframe tbody tr th:only-of-type {\n",
       "        vertical-align: middle;\n",
       "    }\n",
       "\n",
       "    .dataframe tbody tr th {\n",
       "        vertical-align: top;\n",
       "    }\n",
       "\n",
       "    .dataframe thead th {\n",
       "        text-align: right;\n",
       "    }\n",
       "</style>\n",
       "<table border=\"1\" class=\"dataframe\">\n",
       "  <thead>\n",
       "    <tr style=\"text-align: right;\">\n",
       "      <th></th>\n",
       "      <th>model type</th>\n",
       "      <th>train_r2</th>\n",
       "      <th>val_r2</th>\n",
       "      <th>train_rmse</th>\n",
       "      <th>val_rmse</th>\n",
       "    </tr>\n",
       "  </thead>\n",
       "  <tbody>\n",
       "    <tr>\n",
       "      <th>0</th>\n",
       "      <td>linear regression</td>\n",
       "      <td>0.664009</td>\n",
       "      <td>0.646343</td>\n",
       "      <td>1.272012</td>\n",
       "      <td>1.388489</td>\n",
       "    </tr>\n",
       "    <tr>\n",
       "      <th>2</th>\n",
       "      <td>RBF Kernel SVM</td>\n",
       "      <td>0.792241</td>\n",
       "      <td>0.756850</td>\n",
       "      <td>1.000249</td>\n",
       "      <td>1.151300</td>\n",
       "    </tr>\n",
       "  </tbody>\n",
       "</table>\n",
       "</div>"
      ],
      "text/plain": [
       "          model type  train_r2    val_r2  train_rmse  val_rmse\n",
       "0  linear regression  0.664009  0.646343    1.272012  1.388489\n",
       "2     RBF Kernel SVM  0.792241  0.756850    1.000249  1.151300"
      ]
     },
     "execution_count": 118,
     "metadata": {},
     "output_type": "execute_result"
    }
   ],
   "source": [
    "score_df"
   ]
  },
  {
   "cell_type": "code",
   "execution_count": 116,
   "metadata": {},
   "outputs": [],
   "source": [
    "# c_prm = [1, 10, 100, 1000]\n",
    "# gamma_prm = [0.001, 0.01, 0.1, 1]\n",
    "# parameters = {'C':c_prm, 'gamma':gamma_prm}\n",
    "# rbf = SVR(kernel='rbf')\n",
    "# rbf_gcv = GridSearchCV(rbf, parameters, cv=4, scoring='f1')\n",
    "# rbf_gcv.fit(X_train, y_train)\n",
    "# score(rbf_gcv, 'RBF Kernel SVM')"
   ]
  },
  {
   "cell_type": "markdown",
   "metadata": {},
   "source": [
    "## Q6 [10]"
   ]
  },
  {
   "cell_type": "markdown",
   "metadata": {},
   "source": [
    "- Apply PCA and transform the data. \n",
    "    - For PCA we need to decide on the number of  components. Take sufficient number of components based on variance explained \n",
    "        - generally it is chosen as the number of components that can explain 90% of the variance \n",
    "        - or cross-validation accuracy using an ML model.\n",
    "\n",
    "- Use the PCA transformed data to perform regression with hyper parameter tuning using the models: \n",
    "    - Linear Regression\n",
    "    - Random Forest Regression\n",
    "    - RBF Kernel Support Vector Regression\n",
    "  \n",
    "- For each model:  \n",
    "    - What is the model $R^2$?\n",
    "    - What is the $R^2$ on validation data?\n",
    "    - What is the RMSE on training data?\n",
    "    - What is the RMSE on validation data?\n",
    "    \n",
    "- Compare these models with their counterparts obtained before. For example: Compare `PCA RBF SVR` with the `RBF SVR model` from before. Do you observe any change in performance? Please explain. \n"
   ]
  },
  {
   "cell_type": "code",
   "execution_count": 120,
   "metadata": {},
   "outputs": [],
   "source": [
    "from sklearn.decomposition import PCA"
   ]
  },
  {
   "cell_type": "code",
   "execution_count": 121,
   "metadata": {},
   "outputs": [],
   "source": [
    "pca = PCA(n_components=None)\n",
    "\n",
    "pca.fit(X_train)\n",
    "X_train_pca = pca.transform(X_train)\n",
    "X_val_pca = pca.transform(X_val)\n",
    "X_test_pca = pca.transform(X_test)"
   ]
  },
  {
   "cell_type": "code",
   "execution_count": 122,
   "metadata": {},
   "outputs": [
    {
     "name": "stdout",
     "output_type": "stream",
     "text": [
      "[0.58158952 0.78924196 0.88751722 0.94337792 0.98704348 0.9959942\n",
      " 0.99975821 0.99992456 1.        ]\n"
     ]
    },
    {
     "data": {
      "image/png": "[encoded data removed]",
      "text/plain": [
       "<Figure size 432x288 with 1 Axes>"
      ]
     },
     "metadata": {
      "needs_background": "light"
     },
     "output_type": "display_data"
    }
   ],
   "source": [
    "print(pca.explained_variance_ratio_.cumsum())\n",
    "plt.plot(pca.explained_variance_ratio_.cumsum(), '-o');\n",
    "plt.xticks(ticks= range(X_train_pca.shape[1]), labels=[i+1 for i in range(X_train_pca.shape[1])])\n",
    "plt.xlabel('Principal Components')\n",
    "plt.ylabel('Variance Explained')\n",
    "plt.show()"
   ]
  },
  {
   "cell_type": "markdown",
   "metadata": {},
   "source": [
    "Choose the number of components."
   ]
  },
  {
   "cell_type": "code",
   "execution_count": 123,
   "metadata": {},
   "outputs": [],
   "source": [
    "X_train_pca2 = X_train_pca[:, 0:5]\n",
    "X_val_pca2 = X_val_pca[:, 0:5]\n",
    "X_test_pca2 = X_test_pca[:, 0:5]"
   ]
  },
  {
   "cell_type": "markdown",
   "metadata": {},
   "source": [
    "**Linear Regression with PCA transformed data**"
   ]
  },
  {
   "cell_type": "code",
   "execution_count": 134,
   "metadata": {
    "scrolled": false
   },
   "outputs": [
    {
     "data": {
      "text/plain": [
       "LinearRegression()"
      ]
     },
     "execution_count": 134,
     "metadata": {},
     "output_type": "execute_result"
    }
   ],
   "source": [
    "lin_reg_pca = LinearRegression()\n",
    "lin_reg_pca.fit(X_train_pca, y_train)"
   ]
  },
  {
   "cell_type": "code",
   "execution_count": 140,
   "metadata": {},
   "outputs": [],
   "source": [
    "score_updated(lin_reg_pca, 'linear regression with pca', X_train_pca, X_val_pca)"
   ]
  },
  {
   "cell_type": "code",
   "execution_count": 141,
   "metadata": {},
   "outputs": [
    {
     "data": {
      "text/html": [
       "<div>\n",
       "<style scoped>\n",
       "    .dataframe tbody tr th:only-of-type {\n",
       "        vertical-align: middle;\n",
       "    }\n",
       "\n",
       "    .dataframe tbody tr th {\n",
       "        vertical-align: top;\n",
       "    }\n",
       "\n",
       "    .dataframe thead th {\n",
       "        text-align: right;\n",
       "    }\n",
       "</style>\n",
       "<table border=\"1\" class=\"dataframe\">\n",
       "  <thead>\n",
       "    <tr style=\"text-align: right;\">\n",
       "      <th></th>\n",
       "      <th>model type</th>\n",
       "      <th>train_r2</th>\n",
       "      <th>val_r2</th>\n",
       "      <th>train_rmse</th>\n",
       "      <th>val_rmse</th>\n",
       "    </tr>\n",
       "  </thead>\n",
       "  <tbody>\n",
       "    <tr>\n",
       "      <th>0</th>\n",
       "      <td>linear regression with pca</td>\n",
       "      <td>0.664009</td>\n",
       "      <td>0.646343</td>\n",
       "      <td>1.272012</td>\n",
       "      <td>1.388489</td>\n",
       "    </tr>\n",
       "  </tbody>\n",
       "</table>\n",
       "</div>"
      ],
      "text/plain": [
       "                   model type  train_r2    val_r2  train_rmse  val_rmse\n",
       "0  linear regression with pca  0.664009  0.646343    1.272012  1.388489"
      ]
     },
     "execution_count": 141,
     "metadata": {},
     "output_type": "execute_result"
    }
   ],
   "source": [
    "score_df"
   ]
  },
  {
   "cell_type": "markdown",
   "metadata": {},
   "source": [
    "**RF Regression with PCA transformed data**"
   ]
  },
  {
   "cell_type": "code",
   "execution_count": 143,
   "metadata": {},
   "outputs": [
    {
     "data": {
      "text/plain": [
       "GridSearchCV(cv=3, estimator=RandomForestRegressor(), n_jobs=-1,\n",
       "             param_grid={'min_samples_leaf': [2, 4, 6, 8, 10, 12, 14],\n",
       "                         'n_estimators': [50, 100, 150, 200]})"
      ]
     },
     "execution_count": 143,
     "metadata": {},
     "output_type": "execute_result"
    }
   ],
   "source": [
    "rf_pca = RandomForestRegressor()\n",
    "parameters = {\n",
    "    'min_samples_leaf': [2, 4, 6, 8, 10, 12, 14],\n",
    "    'n_estimators': [50, 100, 150, 200]\n",
    "}\n",
    "\n",
    "cv_rf = GridSearchCV(rf_pca, parameters, cv=3, n_jobs=-1)\n",
    "cv_rf.fit(X_train_pca, y_train)"
   ]
  },
  {
   "cell_type": "code",
   "execution_count": 144,
   "metadata": {},
   "outputs": [],
   "source": [
    "best_estimator=cv_rf.best_estimator_"
   ]
  },
  {
   "cell_type": "code",
   "execution_count": 145,
   "metadata": {
    "scrolled": true
   },
   "outputs": [
    {
     "data": {
      "text/plain": [
       "RandomForestRegressor(min_samples_leaf=4, n_estimators=200)"
      ]
     },
     "execution_count": 145,
     "metadata": {},
     "output_type": "execute_result"
    }
   ],
   "source": [
    "best_estimator"
   ]
  },
  {
   "cell_type": "code",
   "execution_count": 148,
   "metadata": {},
   "outputs": [
    {
     "data": {
      "text/plain": [
       "RandomForestRegressor(min_samples_leaf=4, n_estimators=200)"
      ]
     },
     "execution_count": 148,
     "metadata": {},
     "output_type": "execute_result"
    }
   ],
   "source": [
    "rf_pca_best = RandomForestRegressor(min_samples_leaf=4, n_estimators=200)\n",
    "rf_pca_best.fit(X_train_pca, y_train)"
   ]
  },
  {
   "cell_type": "code",
   "execution_count": 149,
   "metadata": {},
   "outputs": [],
   "source": [
    "score_updated(rf_pca_best, 'Random Forest Regressor with PCA', X_train_pca, X_val_pca)"
   ]
  },
  {
   "cell_type": "code",
   "execution_count": 150,
   "metadata": {},
   "outputs": [
    {
     "data": {
      "text/html": [
       "<div>\n",
       "<style scoped>\n",
       "    .dataframe tbody tr th:only-of-type {\n",
       "        vertical-align: middle;\n",
       "    }\n",
       "\n",
       "    .dataframe tbody tr th {\n",
       "        vertical-align: top;\n",
       "    }\n",
       "\n",
       "    .dataframe thead th {\n",
       "        text-align: right;\n",
       "    }\n",
       "</style>\n",
       "<table border=\"1\" class=\"dataframe\">\n",
       "  <thead>\n",
       "    <tr style=\"text-align: right;\">\n",
       "      <th></th>\n",
       "      <th>model type</th>\n",
       "      <th>train_r2</th>\n",
       "      <th>val_r2</th>\n",
       "      <th>train_rmse</th>\n",
       "      <th>val_rmse</th>\n",
       "    </tr>\n",
       "  </thead>\n",
       "  <tbody>\n",
       "    <tr>\n",
       "      <th>0</th>\n",
       "      <td>linear regression with pca</td>\n",
       "      <td>0.664009</td>\n",
       "      <td>0.646343</td>\n",
       "      <td>1.272012</td>\n",
       "      <td>1.388489</td>\n",
       "    </tr>\n",
       "    <tr>\n",
       "      <th>1</th>\n",
       "      <td>Random Forest Regressor with PCA</td>\n",
       "      <td>0.868889</td>\n",
       "      <td>0.755124</td>\n",
       "      <td>0.794596</td>\n",
       "      <td>1.155380</td>\n",
       "    </tr>\n",
       "  </tbody>\n",
       "</table>\n",
       "</div>"
      ],
      "text/plain": [
       "                         model type  train_r2    val_r2  train_rmse  val_rmse\n",
       "0        linear regression with pca  0.664009  0.646343    1.272012  1.388489\n",
       "1  Random Forest Regressor with PCA  0.868889  0.755124    0.794596  1.155380"
      ]
     },
     "execution_count": 150,
     "metadata": {},
     "output_type": "execute_result"
    }
   ],
   "source": [
    "score_df"
   ]
  },
  {
   "cell_type": "markdown",
   "metadata": {},
   "source": [
    "**SVM Regression with PCA transformed data**"
   ]
  },
  {
   "cell_type": "code",
   "execution_count": 179,
   "metadata": {
    "scrolled": true
   },
   "outputs": [
    {
     "data": {
      "text/plain": [
       "GridSearchCV(cv=3, estimator=SVR(), n_jobs=-1,\n",
       "             param_grid={'gamma': [0.001, 0.01, 0.1, 1]})"
      ]
     },
     "execution_count": 179,
     "metadata": {},
     "output_type": "execute_result"
    }
   ],
   "source": [
    "svm_pca = SVR(kernel='rbf')\n",
    "parameters = {\n",
    "    'gamma': [0.001, 0.01, 0.1, 1]\n",
    "}\n",
    "\n",
    "cv_svm = GridSearchCV(svm_pca, parameters, cv=3, n_jobs=-1)\n",
    "cv_svm.fit(X_train_pca, y_train)"
   ]
  },
  {
   "cell_type": "code",
   "execution_count": 180,
   "metadata": {
    "scrolled": true
   },
   "outputs": [
    {
     "data": {
      "text/plain": [
       "SVR(gamma=0.1)"
      ]
     },
     "execution_count": 180,
     "metadata": {},
     "output_type": "execute_result"
    }
   ],
   "source": [
    "best_estimator=cv_svm.best_estimator_\n",
    "best_estimator"
   ]
  },
  {
   "cell_type": "code",
   "execution_count": 181,
   "metadata": {
    "scrolled": true
   },
   "outputs": [
    {
     "data": {
      "text/plain": [
       "SVR(gamma=0.1)"
      ]
     },
     "execution_count": 181,
     "metadata": {},
     "output_type": "execute_result"
    }
   ],
   "source": [
    "svm_pca_best = SVR(gamma=0.1, kernel='rbf')\n",
    "svm_pca_best.fit(X_train_pca, y_train)"
   ]
  },
  {
   "cell_type": "code",
   "execution_count": 182,
   "metadata": {},
   "outputs": [],
   "source": [
    "score_updated(svm_pca_best, 'RBF SVM with PCA', X_train_pca, X_val_pca)"
   ]
  },
  {
   "cell_type": "code",
   "execution_count": 177,
   "metadata": {},
   "outputs": [],
   "source": [
    "# score_df.drop([3, 4], axis=0, inplace=True)"
   ]
  },
  {
   "cell_type": "code",
   "execution_count": 189,
   "metadata": {
    "scrolled": false
   },
   "outputs": [
    {
     "data": {
      "text/html": [
       "<div>\n",
       "<style scoped>\n",
       "    .dataframe tbody tr th:only-of-type {\n",
       "        vertical-align: middle;\n",
       "    }\n",
       "\n",
       "    .dataframe tbody tr th {\n",
       "        vertical-align: top;\n",
       "    }\n",
       "\n",
       "    .dataframe thead th {\n",
       "        text-align: right;\n",
       "    }\n",
       "</style>\n",
       "<table border=\"1\" class=\"dataframe\">\n",
       "  <thead>\n",
       "    <tr style=\"text-align: right;\">\n",
       "      <th></th>\n",
       "      <th>model type</th>\n",
       "      <th>train_r2</th>\n",
       "      <th>val_r2</th>\n",
       "      <th>train_rmse</th>\n",
       "      <th>val_rmse</th>\n",
       "    </tr>\n",
       "  </thead>\n",
       "  <tbody>\n",
       "    <tr>\n",
       "      <th>0</th>\n",
       "      <td>linear regression with pca</td>\n",
       "      <td>0.664009</td>\n",
       "      <td>0.646343</td>\n",
       "      <td>1.272012</td>\n",
       "      <td>1.388489</td>\n",
       "    </tr>\n",
       "    <tr>\n",
       "      <th>1</th>\n",
       "      <td>Random Forest Regressor with PCA</td>\n",
       "      <td>0.868889</td>\n",
       "      <td>0.755124</td>\n",
       "      <td>0.794596</td>\n",
       "      <td>1.155380</td>\n",
       "    </tr>\n",
       "    <tr>\n",
       "      <th>2</th>\n",
       "      <td>RBF SVM with PCA</td>\n",
       "      <td>0.765189</td>\n",
       "      <td>0.748413</td>\n",
       "      <td>1.063375</td>\n",
       "      <td>1.171103</td>\n",
       "    </tr>\n",
       "    <tr>\n",
       "      <th>3</th>\n",
       "      <td>linear regression</td>\n",
       "      <td>0.664009</td>\n",
       "      <td>0.646343</td>\n",
       "      <td>1.272012</td>\n",
       "      <td>1.388489</td>\n",
       "    </tr>\n",
       "    <tr>\n",
       "      <th>4</th>\n",
       "      <td>random forest</td>\n",
       "      <td>0.849095</td>\n",
       "      <td>0.752569</td>\n",
       "      <td>0.852470</td>\n",
       "      <td>1.161392</td>\n",
       "    </tr>\n",
       "    <tr>\n",
       "      <th>5</th>\n",
       "      <td>RBF Kernel SVM</td>\n",
       "      <td>0.765323</td>\n",
       "      <td>0.747617</td>\n",
       "      <td>1.063073</td>\n",
       "      <td>1.172955</td>\n",
       "    </tr>\n",
       "  </tbody>\n",
       "</table>\n",
       "</div>"
      ],
      "text/plain": [
       "                         model type  train_r2    val_r2  train_rmse  val_rmse\n",
       "0        linear regression with pca  0.664009  0.646343    1.272012  1.388489\n",
       "1  Random Forest Regressor with PCA  0.868889  0.755124    0.794596  1.155380\n",
       "2                  RBF SVM with PCA  0.765189  0.748413    1.063375  1.171103\n",
       "3                 linear regression  0.664009  0.646343    1.272012  1.388489\n",
       "4                     random forest  0.849095  0.752569    0.852470  1.161392\n",
       "5                    RBF Kernel SVM  0.765323  0.747617    1.063073  1.172955"
      ]
     },
     "execution_count": 189,
     "metadata": {},
     "output_type": "execute_result"
    }
   ],
   "source": [
    "score_df"
   ]
  },
  {
   "cell_type": "markdown",
   "metadata": {},
   "source": [
    "The above shows a comparison between the Linear Regression, Random Forest and RBF Kernel SVM with and without PCA. When we consider Linear Regression we see that despite PCA both have the same training and validation R squared value. Furthermore, when we look at their training and validation RMSE, the values are the same as well. This is different for Random Forest with and without PCA. There is a slight improvement in the training and testing r squared for random forest with PCA, from an R2 value of 0.849095 for training and 0.752569 for validation before PCA and a value of 0.868889 for training and 0.755124 for validation after PCA. There is also a decrease in training and validation RMSE from RF to RF with PCA. There is a similar pattern for RBF Kernel SVM in that the training and validation R2 values increase after PCA. However, there is a slight increase in the training RMSE after PCA, as opposed to the validation RMSE which shows a slight decrease for RBF Kernel SVM. "
   ]
  },
  {
   "cell_type": "markdown",
   "metadata": {},
   "source": [
    "## Q7 [10]"
   ]
  },
  {
   "cell_type": "markdown",
   "metadata": {},
   "source": [
    "#### Let's do  classification "
   ]
  },
  {
   "cell_type": "markdown",
   "metadata": {},
   "source": [
    "We will convert CO target values into binary form by comparing them to a threshold. $ 0 - 3  mg/m^3$ is the range of max 8-hour avg. ambient CO in most US cities. So let's take that.  \n",
    "[CO Levels of Concern in Government Recommendations and Regulations](https://www.carbonmonoxidekills.com/are-you-at-risk/carbon-monoxide-levels/)"
   ]
  },
  {
   "cell_type": "code",
   "execution_count": 190,
   "metadata": {},
   "outputs": [],
   "source": [
    "from sklearn.preprocessing import Binarizer"
   ]
  },
  {
   "cell_type": "code",
   "execution_count": 191,
   "metadata": {},
   "outputs": [],
   "source": [
    "binarizer = Binarizer(threshold=3)"
   ]
  },
  {
   "cell_type": "code",
   "execution_count": 192,
   "metadata": {},
   "outputs": [],
   "source": [
    "y_train_cat = binarizer.transform(y_train.values.reshape(-1,1)).ravel()\n",
    "y_val_cat = binarizer.transform(y_val.values.reshape(-1,1)).ravel()\n",
    "y_test_cat = binarizer.transform(y_test.values.reshape(-1,1)).ravel()"
   ]
  },
  {
   "cell_type": "code",
   "execution_count": 193,
   "metadata": {},
   "outputs": [],
   "source": [
    "y_train_cat = pd.Series(y_train_cat)"
   ]
  },
  {
   "cell_type": "code",
   "execution_count": 194,
   "metadata": {},
   "outputs": [
    {
     "data": {
      "text/plain": [
       "<AxesSubplot:>"
      ]
     },
     "execution_count": 194,
     "metadata": {},
     "output_type": "execute_result"
    },
    {
     "data": {
      "image/png": "[encoded data removed]",
      "text/plain": [
       "<Figure size 432x288 with 1 Axes>"
      ]
     },
     "metadata": {
      "needs_background": "light"
     },
     "output_type": "display_data"
    }
   ],
   "source": [
    "y_train_cat.value_counts().plot.barh()"
   ]
  },
  {
   "cell_type": "markdown",
   "metadata": {},
   "source": [
    "### Fit RBF Kernel SVM Classifier\n",
    "\n",
    "#### 1. Standardized training data \n",
    "- Using the standardized training data perform grid search:\n",
    "    - Find the best combination of the `C` and `gamma` hyper-parameters.  \n",
    "- For the best model:\n",
    "    - Either using the confusion matrix or the methods in `sklearn.metrics` get the following metrics on the validation set:\n",
    "     - Create confusion matrix\n",
    "     - Recall (Sensitivity)\n",
    "     - Specificity\n",
    "     - Precision\n",
    "     - Balanced Accuracy\n",
    "     - F1 Score\n",
    "     \n",
    "\n",
    "#### 2. PCA transformed training data \n",
    "- Using the **pca** transformed training data `X_train_pca2` perform grid search:\n",
    "    - Find the best combination of the `C` and `gamma` hyper-parameters.  \n",
    "- For the best model:\n",
    "    - Either using the confusion matrix or the methods in `sklearn.metrics` get the following metrics on the validation set `X_val_pca2`:\n",
    "         - Create confusion matrix\n",
    "         - Recall (Sensitivity)\n",
    "         - Specificity\n",
    "         - Precision\n",
    "         - Balanced Accuracy\n",
    "         - F1 Score\n"
   ]
  },
  {
   "cell_type": "code",
   "execution_count": 195,
   "metadata": {},
   "outputs": [],
   "source": [
    "from sklearn.svm import SVC"
   ]
  },
  {
   "cell_type": "code",
   "execution_count": 197,
   "metadata": {},
   "outputs": [],
   "source": [
    "estimators = SVC(kernel ='rbf')"
   ]
  },
  {
   "cell_type": "markdown",
   "metadata": {},
   "source": [
    "#### SVC Model 1 "
   ]
  },
  {
   "cell_type": "code",
   "execution_count": 198,
   "metadata": {
    "scrolled": true
   },
   "outputs": [
    {
     "data": {
      "text/plain": [
       "GridSearchCV(cv=3, estimator=SVC(), n_jobs=-1,\n",
       "             param_grid={'C': [1, 10, 100, 1000],\n",
       "                         'gamma': [0.001, 0.01, 0.1, 1]})"
      ]
     },
     "execution_count": 198,
     "metadata": {},
     "output_type": "execute_result"
    }
   ],
   "source": [
    "parameters = {\n",
    "    'gamma': [0.001, 0.01, 0.1, 1],\n",
    "    'C': [1, 10, 100, 1000]\n",
    "}\n",
    "\n",
    "cv_1 = GridSearchCV(estimators, parameters, cv=3, n_jobs=-1)\n",
    "cv_1.fit(X_train, y_train_cat)"
   ]
  },
  {
   "cell_type": "code",
   "execution_count": 199,
   "metadata": {
    "scrolled": false
   },
   "outputs": [
    {
     "data": {
      "text/plain": [
       "SVC(C=100, gamma=0.1)"
      ]
     },
     "execution_count": 199,
     "metadata": {},
     "output_type": "execute_result"
    }
   ],
   "source": [
    "best_estimator=cv_1.best_estimator_\n",
    "best_estimator"
   ]
  },
  {
   "cell_type": "code",
   "execution_count": 202,
   "metadata": {},
   "outputs": [],
   "source": [
    "svc_new = SVC(C=100, gamma=0.1, kernel='rbf')\n",
    "svc_new.fit(X_train, y_train_cat)\n",
    "svc_new_pred = svc_new.predict(X_train)"
   ]
  },
  {
   "cell_type": "code",
   "execution_count": 203,
   "metadata": {
    "scrolled": true
   },
   "outputs": [
    {
     "data": {
      "text/plain": [
       "array([[3047,  176],\n",
       "       [ 169, 1924]])"
      ]
     },
     "execution_count": 203,
     "metadata": {},
     "output_type": "execute_result"
    }
   ],
   "source": [
    "from sklearn.metrics import confusion_matrix\n",
    "confusion_matrix(y_train_cat, svc_new_pred)"
   ]
  },
  {
   "cell_type": "code",
   "execution_count": 205,
   "metadata": {},
   "outputs": [
    {
     "name": "stdout",
     "output_type": "stream",
     "text": [
      "              precision    recall  f1-score   support\n",
      "\n",
      "         0.0       0.95      0.95      0.95      3223\n",
      "         1.0       0.92      0.92      0.92      2093\n",
      "\n",
      "    accuracy                           0.94      5316\n",
      "   macro avg       0.93      0.93      0.93      5316\n",
      "weighted avg       0.94      0.94      0.94      5316\n",
      "\n"
     ]
    }
   ],
   "source": [
    "from sklearn.metrics import classification_report\n",
    "print(classification_report(y_train_cat, svc_new_pred))"
   ]
  },
  {
   "cell_type": "markdown",
   "metadata": {},
   "source": [
    "#### SVC Model 2"
   ]
  },
  {
   "cell_type": "code",
   "execution_count": 206,
   "metadata": {
    "scrolled": true
   },
   "outputs": [
    {
     "data": {
      "text/plain": [
       "GridSearchCV(cv=3, estimator=SVC(), n_jobs=-1,\n",
       "             param_grid={'C': [1, 10, 100, 1000],\n",
       "                         'gamma': [0.001, 0.01, 0.1, 1]})"
      ]
     },
     "execution_count": 206,
     "metadata": {},
     "output_type": "execute_result"
    }
   ],
   "source": [
    "estimators1 = SVC(kernel ='rbf')\n",
    "parameters = {\n",
    "    'gamma': [0.001, 0.01, 0.1, 1],\n",
    "    'C': [1, 10, 100, 1000]\n",
    "}\n",
    "\n",
    "cv_2 = GridSearchCV(estimators1, parameters, cv=3, n_jobs=-1)\n",
    "cv_2.fit(X_train_pca2, y_train_cat)"
   ]
  },
  {
   "cell_type": "code",
   "execution_count": 207,
   "metadata": {
    "scrolled": true
   },
   "outputs": [
    {
     "data": {
      "text/plain": [
       "SVC(C=1, gamma=1)"
      ]
     },
     "execution_count": 207,
     "metadata": {},
     "output_type": "execute_result"
    }
   ],
   "source": [
    "best_estimator=cv_2.best_estimator_\n",
    "best_estimator"
   ]
  },
  {
   "cell_type": "code",
   "execution_count": 208,
   "metadata": {},
   "outputs": [],
   "source": [
    "svc_new1 = SVC(C=1, gamma=1, kernel='rbf')\n",
    "svc_new1.fit(X_train_pca2, y_train_cat)\n",
    "svc_new1_pred = svc_new1.predict(X_val_pca2)"
   ]
  },
  {
   "cell_type": "code",
   "execution_count": 210,
   "metadata": {
    "scrolled": true
   },
   "outputs": [
    {
     "data": {
      "text/plain": [
       "array([[764,  48],\n",
       "       [ 70, 447]])"
      ]
     },
     "execution_count": 210,
     "metadata": {},
     "output_type": "execute_result"
    }
   ],
   "source": [
    "confusion_matrix(y_val_cat, svc_new1_pred)"
   ]
  },
  {
   "cell_type": "code",
   "execution_count": 211,
   "metadata": {},
   "outputs": [
    {
     "name": "stdout",
     "output_type": "stream",
     "text": [
      "              precision    recall  f1-score   support\n",
      "\n",
      "         0.0       0.92      0.94      0.93       812\n",
      "         1.0       0.90      0.86      0.88       517\n",
      "\n",
      "    accuracy                           0.91      1329\n",
      "   macro avg       0.91      0.90      0.91      1329\n",
      "weighted avg       0.91      0.91      0.91      1329\n",
      "\n"
     ]
    }
   ],
   "source": [
    "print(classification_report(y_val_cat, svc_new1_pred))"
   ]
  },
  {
   "cell_type": "markdown",
   "metadata": {},
   "source": [
    "## Q8 [10]"
   ]
  },
  {
   "cell_type": "markdown",
   "metadata": {},
   "source": [
    "- For regression:\n",
    "    - Think of other ways of improving the regression performance and list at least two possibilities.\n",
    "    - You can use any of the datasets we have been using (standardized data, PCA transformed data), or re-create your own set from the original.\n",
    "    - Implement both of the methods you proposed. \n",
    "    - Is the validation performance increasing? For performance comparison you can use any regression performance metric that you deem to be appropriate. \n",
    "    - Optional: Apply different methods, ideas as you see fit and see if the validation performance is improving."
   ]
  },
  {
   "cell_type": "code",
   "execution_count": 230,
   "metadata": {
    "scrolled": false
   },
   "outputs": [
    {
     "data": {
      "text/plain": [
       "Lasso(alpha=0.1)"
      ]
     },
     "execution_count": 230,
     "metadata": {},
     "output_type": "execute_result"
    }
   ],
   "source": [
    "# YOUR CODE\n",
    "from sklearn import linear_model\n",
    "\n",
    "lasso = linear_model.Lasso(alpha=0.1)\n",
    "lasso.fit(X_train_pca2, y_train)"
   ]
  },
  {
   "cell_type": "code",
   "execution_count": 231,
   "metadata": {},
   "outputs": [],
   "source": [
    "lasso_pred = lasso.predict(X_val_pca2)"
   ]
  },
  {
   "cell_type": "code",
   "execution_count": 232,
   "metadata": {},
   "outputs": [
    {
     "data": {
      "text/plain": [
       "array([7.70045166, 2.66329276, 2.69519545, ..., 2.56778161, 2.48055648,\n",
       "       4.31069196])"
      ]
     },
     "execution_count": 232,
     "metadata": {},
     "output_type": "execute_result"
    }
   ],
   "source": [
    "lasso_pred"
   ]
  },
  {
   "cell_type": "code",
   "execution_count": 233,
   "metadata": {
    "scrolled": true
   },
   "outputs": [
    {
     "data": {
      "text/plain": [
       "0.19491383620602287"
      ]
     },
     "execution_count": 233,
     "metadata": {},
     "output_type": "execute_result"
    }
   ],
   "source": [
    "metrics.r2_score(lasso_pred, y_val)\n",
    "#r2"
   ]
  },
  {
   "cell_type": "code",
   "execution_count": 238,
   "metadata": {},
   "outputs": [
    {
     "data": {
      "text/plain": [
       "1.4437928420925987"
      ]
     },
     "execution_count": 238,
     "metadata": {},
     "output_type": "execute_result"
    }
   ],
   "source": [
    "metrics.mean_squared_error(lasso_pred, y_val)**0.5\n",
    "#rmse"
   ]
  },
  {
   "cell_type": "code",
   "execution_count": 234,
   "metadata": {
    "scrolled": true
   },
   "outputs": [
    {
     "data": {
      "text/plain": [
       "Ridge(alpha=10)"
      ]
     },
     "execution_count": 234,
     "metadata": {},
     "output_type": "execute_result"
    }
   ],
   "source": [
    "ridge = linear_model.Ridge(alpha=10)\n",
    "ridge.fit(X_train_pca2, y_train)"
   ]
  },
  {
   "cell_type": "code",
   "execution_count": 235,
   "metadata": {},
   "outputs": [],
   "source": [
    "ridge_pred = ridge.predict(X_val_pca2)"
   ]
  },
  {
   "cell_type": "code",
   "execution_count": 236,
   "metadata": {
    "scrolled": false
   },
   "outputs": [
    {
     "data": {
      "text/plain": [
       "0.36878682272419183"
      ]
     },
     "execution_count": 236,
     "metadata": {},
     "output_type": "execute_result"
    }
   ],
   "source": [
    "metrics.r2_score(ridge_pred, y_val)\n",
    "#r2"
   ]
  },
  {
   "cell_type": "code",
   "execution_count": 239,
   "metadata": {},
   "outputs": [
    {
     "data": {
      "text/plain": [
       "1.4138856075062114"
      ]
     },
     "execution_count": 239,
     "metadata": {},
     "output_type": "execute_result"
    }
   ],
   "source": [
    "metrics.mean_squared_error(ridge_pred, y_val)**0.5\n",
    "#rmse"
   ]
  },
  {
   "cell_type": "markdown",
   "metadata": {},
   "source": [
    "this attempt to improve the regression models didn't work sinc ethe r squared values decreased considerably as compared to the linear regression performed earlier. This means that the linear regression models are better than the lasso and ridge models which can be seen in their differences in r squared values. "
   ]
  },
  {
   "cell_type": "markdown",
   "metadata": {},
   "source": [
    "## Q9 [10]"
   ]
  },
  {
   "cell_type": "markdown",
   "metadata": {},
   "source": [
    "- For classification:\n",
    "    - Try at least one classifier other than SVM (RF, GBM, Logistic Regression, etc). \n",
    "    - Think of other ways of improving the regression performance and list at least two possibilities.\n",
    "    - You can use any of the datasets we have been using (standardized data, PCA transformed data), or re-create your own set from the original.\n",
    "    - Implement both of the methods you proposed. \n",
    "    - Is the validation performance increasing? For performance comparison you can use any regression performance metric that you deem to be appropriate. \n",
    "    - Optional: Apply different methods, ideas as you see fit and see if the validation performance is improving."
   ]
  },
  {
   "cell_type": "code",
   "execution_count": 241,
   "metadata": {
    "scrolled": true
   },
   "outputs": [
    {
     "data": {
      "text/plain": [
       "AdaBoostClassifier()"
      ]
     },
     "execution_count": 241,
     "metadata": {},
     "output_type": "execute_result"
    }
   ],
   "source": [
    "# YOUR CODE\n",
    "from sklearn.ensemble import AdaBoostClassifier\n",
    "abc = AdaBoostClassifier()\n",
    "abc.fit(X_train, y_train_cat)"
   ]
  },
  {
   "cell_type": "code",
   "execution_count": 244,
   "metadata": {
    "scrolled": true
   },
   "outputs": [
    {
     "name": "stdout",
     "output_type": "stream",
     "text": [
      "              precision    recall  f1-score   support\n",
      "\n",
      "         0.0       0.91      0.92      0.92       812\n",
      "         1.0       0.88      0.85      0.87       517\n",
      "\n",
      "    accuracy                           0.90      1329\n",
      "   macro avg       0.89      0.89      0.89      1329\n",
      "weighted avg       0.90      0.90      0.90      1329\n",
      "\n"
     ]
    }
   ],
   "source": [
    "abc_pred = abc.predict(X_val)\n",
    "print(classification_report(y_val_cat, abc_pred))"
   ]
  },
  {
   "cell_type": "code",
   "execution_count": 254,
   "metadata": {
    "scrolled": true
   },
   "outputs": [
    {
     "data": {
      "text/plain": [
       "GridSearchCV(cv=3, estimator=AdaBoostClassifier(learning_rate=2), n_jobs=-1,\n",
       "             param_grid={'learning_rate': [1, 2, 4, 6, 8, 10, 12, 14, 16],\n",
       "                         'n_estimators': [50, 60, 70, 80, 90, 100]})"
      ]
     },
     "execution_count": 254,
     "metadata": {},
     "output_type": "execute_result"
    }
   ],
   "source": [
    "# hyperparameter tuning for testing and improving classifier\n",
    "parameters = {\n",
    "    'learning_rate': [1, 2, 4, 6, 8, 10, 12, 14, 16],\n",
    "    'n_estimators' : [50, 60, 70, 80, 90, 100]\n",
    "}\n",
    "\n",
    "cv_ada = GridSearchCV(abc, parameters, cv=3, n_jobs=-1)\n",
    "cv_ada.fit(X_train, y_train_cat)\n"
   ]
  },
  {
   "cell_type": "code",
   "execution_count": 255,
   "metadata": {},
   "outputs": [],
   "source": [
    "best_estimator=cv_ada.best_estimator_"
   ]
  },
  {
   "cell_type": "code",
   "execution_count": 256,
   "metadata": {
    "scrolled": false
   },
   "outputs": [
    {
     "data": {
      "text/plain": [
       "AdaBoostClassifier(learning_rate=1, n_estimators=60)"
      ]
     },
     "execution_count": 256,
     "metadata": {},
     "output_type": "execute_result"
    }
   ],
   "source": [
    "best_estimator"
   ]
  },
  {
   "cell_type": "code",
   "execution_count": 257,
   "metadata": {
    "scrolled": true
   },
   "outputs": [
    {
     "data": {
      "text/plain": [
       "AdaBoostClassifier(learning_rate=1, n_estimators=60)"
      ]
     },
     "execution_count": 257,
     "metadata": {},
     "output_type": "execute_result"
    }
   ],
   "source": [
    "abc1 = AdaBoostClassifier(learning_rate=1, n_estimators=60)\n",
    "abc1.fit(X_train, y_train_cat)"
   ]
  },
  {
   "cell_type": "code",
   "execution_count": 258,
   "metadata": {},
   "outputs": [],
   "source": [
    "abc1_pred = abc1.predict(X_val)"
   ]
  },
  {
   "cell_type": "code",
   "execution_count": 259,
   "metadata": {
    "scrolled": true
   },
   "outputs": [
    {
     "name": "stdout",
     "output_type": "stream",
     "text": [
      "              precision    recall  f1-score   support\n",
      "\n",
      "         0.0       0.91      0.93      0.92       812\n",
      "         1.0       0.88      0.85      0.87       517\n",
      "\n",
      "    accuracy                           0.90      1329\n",
      "   macro avg       0.89      0.89      0.89      1329\n",
      "weighted avg       0.90      0.90      0.90      1329\n",
      "\n"
     ]
    }
   ],
   "source": [
    "print(classification_report(y_val_cat, abc1_pred))"
   ]
  },
  {
   "cell_type": "markdown",
   "metadata": {},
   "source": [
    "slight increases with hyperparameter tuning, however accuracy remains the same as does precision. Only see an increase in recall by 0.01"
   ]
  },
  {
   "cell_type": "markdown",
   "metadata": {},
   "source": [
    "## Q10 [10]"
   ]
  },
  {
   "cell_type": "markdown",
   "metadata": {},
   "source": [
    "- Choose the best 2 regressors among the trained regressions models:\n",
    "- Create a table summarizing results on the **test** set for regression (with target variables in `y_test`):\n",
    "    - Show the R^2 and RMSE performance metrics on test data for each model.\n",
    "- Which model is best for regression? Is this in line with your analysis (the validation performance of the models) or is this not expected?\n",
    "\n",
    "\n",
    "\n",
    "- Choose the best 2 classifiers among the trained classification models:\n",
    "- Create a table summarizing results on the **test** set for classification (with target variables in `y_test_cat`):\n",
    "    - Show the classification performance metrics (accuracy, recall, precision, f1-score, etc.) on test data for each model. \n",
    "- Which model is best for classification? Is this in line with your analysis (the validation performance of the models) or is this not expected? \n",
    "\n",
    "\n",
    "\n",
    "> Note that the same transformation used during training should be applied on the testing set. (If you applied PCA on training data for the selected model, you need to apply PCA on the testing set as well.) \n",
    "\n"
   ]
  },
  {
   "cell_type": "code",
   "execution_count": 264,
   "metadata": {},
   "outputs": [
    {
     "data": {
      "text/plain": [
       "0.3194975920689678"
      ]
     },
     "execution_count": 264,
     "metadata": {},
     "output_type": "execute_result"
    }
   ],
   "source": [
    "# YOUR CODE\n",
    "svm_pred = svm_pca_best.predict(X_test_pca)\n",
    "metrics.r2_score(svm_pred, y_test)"
   ]
  },
  {
   "cell_type": "code",
   "execution_count": 263,
   "metadata": {
    "scrolled": true
   },
   "outputs": [
    {
     "data": {
      "text/plain": [
       "2.425169406488846"
      ]
     },
     "execution_count": 263,
     "metadata": {},
     "output_type": "execute_result"
    }
   ],
   "source": [
    "metrics.mean_squared_error(svm_pred, y_test)**0.5"
   ]
  },
  {
   "cell_type": "code",
   "execution_count": 265,
   "metadata": {
    "scrolled": true
   },
   "outputs": [
    {
     "data": {
      "text/plain": [
       "0.195120171610758"
      ]
     },
     "execution_count": 265,
     "metadata": {},
     "output_type": "execute_result"
    }
   ],
   "source": [
    "# rf_pca_best = RandomForestRegressor(min_samples_leaf=4, n_estimators=200)\n",
    "# rf_pca_best.fit(X_train_pca, y_train)\n",
    "rf_pred = rf_pca_best.predict(X_test_pca)\n",
    "metrics.r2_score(rf_pred, y_test)"
   ]
  },
  {
   "cell_type": "code",
   "execution_count": 266,
   "metadata": {
    "scrolled": true
   },
   "outputs": [
    {
     "data": {
      "text/plain": [
       "1.5688058353035799"
      ]
     },
     "execution_count": 266,
     "metadata": {},
     "output_type": "execute_result"
    }
   ],
   "source": [
    "metrics.mean_squared_error(rf_pred, y_test)**0.5"
   ]
  },
  {
   "cell_type": "markdown",
   "metadata": {},
   "source": [
    "Both have fairly low r squared values on the testing set which means there is some degree of overfitting occuring"
   ]
  },
  {
   "cell_type": "code",
   "execution_count": 267,
   "metadata": {},
   "outputs": [],
   "source": [
    "svc_new_pred1 = svc_new.predict(X_test)"
   ]
  },
  {
   "cell_type": "code",
   "execution_count": 269,
   "metadata": {
    "scrolled": true
   },
   "outputs": [
    {
     "name": "stdout",
     "output_type": "stream",
     "text": [
      "              precision    recall  f1-score   support\n",
      "\n",
      "         0.0       0.94      0.93      0.93       467\n",
      "         1.0       0.89      0.89      0.89       272\n",
      "\n",
      "    accuracy                           0.92       739\n",
      "   macro avg       0.91      0.91      0.91       739\n",
      "weighted avg       0.92      0.92      0.92       739\n",
      "\n"
     ]
    }
   ],
   "source": [
    "print(classification_report(y_test_cat, svc_new_pred1))"
   ]
  },
  {
   "cell_type": "markdown",
   "metadata": {},
   "source": [
    "There was a slight decrease in the accuracy from the training metrics. The training accuracy was a 0.94 and the current testing accuracy is 0.92."
   ]
  },
  {
   "cell_type": "code",
   "execution_count": 271,
   "metadata": {},
   "outputs": [],
   "source": [
    "svc_new2_pred = svc_new1.predict(X_test_pca2)"
   ]
  },
  {
   "cell_type": "code",
   "execution_count": 272,
   "metadata": {
    "scrolled": true
   },
   "outputs": [
    {
     "name": "stdout",
     "output_type": "stream",
     "text": [
      "              precision    recall  f1-score   support\n",
      "\n",
      "         0.0       0.93      0.94      0.93       467\n",
      "         1.0       0.89      0.89      0.89       272\n",
      "\n",
      "    accuracy                           0.92       739\n",
      "   macro avg       0.91      0.91      0.91       739\n",
      "weighted avg       0.92      0.92      0.92       739\n",
      "\n"
     ]
    }
   ],
   "source": [
    "print(classification_report(y_test_cat, svc_new2_pred))"
   ]
  },
  {
   "cell_type": "markdown",
   "metadata": {},
   "source": [
    "There is an increase in the accuracy from 0.91 in the training set to 0.92 in the testing. "
   ]
  },
  {
   "cell_type": "markdown",
   "metadata": {},
   "source": [
    "- What did you learn in this project? Any suggestions?"
   ]
  },
  {
   "cell_type": "code",
   "execution_count": null,
   "metadata": {},
   "outputs": [],
   "source": [
    "# Your comments"
   ]
  },
  {
   "cell_type": "markdown",
   "metadata": {},
   "source": [
    "# Thank you\n",
    "Ilyas Ustun  \n",
    "twitter: \\_ilyas\\_ustun\\_"
   ]
  }
 ],
 "metadata": {
  "kernelspec": {
   "display_name": "Python 3 (ipykernel)",
   "language": "python",
   "name": "python3"
  },
  "language_info": {
   "codemirror_mode": {
    "name": "ipython",
    "version": 3
   },
   "file_extension": ".py",
   "mimetype": "text/x-python",
   "name": "python",
   "nbconvert_exporter": "python",
   "pygments_lexer": "ipython3",
   "version": "3.9.7"
  },
  "toc": {
   "base_numbering": 1,
   "nav_menu": {},
   "number_sections": false,
   "sideBar": false,
   "skip_h1_title": false,
   "title_cell": "Table of Contents",
   "title_sidebar": "Contents",
   "toc_cell": false,
   "toc_position": {},
   "toc_section_display": false,
   "toc_window_display": false
  }
 },
 "nbformat": 4,
 "nbformat_minor": 4
}
