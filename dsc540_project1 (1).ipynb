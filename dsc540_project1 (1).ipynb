{
 "cells": [
  {
   "cell_type": "markdown",
   "metadata": {},
   "source": [
    "# DSC540 Project 1"
   ]
  },
  {
   "cell_type": "markdown",
   "metadata": {},
   "source": [
    "Shreyas Ravi\n",
    "\n",
    "DePaul University  \n",
    "Ilyas Ustun, PhD  \n",
    "Chicago, IL  "
   ]
  },
  {
   "cell_type": "code",
   "execution_count": 1,
   "metadata": {},
   "outputs": [
    {
     "data": {
      "text/plain": [
       "'0.23.2'"
      ]
     },
     "execution_count": 1,
     "metadata": {},
     "output_type": "execute_result"
    }
   ],
   "source": [
    "import sklearn\n",
    "sklearn.__version__"
   ]
  },
  {
   "cell_type": "code",
   "execution_count": 1,
   "metadata": {
    "colab": {},
    "colab_type": "code",
    "id": "1X8uH9FQn7ZV"
   },
   "outputs": [],
   "source": [
    "from sklearn.model_selection import train_test_split\n",
    "from sklearn import metrics\n",
    "\n",
    "import matplotlib.pyplot as plt\n",
    "import pandas as pd\n",
    "import numpy as np\n",
    "import seaborn as sns"
   ]
  },
  {
   "cell_type": "code",
   "execution_count": null,
   "metadata": {},
   "outputs": [],
   "source": []
  },
  {
   "cell_type": "code",
   "execution_count": 2,
   "metadata": {},
   "outputs": [],
   "source": [
    "pd.set_option('display.max_columns', 100)"
   ]
  },
  {
   "cell_type": "markdown",
   "metadata": {},
   "source": [
    "### These are the packages I used"
   ]
  },
  {
   "cell_type": "code",
   "execution_count": null,
   "metadata": {},
   "outputs": [],
   "source": [
    "# Your package imports here"
   ]
  },
  {
   "cell_type": "markdown",
   "metadata": {},
   "source": [
    "## Rules\n",
    "- Do not change the code already present in the notebook.\n",
    "- Write your code under the corresponding questions where you see `# Code here`. You can use more than one cell, if you'd like.\n",
    "- Provide explanation in a separate Markdown formatted cell. \n",
    "- You can change the cell type by:\n",
    "    - Clicking on the outer area of the cell type you want to change,\n",
    "    - Go to the top, and select either Code or Markdown from the dropdown menu.\n",
    "- Be concise in your explanations and conclusions.\n",
    "- Write clear code and provide explanation to functions you create by using `#` comment sign.\n",
    "- For built-in function and methods you use from libraries, provide a very brief explanation of what they do.\n",
    "- Try to answer the questions by yourself. Use documentation from pandas, sklearn and similar libraries to solve the problem.\n",
    "- If you are stuck you can use different resources. Do not find an identical project and copy paste the solutions. \n",
    "- Write your name before beginning to code.\n",
    "\n",
    "\n",
    "Important:  \n",
    "- **Do NOT share the solutions with other people.**\n",
    "- **Do NOT share the solutions on the internet including but not limited to Github and other platforms.**\n",
    "- Sign the Honor Pledge below indicating that you have agreed to these rules listed here, and any other ethical and honor rules as required by the university.\n",
    "\n",
    "\n",
    "\n",
    "- **Deliverables:**\n",
    "    1. The Python Jupyter notebook file named properly with your name. Example: dsc540_project1_john_doe.ipynb\n",
    "    2. The HTML output of this code notebook names the same way. Example: dsc540_project1_john_doe.html\n",
    "        - File -> Download as -> HTML   \n",
    "       \n",
    "\n",
    "Good Luck!"
   ]
  },
  {
   "cell_type": "markdown",
   "metadata": {},
   "source": [
    "### SHREYAS RAVI"
   ]
  },
  {
   "cell_type": "markdown",
   "metadata": {},
   "source": [
    "**Honor Pledge:**  \n",
    "I pledge on my honor that I, **Shreyas Ravi**, have followed the rules listed above, that I have not given or received any unauthorized assistance on this assignment. \n"
   ]
  },
  {
   "cell_type": "markdown",
   "metadata": {},
   "source": [
    "## The Data"
   ]
  },
  {
   "cell_type": "markdown",
   "metadata": {},
   "source": [
    "In this project, we will be working with the **Breast Cancer Wisconsin dataset**, which\n",
    "contains 569 examples of malignant and benign tumor cells.  \n",
    "The Breast Cancer Wisconsin dataset can be found in the UCI\n",
    "Machine Learning Repository, and more detailed information about this dataset can\n",
    "be found at https://archive.ics.uci.edu/ml/datasets/Breast+Cancer+Wisconsin+(Diagnostic).  \n",
    "The first two columns in the dataset store the unique ID numbers of the examples and the corresponding\n",
    "diagnoses (M = malignant, B = benign), respectively.   \n",
    "Columns 3-32 contain 30 real-valued features that have been computed from digitized images of the cell\n",
    "nuclei, which can be used to build a model to predict whether a tumor is benign\n",
    "or malignant.  "
   ]
  },
  {
   "cell_type": "markdown",
   "metadata": {},
   "source": [
    "## Load dataset"
   ]
  },
  {
   "cell_type": "code",
   "execution_count": 3,
   "metadata": {
    "colab": {
     "base_uri": "https://localhost:8080/",
     "height": 51
    },
    "colab_type": "code",
    "id": "HfInD40bJbpC",
    "outputId": "77c4d333-9c77-4013-89ce-e7fca9a97c1c"
   },
   "outputs": [],
   "source": [
    "# Load the dataset from UCI\n",
    "df = pd.read_csv(\n",
    "'https://archive.ics.uci.edu/ml/'\n",
    "'machine-learning-databases'\n",
    "'/breast-cancer-wisconsin/wdbc.data',\n",
    "header=None)"
   ]
  },
  {
   "cell_type": "code",
   "execution_count": 4,
   "metadata": {
    "scrolled": true
   },
   "outputs": [
    {
     "data": {
      "text/html": [
       "<div>\n",
       "<style scoped>\n",
       "    .dataframe tbody tr th:only-of-type {\n",
       "        vertical-align: middle;\n",
       "    }\n",
       "\n",
       "    .dataframe tbody tr th {\n",
       "        vertical-align: top;\n",
       "    }\n",
       "\n",
       "    .dataframe thead th {\n",
       "        text-align: right;\n",
       "    }\n",
       "</style>\n",
       "<table border=\"1\" class=\"dataframe\">\n",
       "  <thead>\n",
       "    <tr style=\"text-align: right;\">\n",
       "      <th></th>\n",
       "      <th>0</th>\n",
       "      <th>1</th>\n",
       "      <th>2</th>\n",
       "      <th>3</th>\n",
       "      <th>4</th>\n",
       "      <th>5</th>\n",
       "      <th>6</th>\n",
       "      <th>7</th>\n",
       "      <th>8</th>\n",
       "      <th>9</th>\n",
       "      <th>10</th>\n",
       "      <th>11</th>\n",
       "      <th>12</th>\n",
       "      <th>13</th>\n",
       "      <th>14</th>\n",
       "      <th>15</th>\n",
       "      <th>16</th>\n",
       "      <th>17</th>\n",
       "      <th>18</th>\n",
       "      <th>19</th>\n",
       "      <th>20</th>\n",
       "      <th>21</th>\n",
       "      <th>22</th>\n",
       "      <th>23</th>\n",
       "      <th>24</th>\n",
       "      <th>25</th>\n",
       "      <th>26</th>\n",
       "      <th>27</th>\n",
       "      <th>28</th>\n",
       "      <th>29</th>\n",
       "      <th>30</th>\n",
       "      <th>31</th>\n",
       "    </tr>\n",
       "  </thead>\n",
       "  <tbody>\n",
       "    <tr>\n",
       "      <th>0</th>\n",
       "      <td>842302</td>\n",
       "      <td>M</td>\n",
       "      <td>17.99</td>\n",
       "      <td>10.38</td>\n",
       "      <td>122.80</td>\n",
       "      <td>1001.0</td>\n",
       "      <td>0.11840</td>\n",
       "      <td>0.27760</td>\n",
       "      <td>0.3001</td>\n",
       "      <td>0.14710</td>\n",
       "      <td>0.2419</td>\n",
       "      <td>0.07871</td>\n",
       "      <td>1.0950</td>\n",
       "      <td>0.9053</td>\n",
       "      <td>8.589</td>\n",
       "      <td>153.40</td>\n",
       "      <td>0.006399</td>\n",
       "      <td>0.04904</td>\n",
       "      <td>0.05373</td>\n",
       "      <td>0.01587</td>\n",
       "      <td>0.03003</td>\n",
       "      <td>0.006193</td>\n",
       "      <td>25.38</td>\n",
       "      <td>17.33</td>\n",
       "      <td>184.60</td>\n",
       "      <td>2019.0</td>\n",
       "      <td>0.1622</td>\n",
       "      <td>0.6656</td>\n",
       "      <td>0.7119</td>\n",
       "      <td>0.2654</td>\n",
       "      <td>0.4601</td>\n",
       "      <td>0.11890</td>\n",
       "    </tr>\n",
       "    <tr>\n",
       "      <th>1</th>\n",
       "      <td>842517</td>\n",
       "      <td>M</td>\n",
       "      <td>20.57</td>\n",
       "      <td>17.77</td>\n",
       "      <td>132.90</td>\n",
       "      <td>1326.0</td>\n",
       "      <td>0.08474</td>\n",
       "      <td>0.07864</td>\n",
       "      <td>0.0869</td>\n",
       "      <td>0.07017</td>\n",
       "      <td>0.1812</td>\n",
       "      <td>0.05667</td>\n",
       "      <td>0.5435</td>\n",
       "      <td>0.7339</td>\n",
       "      <td>3.398</td>\n",
       "      <td>74.08</td>\n",
       "      <td>0.005225</td>\n",
       "      <td>0.01308</td>\n",
       "      <td>0.01860</td>\n",
       "      <td>0.01340</td>\n",
       "      <td>0.01389</td>\n",
       "      <td>0.003532</td>\n",
       "      <td>24.99</td>\n",
       "      <td>23.41</td>\n",
       "      <td>158.80</td>\n",
       "      <td>1956.0</td>\n",
       "      <td>0.1238</td>\n",
       "      <td>0.1866</td>\n",
       "      <td>0.2416</td>\n",
       "      <td>0.1860</td>\n",
       "      <td>0.2750</td>\n",
       "      <td>0.08902</td>\n",
       "    </tr>\n",
       "    <tr>\n",
       "      <th>2</th>\n",
       "      <td>84300903</td>\n",
       "      <td>M</td>\n",
       "      <td>19.69</td>\n",
       "      <td>21.25</td>\n",
       "      <td>130.00</td>\n",
       "      <td>1203.0</td>\n",
       "      <td>0.10960</td>\n",
       "      <td>0.15990</td>\n",
       "      <td>0.1974</td>\n",
       "      <td>0.12790</td>\n",
       "      <td>0.2069</td>\n",
       "      <td>0.05999</td>\n",
       "      <td>0.7456</td>\n",
       "      <td>0.7869</td>\n",
       "      <td>4.585</td>\n",
       "      <td>94.03</td>\n",
       "      <td>0.006150</td>\n",
       "      <td>0.04006</td>\n",
       "      <td>0.03832</td>\n",
       "      <td>0.02058</td>\n",
       "      <td>0.02250</td>\n",
       "      <td>0.004571</td>\n",
       "      <td>23.57</td>\n",
       "      <td>25.53</td>\n",
       "      <td>152.50</td>\n",
       "      <td>1709.0</td>\n",
       "      <td>0.1444</td>\n",
       "      <td>0.4245</td>\n",
       "      <td>0.4504</td>\n",
       "      <td>0.2430</td>\n",
       "      <td>0.3613</td>\n",
       "      <td>0.08758</td>\n",
       "    </tr>\n",
       "    <tr>\n",
       "      <th>3</th>\n",
       "      <td>84348301</td>\n",
       "      <td>M</td>\n",
       "      <td>11.42</td>\n",
       "      <td>20.38</td>\n",
       "      <td>77.58</td>\n",
       "      <td>386.1</td>\n",
       "      <td>0.14250</td>\n",
       "      <td>0.28390</td>\n",
       "      <td>0.2414</td>\n",
       "      <td>0.10520</td>\n",
       "      <td>0.2597</td>\n",
       "      <td>0.09744</td>\n",
       "      <td>0.4956</td>\n",
       "      <td>1.1560</td>\n",
       "      <td>3.445</td>\n",
       "      <td>27.23</td>\n",
       "      <td>0.009110</td>\n",
       "      <td>0.07458</td>\n",
       "      <td>0.05661</td>\n",
       "      <td>0.01867</td>\n",
       "      <td>0.05963</td>\n",
       "      <td>0.009208</td>\n",
       "      <td>14.91</td>\n",
       "      <td>26.50</td>\n",
       "      <td>98.87</td>\n",
       "      <td>567.7</td>\n",
       "      <td>0.2098</td>\n",
       "      <td>0.8663</td>\n",
       "      <td>0.6869</td>\n",
       "      <td>0.2575</td>\n",
       "      <td>0.6638</td>\n",
       "      <td>0.17300</td>\n",
       "    </tr>\n",
       "    <tr>\n",
       "      <th>4</th>\n",
       "      <td>84358402</td>\n",
       "      <td>M</td>\n",
       "      <td>20.29</td>\n",
       "      <td>14.34</td>\n",
       "      <td>135.10</td>\n",
       "      <td>1297.0</td>\n",
       "      <td>0.10030</td>\n",
       "      <td>0.13280</td>\n",
       "      <td>0.1980</td>\n",
       "      <td>0.10430</td>\n",
       "      <td>0.1809</td>\n",
       "      <td>0.05883</td>\n",
       "      <td>0.7572</td>\n",
       "      <td>0.7813</td>\n",
       "      <td>5.438</td>\n",
       "      <td>94.44</td>\n",
       "      <td>0.011490</td>\n",
       "      <td>0.02461</td>\n",
       "      <td>0.05688</td>\n",
       "      <td>0.01885</td>\n",
       "      <td>0.01756</td>\n",
       "      <td>0.005115</td>\n",
       "      <td>22.54</td>\n",
       "      <td>16.67</td>\n",
       "      <td>152.20</td>\n",
       "      <td>1575.0</td>\n",
       "      <td>0.1374</td>\n",
       "      <td>0.2050</td>\n",
       "      <td>0.4000</td>\n",
       "      <td>0.1625</td>\n",
       "      <td>0.2364</td>\n",
       "      <td>0.07678</td>\n",
       "    </tr>\n",
       "  </tbody>\n",
       "</table>\n",
       "</div>"
      ],
      "text/plain": [
       "         0  1      2      3       4       5        6        7       8   \\\n",
       "0    842302  M  17.99  10.38  122.80  1001.0  0.11840  0.27760  0.3001   \n",
       "1    842517  M  20.57  17.77  132.90  1326.0  0.08474  0.07864  0.0869   \n",
       "2  84300903  M  19.69  21.25  130.00  1203.0  0.10960  0.15990  0.1974   \n",
       "3  84348301  M  11.42  20.38   77.58   386.1  0.14250  0.28390  0.2414   \n",
       "4  84358402  M  20.29  14.34  135.10  1297.0  0.10030  0.13280  0.1980   \n",
       "\n",
       "        9       10       11      12      13     14      15        16       17  \\\n",
       "0  0.14710  0.2419  0.07871  1.0950  0.9053  8.589  153.40  0.006399  0.04904   \n",
       "1  0.07017  0.1812  0.05667  0.5435  0.7339  3.398   74.08  0.005225  0.01308   \n",
       "2  0.12790  0.2069  0.05999  0.7456  0.7869  4.585   94.03  0.006150  0.04006   \n",
       "3  0.10520  0.2597  0.09744  0.4956  1.1560  3.445   27.23  0.009110  0.07458   \n",
       "4  0.10430  0.1809  0.05883  0.7572  0.7813  5.438   94.44  0.011490  0.02461   \n",
       "\n",
       "        18       19       20        21     22     23      24      25      26  \\\n",
       "0  0.05373  0.01587  0.03003  0.006193  25.38  17.33  184.60  2019.0  0.1622   \n",
       "1  0.01860  0.01340  0.01389  0.003532  24.99  23.41  158.80  1956.0  0.1238   \n",
       "2  0.03832  0.02058  0.02250  0.004571  23.57  25.53  152.50  1709.0  0.1444   \n",
       "3  0.05661  0.01867  0.05963  0.009208  14.91  26.50   98.87   567.7  0.2098   \n",
       "4  0.05688  0.01885  0.01756  0.005115  22.54  16.67  152.20  1575.0  0.1374   \n",
       "\n",
       "       27      28      29      30       31  \n",
       "0  0.6656  0.7119  0.2654  0.4601  0.11890  \n",
       "1  0.1866  0.2416  0.1860  0.2750  0.08902  \n",
       "2  0.4245  0.4504  0.2430  0.3613  0.08758  \n",
       "3  0.8663  0.6869  0.2575  0.6638  0.17300  \n",
       "4  0.2050  0.4000  0.1625  0.2364  0.07678  "
      ]
     },
     "execution_count": 4,
     "metadata": {},
     "output_type": "execute_result"
    }
   ],
   "source": [
    "df.head()"
   ]
  },
  {
   "cell_type": "markdown",
   "metadata": {},
   "source": [
    "- Since this dataset does not have headers, we will read the data file that I have created.\n",
    "- Last column is the target column.\n",
    "- The ID column is dropped."
   ]
  },
  {
   "cell_type": "code",
   "execution_count": 5,
   "metadata": {},
   "outputs": [],
   "source": [
    "df = pd.read_csv('WisconsinBreastCancer.csv')\n",
    "X = df.drop('target', axis=1)\n",
    "y = df.target"
   ]
  },
  {
   "cell_type": "code",
   "execution_count": 6,
   "metadata": {},
   "outputs": [
    {
     "data": {
      "text/html": [
       "<div>\n",
       "<style scoped>\n",
       "    .dataframe tbody tr th:only-of-type {\n",
       "        vertical-align: middle;\n",
       "    }\n",
       "\n",
       "    .dataframe tbody tr th {\n",
       "        vertical-align: top;\n",
       "    }\n",
       "\n",
       "    .dataframe thead th {\n",
       "        text-align: right;\n",
       "    }\n",
       "</style>\n",
       "<table border=\"1\" class=\"dataframe\">\n",
       "  <thead>\n",
       "    <tr style=\"text-align: right;\">\n",
       "      <th></th>\n",
       "      <th>mean radius</th>\n",
       "      <th>mean texture</th>\n",
       "      <th>mean perimeter</th>\n",
       "      <th>mean area</th>\n",
       "      <th>mean smoothness</th>\n",
       "      <th>mean compactness</th>\n",
       "      <th>mean concavity</th>\n",
       "      <th>mean concave points</th>\n",
       "      <th>mean symmetry</th>\n",
       "      <th>mean fractal dimension</th>\n",
       "      <th>radius error</th>\n",
       "      <th>texture error</th>\n",
       "      <th>perimeter error</th>\n",
       "      <th>area error</th>\n",
       "      <th>smoothness error</th>\n",
       "      <th>compactness error</th>\n",
       "      <th>concavity error</th>\n",
       "      <th>concave points error</th>\n",
       "      <th>symmetry error</th>\n",
       "      <th>fractal dimension error</th>\n",
       "      <th>worst radius</th>\n",
       "      <th>worst texture</th>\n",
       "      <th>worst perimeter</th>\n",
       "      <th>worst area</th>\n",
       "      <th>worst smoothness</th>\n",
       "      <th>worst compactness</th>\n",
       "      <th>worst concavity</th>\n",
       "      <th>worst concave points</th>\n",
       "      <th>worst symmetry</th>\n",
       "      <th>worst fractal dimension</th>\n",
       "    </tr>\n",
       "  </thead>\n",
       "  <tbody>\n",
       "    <tr>\n",
       "      <th>0</th>\n",
       "      <td>17.99</td>\n",
       "      <td>10.38</td>\n",
       "      <td>122.80</td>\n",
       "      <td>1001.0</td>\n",
       "      <td>0.11840</td>\n",
       "      <td>0.27760</td>\n",
       "      <td>0.3001</td>\n",
       "      <td>0.14710</td>\n",
       "      <td>0.2419</td>\n",
       "      <td>0.07871</td>\n",
       "      <td>1.0950</td>\n",
       "      <td>0.9053</td>\n",
       "      <td>8.589</td>\n",
       "      <td>153.40</td>\n",
       "      <td>0.006399</td>\n",
       "      <td>0.04904</td>\n",
       "      <td>0.05373</td>\n",
       "      <td>0.01587</td>\n",
       "      <td>0.03003</td>\n",
       "      <td>0.006193</td>\n",
       "      <td>25.38</td>\n",
       "      <td>17.33</td>\n",
       "      <td>184.60</td>\n",
       "      <td>2019.0</td>\n",
       "      <td>0.1622</td>\n",
       "      <td>0.6656</td>\n",
       "      <td>0.7119</td>\n",
       "      <td>0.2654</td>\n",
       "      <td>0.4601</td>\n",
       "      <td>0.11890</td>\n",
       "    </tr>\n",
       "    <tr>\n",
       "      <th>1</th>\n",
       "      <td>20.57</td>\n",
       "      <td>17.77</td>\n",
       "      <td>132.90</td>\n",
       "      <td>1326.0</td>\n",
       "      <td>0.08474</td>\n",
       "      <td>0.07864</td>\n",
       "      <td>0.0869</td>\n",
       "      <td>0.07017</td>\n",
       "      <td>0.1812</td>\n",
       "      <td>0.05667</td>\n",
       "      <td>0.5435</td>\n",
       "      <td>0.7339</td>\n",
       "      <td>3.398</td>\n",
       "      <td>74.08</td>\n",
       "      <td>0.005225</td>\n",
       "      <td>0.01308</td>\n",
       "      <td>0.01860</td>\n",
       "      <td>0.01340</td>\n",
       "      <td>0.01389</td>\n",
       "      <td>0.003532</td>\n",
       "      <td>24.99</td>\n",
       "      <td>23.41</td>\n",
       "      <td>158.80</td>\n",
       "      <td>1956.0</td>\n",
       "      <td>0.1238</td>\n",
       "      <td>0.1866</td>\n",
       "      <td>0.2416</td>\n",
       "      <td>0.1860</td>\n",
       "      <td>0.2750</td>\n",
       "      <td>0.08902</td>\n",
       "    </tr>\n",
       "    <tr>\n",
       "      <th>2</th>\n",
       "      <td>19.69</td>\n",
       "      <td>21.25</td>\n",
       "      <td>130.00</td>\n",
       "      <td>1203.0</td>\n",
       "      <td>0.10960</td>\n",
       "      <td>0.15990</td>\n",
       "      <td>0.1974</td>\n",
       "      <td>0.12790</td>\n",
       "      <td>0.2069</td>\n",
       "      <td>0.05999</td>\n",
       "      <td>0.7456</td>\n",
       "      <td>0.7869</td>\n",
       "      <td>4.585</td>\n",
       "      <td>94.03</td>\n",
       "      <td>0.006150</td>\n",
       "      <td>0.04006</td>\n",
       "      <td>0.03832</td>\n",
       "      <td>0.02058</td>\n",
       "      <td>0.02250</td>\n",
       "      <td>0.004571</td>\n",
       "      <td>23.57</td>\n",
       "      <td>25.53</td>\n",
       "      <td>152.50</td>\n",
       "      <td>1709.0</td>\n",
       "      <td>0.1444</td>\n",
       "      <td>0.4245</td>\n",
       "      <td>0.4504</td>\n",
       "      <td>0.2430</td>\n",
       "      <td>0.3613</td>\n",
       "      <td>0.08758</td>\n",
       "    </tr>\n",
       "    <tr>\n",
       "      <th>3</th>\n",
       "      <td>11.42</td>\n",
       "      <td>20.38</td>\n",
       "      <td>77.58</td>\n",
       "      <td>386.1</td>\n",
       "      <td>0.14250</td>\n",
       "      <td>0.28390</td>\n",
       "      <td>0.2414</td>\n",
       "      <td>0.10520</td>\n",
       "      <td>0.2597</td>\n",
       "      <td>0.09744</td>\n",
       "      <td>0.4956</td>\n",
       "      <td>1.1560</td>\n",
       "      <td>3.445</td>\n",
       "      <td>27.23</td>\n",
       "      <td>0.009110</td>\n",
       "      <td>0.07458</td>\n",
       "      <td>0.05661</td>\n",
       "      <td>0.01867</td>\n",
       "      <td>0.05963</td>\n",
       "      <td>0.009208</td>\n",
       "      <td>14.91</td>\n",
       "      <td>26.50</td>\n",
       "      <td>98.87</td>\n",
       "      <td>567.7</td>\n",
       "      <td>0.2098</td>\n",
       "      <td>0.8663</td>\n",
       "      <td>0.6869</td>\n",
       "      <td>0.2575</td>\n",
       "      <td>0.6638</td>\n",
       "      <td>0.17300</td>\n",
       "    </tr>\n",
       "    <tr>\n",
       "      <th>4</th>\n",
       "      <td>20.29</td>\n",
       "      <td>14.34</td>\n",
       "      <td>135.10</td>\n",
       "      <td>1297.0</td>\n",
       "      <td>0.10030</td>\n",
       "      <td>0.13280</td>\n",
       "      <td>0.1980</td>\n",
       "      <td>0.10430</td>\n",
       "      <td>0.1809</td>\n",
       "      <td>0.05883</td>\n",
       "      <td>0.7572</td>\n",
       "      <td>0.7813</td>\n",
       "      <td>5.438</td>\n",
       "      <td>94.44</td>\n",
       "      <td>0.011490</td>\n",
       "      <td>0.02461</td>\n",
       "      <td>0.05688</td>\n",
       "      <td>0.01885</td>\n",
       "      <td>0.01756</td>\n",
       "      <td>0.005115</td>\n",
       "      <td>22.54</td>\n",
       "      <td>16.67</td>\n",
       "      <td>152.20</td>\n",
       "      <td>1575.0</td>\n",
       "      <td>0.1374</td>\n",
       "      <td>0.2050</td>\n",
       "      <td>0.4000</td>\n",
       "      <td>0.1625</td>\n",
       "      <td>0.2364</td>\n",
       "      <td>0.07678</td>\n",
       "    </tr>\n",
       "  </tbody>\n",
       "</table>\n",
       "</div>"
      ],
      "text/plain": [
       "   mean radius  mean texture  mean perimeter  mean area  mean smoothness  \\\n",
       "0        17.99         10.38          122.80     1001.0          0.11840   \n",
       "1        20.57         17.77          132.90     1326.0          0.08474   \n",
       "2        19.69         21.25          130.00     1203.0          0.10960   \n",
       "3        11.42         20.38           77.58      386.1          0.14250   \n",
       "4        20.29         14.34          135.10     1297.0          0.10030   \n",
       "\n",
       "   mean compactness  mean concavity  mean concave points  mean symmetry  \\\n",
       "0           0.27760          0.3001              0.14710         0.2419   \n",
       "1           0.07864          0.0869              0.07017         0.1812   \n",
       "2           0.15990          0.1974              0.12790         0.2069   \n",
       "3           0.28390          0.2414              0.10520         0.2597   \n",
       "4           0.13280          0.1980              0.10430         0.1809   \n",
       "\n",
       "   mean fractal dimension  radius error  texture error  perimeter error  \\\n",
       "0                 0.07871        1.0950         0.9053            8.589   \n",
       "1                 0.05667        0.5435         0.7339            3.398   \n",
       "2                 0.05999        0.7456         0.7869            4.585   \n",
       "3                 0.09744        0.4956         1.1560            3.445   \n",
       "4                 0.05883        0.7572         0.7813            5.438   \n",
       "\n",
       "   area error  smoothness error  compactness error  concavity error  \\\n",
       "0      153.40          0.006399            0.04904          0.05373   \n",
       "1       74.08          0.005225            0.01308          0.01860   \n",
       "2       94.03          0.006150            0.04006          0.03832   \n",
       "3       27.23          0.009110            0.07458          0.05661   \n",
       "4       94.44          0.011490            0.02461          0.05688   \n",
       "\n",
       "   concave points error  symmetry error  fractal dimension error  \\\n",
       "0               0.01587         0.03003                 0.006193   \n",
       "1               0.01340         0.01389                 0.003532   \n",
       "2               0.02058         0.02250                 0.004571   \n",
       "3               0.01867         0.05963                 0.009208   \n",
       "4               0.01885         0.01756                 0.005115   \n",
       "\n",
       "   worst radius  worst texture  worst perimeter  worst area  worst smoothness  \\\n",
       "0         25.38          17.33           184.60      2019.0            0.1622   \n",
       "1         24.99          23.41           158.80      1956.0            0.1238   \n",
       "2         23.57          25.53           152.50      1709.0            0.1444   \n",
       "3         14.91          26.50            98.87       567.7            0.2098   \n",
       "4         22.54          16.67           152.20      1575.0            0.1374   \n",
       "\n",
       "   worst compactness  worst concavity  worst concave points  worst symmetry  \\\n",
       "0             0.6656           0.7119                0.2654          0.4601   \n",
       "1             0.1866           0.2416                0.1860          0.2750   \n",
       "2             0.4245           0.4504                0.2430          0.3613   \n",
       "3             0.8663           0.6869                0.2575          0.6638   \n",
       "4             0.2050           0.4000                0.1625          0.2364   \n",
       "\n",
       "   worst fractal dimension  \n",
       "0                  0.11890  \n",
       "1                  0.08902  \n",
       "2                  0.08758  \n",
       "3                  0.17300  \n",
       "4                  0.07678  "
      ]
     },
     "execution_count": 6,
     "metadata": {},
     "output_type": "execute_result"
    }
   ],
   "source": [
    "X.head()"
   ]
  },
  {
   "cell_type": "markdown",
   "metadata": {},
   "source": [
    "The target vector is `y`."
   ]
  },
  {
   "cell_type": "code",
   "execution_count": 7,
   "metadata": {},
   "outputs": [
    {
     "data": {
      "text/plain": [
       "0    1\n",
       "1    1\n",
       "2    1\n",
       "3    1\n",
       "4    1\n",
       "Name: target, dtype: int64"
      ]
     },
     "execution_count": 7,
     "metadata": {},
     "output_type": "execute_result"
    }
   ],
   "source": [
    "y.head()"
   ]
  },
  {
   "cell_type": "markdown",
   "metadata": {},
   "source": [
    "### Question 1 [5 points]\n",
    "How many people have cancer?"
   ]
  },
  {
   "cell_type": "markdown",
   "metadata": {},
   "source": [
    "> Hint: Should be less than 300!"
   ]
  },
  {
   "cell_type": "code",
   "execution_count": 27,
   "metadata": {},
   "outputs": [
    {
     "data": {
      "text/plain": [
       "212"
      ]
     },
     "execution_count": 27,
     "metadata": {},
     "output_type": "execute_result"
    }
   ],
   "source": [
    "# code here \n",
    "y.sum()"
   ]
  },
  {
   "cell_type": "markdown",
   "metadata": {},
   "source": [
    "212 number of people have cancer."
   ]
  },
  {
   "cell_type": "markdown",
   "metadata": {},
   "source": [
    "### Question 2 [5 points]\n",
    "Check the data and investigate the column types. Is there any categorical data? Any missing values? \n",
    "How many observations? How many variables are there in the feature set (`X`)?"
   ]
  },
  {
   "cell_type": "code",
   "execution_count": 28,
   "metadata": {
    "scrolled": true
   },
   "outputs": [
    {
     "name": "stdout",
     "output_type": "stream",
     "text": [
      "mean radius                float64\n",
      "mean texture               float64\n",
      "mean perimeter             float64\n",
      "mean area                  float64\n",
      "mean smoothness            float64\n",
      "mean compactness           float64\n",
      "mean concavity             float64\n",
      "mean concave points        float64\n",
      "mean symmetry              float64\n",
      "mean fractal dimension     float64\n",
      "radius error               float64\n",
      "texture error              float64\n",
      "perimeter error            float64\n",
      "area error                 float64\n",
      "smoothness error           float64\n",
      "compactness error          float64\n",
      "concavity error            float64\n",
      "concave points error       float64\n",
      "symmetry error             float64\n",
      "fractal dimension error    float64\n",
      "worst radius               float64\n",
      "worst texture              float64\n",
      "worst perimeter            float64\n",
      "worst area                 float64\n",
      "worst smoothness           float64\n",
      "worst compactness          float64\n",
      "worst concavity            float64\n",
      "worst concave points       float64\n",
      "worst symmetry             float64\n",
      "worst fractal dimension    float64\n",
      "target                       int64\n",
      "dtype: object\n"
     ]
    }
   ],
   "source": [
    "# Code here\n",
    "print(df.dtypes)"
   ]
  },
  {
   "cell_type": "code",
   "execution_count": 30,
   "metadata": {},
   "outputs": [
    {
     "name": "stdout",
     "output_type": "stream",
     "text": [
      "[]\n"
     ]
    }
   ],
   "source": [
    "# categorical data\n",
    "categorical_columns = [i for i in df.columns if df[i].dtype==\"object\"]\n",
    "print(categorical_columns)\n",
    "# no categorical columns "
   ]
  },
  {
   "cell_type": "code",
   "execution_count": 32,
   "metadata": {
    "scrolled": true
   },
   "outputs": [
    {
     "data": {
      "text/plain": [
       "mean radius                0\n",
       "mean texture               0\n",
       "mean perimeter             0\n",
       "mean area                  0\n",
       "mean smoothness            0\n",
       "mean compactness           0\n",
       "mean concavity             0\n",
       "mean concave points        0\n",
       "mean symmetry              0\n",
       "mean fractal dimension     0\n",
       "radius error               0\n",
       "texture error              0\n",
       "perimeter error            0\n",
       "area error                 0\n",
       "smoothness error           0\n",
       "compactness error          0\n",
       "concavity error            0\n",
       "concave points error       0\n",
       "symmetry error             0\n",
       "fractal dimension error    0\n",
       "worst radius               0\n",
       "worst texture              0\n",
       "worst perimeter            0\n",
       "worst area                 0\n",
       "worst smoothness           0\n",
       "worst compactness          0\n",
       "worst concavity            0\n",
       "worst concave points       0\n",
       "worst symmetry             0\n",
       "worst fractal dimension    0\n",
       "target                     0\n",
       "dtype: int64"
      ]
     },
     "execution_count": 32,
     "metadata": {},
     "output_type": "execute_result"
    }
   ],
   "source": [
    "# na values\n",
    "# df.isnull().values.any()\n",
    "df.isna().sum()\n",
    "# no na values"
   ]
  },
  {
   "cell_type": "code",
   "execution_count": 25,
   "metadata": {},
   "outputs": [
    {
     "data": {
      "text/plain": [
       "(569, 31)"
      ]
     },
     "execution_count": 25,
     "metadata": {},
     "output_type": "execute_result"
    }
   ],
   "source": [
    "# no of observations \n",
    "df.shape\n",
    "# 569 records (observations) and 31 columns "
   ]
  },
  {
   "cell_type": "code",
   "execution_count": 26,
   "metadata": {},
   "outputs": [
    {
     "data": {
      "text/plain": [
       "(569, 30)"
      ]
     },
     "execution_count": 26,
     "metadata": {},
     "output_type": "execute_result"
    }
   ],
   "source": [
    "# no of variables in X\n",
    "X.shape\n",
    "# 30 columns (variables) -> 1 columns dropped and used as 'Y'"
   ]
  },
  {
   "cell_type": "markdown",
   "metadata": {},
   "source": [
    "### Question 3 [5 points]\n",
    "- Check the statistical summary of numeric features. Do the variables have values close to each other, or is there large differences?\n",
    "- What is the variable that has the largest value?\n",
    "- What is the variable that has the smallest value?"
   ]
  },
  {
   "cell_type": "code",
   "execution_count": 33,
   "metadata": {
    "scrolled": true
   },
   "outputs": [
    {
     "data": {
      "text/html": [
       "<div>\n",
       "<style scoped>\n",
       "    .dataframe tbody tr th:only-of-type {\n",
       "        vertical-align: middle;\n",
       "    }\n",
       "\n",
       "    .dataframe tbody tr th {\n",
       "        vertical-align: top;\n",
       "    }\n",
       "\n",
       "    .dataframe thead th {\n",
       "        text-align: right;\n",
       "    }\n",
       "</style>\n",
       "<table border=\"1\" class=\"dataframe\">\n",
       "  <thead>\n",
       "    <tr style=\"text-align: right;\">\n",
       "      <th></th>\n",
       "      <th>mean radius</th>\n",
       "      <th>mean texture</th>\n",
       "      <th>mean perimeter</th>\n",
       "      <th>mean area</th>\n",
       "      <th>mean smoothness</th>\n",
       "      <th>mean compactness</th>\n",
       "      <th>mean concavity</th>\n",
       "      <th>mean concave points</th>\n",
       "      <th>mean symmetry</th>\n",
       "      <th>mean fractal dimension</th>\n",
       "      <th>radius error</th>\n",
       "      <th>texture error</th>\n",
       "      <th>perimeter error</th>\n",
       "      <th>area error</th>\n",
       "      <th>smoothness error</th>\n",
       "      <th>compactness error</th>\n",
       "      <th>concavity error</th>\n",
       "      <th>concave points error</th>\n",
       "      <th>symmetry error</th>\n",
       "      <th>fractal dimension error</th>\n",
       "      <th>worst radius</th>\n",
       "      <th>worst texture</th>\n",
       "      <th>worst perimeter</th>\n",
       "      <th>worst area</th>\n",
       "      <th>worst smoothness</th>\n",
       "      <th>worst compactness</th>\n",
       "      <th>worst concavity</th>\n",
       "      <th>worst concave points</th>\n",
       "      <th>worst symmetry</th>\n",
       "      <th>worst fractal dimension</th>\n",
       "      <th>target</th>\n",
       "    </tr>\n",
       "  </thead>\n",
       "  <tbody>\n",
       "    <tr>\n",
       "      <th>count</th>\n",
       "      <td>569.000000</td>\n",
       "      <td>569.000000</td>\n",
       "      <td>569.000000</td>\n",
       "      <td>569.000000</td>\n",
       "      <td>569.000000</td>\n",
       "      <td>569.000000</td>\n",
       "      <td>569.000000</td>\n",
       "      <td>569.000000</td>\n",
       "      <td>569.000000</td>\n",
       "      <td>569.000000</td>\n",
       "      <td>569.000000</td>\n",
       "      <td>569.000000</td>\n",
       "      <td>569.000000</td>\n",
       "      <td>569.000000</td>\n",
       "      <td>569.000000</td>\n",
       "      <td>569.000000</td>\n",
       "      <td>569.000000</td>\n",
       "      <td>569.000000</td>\n",
       "      <td>569.000000</td>\n",
       "      <td>569.000000</td>\n",
       "      <td>569.000000</td>\n",
       "      <td>569.000000</td>\n",
       "      <td>569.000000</td>\n",
       "      <td>569.000000</td>\n",
       "      <td>569.000000</td>\n",
       "      <td>569.000000</td>\n",
       "      <td>569.000000</td>\n",
       "      <td>569.000000</td>\n",
       "      <td>569.000000</td>\n",
       "      <td>569.000000</td>\n",
       "      <td>569.000000</td>\n",
       "    </tr>\n",
       "    <tr>\n",
       "      <th>mean</th>\n",
       "      <td>14.127292</td>\n",
       "      <td>19.289649</td>\n",
       "      <td>91.969033</td>\n",
       "      <td>654.889104</td>\n",
       "      <td>0.096360</td>\n",
       "      <td>0.104341</td>\n",
       "      <td>0.088799</td>\n",
       "      <td>0.048919</td>\n",
       "      <td>0.181162</td>\n",
       "      <td>0.062798</td>\n",
       "      <td>0.405172</td>\n",
       "      <td>1.216853</td>\n",
       "      <td>2.866059</td>\n",
       "      <td>40.337079</td>\n",
       "      <td>0.007041</td>\n",
       "      <td>0.025478</td>\n",
       "      <td>0.031894</td>\n",
       "      <td>0.011796</td>\n",
       "      <td>0.020542</td>\n",
       "      <td>0.003795</td>\n",
       "      <td>16.269190</td>\n",
       "      <td>25.677223</td>\n",
       "      <td>107.261213</td>\n",
       "      <td>880.583128</td>\n",
       "      <td>0.132369</td>\n",
       "      <td>0.254265</td>\n",
       "      <td>0.272188</td>\n",
       "      <td>0.114606</td>\n",
       "      <td>0.290076</td>\n",
       "      <td>0.083946</td>\n",
       "      <td>0.372583</td>\n",
       "    </tr>\n",
       "    <tr>\n",
       "      <th>std</th>\n",
       "      <td>3.524049</td>\n",
       "      <td>4.301036</td>\n",
       "      <td>24.298981</td>\n",
       "      <td>351.914129</td>\n",
       "      <td>0.014064</td>\n",
       "      <td>0.052813</td>\n",
       "      <td>0.079720</td>\n",
       "      <td>0.038803</td>\n",
       "      <td>0.027414</td>\n",
       "      <td>0.007060</td>\n",
       "      <td>0.277313</td>\n",
       "      <td>0.551648</td>\n",
       "      <td>2.021855</td>\n",
       "      <td>45.491006</td>\n",
       "      <td>0.003003</td>\n",
       "      <td>0.017908</td>\n",
       "      <td>0.030186</td>\n",
       "      <td>0.006170</td>\n",
       "      <td>0.008266</td>\n",
       "      <td>0.002646</td>\n",
       "      <td>4.833242</td>\n",
       "      <td>6.146258</td>\n",
       "      <td>33.602542</td>\n",
       "      <td>569.356993</td>\n",
       "      <td>0.022832</td>\n",
       "      <td>0.157336</td>\n",
       "      <td>0.208624</td>\n",
       "      <td>0.065732</td>\n",
       "      <td>0.061867</td>\n",
       "      <td>0.018061</td>\n",
       "      <td>0.483918</td>\n",
       "    </tr>\n",
       "    <tr>\n",
       "      <th>min</th>\n",
       "      <td>6.981000</td>\n",
       "      <td>9.710000</td>\n",
       "      <td>43.790000</td>\n",
       "      <td>143.500000</td>\n",
       "      <td>0.052630</td>\n",
       "      <td>0.019380</td>\n",
       "      <td>0.000000</td>\n",
       "      <td>0.000000</td>\n",
       "      <td>0.106000</td>\n",
       "      <td>0.049960</td>\n",
       "      <td>0.111500</td>\n",
       "      <td>0.360200</td>\n",
       "      <td>0.757000</td>\n",
       "      <td>6.802000</td>\n",
       "      <td>0.001713</td>\n",
       "      <td>0.002252</td>\n",
       "      <td>0.000000</td>\n",
       "      <td>0.000000</td>\n",
       "      <td>0.007882</td>\n",
       "      <td>0.000895</td>\n",
       "      <td>7.930000</td>\n",
       "      <td>12.020000</td>\n",
       "      <td>50.410000</td>\n",
       "      <td>185.200000</td>\n",
       "      <td>0.071170</td>\n",
       "      <td>0.027290</td>\n",
       "      <td>0.000000</td>\n",
       "      <td>0.000000</td>\n",
       "      <td>0.156500</td>\n",
       "      <td>0.055040</td>\n",
       "      <td>0.000000</td>\n",
       "    </tr>\n",
       "    <tr>\n",
       "      <th>25%</th>\n",
       "      <td>11.700000</td>\n",
       "      <td>16.170000</td>\n",
       "      <td>75.170000</td>\n",
       "      <td>420.300000</td>\n",
       "      <td>0.086370</td>\n",
       "      <td>0.064920</td>\n",
       "      <td>0.029560</td>\n",
       "      <td>0.020310</td>\n",
       "      <td>0.161900</td>\n",
       "      <td>0.057700</td>\n",
       "      <td>0.232400</td>\n",
       "      <td>0.833900</td>\n",
       "      <td>1.606000</td>\n",
       "      <td>17.850000</td>\n",
       "      <td>0.005169</td>\n",
       "      <td>0.013080</td>\n",
       "      <td>0.015090</td>\n",
       "      <td>0.007638</td>\n",
       "      <td>0.015160</td>\n",
       "      <td>0.002248</td>\n",
       "      <td>13.010000</td>\n",
       "      <td>21.080000</td>\n",
       "      <td>84.110000</td>\n",
       "      <td>515.300000</td>\n",
       "      <td>0.116600</td>\n",
       "      <td>0.147200</td>\n",
       "      <td>0.114500</td>\n",
       "      <td>0.064930</td>\n",
       "      <td>0.250400</td>\n",
       "      <td>0.071460</td>\n",
       "      <td>0.000000</td>\n",
       "    </tr>\n",
       "    <tr>\n",
       "      <th>50%</th>\n",
       "      <td>13.370000</td>\n",
       "      <td>18.840000</td>\n",
       "      <td>86.240000</td>\n",
       "      <td>551.100000</td>\n",
       "      <td>0.095870</td>\n",
       "      <td>0.092630</td>\n",
       "      <td>0.061540</td>\n",
       "      <td>0.033500</td>\n",
       "      <td>0.179200</td>\n",
       "      <td>0.061540</td>\n",
       "      <td>0.324200</td>\n",
       "      <td>1.108000</td>\n",
       "      <td>2.287000</td>\n",
       "      <td>24.530000</td>\n",
       "      <td>0.006380</td>\n",
       "      <td>0.020450</td>\n",
       "      <td>0.025890</td>\n",
       "      <td>0.010930</td>\n",
       "      <td>0.018730</td>\n",
       "      <td>0.003187</td>\n",
       "      <td>14.970000</td>\n",
       "      <td>25.410000</td>\n",
       "      <td>97.660000</td>\n",
       "      <td>686.500000</td>\n",
       "      <td>0.131300</td>\n",
       "      <td>0.211900</td>\n",
       "      <td>0.226700</td>\n",
       "      <td>0.099930</td>\n",
       "      <td>0.282200</td>\n",
       "      <td>0.080040</td>\n",
       "      <td>0.000000</td>\n",
       "    </tr>\n",
       "    <tr>\n",
       "      <th>75%</th>\n",
       "      <td>15.780000</td>\n",
       "      <td>21.800000</td>\n",
       "      <td>104.100000</td>\n",
       "      <td>782.700000</td>\n",
       "      <td>0.105300</td>\n",
       "      <td>0.130400</td>\n",
       "      <td>0.130700</td>\n",
       "      <td>0.074000</td>\n",
       "      <td>0.195700</td>\n",
       "      <td>0.066120</td>\n",
       "      <td>0.478900</td>\n",
       "      <td>1.474000</td>\n",
       "      <td>3.357000</td>\n",
       "      <td>45.190000</td>\n",
       "      <td>0.008146</td>\n",
       "      <td>0.032450</td>\n",
       "      <td>0.042050</td>\n",
       "      <td>0.014710</td>\n",
       "      <td>0.023480</td>\n",
       "      <td>0.004558</td>\n",
       "      <td>18.790000</td>\n",
       "      <td>29.720000</td>\n",
       "      <td>125.400000</td>\n",
       "      <td>1084.000000</td>\n",
       "      <td>0.146000</td>\n",
       "      <td>0.339100</td>\n",
       "      <td>0.382900</td>\n",
       "      <td>0.161400</td>\n",
       "      <td>0.317900</td>\n",
       "      <td>0.092080</td>\n",
       "      <td>1.000000</td>\n",
       "    </tr>\n",
       "    <tr>\n",
       "      <th>max</th>\n",
       "      <td>28.110000</td>\n",
       "      <td>39.280000</td>\n",
       "      <td>188.500000</td>\n",
       "      <td>2501.000000</td>\n",
       "      <td>0.163400</td>\n",
       "      <td>0.345400</td>\n",
       "      <td>0.426800</td>\n",
       "      <td>0.201200</td>\n",
       "      <td>0.304000</td>\n",
       "      <td>0.097440</td>\n",
       "      <td>2.873000</td>\n",
       "      <td>4.885000</td>\n",
       "      <td>21.980000</td>\n",
       "      <td>542.200000</td>\n",
       "      <td>0.031130</td>\n",
       "      <td>0.135400</td>\n",
       "      <td>0.396000</td>\n",
       "      <td>0.052790</td>\n",
       "      <td>0.078950</td>\n",
       "      <td>0.029840</td>\n",
       "      <td>36.040000</td>\n",
       "      <td>49.540000</td>\n",
       "      <td>251.200000</td>\n",
       "      <td>4254.000000</td>\n",
       "      <td>0.222600</td>\n",
       "      <td>1.058000</td>\n",
       "      <td>1.252000</td>\n",
       "      <td>0.291000</td>\n",
       "      <td>0.663800</td>\n",
       "      <td>0.207500</td>\n",
       "      <td>1.000000</td>\n",
       "    </tr>\n",
       "  </tbody>\n",
       "</table>\n",
       "</div>"
      ],
      "text/plain": [
       "       mean radius  mean texture  mean perimeter    mean area  \\\n",
       "count   569.000000    569.000000      569.000000   569.000000   \n",
       "mean     14.127292     19.289649       91.969033   654.889104   \n",
       "std       3.524049      4.301036       24.298981   351.914129   \n",
       "min       6.981000      9.710000       43.790000   143.500000   \n",
       "25%      11.700000     16.170000       75.170000   420.300000   \n",
       "50%      13.370000     18.840000       86.240000   551.100000   \n",
       "75%      15.780000     21.800000      104.100000   782.700000   \n",
       "max      28.110000     39.280000      188.500000  2501.000000   \n",
       "\n",
       "       mean smoothness  mean compactness  mean concavity  mean concave points  \\\n",
       "count       569.000000        569.000000      569.000000           569.000000   \n",
       "mean          0.096360          0.104341        0.088799             0.048919   \n",
       "std           0.014064          0.052813        0.079720             0.038803   \n",
       "min           0.052630          0.019380        0.000000             0.000000   \n",
       "25%           0.086370          0.064920        0.029560             0.020310   \n",
       "50%           0.095870          0.092630        0.061540             0.033500   \n",
       "75%           0.105300          0.130400        0.130700             0.074000   \n",
       "max           0.163400          0.345400        0.426800             0.201200   \n",
       "\n",
       "       mean symmetry  mean fractal dimension  radius error  texture error  \\\n",
       "count     569.000000              569.000000    569.000000     569.000000   \n",
       "mean        0.181162                0.062798      0.405172       1.216853   \n",
       "std         0.027414                0.007060      0.277313       0.551648   \n",
       "min         0.106000                0.049960      0.111500       0.360200   \n",
       "25%         0.161900                0.057700      0.232400       0.833900   \n",
       "50%         0.179200                0.061540      0.324200       1.108000   \n",
       "75%         0.195700                0.066120      0.478900       1.474000   \n",
       "max         0.304000                0.097440      2.873000       4.885000   \n",
       "\n",
       "       perimeter error  area error  smoothness error  compactness error  \\\n",
       "count       569.000000  569.000000        569.000000         569.000000   \n",
       "mean          2.866059   40.337079          0.007041           0.025478   \n",
       "std           2.021855   45.491006          0.003003           0.017908   \n",
       "min           0.757000    6.802000          0.001713           0.002252   \n",
       "25%           1.606000   17.850000          0.005169           0.013080   \n",
       "50%           2.287000   24.530000          0.006380           0.020450   \n",
       "75%           3.357000   45.190000          0.008146           0.032450   \n",
       "max          21.980000  542.200000          0.031130           0.135400   \n",
       "\n",
       "       concavity error  concave points error  symmetry error  \\\n",
       "count       569.000000            569.000000      569.000000   \n",
       "mean          0.031894              0.011796        0.020542   \n",
       "std           0.030186              0.006170        0.008266   \n",
       "min           0.000000              0.000000        0.007882   \n",
       "25%           0.015090              0.007638        0.015160   \n",
       "50%           0.025890              0.010930        0.018730   \n",
       "75%           0.042050              0.014710        0.023480   \n",
       "max           0.396000              0.052790        0.078950   \n",
       "\n",
       "       fractal dimension error  worst radius  worst texture  worst perimeter  \\\n",
       "count               569.000000    569.000000     569.000000       569.000000   \n",
       "mean                  0.003795     16.269190      25.677223       107.261213   \n",
       "std                   0.002646      4.833242       6.146258        33.602542   \n",
       "min                   0.000895      7.930000      12.020000        50.410000   \n",
       "25%                   0.002248     13.010000      21.080000        84.110000   \n",
       "50%                   0.003187     14.970000      25.410000        97.660000   \n",
       "75%                   0.004558     18.790000      29.720000       125.400000   \n",
       "max                   0.029840     36.040000      49.540000       251.200000   \n",
       "\n",
       "        worst area  worst smoothness  worst compactness  worst concavity  \\\n",
       "count   569.000000        569.000000         569.000000       569.000000   \n",
       "mean    880.583128          0.132369           0.254265         0.272188   \n",
       "std     569.356993          0.022832           0.157336         0.208624   \n",
       "min     185.200000          0.071170           0.027290         0.000000   \n",
       "25%     515.300000          0.116600           0.147200         0.114500   \n",
       "50%     686.500000          0.131300           0.211900         0.226700   \n",
       "75%    1084.000000          0.146000           0.339100         0.382900   \n",
       "max    4254.000000          0.222600           1.058000         1.252000   \n",
       "\n",
       "       worst concave points  worst symmetry  worst fractal dimension  \\\n",
       "count            569.000000      569.000000               569.000000   \n",
       "mean               0.114606        0.290076                 0.083946   \n",
       "std                0.065732        0.061867                 0.018061   \n",
       "min                0.000000        0.156500                 0.055040   \n",
       "25%                0.064930        0.250400                 0.071460   \n",
       "50%                0.099930        0.282200                 0.080040   \n",
       "75%                0.161400        0.317900                 0.092080   \n",
       "max                0.291000        0.663800                 0.207500   \n",
       "\n",
       "           target  \n",
       "count  569.000000  \n",
       "mean     0.372583  \n",
       "std      0.483918  \n",
       "min      0.000000  \n",
       "25%      0.000000  \n",
       "50%      0.000000  \n",
       "75%      1.000000  \n",
       "max      1.000000  "
      ]
     },
     "execution_count": 33,
     "metadata": {},
     "output_type": "execute_result"
    }
   ],
   "source": [
    "# Code here\n",
    "df.describe()"
   ]
  },
  {
   "cell_type": "markdown",
   "metadata": {},
   "source": [
    "When we look at the mean for the first 4 columns we can see a vast difference between those means and the ones following it. The values of the means depend on the variable at hand and since there are multiple independent variables, the differences between these variables fluctuate. For example - The mean of \"mean area\" is 654.889 which is much larger than the mean of \"mean fractal dimension\" which is at 0.062798. Considering the means have such large differences, it is safe to assume that all the other statistical descriptors would have similar differences between each variable. "
   ]
  },
  {
   "cell_type": "markdown",
   "metadata": {},
   "source": [
    "The largest value belongs to the \"worst area\" variable, which has a max value of 4254.00"
   ]
  },
  {
   "cell_type": "markdown",
   "metadata": {},
   "source": [
    "The smallest values belong to multiple variables such as \"mean concavity\", \"mean concave points\" and a few more as they have min values at 0.00000. "
   ]
  },
  {
   "cell_type": "code",
   "execution_count": null,
   "metadata": {},
   "outputs": [],
   "source": []
  },
  {
   "cell_type": "markdown",
   "metadata": {},
   "source": [
    "### Question 4 [5 points]\n",
    "These features are all engineered from images. I suspect there is some variables with large correlation. Are there largely correlated variables? Why do you think they are largely correlated? Comment on a few.\n",
    "- Calculate correlation.\n",
    "- Create a correlation heatmap.\n",
    "- Comment on largely correlated variables."
   ]
  },
  {
   "cell_type": "code",
   "execution_count": 34,
   "metadata": {},
   "outputs": [
    {
     "data": {
      "text/html": [
       "<div>\n",
       "<style scoped>\n",
       "    .dataframe tbody tr th:only-of-type {\n",
       "        vertical-align: middle;\n",
       "    }\n",
       "\n",
       "    .dataframe tbody tr th {\n",
       "        vertical-align: top;\n",
       "    }\n",
       "\n",
       "    .dataframe thead th {\n",
       "        text-align: right;\n",
       "    }\n",
       "</style>\n",
       "<table border=\"1\" class=\"dataframe\">\n",
       "  <thead>\n",
       "    <tr style=\"text-align: right;\">\n",
       "      <th></th>\n",
       "      <th>mean radius</th>\n",
       "      <th>mean texture</th>\n",
       "      <th>mean perimeter</th>\n",
       "      <th>mean area</th>\n",
       "      <th>mean smoothness</th>\n",
       "      <th>mean compactness</th>\n",
       "      <th>mean concavity</th>\n",
       "      <th>mean concave points</th>\n",
       "      <th>mean symmetry</th>\n",
       "      <th>mean fractal dimension</th>\n",
       "      <th>radius error</th>\n",
       "      <th>texture error</th>\n",
       "      <th>perimeter error</th>\n",
       "      <th>area error</th>\n",
       "      <th>smoothness error</th>\n",
       "      <th>compactness error</th>\n",
       "      <th>concavity error</th>\n",
       "      <th>concave points error</th>\n",
       "      <th>symmetry error</th>\n",
       "      <th>fractal dimension error</th>\n",
       "      <th>worst radius</th>\n",
       "      <th>worst texture</th>\n",
       "      <th>worst perimeter</th>\n",
       "      <th>worst area</th>\n",
       "      <th>worst smoothness</th>\n",
       "      <th>worst compactness</th>\n",
       "      <th>worst concavity</th>\n",
       "      <th>worst concave points</th>\n",
       "      <th>worst symmetry</th>\n",
       "      <th>worst fractal dimension</th>\n",
       "      <th>target</th>\n",
       "    </tr>\n",
       "  </thead>\n",
       "  <tbody>\n",
       "    <tr>\n",
       "      <th>mean radius</th>\n",
       "      <td>1.000000</td>\n",
       "      <td>0.323782</td>\n",
       "      <td>0.997855</td>\n",
       "      <td>0.987357</td>\n",
       "      <td>0.170581</td>\n",
       "      <td>0.506124</td>\n",
       "      <td>0.676764</td>\n",
       "      <td>0.822529</td>\n",
       "      <td>0.147741</td>\n",
       "      <td>-0.311631</td>\n",
       "      <td>0.679090</td>\n",
       "      <td>-0.097317</td>\n",
       "      <td>0.674172</td>\n",
       "      <td>0.735864</td>\n",
       "      <td>-0.222600</td>\n",
       "      <td>0.206000</td>\n",
       "      <td>0.194204</td>\n",
       "      <td>0.376169</td>\n",
       "      <td>-0.104321</td>\n",
       "      <td>-0.042641</td>\n",
       "      <td>0.969539</td>\n",
       "      <td>0.297008</td>\n",
       "      <td>0.965137</td>\n",
       "      <td>0.941082</td>\n",
       "      <td>0.119616</td>\n",
       "      <td>0.413463</td>\n",
       "      <td>0.526911</td>\n",
       "      <td>0.744214</td>\n",
       "      <td>0.163953</td>\n",
       "      <td>0.007066</td>\n",
       "      <td>0.730029</td>\n",
       "    </tr>\n",
       "    <tr>\n",
       "      <th>mean texture</th>\n",
       "      <td>0.323782</td>\n",
       "      <td>1.000000</td>\n",
       "      <td>0.329533</td>\n",
       "      <td>0.321086</td>\n",
       "      <td>-0.023389</td>\n",
       "      <td>0.236702</td>\n",
       "      <td>0.302418</td>\n",
       "      <td>0.293464</td>\n",
       "      <td>0.071401</td>\n",
       "      <td>-0.076437</td>\n",
       "      <td>0.275869</td>\n",
       "      <td>0.386358</td>\n",
       "      <td>0.281673</td>\n",
       "      <td>0.259845</td>\n",
       "      <td>0.006614</td>\n",
       "      <td>0.191975</td>\n",
       "      <td>0.143293</td>\n",
       "      <td>0.163851</td>\n",
       "      <td>0.009127</td>\n",
       "      <td>0.054458</td>\n",
       "      <td>0.352573</td>\n",
       "      <td>0.912045</td>\n",
       "      <td>0.358040</td>\n",
       "      <td>0.343546</td>\n",
       "      <td>0.077503</td>\n",
       "      <td>0.277830</td>\n",
       "      <td>0.301025</td>\n",
       "      <td>0.295316</td>\n",
       "      <td>0.105008</td>\n",
       "      <td>0.119205</td>\n",
       "      <td>0.415185</td>\n",
       "    </tr>\n",
       "    <tr>\n",
       "      <th>mean perimeter</th>\n",
       "      <td>0.997855</td>\n",
       "      <td>0.329533</td>\n",
       "      <td>1.000000</td>\n",
       "      <td>0.986507</td>\n",
       "      <td>0.207278</td>\n",
       "      <td>0.556936</td>\n",
       "      <td>0.716136</td>\n",
       "      <td>0.850977</td>\n",
       "      <td>0.183027</td>\n",
       "      <td>-0.261477</td>\n",
       "      <td>0.691765</td>\n",
       "      <td>-0.086761</td>\n",
       "      <td>0.693135</td>\n",
       "      <td>0.744983</td>\n",
       "      <td>-0.202694</td>\n",
       "      <td>0.250744</td>\n",
       "      <td>0.228082</td>\n",
       "      <td>0.407217</td>\n",
       "      <td>-0.081629</td>\n",
       "      <td>-0.005523</td>\n",
       "      <td>0.969476</td>\n",
       "      <td>0.303038</td>\n",
       "      <td>0.970387</td>\n",
       "      <td>0.941550</td>\n",
       "      <td>0.150549</td>\n",
       "      <td>0.455774</td>\n",
       "      <td>0.563879</td>\n",
       "      <td>0.771241</td>\n",
       "      <td>0.189115</td>\n",
       "      <td>0.051019</td>\n",
       "      <td>0.742636</td>\n",
       "    </tr>\n",
       "    <tr>\n",
       "      <th>mean area</th>\n",
       "      <td>0.987357</td>\n",
       "      <td>0.321086</td>\n",
       "      <td>0.986507</td>\n",
       "      <td>1.000000</td>\n",
       "      <td>0.177028</td>\n",
       "      <td>0.498502</td>\n",
       "      <td>0.685983</td>\n",
       "      <td>0.823269</td>\n",
       "      <td>0.151293</td>\n",
       "      <td>-0.283110</td>\n",
       "      <td>0.732562</td>\n",
       "      <td>-0.066280</td>\n",
       "      <td>0.726628</td>\n",
       "      <td>0.800086</td>\n",
       "      <td>-0.166777</td>\n",
       "      <td>0.212583</td>\n",
       "      <td>0.207660</td>\n",
       "      <td>0.372320</td>\n",
       "      <td>-0.072497</td>\n",
       "      <td>-0.019887</td>\n",
       "      <td>0.962746</td>\n",
       "      <td>0.287489</td>\n",
       "      <td>0.959120</td>\n",
       "      <td>0.959213</td>\n",
       "      <td>0.123523</td>\n",
       "      <td>0.390410</td>\n",
       "      <td>0.512606</td>\n",
       "      <td>0.722017</td>\n",
       "      <td>0.143570</td>\n",
       "      <td>0.003738</td>\n",
       "      <td>0.708984</td>\n",
       "    </tr>\n",
       "    <tr>\n",
       "      <th>mean smoothness</th>\n",
       "      <td>0.170581</td>\n",
       "      <td>-0.023389</td>\n",
       "      <td>0.207278</td>\n",
       "      <td>0.177028</td>\n",
       "      <td>1.000000</td>\n",
       "      <td>0.659123</td>\n",
       "      <td>0.521984</td>\n",
       "      <td>0.553695</td>\n",
       "      <td>0.557775</td>\n",
       "      <td>0.584792</td>\n",
       "      <td>0.301467</td>\n",
       "      <td>0.068406</td>\n",
       "      <td>0.296092</td>\n",
       "      <td>0.246552</td>\n",
       "      <td>0.332375</td>\n",
       "      <td>0.318943</td>\n",
       "      <td>0.248396</td>\n",
       "      <td>0.380676</td>\n",
       "      <td>0.200774</td>\n",
       "      <td>0.283607</td>\n",
       "      <td>0.213120</td>\n",
       "      <td>0.036072</td>\n",
       "      <td>0.238853</td>\n",
       "      <td>0.206718</td>\n",
       "      <td>0.805324</td>\n",
       "      <td>0.472468</td>\n",
       "      <td>0.434926</td>\n",
       "      <td>0.503053</td>\n",
       "      <td>0.394309</td>\n",
       "      <td>0.499316</td>\n",
       "      <td>0.358560</td>\n",
       "    </tr>\n",
       "    <tr>\n",
       "      <th>mean compactness</th>\n",
       "      <td>0.506124</td>\n",
       "      <td>0.236702</td>\n",
       "      <td>0.556936</td>\n",
       "      <td>0.498502</td>\n",
       "      <td>0.659123</td>\n",
       "      <td>1.000000</td>\n",
       "      <td>0.883121</td>\n",
       "      <td>0.831135</td>\n",
       "      <td>0.602641</td>\n",
       "      <td>0.565369</td>\n",
       "      <td>0.497473</td>\n",
       "      <td>0.046205</td>\n",
       "      <td>0.548905</td>\n",
       "      <td>0.455653</td>\n",
       "      <td>0.135299</td>\n",
       "      <td>0.738722</td>\n",
       "      <td>0.570517</td>\n",
       "      <td>0.642262</td>\n",
       "      <td>0.229977</td>\n",
       "      <td>0.507318</td>\n",
       "      <td>0.535315</td>\n",
       "      <td>0.248133</td>\n",
       "      <td>0.590210</td>\n",
       "      <td>0.509604</td>\n",
       "      <td>0.565541</td>\n",
       "      <td>0.865809</td>\n",
       "      <td>0.816275</td>\n",
       "      <td>0.815573</td>\n",
       "      <td>0.510223</td>\n",
       "      <td>0.687382</td>\n",
       "      <td>0.596534</td>\n",
       "    </tr>\n",
       "    <tr>\n",
       "      <th>mean concavity</th>\n",
       "      <td>0.676764</td>\n",
       "      <td>0.302418</td>\n",
       "      <td>0.716136</td>\n",
       "      <td>0.685983</td>\n",
       "      <td>0.521984</td>\n",
       "      <td>0.883121</td>\n",
       "      <td>1.000000</td>\n",
       "      <td>0.921391</td>\n",
       "      <td>0.500667</td>\n",
       "      <td>0.336783</td>\n",
       "      <td>0.631925</td>\n",
       "      <td>0.076218</td>\n",
       "      <td>0.660391</td>\n",
       "      <td>0.617427</td>\n",
       "      <td>0.098564</td>\n",
       "      <td>0.670279</td>\n",
       "      <td>0.691270</td>\n",
       "      <td>0.683260</td>\n",
       "      <td>0.178009</td>\n",
       "      <td>0.449301</td>\n",
       "      <td>0.688236</td>\n",
       "      <td>0.299879</td>\n",
       "      <td>0.729565</td>\n",
       "      <td>0.675987</td>\n",
       "      <td>0.448822</td>\n",
       "      <td>0.754968</td>\n",
       "      <td>0.884103</td>\n",
       "      <td>0.861323</td>\n",
       "      <td>0.409464</td>\n",
       "      <td>0.514930</td>\n",
       "      <td>0.696360</td>\n",
       "    </tr>\n",
       "    <tr>\n",
       "      <th>mean concave points</th>\n",
       "      <td>0.822529</td>\n",
       "      <td>0.293464</td>\n",
       "      <td>0.850977</td>\n",
       "      <td>0.823269</td>\n",
       "      <td>0.553695</td>\n",
       "      <td>0.831135</td>\n",
       "      <td>0.921391</td>\n",
       "      <td>1.000000</td>\n",
       "      <td>0.462497</td>\n",
       "      <td>0.166917</td>\n",
       "      <td>0.698050</td>\n",
       "      <td>0.021480</td>\n",
       "      <td>0.710650</td>\n",
       "      <td>0.690299</td>\n",
       "      <td>0.027653</td>\n",
       "      <td>0.490424</td>\n",
       "      <td>0.439167</td>\n",
       "      <td>0.615634</td>\n",
       "      <td>0.095351</td>\n",
       "      <td>0.257584</td>\n",
       "      <td>0.830318</td>\n",
       "      <td>0.292752</td>\n",
       "      <td>0.855923</td>\n",
       "      <td>0.809630</td>\n",
       "      <td>0.452753</td>\n",
       "      <td>0.667454</td>\n",
       "      <td>0.752399</td>\n",
       "      <td>0.910155</td>\n",
       "      <td>0.375744</td>\n",
       "      <td>0.368661</td>\n",
       "      <td>0.776614</td>\n",
       "    </tr>\n",
       "    <tr>\n",
       "      <th>mean symmetry</th>\n",
       "      <td>0.147741</td>\n",
       "      <td>0.071401</td>\n",
       "      <td>0.183027</td>\n",
       "      <td>0.151293</td>\n",
       "      <td>0.557775</td>\n",
       "      <td>0.602641</td>\n",
       "      <td>0.500667</td>\n",
       "      <td>0.462497</td>\n",
       "      <td>1.000000</td>\n",
       "      <td>0.479921</td>\n",
       "      <td>0.303379</td>\n",
       "      <td>0.128053</td>\n",
       "      <td>0.313893</td>\n",
       "      <td>0.223970</td>\n",
       "      <td>0.187321</td>\n",
       "      <td>0.421659</td>\n",
       "      <td>0.342627</td>\n",
       "      <td>0.393298</td>\n",
       "      <td>0.449137</td>\n",
       "      <td>0.331786</td>\n",
       "      <td>0.185728</td>\n",
       "      <td>0.090651</td>\n",
       "      <td>0.219169</td>\n",
       "      <td>0.177193</td>\n",
       "      <td>0.426675</td>\n",
       "      <td>0.473200</td>\n",
       "      <td>0.433721</td>\n",
       "      <td>0.430297</td>\n",
       "      <td>0.699826</td>\n",
       "      <td>0.438413</td>\n",
       "      <td>0.330499</td>\n",
       "    </tr>\n",
       "    <tr>\n",
       "      <th>mean fractal dimension</th>\n",
       "      <td>-0.311631</td>\n",
       "      <td>-0.076437</td>\n",
       "      <td>-0.261477</td>\n",
       "      <td>-0.283110</td>\n",
       "      <td>0.584792</td>\n",
       "      <td>0.565369</td>\n",
       "      <td>0.336783</td>\n",
       "      <td>0.166917</td>\n",
       "      <td>0.479921</td>\n",
       "      <td>1.000000</td>\n",
       "      <td>0.000111</td>\n",
       "      <td>0.164174</td>\n",
       "      <td>0.039830</td>\n",
       "      <td>-0.090170</td>\n",
       "      <td>0.401964</td>\n",
       "      <td>0.559837</td>\n",
       "      <td>0.446630</td>\n",
       "      <td>0.341198</td>\n",
       "      <td>0.345007</td>\n",
       "      <td>0.688132</td>\n",
       "      <td>-0.253691</td>\n",
       "      <td>-0.051269</td>\n",
       "      <td>-0.205151</td>\n",
       "      <td>-0.231854</td>\n",
       "      <td>0.504942</td>\n",
       "      <td>0.458798</td>\n",
       "      <td>0.346234</td>\n",
       "      <td>0.175325</td>\n",
       "      <td>0.334019</td>\n",
       "      <td>0.767297</td>\n",
       "      <td>-0.012838</td>\n",
       "    </tr>\n",
       "    <tr>\n",
       "      <th>radius error</th>\n",
       "      <td>0.679090</td>\n",
       "      <td>0.275869</td>\n",
       "      <td>0.691765</td>\n",
       "      <td>0.732562</td>\n",
       "      <td>0.301467</td>\n",
       "      <td>0.497473</td>\n",
       "      <td>0.631925</td>\n",
       "      <td>0.698050</td>\n",
       "      <td>0.303379</td>\n",
       "      <td>0.000111</td>\n",
       "      <td>1.000000</td>\n",
       "      <td>0.213247</td>\n",
       "      <td>0.972794</td>\n",
       "      <td>0.951830</td>\n",
       "      <td>0.164514</td>\n",
       "      <td>0.356065</td>\n",
       "      <td>0.332358</td>\n",
       "      <td>0.513346</td>\n",
       "      <td>0.240567</td>\n",
       "      <td>0.227754</td>\n",
       "      <td>0.715065</td>\n",
       "      <td>0.194799</td>\n",
       "      <td>0.719684</td>\n",
       "      <td>0.751548</td>\n",
       "      <td>0.141919</td>\n",
       "      <td>0.287103</td>\n",
       "      <td>0.380585</td>\n",
       "      <td>0.531062</td>\n",
       "      <td>0.094543</td>\n",
       "      <td>0.049559</td>\n",
       "      <td>0.567134</td>\n",
       "    </tr>\n",
       "    <tr>\n",
       "      <th>texture error</th>\n",
       "      <td>-0.097317</td>\n",
       "      <td>0.386358</td>\n",
       "      <td>-0.086761</td>\n",
       "      <td>-0.066280</td>\n",
       "      <td>0.068406</td>\n",
       "      <td>0.046205</td>\n",
       "      <td>0.076218</td>\n",
       "      <td>0.021480</td>\n",
       "      <td>0.128053</td>\n",
       "      <td>0.164174</td>\n",
       "      <td>0.213247</td>\n",
       "      <td>1.000000</td>\n",
       "      <td>0.223171</td>\n",
       "      <td>0.111567</td>\n",
       "      <td>0.397243</td>\n",
       "      <td>0.231700</td>\n",
       "      <td>0.194998</td>\n",
       "      <td>0.230283</td>\n",
       "      <td>0.411621</td>\n",
       "      <td>0.279723</td>\n",
       "      <td>-0.111690</td>\n",
       "      <td>0.409003</td>\n",
       "      <td>-0.102242</td>\n",
       "      <td>-0.083195</td>\n",
       "      <td>-0.073658</td>\n",
       "      <td>-0.092439</td>\n",
       "      <td>-0.068956</td>\n",
       "      <td>-0.119638</td>\n",
       "      <td>-0.128215</td>\n",
       "      <td>-0.045655</td>\n",
       "      <td>-0.008303</td>\n",
       "    </tr>\n",
       "    <tr>\n",
       "      <th>perimeter error</th>\n",
       "      <td>0.674172</td>\n",
       "      <td>0.281673</td>\n",
       "      <td>0.693135</td>\n",
       "      <td>0.726628</td>\n",
       "      <td>0.296092</td>\n",
       "      <td>0.548905</td>\n",
       "      <td>0.660391</td>\n",
       "      <td>0.710650</td>\n",
       "      <td>0.313893</td>\n",
       "      <td>0.039830</td>\n",
       "      <td>0.972794</td>\n",
       "      <td>0.223171</td>\n",
       "      <td>1.000000</td>\n",
       "      <td>0.937655</td>\n",
       "      <td>0.151075</td>\n",
       "      <td>0.416322</td>\n",
       "      <td>0.362482</td>\n",
       "      <td>0.556264</td>\n",
       "      <td>0.266487</td>\n",
       "      <td>0.244143</td>\n",
       "      <td>0.697201</td>\n",
       "      <td>0.200371</td>\n",
       "      <td>0.721031</td>\n",
       "      <td>0.730713</td>\n",
       "      <td>0.130054</td>\n",
       "      <td>0.341919</td>\n",
       "      <td>0.418899</td>\n",
       "      <td>0.554897</td>\n",
       "      <td>0.109930</td>\n",
       "      <td>0.085433</td>\n",
       "      <td>0.556141</td>\n",
       "    </tr>\n",
       "    <tr>\n",
       "      <th>area error</th>\n",
       "      <td>0.735864</td>\n",
       "      <td>0.259845</td>\n",
       "      <td>0.744983</td>\n",
       "      <td>0.800086</td>\n",
       "      <td>0.246552</td>\n",
       "      <td>0.455653</td>\n",
       "      <td>0.617427</td>\n",
       "      <td>0.690299</td>\n",
       "      <td>0.223970</td>\n",
       "      <td>-0.090170</td>\n",
       "      <td>0.951830</td>\n",
       "      <td>0.111567</td>\n",
       "      <td>0.937655</td>\n",
       "      <td>1.000000</td>\n",
       "      <td>0.075150</td>\n",
       "      <td>0.284840</td>\n",
       "      <td>0.270895</td>\n",
       "      <td>0.415730</td>\n",
       "      <td>0.134109</td>\n",
       "      <td>0.127071</td>\n",
       "      <td>0.757373</td>\n",
       "      <td>0.196497</td>\n",
       "      <td>0.761213</td>\n",
       "      <td>0.811408</td>\n",
       "      <td>0.125389</td>\n",
       "      <td>0.283257</td>\n",
       "      <td>0.385100</td>\n",
       "      <td>0.538166</td>\n",
       "      <td>0.074126</td>\n",
       "      <td>0.017539</td>\n",
       "      <td>0.548236</td>\n",
       "    </tr>\n",
       "    <tr>\n",
       "      <th>smoothness error</th>\n",
       "      <td>-0.222600</td>\n",
       "      <td>0.006614</td>\n",
       "      <td>-0.202694</td>\n",
       "      <td>-0.166777</td>\n",
       "      <td>0.332375</td>\n",
       "      <td>0.135299</td>\n",
       "      <td>0.098564</td>\n",
       "      <td>0.027653</td>\n",
       "      <td>0.187321</td>\n",
       "      <td>0.401964</td>\n",
       "      <td>0.164514</td>\n",
       "      <td>0.397243</td>\n",
       "      <td>0.151075</td>\n",
       "      <td>0.075150</td>\n",
       "      <td>1.000000</td>\n",
       "      <td>0.336696</td>\n",
       "      <td>0.268685</td>\n",
       "      <td>0.328429</td>\n",
       "      <td>0.413506</td>\n",
       "      <td>0.427374</td>\n",
       "      <td>-0.230691</td>\n",
       "      <td>-0.074743</td>\n",
       "      <td>-0.217304</td>\n",
       "      <td>-0.182195</td>\n",
       "      <td>0.314457</td>\n",
       "      <td>-0.055558</td>\n",
       "      <td>-0.058298</td>\n",
       "      <td>-0.102007</td>\n",
       "      <td>-0.107342</td>\n",
       "      <td>0.101480</td>\n",
       "      <td>-0.067016</td>\n",
       "    </tr>\n",
       "    <tr>\n",
       "      <th>compactness error</th>\n",
       "      <td>0.206000</td>\n",
       "      <td>0.191975</td>\n",
       "      <td>0.250744</td>\n",
       "      <td>0.212583</td>\n",
       "      <td>0.318943</td>\n",
       "      <td>0.738722</td>\n",
       "      <td>0.670279</td>\n",
       "      <td>0.490424</td>\n",
       "      <td>0.421659</td>\n",
       "      <td>0.559837</td>\n",
       "      <td>0.356065</td>\n",
       "      <td>0.231700</td>\n",
       "      <td>0.416322</td>\n",
       "      <td>0.284840</td>\n",
       "      <td>0.336696</td>\n",
       "      <td>1.000000</td>\n",
       "      <td>0.801268</td>\n",
       "      <td>0.744083</td>\n",
       "      <td>0.394713</td>\n",
       "      <td>0.803269</td>\n",
       "      <td>0.204607</td>\n",
       "      <td>0.143003</td>\n",
       "      <td>0.260516</td>\n",
       "      <td>0.199371</td>\n",
       "      <td>0.227394</td>\n",
       "      <td>0.678780</td>\n",
       "      <td>0.639147</td>\n",
       "      <td>0.483208</td>\n",
       "      <td>0.277878</td>\n",
       "      <td>0.590973</td>\n",
       "      <td>0.292999</td>\n",
       "    </tr>\n",
       "    <tr>\n",
       "      <th>concavity error</th>\n",
       "      <td>0.194204</td>\n",
       "      <td>0.143293</td>\n",
       "      <td>0.228082</td>\n",
       "      <td>0.207660</td>\n",
       "      <td>0.248396</td>\n",
       "      <td>0.570517</td>\n",
       "      <td>0.691270</td>\n",
       "      <td>0.439167</td>\n",
       "      <td>0.342627</td>\n",
       "      <td>0.446630</td>\n",
       "      <td>0.332358</td>\n",
       "      <td>0.194998</td>\n",
       "      <td>0.362482</td>\n",
       "      <td>0.270895</td>\n",
       "      <td>0.268685</td>\n",
       "      <td>0.801268</td>\n",
       "      <td>1.000000</td>\n",
       "      <td>0.771804</td>\n",
       "      <td>0.309429</td>\n",
       "      <td>0.727372</td>\n",
       "      <td>0.186904</td>\n",
       "      <td>0.100241</td>\n",
       "      <td>0.226680</td>\n",
       "      <td>0.188353</td>\n",
       "      <td>0.168481</td>\n",
       "      <td>0.484858</td>\n",
       "      <td>0.662564</td>\n",
       "      <td>0.440472</td>\n",
       "      <td>0.197788</td>\n",
       "      <td>0.439329</td>\n",
       "      <td>0.253730</td>\n",
       "    </tr>\n",
       "    <tr>\n",
       "      <th>concave points error</th>\n",
       "      <td>0.376169</td>\n",
       "      <td>0.163851</td>\n",
       "      <td>0.407217</td>\n",
       "      <td>0.372320</td>\n",
       "      <td>0.380676</td>\n",
       "      <td>0.642262</td>\n",
       "      <td>0.683260</td>\n",
       "      <td>0.615634</td>\n",
       "      <td>0.393298</td>\n",
       "      <td>0.341198</td>\n",
       "      <td>0.513346</td>\n",
       "      <td>0.230283</td>\n",
       "      <td>0.556264</td>\n",
       "      <td>0.415730</td>\n",
       "      <td>0.328429</td>\n",
       "      <td>0.744083</td>\n",
       "      <td>0.771804</td>\n",
       "      <td>1.000000</td>\n",
       "      <td>0.312780</td>\n",
       "      <td>0.611044</td>\n",
       "      <td>0.358127</td>\n",
       "      <td>0.086741</td>\n",
       "      <td>0.394999</td>\n",
       "      <td>0.342271</td>\n",
       "      <td>0.215351</td>\n",
       "      <td>0.452888</td>\n",
       "      <td>0.549592</td>\n",
       "      <td>0.602450</td>\n",
       "      <td>0.143116</td>\n",
       "      <td>0.310655</td>\n",
       "      <td>0.408042</td>\n",
       "    </tr>\n",
       "    <tr>\n",
       "      <th>symmetry error</th>\n",
       "      <td>-0.104321</td>\n",
       "      <td>0.009127</td>\n",
       "      <td>-0.081629</td>\n",
       "      <td>-0.072497</td>\n",
       "      <td>0.200774</td>\n",
       "      <td>0.229977</td>\n",
       "      <td>0.178009</td>\n",
       "      <td>0.095351</td>\n",
       "      <td>0.449137</td>\n",
       "      <td>0.345007</td>\n",
       "      <td>0.240567</td>\n",
       "      <td>0.411621</td>\n",
       "      <td>0.266487</td>\n",
       "      <td>0.134109</td>\n",
       "      <td>0.413506</td>\n",
       "      <td>0.394713</td>\n",
       "      <td>0.309429</td>\n",
       "      <td>0.312780</td>\n",
       "      <td>1.000000</td>\n",
       "      <td>0.369078</td>\n",
       "      <td>-0.128121</td>\n",
       "      <td>-0.077473</td>\n",
       "      <td>-0.103753</td>\n",
       "      <td>-0.110343</td>\n",
       "      <td>-0.012662</td>\n",
       "      <td>0.060255</td>\n",
       "      <td>0.037119</td>\n",
       "      <td>-0.030413</td>\n",
       "      <td>0.389402</td>\n",
       "      <td>0.078079</td>\n",
       "      <td>-0.006522</td>\n",
       "    </tr>\n",
       "    <tr>\n",
       "      <th>fractal dimension error</th>\n",
       "      <td>-0.042641</td>\n",
       "      <td>0.054458</td>\n",
       "      <td>-0.005523</td>\n",
       "      <td>-0.019887</td>\n",
       "      <td>0.283607</td>\n",
       "      <td>0.507318</td>\n",
       "      <td>0.449301</td>\n",
       "      <td>0.257584</td>\n",
       "      <td>0.331786</td>\n",
       "      <td>0.688132</td>\n",
       "      <td>0.227754</td>\n",
       "      <td>0.279723</td>\n",
       "      <td>0.244143</td>\n",
       "      <td>0.127071</td>\n",
       "      <td>0.427374</td>\n",
       "      <td>0.803269</td>\n",
       "      <td>0.727372</td>\n",
       "      <td>0.611044</td>\n",
       "      <td>0.369078</td>\n",
       "      <td>1.000000</td>\n",
       "      <td>-0.037488</td>\n",
       "      <td>-0.003195</td>\n",
       "      <td>-0.001000</td>\n",
       "      <td>-0.022736</td>\n",
       "      <td>0.170568</td>\n",
       "      <td>0.390159</td>\n",
       "      <td>0.379975</td>\n",
       "      <td>0.215204</td>\n",
       "      <td>0.111094</td>\n",
       "      <td>0.591328</td>\n",
       "      <td>0.077972</td>\n",
       "    </tr>\n",
       "    <tr>\n",
       "      <th>worst radius</th>\n",
       "      <td>0.969539</td>\n",
       "      <td>0.352573</td>\n",
       "      <td>0.969476</td>\n",
       "      <td>0.962746</td>\n",
       "      <td>0.213120</td>\n",
       "      <td>0.535315</td>\n",
       "      <td>0.688236</td>\n",
       "      <td>0.830318</td>\n",
       "      <td>0.185728</td>\n",
       "      <td>-0.253691</td>\n",
       "      <td>0.715065</td>\n",
       "      <td>-0.111690</td>\n",
       "      <td>0.697201</td>\n",
       "      <td>0.757373</td>\n",
       "      <td>-0.230691</td>\n",
       "      <td>0.204607</td>\n",
       "      <td>0.186904</td>\n",
       "      <td>0.358127</td>\n",
       "      <td>-0.128121</td>\n",
       "      <td>-0.037488</td>\n",
       "      <td>1.000000</td>\n",
       "      <td>0.359921</td>\n",
       "      <td>0.993708</td>\n",
       "      <td>0.984015</td>\n",
       "      <td>0.216574</td>\n",
       "      <td>0.475820</td>\n",
       "      <td>0.573975</td>\n",
       "      <td>0.787424</td>\n",
       "      <td>0.243529</td>\n",
       "      <td>0.093492</td>\n",
       "      <td>0.776454</td>\n",
       "    </tr>\n",
       "    <tr>\n",
       "      <th>worst texture</th>\n",
       "      <td>0.297008</td>\n",
       "      <td>0.912045</td>\n",
       "      <td>0.303038</td>\n",
       "      <td>0.287489</td>\n",
       "      <td>0.036072</td>\n",
       "      <td>0.248133</td>\n",
       "      <td>0.299879</td>\n",
       "      <td>0.292752</td>\n",
       "      <td>0.090651</td>\n",
       "      <td>-0.051269</td>\n",
       "      <td>0.194799</td>\n",
       "      <td>0.409003</td>\n",
       "      <td>0.200371</td>\n",
       "      <td>0.196497</td>\n",
       "      <td>-0.074743</td>\n",
       "      <td>0.143003</td>\n",
       "      <td>0.100241</td>\n",
       "      <td>0.086741</td>\n",
       "      <td>-0.077473</td>\n",
       "      <td>-0.003195</td>\n",
       "      <td>0.359921</td>\n",
       "      <td>1.000000</td>\n",
       "      <td>0.365098</td>\n",
       "      <td>0.345842</td>\n",
       "      <td>0.225429</td>\n",
       "      <td>0.360832</td>\n",
       "      <td>0.368366</td>\n",
       "      <td>0.359755</td>\n",
       "      <td>0.233027</td>\n",
       "      <td>0.219122</td>\n",
       "      <td>0.456903</td>\n",
       "    </tr>\n",
       "    <tr>\n",
       "      <th>worst perimeter</th>\n",
       "      <td>0.965137</td>\n",
       "      <td>0.358040</td>\n",
       "      <td>0.970387</td>\n",
       "      <td>0.959120</td>\n",
       "      <td>0.238853</td>\n",
       "      <td>0.590210</td>\n",
       "      <td>0.729565</td>\n",
       "      <td>0.855923</td>\n",
       "      <td>0.219169</td>\n",
       "      <td>-0.205151</td>\n",
       "      <td>0.719684</td>\n",
       "      <td>-0.102242</td>\n",
       "      <td>0.721031</td>\n",
       "      <td>0.761213</td>\n",
       "      <td>-0.217304</td>\n",
       "      <td>0.260516</td>\n",
       "      <td>0.226680</td>\n",
       "      <td>0.394999</td>\n",
       "      <td>-0.103753</td>\n",
       "      <td>-0.001000</td>\n",
       "      <td>0.993708</td>\n",
       "      <td>0.365098</td>\n",
       "      <td>1.000000</td>\n",
       "      <td>0.977578</td>\n",
       "      <td>0.236775</td>\n",
       "      <td>0.529408</td>\n",
       "      <td>0.618344</td>\n",
       "      <td>0.816322</td>\n",
       "      <td>0.269493</td>\n",
       "      <td>0.138957</td>\n",
       "      <td>0.782914</td>\n",
       "    </tr>\n",
       "    <tr>\n",
       "      <th>worst area</th>\n",
       "      <td>0.941082</td>\n",
       "      <td>0.343546</td>\n",
       "      <td>0.941550</td>\n",
       "      <td>0.959213</td>\n",
       "      <td>0.206718</td>\n",
       "      <td>0.509604</td>\n",
       "      <td>0.675987</td>\n",
       "      <td>0.809630</td>\n",
       "      <td>0.177193</td>\n",
       "      <td>-0.231854</td>\n",
       "      <td>0.751548</td>\n",
       "      <td>-0.083195</td>\n",
       "      <td>0.730713</td>\n",
       "      <td>0.811408</td>\n",
       "      <td>-0.182195</td>\n",
       "      <td>0.199371</td>\n",
       "      <td>0.188353</td>\n",
       "      <td>0.342271</td>\n",
       "      <td>-0.110343</td>\n",
       "      <td>-0.022736</td>\n",
       "      <td>0.984015</td>\n",
       "      <td>0.345842</td>\n",
       "      <td>0.977578</td>\n",
       "      <td>1.000000</td>\n",
       "      <td>0.209145</td>\n",
       "      <td>0.438296</td>\n",
       "      <td>0.543331</td>\n",
       "      <td>0.747419</td>\n",
       "      <td>0.209146</td>\n",
       "      <td>0.079647</td>\n",
       "      <td>0.733825</td>\n",
       "    </tr>\n",
       "    <tr>\n",
       "      <th>worst smoothness</th>\n",
       "      <td>0.119616</td>\n",
       "      <td>0.077503</td>\n",
       "      <td>0.150549</td>\n",
       "      <td>0.123523</td>\n",
       "      <td>0.805324</td>\n",
       "      <td>0.565541</td>\n",
       "      <td>0.448822</td>\n",
       "      <td>0.452753</td>\n",
       "      <td>0.426675</td>\n",
       "      <td>0.504942</td>\n",
       "      <td>0.141919</td>\n",
       "      <td>-0.073658</td>\n",
       "      <td>0.130054</td>\n",
       "      <td>0.125389</td>\n",
       "      <td>0.314457</td>\n",
       "      <td>0.227394</td>\n",
       "      <td>0.168481</td>\n",
       "      <td>0.215351</td>\n",
       "      <td>-0.012662</td>\n",
       "      <td>0.170568</td>\n",
       "      <td>0.216574</td>\n",
       "      <td>0.225429</td>\n",
       "      <td>0.236775</td>\n",
       "      <td>0.209145</td>\n",
       "      <td>1.000000</td>\n",
       "      <td>0.568187</td>\n",
       "      <td>0.518523</td>\n",
       "      <td>0.547691</td>\n",
       "      <td>0.493838</td>\n",
       "      <td>0.617624</td>\n",
       "      <td>0.421465</td>\n",
       "    </tr>\n",
       "    <tr>\n",
       "      <th>worst compactness</th>\n",
       "      <td>0.413463</td>\n",
       "      <td>0.277830</td>\n",
       "      <td>0.455774</td>\n",
       "      <td>0.390410</td>\n",
       "      <td>0.472468</td>\n",
       "      <td>0.865809</td>\n",
       "      <td>0.754968</td>\n",
       "      <td>0.667454</td>\n",
       "      <td>0.473200</td>\n",
       "      <td>0.458798</td>\n",
       "      <td>0.287103</td>\n",
       "      <td>-0.092439</td>\n",
       "      <td>0.341919</td>\n",
       "      <td>0.283257</td>\n",
       "      <td>-0.055558</td>\n",
       "      <td>0.678780</td>\n",
       "      <td>0.484858</td>\n",
       "      <td>0.452888</td>\n",
       "      <td>0.060255</td>\n",
       "      <td>0.390159</td>\n",
       "      <td>0.475820</td>\n",
       "      <td>0.360832</td>\n",
       "      <td>0.529408</td>\n",
       "      <td>0.438296</td>\n",
       "      <td>0.568187</td>\n",
       "      <td>1.000000</td>\n",
       "      <td>0.892261</td>\n",
       "      <td>0.801080</td>\n",
       "      <td>0.614441</td>\n",
       "      <td>0.810455</td>\n",
       "      <td>0.590998</td>\n",
       "    </tr>\n",
       "    <tr>\n",
       "      <th>worst concavity</th>\n",
       "      <td>0.526911</td>\n",
       "      <td>0.301025</td>\n",
       "      <td>0.563879</td>\n",
       "      <td>0.512606</td>\n",
       "      <td>0.434926</td>\n",
       "      <td>0.816275</td>\n",
       "      <td>0.884103</td>\n",
       "      <td>0.752399</td>\n",
       "      <td>0.433721</td>\n",
       "      <td>0.346234</td>\n",
       "      <td>0.380585</td>\n",
       "      <td>-0.068956</td>\n",
       "      <td>0.418899</td>\n",
       "      <td>0.385100</td>\n",
       "      <td>-0.058298</td>\n",
       "      <td>0.639147</td>\n",
       "      <td>0.662564</td>\n",
       "      <td>0.549592</td>\n",
       "      <td>0.037119</td>\n",
       "      <td>0.379975</td>\n",
       "      <td>0.573975</td>\n",
       "      <td>0.368366</td>\n",
       "      <td>0.618344</td>\n",
       "      <td>0.543331</td>\n",
       "      <td>0.518523</td>\n",
       "      <td>0.892261</td>\n",
       "      <td>1.000000</td>\n",
       "      <td>0.855434</td>\n",
       "      <td>0.532520</td>\n",
       "      <td>0.686511</td>\n",
       "      <td>0.659610</td>\n",
       "    </tr>\n",
       "    <tr>\n",
       "      <th>worst concave points</th>\n",
       "      <td>0.744214</td>\n",
       "      <td>0.295316</td>\n",
       "      <td>0.771241</td>\n",
       "      <td>0.722017</td>\n",
       "      <td>0.503053</td>\n",
       "      <td>0.815573</td>\n",
       "      <td>0.861323</td>\n",
       "      <td>0.910155</td>\n",
       "      <td>0.430297</td>\n",
       "      <td>0.175325</td>\n",
       "      <td>0.531062</td>\n",
       "      <td>-0.119638</td>\n",
       "      <td>0.554897</td>\n",
       "      <td>0.538166</td>\n",
       "      <td>-0.102007</td>\n",
       "      <td>0.483208</td>\n",
       "      <td>0.440472</td>\n",
       "      <td>0.602450</td>\n",
       "      <td>-0.030413</td>\n",
       "      <td>0.215204</td>\n",
       "      <td>0.787424</td>\n",
       "      <td>0.359755</td>\n",
       "      <td>0.816322</td>\n",
       "      <td>0.747419</td>\n",
       "      <td>0.547691</td>\n",
       "      <td>0.801080</td>\n",
       "      <td>0.855434</td>\n",
       "      <td>1.000000</td>\n",
       "      <td>0.502528</td>\n",
       "      <td>0.511114</td>\n",
       "      <td>0.793566</td>\n",
       "    </tr>\n",
       "    <tr>\n",
       "      <th>worst symmetry</th>\n",
       "      <td>0.163953</td>\n",
       "      <td>0.105008</td>\n",
       "      <td>0.189115</td>\n",
       "      <td>0.143570</td>\n",
       "      <td>0.394309</td>\n",
       "      <td>0.510223</td>\n",
       "      <td>0.409464</td>\n",
       "      <td>0.375744</td>\n",
       "      <td>0.699826</td>\n",
       "      <td>0.334019</td>\n",
       "      <td>0.094543</td>\n",
       "      <td>-0.128215</td>\n",
       "      <td>0.109930</td>\n",
       "      <td>0.074126</td>\n",
       "      <td>-0.107342</td>\n",
       "      <td>0.277878</td>\n",
       "      <td>0.197788</td>\n",
       "      <td>0.143116</td>\n",
       "      <td>0.389402</td>\n",
       "      <td>0.111094</td>\n",
       "      <td>0.243529</td>\n",
       "      <td>0.233027</td>\n",
       "      <td>0.269493</td>\n",
       "      <td>0.209146</td>\n",
       "      <td>0.493838</td>\n",
       "      <td>0.614441</td>\n",
       "      <td>0.532520</td>\n",
       "      <td>0.502528</td>\n",
       "      <td>1.000000</td>\n",
       "      <td>0.537848</td>\n",
       "      <td>0.416294</td>\n",
       "    </tr>\n",
       "    <tr>\n",
       "      <th>worst fractal dimension</th>\n",
       "      <td>0.007066</td>\n",
       "      <td>0.119205</td>\n",
       "      <td>0.051019</td>\n",
       "      <td>0.003738</td>\n",
       "      <td>0.499316</td>\n",
       "      <td>0.687382</td>\n",
       "      <td>0.514930</td>\n",
       "      <td>0.368661</td>\n",
       "      <td>0.438413</td>\n",
       "      <td>0.767297</td>\n",
       "      <td>0.049559</td>\n",
       "      <td>-0.045655</td>\n",
       "      <td>0.085433</td>\n",
       "      <td>0.017539</td>\n",
       "      <td>0.101480</td>\n",
       "      <td>0.590973</td>\n",
       "      <td>0.439329</td>\n",
       "      <td>0.310655</td>\n",
       "      <td>0.078079</td>\n",
       "      <td>0.591328</td>\n",
       "      <td>0.093492</td>\n",
       "      <td>0.219122</td>\n",
       "      <td>0.138957</td>\n",
       "      <td>0.079647</td>\n",
       "      <td>0.617624</td>\n",
       "      <td>0.810455</td>\n",
       "      <td>0.686511</td>\n",
       "      <td>0.511114</td>\n",
       "      <td>0.537848</td>\n",
       "      <td>1.000000</td>\n",
       "      <td>0.323872</td>\n",
       "    </tr>\n",
       "    <tr>\n",
       "      <th>target</th>\n",
       "      <td>0.730029</td>\n",
       "      <td>0.415185</td>\n",
       "      <td>0.742636</td>\n",
       "      <td>0.708984</td>\n",
       "      <td>0.358560</td>\n",
       "      <td>0.596534</td>\n",
       "      <td>0.696360</td>\n",
       "      <td>0.776614</td>\n",
       "      <td>0.330499</td>\n",
       "      <td>-0.012838</td>\n",
       "      <td>0.567134</td>\n",
       "      <td>-0.008303</td>\n",
       "      <td>0.556141</td>\n",
       "      <td>0.548236</td>\n",
       "      <td>-0.067016</td>\n",
       "      <td>0.292999</td>\n",
       "      <td>0.253730</td>\n",
       "      <td>0.408042</td>\n",
       "      <td>-0.006522</td>\n",
       "      <td>0.077972</td>\n",
       "      <td>0.776454</td>\n",
       "      <td>0.456903</td>\n",
       "      <td>0.782914</td>\n",
       "      <td>0.733825</td>\n",
       "      <td>0.421465</td>\n",
       "      <td>0.590998</td>\n",
       "      <td>0.659610</td>\n",
       "      <td>0.793566</td>\n",
       "      <td>0.416294</td>\n",
       "      <td>0.323872</td>\n",
       "      <td>1.000000</td>\n",
       "    </tr>\n",
       "  </tbody>\n",
       "</table>\n",
       "</div>"
      ],
      "text/plain": [
       "                         mean radius  mean texture  mean perimeter  mean area  \\\n",
       "mean radius                 1.000000      0.323782        0.997855   0.987357   \n",
       "mean texture                0.323782      1.000000        0.329533   0.321086   \n",
       "mean perimeter              0.997855      0.329533        1.000000   0.986507   \n",
       "mean area                   0.987357      0.321086        0.986507   1.000000   \n",
       "mean smoothness             0.170581     -0.023389        0.207278   0.177028   \n",
       "mean compactness            0.506124      0.236702        0.556936   0.498502   \n",
       "mean concavity              0.676764      0.302418        0.716136   0.685983   \n",
       "mean concave points         0.822529      0.293464        0.850977   0.823269   \n",
       "mean symmetry               0.147741      0.071401        0.183027   0.151293   \n",
       "mean fractal dimension     -0.311631     -0.076437       -0.261477  -0.283110   \n",
       "radius error                0.679090      0.275869        0.691765   0.732562   \n",
       "texture error              -0.097317      0.386358       -0.086761  -0.066280   \n",
       "perimeter error             0.674172      0.281673        0.693135   0.726628   \n",
       "area error                  0.735864      0.259845        0.744983   0.800086   \n",
       "smoothness error           -0.222600      0.006614       -0.202694  -0.166777   \n",
       "compactness error           0.206000      0.191975        0.250744   0.212583   \n",
       "concavity error             0.194204      0.143293        0.228082   0.207660   \n",
       "concave points error        0.376169      0.163851        0.407217   0.372320   \n",
       "symmetry error             -0.104321      0.009127       -0.081629  -0.072497   \n",
       "fractal dimension error    -0.042641      0.054458       -0.005523  -0.019887   \n",
       "worst radius                0.969539      0.352573        0.969476   0.962746   \n",
       "worst texture               0.297008      0.912045        0.303038   0.287489   \n",
       "worst perimeter             0.965137      0.358040        0.970387   0.959120   \n",
       "worst area                  0.941082      0.343546        0.941550   0.959213   \n",
       "worst smoothness            0.119616      0.077503        0.150549   0.123523   \n",
       "worst compactness           0.413463      0.277830        0.455774   0.390410   \n",
       "worst concavity             0.526911      0.301025        0.563879   0.512606   \n",
       "worst concave points        0.744214      0.295316        0.771241   0.722017   \n",
       "worst symmetry              0.163953      0.105008        0.189115   0.143570   \n",
       "worst fractal dimension     0.007066      0.119205        0.051019   0.003738   \n",
       "target                      0.730029      0.415185        0.742636   0.708984   \n",
       "\n",
       "                         mean smoothness  mean compactness  mean concavity  \\\n",
       "mean radius                     0.170581          0.506124        0.676764   \n",
       "mean texture                   -0.023389          0.236702        0.302418   \n",
       "mean perimeter                  0.207278          0.556936        0.716136   \n",
       "mean area                       0.177028          0.498502        0.685983   \n",
       "mean smoothness                 1.000000          0.659123        0.521984   \n",
       "mean compactness                0.659123          1.000000        0.883121   \n",
       "mean concavity                  0.521984          0.883121        1.000000   \n",
       "mean concave points             0.553695          0.831135        0.921391   \n",
       "mean symmetry                   0.557775          0.602641        0.500667   \n",
       "mean fractal dimension          0.584792          0.565369        0.336783   \n",
       "radius error                    0.301467          0.497473        0.631925   \n",
       "texture error                   0.068406          0.046205        0.076218   \n",
       "perimeter error                 0.296092          0.548905        0.660391   \n",
       "area error                      0.246552          0.455653        0.617427   \n",
       "smoothness error                0.332375          0.135299        0.098564   \n",
       "compactness error               0.318943          0.738722        0.670279   \n",
       "concavity error                 0.248396          0.570517        0.691270   \n",
       "concave points error            0.380676          0.642262        0.683260   \n",
       "symmetry error                  0.200774          0.229977        0.178009   \n",
       "fractal dimension error         0.283607          0.507318        0.449301   \n",
       "worst radius                    0.213120          0.535315        0.688236   \n",
       "worst texture                   0.036072          0.248133        0.299879   \n",
       "worst perimeter                 0.238853          0.590210        0.729565   \n",
       "worst area                      0.206718          0.509604        0.675987   \n",
       "worst smoothness                0.805324          0.565541        0.448822   \n",
       "worst compactness               0.472468          0.865809        0.754968   \n",
       "worst concavity                 0.434926          0.816275        0.884103   \n",
       "worst concave points            0.503053          0.815573        0.861323   \n",
       "worst symmetry                  0.394309          0.510223        0.409464   \n",
       "worst fractal dimension         0.499316          0.687382        0.514930   \n",
       "target                          0.358560          0.596534        0.696360   \n",
       "\n",
       "                         mean concave points  mean symmetry  \\\n",
       "mean radius                         0.822529       0.147741   \n",
       "mean texture                        0.293464       0.071401   \n",
       "mean perimeter                      0.850977       0.183027   \n",
       "mean area                           0.823269       0.151293   \n",
       "mean smoothness                     0.553695       0.557775   \n",
       "mean compactness                    0.831135       0.602641   \n",
       "mean concavity                      0.921391       0.500667   \n",
       "mean concave points                 1.000000       0.462497   \n",
       "mean symmetry                       0.462497       1.000000   \n",
       "mean fractal dimension              0.166917       0.479921   \n",
       "radius error                        0.698050       0.303379   \n",
       "texture error                       0.021480       0.128053   \n",
       "perimeter error                     0.710650       0.313893   \n",
       "area error                          0.690299       0.223970   \n",
       "smoothness error                    0.027653       0.187321   \n",
       "compactness error                   0.490424       0.421659   \n",
       "concavity error                     0.439167       0.342627   \n",
       "concave points error                0.615634       0.393298   \n",
       "symmetry error                      0.095351       0.449137   \n",
       "fractal dimension error             0.257584       0.331786   \n",
       "worst radius                        0.830318       0.185728   \n",
       "worst texture                       0.292752       0.090651   \n",
       "worst perimeter                     0.855923       0.219169   \n",
       "worst area                          0.809630       0.177193   \n",
       "worst smoothness                    0.452753       0.426675   \n",
       "worst compactness                   0.667454       0.473200   \n",
       "worst concavity                     0.752399       0.433721   \n",
       "worst concave points                0.910155       0.430297   \n",
       "worst symmetry                      0.375744       0.699826   \n",
       "worst fractal dimension             0.368661       0.438413   \n",
       "target                              0.776614       0.330499   \n",
       "\n",
       "                         mean fractal dimension  radius error  texture error  \\\n",
       "mean radius                           -0.311631      0.679090      -0.097317   \n",
       "mean texture                          -0.076437      0.275869       0.386358   \n",
       "mean perimeter                        -0.261477      0.691765      -0.086761   \n",
       "mean area                             -0.283110      0.732562      -0.066280   \n",
       "mean smoothness                        0.584792      0.301467       0.068406   \n",
       "mean compactness                       0.565369      0.497473       0.046205   \n",
       "mean concavity                         0.336783      0.631925       0.076218   \n",
       "mean concave points                    0.166917      0.698050       0.021480   \n",
       "mean symmetry                          0.479921      0.303379       0.128053   \n",
       "mean fractal dimension                 1.000000      0.000111       0.164174   \n",
       "radius error                           0.000111      1.000000       0.213247   \n",
       "texture error                          0.164174      0.213247       1.000000   \n",
       "perimeter error                        0.039830      0.972794       0.223171   \n",
       "area error                            -0.090170      0.951830       0.111567   \n",
       "smoothness error                       0.401964      0.164514       0.397243   \n",
       "compactness error                      0.559837      0.356065       0.231700   \n",
       "concavity error                        0.446630      0.332358       0.194998   \n",
       "concave points error                   0.341198      0.513346       0.230283   \n",
       "symmetry error                         0.345007      0.240567       0.411621   \n",
       "fractal dimension error                0.688132      0.227754       0.279723   \n",
       "worst radius                          -0.253691      0.715065      -0.111690   \n",
       "worst texture                         -0.051269      0.194799       0.409003   \n",
       "worst perimeter                       -0.205151      0.719684      -0.102242   \n",
       "worst area                            -0.231854      0.751548      -0.083195   \n",
       "worst smoothness                       0.504942      0.141919      -0.073658   \n",
       "worst compactness                      0.458798      0.287103      -0.092439   \n",
       "worst concavity                        0.346234      0.380585      -0.068956   \n",
       "worst concave points                   0.175325      0.531062      -0.119638   \n",
       "worst symmetry                         0.334019      0.094543      -0.128215   \n",
       "worst fractal dimension                0.767297      0.049559      -0.045655   \n",
       "target                                -0.012838      0.567134      -0.008303   \n",
       "\n",
       "                         perimeter error  area error  smoothness error  \\\n",
       "mean radius                     0.674172    0.735864         -0.222600   \n",
       "mean texture                    0.281673    0.259845          0.006614   \n",
       "mean perimeter                  0.693135    0.744983         -0.202694   \n",
       "mean area                       0.726628    0.800086         -0.166777   \n",
       "mean smoothness                 0.296092    0.246552          0.332375   \n",
       "mean compactness                0.548905    0.455653          0.135299   \n",
       "mean concavity                  0.660391    0.617427          0.098564   \n",
       "mean concave points             0.710650    0.690299          0.027653   \n",
       "mean symmetry                   0.313893    0.223970          0.187321   \n",
       "mean fractal dimension          0.039830   -0.090170          0.401964   \n",
       "radius error                    0.972794    0.951830          0.164514   \n",
       "texture error                   0.223171    0.111567          0.397243   \n",
       "perimeter error                 1.000000    0.937655          0.151075   \n",
       "area error                      0.937655    1.000000          0.075150   \n",
       "smoothness error                0.151075    0.075150          1.000000   \n",
       "compactness error               0.416322    0.284840          0.336696   \n",
       "concavity error                 0.362482    0.270895          0.268685   \n",
       "concave points error            0.556264    0.415730          0.328429   \n",
       "symmetry error                  0.266487    0.134109          0.413506   \n",
       "fractal dimension error         0.244143    0.127071          0.427374   \n",
       "worst radius                    0.697201    0.757373         -0.230691   \n",
       "worst texture                   0.200371    0.196497         -0.074743   \n",
       "worst perimeter                 0.721031    0.761213         -0.217304   \n",
       "worst area                      0.730713    0.811408         -0.182195   \n",
       "worst smoothness                0.130054    0.125389          0.314457   \n",
       "worst compactness               0.341919    0.283257         -0.055558   \n",
       "worst concavity                 0.418899    0.385100         -0.058298   \n",
       "worst concave points            0.554897    0.538166         -0.102007   \n",
       "worst symmetry                  0.109930    0.074126         -0.107342   \n",
       "worst fractal dimension         0.085433    0.017539          0.101480   \n",
       "target                          0.556141    0.548236         -0.067016   \n",
       "\n",
       "                         compactness error  concavity error  \\\n",
       "mean radius                       0.206000         0.194204   \n",
       "mean texture                      0.191975         0.143293   \n",
       "mean perimeter                    0.250744         0.228082   \n",
       "mean area                         0.212583         0.207660   \n",
       "mean smoothness                   0.318943         0.248396   \n",
       "mean compactness                  0.738722         0.570517   \n",
       "mean concavity                    0.670279         0.691270   \n",
       "mean concave points               0.490424         0.439167   \n",
       "mean symmetry                     0.421659         0.342627   \n",
       "mean fractal dimension            0.559837         0.446630   \n",
       "radius error                      0.356065         0.332358   \n",
       "texture error                     0.231700         0.194998   \n",
       "perimeter error                   0.416322         0.362482   \n",
       "area error                        0.284840         0.270895   \n",
       "smoothness error                  0.336696         0.268685   \n",
       "compactness error                 1.000000         0.801268   \n",
       "concavity error                   0.801268         1.000000   \n",
       "concave points error              0.744083         0.771804   \n",
       "symmetry error                    0.394713         0.309429   \n",
       "fractal dimension error           0.803269         0.727372   \n",
       "worst radius                      0.204607         0.186904   \n",
       "worst texture                     0.143003         0.100241   \n",
       "worst perimeter                   0.260516         0.226680   \n",
       "worst area                        0.199371         0.188353   \n",
       "worst smoothness                  0.227394         0.168481   \n",
       "worst compactness                 0.678780         0.484858   \n",
       "worst concavity                   0.639147         0.662564   \n",
       "worst concave points              0.483208         0.440472   \n",
       "worst symmetry                    0.277878         0.197788   \n",
       "worst fractal dimension           0.590973         0.439329   \n",
       "target                            0.292999         0.253730   \n",
       "\n",
       "                         concave points error  symmetry error  \\\n",
       "mean radius                          0.376169       -0.104321   \n",
       "mean texture                         0.163851        0.009127   \n",
       "mean perimeter                       0.407217       -0.081629   \n",
       "mean area                            0.372320       -0.072497   \n",
       "mean smoothness                      0.380676        0.200774   \n",
       "mean compactness                     0.642262        0.229977   \n",
       "mean concavity                       0.683260        0.178009   \n",
       "mean concave points                  0.615634        0.095351   \n",
       "mean symmetry                        0.393298        0.449137   \n",
       "mean fractal dimension               0.341198        0.345007   \n",
       "radius error                         0.513346        0.240567   \n",
       "texture error                        0.230283        0.411621   \n",
       "perimeter error                      0.556264        0.266487   \n",
       "area error                           0.415730        0.134109   \n",
       "smoothness error                     0.328429        0.413506   \n",
       "compactness error                    0.744083        0.394713   \n",
       "concavity error                      0.771804        0.309429   \n",
       "concave points error                 1.000000        0.312780   \n",
       "symmetry error                       0.312780        1.000000   \n",
       "fractal dimension error              0.611044        0.369078   \n",
       "worst radius                         0.358127       -0.128121   \n",
       "worst texture                        0.086741       -0.077473   \n",
       "worst perimeter                      0.394999       -0.103753   \n",
       "worst area                           0.342271       -0.110343   \n",
       "worst smoothness                     0.215351       -0.012662   \n",
       "worst compactness                    0.452888        0.060255   \n",
       "worst concavity                      0.549592        0.037119   \n",
       "worst concave points                 0.602450       -0.030413   \n",
       "worst symmetry                       0.143116        0.389402   \n",
       "worst fractal dimension              0.310655        0.078079   \n",
       "target                               0.408042       -0.006522   \n",
       "\n",
       "                         fractal dimension error  worst radius  worst texture  \\\n",
       "mean radius                            -0.042641      0.969539       0.297008   \n",
       "mean texture                            0.054458      0.352573       0.912045   \n",
       "mean perimeter                         -0.005523      0.969476       0.303038   \n",
       "mean area                              -0.019887      0.962746       0.287489   \n",
       "mean smoothness                         0.283607      0.213120       0.036072   \n",
       "mean compactness                        0.507318      0.535315       0.248133   \n",
       "mean concavity                          0.449301      0.688236       0.299879   \n",
       "mean concave points                     0.257584      0.830318       0.292752   \n",
       "mean symmetry                           0.331786      0.185728       0.090651   \n",
       "mean fractal dimension                  0.688132     -0.253691      -0.051269   \n",
       "radius error                            0.227754      0.715065       0.194799   \n",
       "texture error                           0.279723     -0.111690       0.409003   \n",
       "perimeter error                         0.244143      0.697201       0.200371   \n",
       "area error                              0.127071      0.757373       0.196497   \n",
       "smoothness error                        0.427374     -0.230691      -0.074743   \n",
       "compactness error                       0.803269      0.204607       0.143003   \n",
       "concavity error                         0.727372      0.186904       0.100241   \n",
       "concave points error                    0.611044      0.358127       0.086741   \n",
       "symmetry error                          0.369078     -0.128121      -0.077473   \n",
       "fractal dimension error                 1.000000     -0.037488      -0.003195   \n",
       "worst radius                           -0.037488      1.000000       0.359921   \n",
       "worst texture                          -0.003195      0.359921       1.000000   \n",
       "worst perimeter                        -0.001000      0.993708       0.365098   \n",
       "worst area                             -0.022736      0.984015       0.345842   \n",
       "worst smoothness                        0.170568      0.216574       0.225429   \n",
       "worst compactness                       0.390159      0.475820       0.360832   \n",
       "worst concavity                         0.379975      0.573975       0.368366   \n",
       "worst concave points                    0.215204      0.787424       0.359755   \n",
       "worst symmetry                          0.111094      0.243529       0.233027   \n",
       "worst fractal dimension                 0.591328      0.093492       0.219122   \n",
       "target                                  0.077972      0.776454       0.456903   \n",
       "\n",
       "                         worst perimeter  worst area  worst smoothness  \\\n",
       "mean radius                     0.965137    0.941082          0.119616   \n",
       "mean texture                    0.358040    0.343546          0.077503   \n",
       "mean perimeter                  0.970387    0.941550          0.150549   \n",
       "mean area                       0.959120    0.959213          0.123523   \n",
       "mean smoothness                 0.238853    0.206718          0.805324   \n",
       "mean compactness                0.590210    0.509604          0.565541   \n",
       "mean concavity                  0.729565    0.675987          0.448822   \n",
       "mean concave points             0.855923    0.809630          0.452753   \n",
       "mean symmetry                   0.219169    0.177193          0.426675   \n",
       "mean fractal dimension         -0.205151   -0.231854          0.504942   \n",
       "radius error                    0.719684    0.751548          0.141919   \n",
       "texture error                  -0.102242   -0.083195         -0.073658   \n",
       "perimeter error                 0.721031    0.730713          0.130054   \n",
       "area error                      0.761213    0.811408          0.125389   \n",
       "smoothness error               -0.217304   -0.182195          0.314457   \n",
       "compactness error               0.260516    0.199371          0.227394   \n",
       "concavity error                 0.226680    0.188353          0.168481   \n",
       "concave points error            0.394999    0.342271          0.215351   \n",
       "symmetry error                 -0.103753   -0.110343         -0.012662   \n",
       "fractal dimension error        -0.001000   -0.022736          0.170568   \n",
       "worst radius                    0.993708    0.984015          0.216574   \n",
       "worst texture                   0.365098    0.345842          0.225429   \n",
       "worst perimeter                 1.000000    0.977578          0.236775   \n",
       "worst area                      0.977578    1.000000          0.209145   \n",
       "worst smoothness                0.236775    0.209145          1.000000   \n",
       "worst compactness               0.529408    0.438296          0.568187   \n",
       "worst concavity                 0.618344    0.543331          0.518523   \n",
       "worst concave points            0.816322    0.747419          0.547691   \n",
       "worst symmetry                  0.269493    0.209146          0.493838   \n",
       "worst fractal dimension         0.138957    0.079647          0.617624   \n",
       "target                          0.782914    0.733825          0.421465   \n",
       "\n",
       "                         worst compactness  worst concavity  \\\n",
       "mean radius                       0.413463         0.526911   \n",
       "mean texture                      0.277830         0.301025   \n",
       "mean perimeter                    0.455774         0.563879   \n",
       "mean area                         0.390410         0.512606   \n",
       "mean smoothness                   0.472468         0.434926   \n",
       "mean compactness                  0.865809         0.816275   \n",
       "mean concavity                    0.754968         0.884103   \n",
       "mean concave points               0.667454         0.752399   \n",
       "mean symmetry                     0.473200         0.433721   \n",
       "mean fractal dimension            0.458798         0.346234   \n",
       "radius error                      0.287103         0.380585   \n",
       "texture error                    -0.092439        -0.068956   \n",
       "perimeter error                   0.341919         0.418899   \n",
       "area error                        0.283257         0.385100   \n",
       "smoothness error                 -0.055558        -0.058298   \n",
       "compactness error                 0.678780         0.639147   \n",
       "concavity error                   0.484858         0.662564   \n",
       "concave points error              0.452888         0.549592   \n",
       "symmetry error                    0.060255         0.037119   \n",
       "fractal dimension error           0.390159         0.379975   \n",
       "worst radius                      0.475820         0.573975   \n",
       "worst texture                     0.360832         0.368366   \n",
       "worst perimeter                   0.529408         0.618344   \n",
       "worst area                        0.438296         0.543331   \n",
       "worst smoothness                  0.568187         0.518523   \n",
       "worst compactness                 1.000000         0.892261   \n",
       "worst concavity                   0.892261         1.000000   \n",
       "worst concave points              0.801080         0.855434   \n",
       "worst symmetry                    0.614441         0.532520   \n",
       "worst fractal dimension           0.810455         0.686511   \n",
       "target                            0.590998         0.659610   \n",
       "\n",
       "                         worst concave points  worst symmetry  \\\n",
       "mean radius                          0.744214        0.163953   \n",
       "mean texture                         0.295316        0.105008   \n",
       "mean perimeter                       0.771241        0.189115   \n",
       "mean area                            0.722017        0.143570   \n",
       "mean smoothness                      0.503053        0.394309   \n",
       "mean compactness                     0.815573        0.510223   \n",
       "mean concavity                       0.861323        0.409464   \n",
       "mean concave points                  0.910155        0.375744   \n",
       "mean symmetry                        0.430297        0.699826   \n",
       "mean fractal dimension               0.175325        0.334019   \n",
       "radius error                         0.531062        0.094543   \n",
       "texture error                       -0.119638       -0.128215   \n",
       "perimeter error                      0.554897        0.109930   \n",
       "area error                           0.538166        0.074126   \n",
       "smoothness error                    -0.102007       -0.107342   \n",
       "compactness error                    0.483208        0.277878   \n",
       "concavity error                      0.440472        0.197788   \n",
       "concave points error                 0.602450        0.143116   \n",
       "symmetry error                      -0.030413        0.389402   \n",
       "fractal dimension error              0.215204        0.111094   \n",
       "worst radius                         0.787424        0.243529   \n",
       "worst texture                        0.359755        0.233027   \n",
       "worst perimeter                      0.816322        0.269493   \n",
       "worst area                           0.747419        0.209146   \n",
       "worst smoothness                     0.547691        0.493838   \n",
       "worst compactness                    0.801080        0.614441   \n",
       "worst concavity                      0.855434        0.532520   \n",
       "worst concave points                 1.000000        0.502528   \n",
       "worst symmetry                       0.502528        1.000000   \n",
       "worst fractal dimension              0.511114        0.537848   \n",
       "target                               0.793566        0.416294   \n",
       "\n",
       "                         worst fractal dimension    target  \n",
       "mean radius                             0.007066  0.730029  \n",
       "mean texture                            0.119205  0.415185  \n",
       "mean perimeter                          0.051019  0.742636  \n",
       "mean area                               0.003738  0.708984  \n",
       "mean smoothness                         0.499316  0.358560  \n",
       "mean compactness                        0.687382  0.596534  \n",
       "mean concavity                          0.514930  0.696360  \n",
       "mean concave points                     0.368661  0.776614  \n",
       "mean symmetry                           0.438413  0.330499  \n",
       "mean fractal dimension                  0.767297 -0.012838  \n",
       "radius error                            0.049559  0.567134  \n",
       "texture error                          -0.045655 -0.008303  \n",
       "perimeter error                         0.085433  0.556141  \n",
       "area error                              0.017539  0.548236  \n",
       "smoothness error                        0.101480 -0.067016  \n",
       "compactness error                       0.590973  0.292999  \n",
       "concavity error                         0.439329  0.253730  \n",
       "concave points error                    0.310655  0.408042  \n",
       "symmetry error                          0.078079 -0.006522  \n",
       "fractal dimension error                 0.591328  0.077972  \n",
       "worst radius                            0.093492  0.776454  \n",
       "worst texture                           0.219122  0.456903  \n",
       "worst perimeter                         0.138957  0.782914  \n",
       "worst area                              0.079647  0.733825  \n",
       "worst smoothness                        0.617624  0.421465  \n",
       "worst compactness                       0.810455  0.590998  \n",
       "worst concavity                         0.686511  0.659610  \n",
       "worst concave points                    0.511114  0.793566  \n",
       "worst symmetry                          0.537848  0.416294  \n",
       "worst fractal dimension                 1.000000  0.323872  \n",
       "target                                  0.323872  1.000000  "
      ]
     },
     "execution_count": 34,
     "metadata": {},
     "output_type": "execute_result"
    }
   ],
   "source": [
    "# Code here\n",
    "df.corr()"
   ]
  },
  {
   "cell_type": "code",
   "execution_count": 35,
   "metadata": {},
   "outputs": [
    {
     "data": {
      "image/png": "[encoded data removed]",
      "text/plain": [
       "<Figure size 432x288 with 2 Axes>"
      ]
     },
     "metadata": {
      "needs_background": "light"
     },
     "output_type": "display_data"
    }
   ],
   "source": [
    "import seaborn as sns\n",
    "sns.heatmap(df.corr());"
   ]
  },
  {
   "cell_type": "markdown",
   "metadata": {},
   "source": [
    "The mean compactness and mean concavity have a relatively high correlation of 0.8831. Since this correlation is high and positive, we can say that they are directly and highly correlated. Furthermore we also have a very high positive correlation between worst radius and mean perimieter, with a correlation value of 0.969476. These two values can also be said to have a highly positive correlation between them. "
   ]
  },
  {
   "cell_type": "markdown",
   "metadata": {},
   "source": [
    "### Question 5 [5 points]\n",
    "**Train - Test split** \n",
    "- Use sklearn's `tran_test_split()` function to create the split.\n",
    "- Use `random_state = 55` to create consistent and repeatable train-test splits.\n",
    "\n",
    "- What is the proportion of cancer classes in train and test sets after splitting? Are they equal or very close to each other?\n",
    "- What is the importance of stratified sampling?"
   ]
  },
  {
   "cell_type": "code",
   "execution_count": 36,
   "metadata": {
    "colab": {},
    "colab_type": "code",
    "id": "51JqRqv2JnOY"
   },
   "outputs": [],
   "source": [
    "# split the datasets into training and test data\n",
    "X_train, X_test, y_train, y_test = train_test_split(X, y, stratify=y, random_state = 55, test_size= 0.25)"
   ]
  },
  {
   "cell_type": "code",
   "execution_count": 42,
   "metadata": {
    "scrolled": true
   },
   "outputs": [
    {
     "data": {
      "text/plain": [
       "0    0.626761\n",
       "1    0.373239\n",
       "Name: target, dtype: float64"
      ]
     },
     "execution_count": 42,
     "metadata": {},
     "output_type": "execute_result"
    }
   ],
   "source": [
    "# Code here\n",
    "y_train.value_counts(normalize=True)"
   ]
  },
  {
   "cell_type": "code",
   "execution_count": 43,
   "metadata": {
    "scrolled": true
   },
   "outputs": [
    {
     "data": {
      "text/plain": [
       "0    0.629371\n",
       "1    0.370629\n",
       "Name: target, dtype: float64"
      ]
     },
     "execution_count": 43,
     "metadata": {},
     "output_type": "execute_result"
    }
   ],
   "source": [
    "y_test.value_counts(normalize=True)"
   ]
  },
  {
   "cell_type": "markdown",
   "metadata": {},
   "source": [
    "The classes of Y will have similar distribution in test and train sets, if it is stratified on Y. As we can see above, this is true, as the proportions of 1's and 0's in y_train is similar to the proportions of those in y_test. "
   ]
  },
  {
   "cell_type": "markdown",
   "metadata": {},
   "source": [
    "Stratified Sampling is a type of sampling where a main population is split into subpopulations and sampled independently. This would help get better insights from each substrata and provide better precision in the information gathered. "
   ]
  },
  {
   "cell_type": "markdown",
   "metadata": {},
   "source": [
    "### Question 6 [10 points]"
   ]
  },
  {
   "cell_type": "markdown",
   "metadata": {},
   "source": [
    "- Initiate the logistic regression classifier from the sklearn library as shown below.\n",
    "- Fit the model\n",
    "- Make predictions\n",
    "- Calculate accuracy score. What are the **training** and **testing** accuracies of the model?\n",
    "- Create confusion matrix\n",
    "- Either calculate using the confusion matrix, or use the methods in `metrics` to get the following metrics on the testing set:\n",
    "     - Recall (Sensitivity)\n",
    "     - Specificity\n",
    "     - Precision\n",
    "     - False Positive Rate\n",
    "     - F1 Score"
   ]
  },
  {
   "cell_type": "code",
   "execution_count": 45,
   "metadata": {},
   "outputs": [],
   "source": [
    "from sklearn.linear_model import LogisticRegression"
   ]
  },
  {
   "cell_type": "code",
   "execution_count": 46,
   "metadata": {},
   "outputs": [],
   "source": [
    "clf = LogisticRegression(max_iter = 10000, solver='lbfgs', penalty='l2', C=0.1)"
   ]
  },
  {
   "cell_type": "code",
   "execution_count": 49,
   "metadata": {},
   "outputs": [
    {
     "data": {
      "text/plain": [
       "LogisticRegression(C=0.1, max_iter=10000)"
      ]
     },
     "execution_count": 49,
     "metadata": {},
     "output_type": "execute_result"
    }
   ],
   "source": [
    "clf.fit(X_train, y_train)"
   ]
  },
  {
   "cell_type": "code",
   "execution_count": 50,
   "metadata": {},
   "outputs": [
    {
     "data": {
      "text/plain": [
       "0.9413145539906104"
      ]
     },
     "execution_count": 50,
     "metadata": {},
     "output_type": "execute_result"
    }
   ],
   "source": [
    "pred = clf.predict(X_train)\n",
    "metrics.accuracy_score(y_true = y_train, y_pred = pred)"
   ]
  },
  {
   "cell_type": "code",
   "execution_count": 51,
   "metadata": {},
   "outputs": [
    {
     "data": {
      "text/plain": [
       "0.986013986013986"
      ]
     },
     "execution_count": 51,
     "metadata": {},
     "output_type": "execute_result"
    }
   ],
   "source": [
    "pred = clf.predict(X_test)\n",
    "metrics.accuracy_score(y_true = y_test, y_pred = pred)"
   ]
  },
  {
   "cell_type": "code",
   "execution_count": 53,
   "metadata": {
    "scrolled": true
   },
   "outputs": [
    {
     "data": {
      "text/plain": [
       "array([[89,  1],\n",
       "       [ 1, 52]])"
      ]
     },
     "execution_count": 53,
     "metadata": {},
     "output_type": "execute_result"
    }
   ],
   "source": [
    "# Code here\n",
    "from sklearn.metrics import confusion_matrix\n",
    "confusion_matrix(y_test, pred)"
   ]
  },
  {
   "cell_type": "code",
   "execution_count": 56,
   "metadata": {
    "scrolled": true
   },
   "outputs": [
    {
     "data": {
      "text/plain": [
       "0.9811320754716981"
      ]
     },
     "execution_count": 56,
     "metadata": {},
     "output_type": "execute_result"
    }
   ],
   "source": [
    "metrics.recall_score(y_test, pred)"
   ]
  },
  {
   "cell_type": "code",
   "execution_count": 57,
   "metadata": {},
   "outputs": [
    {
     "data": {
      "text/plain": [
       "0.9811320754716981"
      ]
     },
     "execution_count": 57,
     "metadata": {},
     "output_type": "execute_result"
    }
   ],
   "source": [
    "# specificity \n",
    "52/(52+1)"
   ]
  },
  {
   "cell_type": "code",
   "execution_count": 55,
   "metadata": {},
   "outputs": [
    {
     "data": {
      "text/plain": [
       "0.9811320754716981"
      ]
     },
     "execution_count": 55,
     "metadata": {},
     "output_type": "execute_result"
    }
   ],
   "source": [
    "import sklearn.metrics\n",
    "metrics.precision_score(y_test, pred)"
   ]
  },
  {
   "cell_type": "code",
   "execution_count": 58,
   "metadata": {},
   "outputs": [
    {
     "data": {
      "text/plain": [
       "0.018867924528301886"
      ]
     },
     "execution_count": 58,
     "metadata": {},
     "output_type": "execute_result"
    }
   ],
   "source": [
    "# false positive\n",
    "1/(1+52)"
   ]
  },
  {
   "cell_type": "code",
   "execution_count": 59,
   "metadata": {},
   "outputs": [
    {
     "data": {
      "text/plain": [
       "0.9811320754716981"
      ]
     },
     "execution_count": 59,
     "metadata": {},
     "output_type": "execute_result"
    }
   ],
   "source": [
    "# f1 score\n",
    "metrics.f1_score(y_test, pred)"
   ]
  },
  {
   "cell_type": "markdown",
   "metadata": {},
   "source": [
    "### Question 7 [10 points]"
   ]
  },
  {
   "cell_type": "markdown",
   "metadata": {},
   "source": [
    "- Initiate the k-nearest neighbours classifier from the sklearn library with n_neighbors=1. Keep the remaining parameters with their default values. (No need to specify anything)\n",
    "- Fit the model\n",
    "- Make predictions\n",
    "- Calculate accuracy score. What are the **training** and **testing** accuracies of the model?\n",
    "- Create confusion matrix\n",
    "- Either calculate using the confusion matrix, or using the methods in `metrics` to get the following metrics on the testing set:\n",
    "     - Recall (Sensitivity)\n",
    "     - Specificity\n",
    "     - Precision\n",
    "     - F1 Score"
   ]
  },
  {
   "cell_type": "code",
   "execution_count": 66,
   "metadata": {},
   "outputs": [
    {
     "data": {
      "text/plain": [
       "KNeighborsClassifier(n_neighbors=1)"
      ]
     },
     "execution_count": 66,
     "metadata": {},
     "output_type": "execute_result"
    }
   ],
   "source": [
    "# Code here\n",
    "from sklearn.neighbors import KNeighborsClassifier\n",
    "knn = KNeighborsClassifier(n_neighbors=1)\n",
    "knn.fit(X_train, y_train)"
   ]
  },
  {
   "cell_type": "code",
   "execution_count": 73,
   "metadata": {},
   "outputs": [
    {
     "data": {
      "text/plain": [
       "1.0"
      ]
     },
     "execution_count": 73,
     "metadata": {},
     "output_type": "execute_result"
    }
   ],
   "source": [
    "knn_pred = knn.predict(X_train)\n",
    "metrics.accuracy_score(y_true = y_train, y_pred = knn_pred)"
   ]
  },
  {
   "cell_type": "code",
   "execution_count": 87,
   "metadata": {},
   "outputs": [
    {
     "data": {
      "text/plain": [
       "0.9440559440559441"
      ]
     },
     "execution_count": 87,
     "metadata": {},
     "output_type": "execute_result"
    }
   ],
   "source": [
    "knn_pred_test = knn.predict(X_test)\n",
    "metrics.accuracy_score(y_true=y_test, y_pred=knn_pred_y)"
   ]
  },
  {
   "cell_type": "code",
   "execution_count": 88,
   "metadata": {
    "scrolled": true
   },
   "outputs": [
    {
     "data": {
      "text/plain": [
       "array([[86,  4],\n",
       "       [ 4, 49]])"
      ]
     },
     "execution_count": 88,
     "metadata": {},
     "output_type": "execute_result"
    }
   ],
   "source": [
    "# confusion matrix \n",
    "confusion_matrix(y_test, knn_pred_test)"
   ]
  },
  {
   "cell_type": "code",
   "execution_count": 91,
   "metadata": {
    "scrolled": true
   },
   "outputs": [
    {
     "data": {
      "text/plain": [
       "0.9245283018867925"
      ]
     },
     "execution_count": 91,
     "metadata": {},
     "output_type": "execute_result"
    }
   ],
   "source": [
    "metrics.recall_score(y_test, knn_pred_test)"
   ]
  },
  {
   "cell_type": "code",
   "execution_count": 90,
   "metadata": {
    "scrolled": true
   },
   "outputs": [
    {
     "data": {
      "text/plain": [
       "0.9245283018867925"
      ]
     },
     "execution_count": 90,
     "metadata": {},
     "output_type": "execute_result"
    }
   ],
   "source": [
    "# specificity \n",
    "49/(49+4)"
   ]
  },
  {
   "cell_type": "code",
   "execution_count": 92,
   "metadata": {
    "scrolled": true
   },
   "outputs": [
    {
     "data": {
      "text/plain": [
       "0.9245283018867925"
      ]
     },
     "execution_count": 92,
     "metadata": {},
     "output_type": "execute_result"
    }
   ],
   "source": [
    "# precision\n",
    "metrics.precision_score(y_test, knn_pred_test)"
   ]
  },
  {
   "cell_type": "code",
   "execution_count": 93,
   "metadata": {
    "scrolled": true
   },
   "outputs": [
    {
     "data": {
      "text/plain": [
       "0.9245283018867925"
      ]
     },
     "execution_count": 93,
     "metadata": {},
     "output_type": "execute_result"
    }
   ],
   "source": [
    "# f1 score\n",
    "metrics.f1_score(y_test, knn_pred_test)"
   ]
  },
  {
   "cell_type": "code",
   "execution_count": null,
   "metadata": {},
   "outputs": [],
   "source": []
  },
  {
   "cell_type": "markdown",
   "metadata": {},
   "source": [
    "### Question 8 [10 points]"
   ]
  },
  {
   "cell_type": "markdown",
   "metadata": {},
   "source": [
    "- Initiate the Gaussian Naive Bayes classifier from the sklearn library. Keep all parameters with their default values. (No need to specify anything)\n",
    "- Fit the model\n",
    "- Make predictions\n",
    "- Calculate accuracy score. What are the **training** and **testing** accuracies of the model?\n",
    "- Create confusion matrix\n",
    "- Either calculate using the confusion matrix, or using the methods in `metrics` to get the following metrics on the testing set:\n",
    "     - Recall (Sensitivity)\n",
    "     - Specificity\n",
    "     - Precision\n",
    "     - F1 Score"
   ]
  },
  {
   "cell_type": "code",
   "execution_count": 81,
   "metadata": {},
   "outputs": [
    {
     "data": {
      "text/plain": [
       "GaussianNB()"
      ]
     },
     "execution_count": 81,
     "metadata": {},
     "output_type": "execute_result"
    }
   ],
   "source": [
    "# Code here\n",
    "from sklearn.naive_bayes import GaussianNB\n",
    "n_bayes = GaussianNB()\n",
    "n_bayes.fit(X_train, y_train)"
   ]
  },
  {
   "cell_type": "code",
   "execution_count": 83,
   "metadata": {
    "scrolled": true
   },
   "outputs": [
    {
     "data": {
      "text/plain": [
       "0.9366197183098591"
      ]
     },
     "execution_count": 83,
     "metadata": {},
     "output_type": "execute_result"
    }
   ],
   "source": [
    "nb_pred = n_bayes.predict(X_train)\n",
    "metrics.accuracy_score(y_true = y_train, y_pred = nb_pred)"
   ]
  },
  {
   "cell_type": "code",
   "execution_count": 84,
   "metadata": {
    "scrolled": true
   },
   "outputs": [
    {
     "data": {
      "text/plain": [
       "0.958041958041958"
      ]
     },
     "execution_count": 84,
     "metadata": {},
     "output_type": "execute_result"
    }
   ],
   "source": [
    "nb_pred_test = n_bayes.predict(X_test)\n",
    "metrics.accuracy_score(y_true = y_test, y_pred = nb_pred_test)"
   ]
  },
  {
   "cell_type": "code",
   "execution_count": 86,
   "metadata": {
    "scrolled": true
   },
   "outputs": [
    {
     "data": {
      "text/plain": [
       "array([[89,  1],\n",
       "       [ 5, 48]])"
      ]
     },
     "execution_count": 86,
     "metadata": {},
     "output_type": "execute_result"
    }
   ],
   "source": [
    "# confusion matrix \n",
    "confusion_matrix(y_test, nb_pred_test)"
   ]
  },
  {
   "cell_type": "code",
   "execution_count": 94,
   "metadata": {
    "scrolled": true
   },
   "outputs": [
    {
     "data": {
      "text/plain": [
       "0.9056603773584906"
      ]
     },
     "execution_count": 94,
     "metadata": {},
     "output_type": "execute_result"
    }
   ],
   "source": [
    "metrics.recall_score(y_test, nb_pred_test)"
   ]
  },
  {
   "cell_type": "code",
   "execution_count": 95,
   "metadata": {
    "scrolled": true
   },
   "outputs": [
    {
     "data": {
      "text/plain": [
       "0.9795918367346939"
      ]
     },
     "execution_count": 95,
     "metadata": {},
     "output_type": "execute_result"
    }
   ],
   "source": [
    "# specificity \n",
    "48/(48+1)"
   ]
  },
  {
   "cell_type": "code",
   "execution_count": 96,
   "metadata": {
    "scrolled": true
   },
   "outputs": [
    {
     "data": {
      "text/plain": [
       "0.9795918367346939"
      ]
     },
     "execution_count": 96,
     "metadata": {},
     "output_type": "execute_result"
    }
   ],
   "source": [
    "# precision\n",
    "metrics.precision_score(y_test, nb_pred_test)"
   ]
  },
  {
   "cell_type": "code",
   "execution_count": 97,
   "metadata": {},
   "outputs": [
    {
     "data": {
      "text/plain": [
       "0.9411764705882353"
      ]
     },
     "execution_count": 97,
     "metadata": {},
     "output_type": "execute_result"
    }
   ],
   "source": [
    "# f1 score\n",
    "metrics.f1_score(y_test, nb_pred_test)"
   ]
  },
  {
   "cell_type": "markdown",
   "metadata": {},
   "source": [
    "### Question 9 [10 points]"
   ]
  },
  {
   "cell_type": "markdown",
   "metadata": {},
   "source": [
    "In logistic regression keeping the other parameters constant try these values for C: `C_list = [0.0001, 0.0005, 0.001, 0.005, 0.01, 0.05, 0.1, 0.5, 1, 2, 10, 50, 100, 200, 500, 1000, 2000, 5000, 10000]`.  \n",
    "C is the inverse of the regularization parameter $\\lambda$. As C increases, the penalty decreases.\n",
    "- Create a loop and fit the models using each C value. \n",
    "- Make predictions\n",
    "- Calculate accuracy scores for **training** and **testing** datasets. Create a list of accuracy results for train and test accuracies. Show these lists.\n",
    "- Plot the validation curve based on each C value and the corresponding the train and test accuracies. \n",
    "> Create this curve yourself. Do not use sklearn built-in function."
   ]
  },
  {
   "cell_type": "code",
   "execution_count": 98,
   "metadata": {},
   "outputs": [],
   "source": [
    "C_list = [0.0001, 0.0005, 0.001, 0.005, 0.01, 0.05, 0.1, 0.5, 1, 2, 10, 50, 100, 200, 500, 1000, 2000, 5000, 10000]\n",
    "accuracy_train = []\n",
    "accuracy_test = []\n",
    "for C in C_list:\n",
    "    clf = LogisticRegression(max_iter = 10000, solver='lbfgs', penalty='l2', C=C)\n",
    "    # Code here\n",
    "    clf.fit(X_train, y_train)\n",
    "    log_pred_train = clf.predict(X_train)\n",
    "    accuracy_train.append(metrics.accuracy_score(y_true = y_train, y_pred = log_pred_train))\n",
    "    log_pred_test = clf.predict(X_test)\n",
    "    accuracy_test.append(metrics.accuracy_score(y_true=y_test, y_pred=log_pred_test))"
   ]
  },
  {
   "cell_type": "code",
   "execution_count": 99,
   "metadata": {},
   "outputs": [
    {
     "data": {
      "text/plain": [
       "[0.9248826291079812,\n",
       " 0.931924882629108,\n",
       " 0.9413145539906104,\n",
       " 0.9342723004694836,\n",
       " 0.9389671361502347,\n",
       " 0.9413145539906104,\n",
       " 0.9413145539906104,\n",
       " 0.9460093896713615,\n",
       " 0.9460093896713615,\n",
       " 0.9507042253521126,\n",
       " 0.9624413145539906,\n",
       " 0.9694835680751174,\n",
       " 0.9812206572769953,\n",
       " 0.9859154929577465,\n",
       " 0.9882629107981221,\n",
       " 0.9882629107981221,\n",
       " 0.9882629107981221,\n",
       " 0.9906103286384976,\n",
       " 0.9882629107981221]"
      ]
     },
     "execution_count": 99,
     "metadata": {},
     "output_type": "execute_result"
    }
   ],
   "source": [
    "accuracy_train"
   ]
  },
  {
   "cell_type": "code",
   "execution_count": 100,
   "metadata": {},
   "outputs": [
    {
     "data": {
      "text/plain": [
       "[0.9370629370629371,\n",
       " 0.958041958041958,\n",
       " 0.9790209790209791,\n",
       " 0.972027972027972,\n",
       " 0.972027972027972,\n",
       " 0.9790209790209791,\n",
       " 0.986013986013986,\n",
       " 0.993006993006993,\n",
       " 0.986013986013986,\n",
       " 0.993006993006993,\n",
       " 0.993006993006993,\n",
       " 0.986013986013986,\n",
       " 0.993006993006993,\n",
       " 0.993006993006993,\n",
       " 0.986013986013986,\n",
       " 0.9790209790209791,\n",
       " 0.9790209790209791,\n",
       " 0.972027972027972,\n",
       " 0.9790209790209791]"
      ]
     },
     "execution_count": 100,
     "metadata": {},
     "output_type": "execute_result"
    }
   ],
   "source": [
    "accuracy_test"
   ]
  },
  {
   "cell_type": "code",
   "execution_count": 102,
   "metadata": {},
   "outputs": [
    {
     "data": {
      "text/plain": [
       "[<matplotlib.lines.Line2D at 0x7fa1687cf070>]"
      ]
     },
     "execution_count": 102,
     "metadata": {},
     "output_type": "execute_result"
    },
    {
     "data": {
      "image/png": "[encoded data removed]",
      "text/plain": [
       "<Figure size 432x288 with 1 Axes>"
      ]
     },
     "metadata": {
      "needs_background": "light"
     },
     "output_type": "display_data"
    }
   ],
   "source": [
    "# Code here\n",
    "import matplotlib.pyplot as plt \n",
    "plt.plot(C_list, accuracy_train,\n",
    "     label = \"Training Score\", color = 'b')\n",
    "plt.plot(C_list, accuracy_test,\n",
    "     label = \"Testing Score\", color = 'r')\n"
   ]
  },
  {
   "cell_type": "markdown",
   "metadata": {},
   "source": [
    "### Question 10 [10 points]"
   ]
  },
  {
   "cell_type": "markdown",
   "metadata": {},
   "source": [
    "In K Nearest Neighbors keeping the other parameters constant try these values for K (n_neighbors): `K_list = [1,3,5,7,9,15,19,25,29,35,39,45,49,99]`.  \n",
    "- Create a loop and fit the models using each K value. \n",
    "- Make predictions\n",
    "- Calculate accuracy scores for **training** and **testing** datasets. Create a list of accuracy results for train and test accuracies. Show these lists.\n",
    "- Create the validation curve based on each K value and the corresponding the train and test accuracies. \n",
    "> Create this curve yourself. Do not use sklearn built-in function."
   ]
  },
  {
   "cell_type": "code",
   "execution_count": 103,
   "metadata": {},
   "outputs": [],
   "source": [
    "K_list = [1,3,5,7,9,15,19,25,29,35,39,45,49,99]\n",
    "accuracy_train = []\n",
    "accuracy_test = []\n",
    "for K in K_list:\n",
    "    clf = KNeighborsClassifier(n_neighbors=K)\n",
    "    # Code here\n",
    "    clf.fit(X_train, y_train)\n",
    "    knn_train = clf.predict(X_train)\n",
    "    accuracy_train.append(metrics.accuracy_score(y_true = y_train, y_pred = knn_train))\n",
    "    knn_test = clf.predict(X_test)\n",
    "    accuracy_test.append(metrics.accuracy_score(y_true=y_test, y_pred=knn_test))"
   ]
  },
  {
   "cell_type": "code",
   "execution_count": 104,
   "metadata": {},
   "outputs": [
    {
     "data": {
      "text/plain": [
       "[1.0,\n",
       " 0.9483568075117371,\n",
       " 0.9460093896713615,\n",
       " 0.9389671361502347,\n",
       " 0.931924882629108,\n",
       " 0.9248826291079812,\n",
       " 0.9272300469483568,\n",
       " 0.9248826291079812,\n",
       " 0.9225352112676056,\n",
       " 0.9225352112676056,\n",
       " 0.9225352112676056,\n",
       " 0.9131455399061033,\n",
       " 0.9084507042253521,\n",
       " 0.9014084507042254]"
      ]
     },
     "execution_count": 104,
     "metadata": {},
     "output_type": "execute_result"
    }
   ],
   "source": [
    "# accuracy_train\n",
    "accuracy_train"
   ]
  },
  {
   "cell_type": "code",
   "execution_count": 105,
   "metadata": {},
   "outputs": [
    {
     "data": {
      "text/plain": [
       "[0.9440559440559441,\n",
       " 0.965034965034965,\n",
       " 0.9370629370629371,\n",
       " 0.9440559440559441,\n",
       " 0.9370629370629371,\n",
       " 0.9440559440559441,\n",
       " 0.9440559440559441,\n",
       " 0.9370629370629371,\n",
       " 0.9370629370629371,\n",
       " 0.9370629370629371,\n",
       " 0.9300699300699301,\n",
       " 0.9230769230769231,\n",
       " 0.9300699300699301,\n",
       " 0.9090909090909091]"
      ]
     },
     "execution_count": 105,
     "metadata": {},
     "output_type": "execute_result"
    }
   ],
   "source": [
    "# accuracy_test\n",
    "accuracy_test"
   ]
  },
  {
   "cell_type": "code",
   "execution_count": 106,
   "metadata": {},
   "outputs": [
    {
     "data": {
      "text/plain": [
       "[<matplotlib.lines.Line2D at 0x7fa1883d4eb0>]"
      ]
     },
     "execution_count": 106,
     "metadata": {},
     "output_type": "execute_result"
    },
    {
     "data": {
      "image/png": "[encoded data removed]",
      "text/plain": [
       "<Figure size 432x288 with 1 Axes>"
      ]
     },
     "metadata": {
      "needs_background": "light"
     },
     "output_type": "display_data"
    }
   ],
   "source": [
    "# Code here\n",
    "import matplotlib.pyplot as plt \n",
    "plt.plot(K_list, accuracy_train,\n",
    "     label = \"Training Score\", color = 'b')\n",
    "plt.plot(K_list, accuracy_test,\n",
    "     label = \"Testing Score\", color = 'r')"
   ]
  },
  {
   "cell_type": "markdown",
   "metadata": {},
   "source": [
    "### Question 11 [10 points]"
   ]
  },
  {
   "cell_type": "markdown",
   "metadata": {},
   "source": [
    "- The validation curve for logistic regression seems a bit weird. That might have to do with the fact that the data is not normalized.\n",
    "- Apply standardization to the data and re-do Quesion 9 and plot the validation curve for logistic regression models with same parameter range for C. \n",
    "- Plot the validation curve. What do you see? \n",
    "- Which value would you choose for C in logistic regression? Why?"
   ]
  },
  {
   "cell_type": "code",
   "execution_count": 109,
   "metadata": {},
   "outputs": [],
   "source": [
    "from sklearn import preprocessing"
   ]
  },
  {
   "cell_type": "code",
   "execution_count": 110,
   "metadata": {},
   "outputs": [],
   "source": [
    "ss = preprocessing.StandardScaler()\n",
    "X_train_ss = ss.fit_transform(X_train)\n",
    "X_test_ss = ss.transform(X_test)"
   ]
  },
  {
   "cell_type": "code",
   "execution_count": 111,
   "metadata": {},
   "outputs": [],
   "source": [
    "# Code here\n",
    "C_list = [0.0001, 0.0005, 0.001, 0.005, 0.01, 0.05, 0.1, 0.5, 1, 2, 10, 50, 100, 200, 500, 1000, 2000, 5000, 10000]\n",
    "accuracy_train = []\n",
    "accuracy_test = []\n",
    "for C in C_list:\n",
    "    clf = LogisticRegression(max_iter = 10000, solver='lbfgs', penalty='l2', C=C)\n",
    "    clf.fit(X_train_ss, y_train)\n",
    "    log_pred_train = clf.predict(X_train_ss)\n",
    "    accuracy_train.append(metrics.accuracy_score(y_true = y_train, y_pred = log_pred_train))\n",
    "    log_pred_test = clf.predict(X_test_ss)\n",
    "    accuracy_test.append(metrics.accuracy_score(y_true=y_test, y_pred=log_pred_test))"
   ]
  },
  {
   "cell_type": "code",
   "execution_count": 112,
   "metadata": {
    "scrolled": true
   },
   "outputs": [
    {
     "data": {
      "text/plain": [
       "[0.6455399061032864,\n",
       " 0.8356807511737089,\n",
       " 0.8849765258215962,\n",
       " 0.9460093896713615,\n",
       " 0.9483568075117371,\n",
       " 0.9788732394366197,\n",
       " 0.9835680751173709,\n",
       " 0.9906103286384976,\n",
       " 0.9906103286384976,\n",
       " 0.9929577464788732,\n",
       " 0.9929577464788732,\n",
       " 0.9929577464788732,\n",
       " 0.9929577464788732,\n",
       " 0.9953051643192489,\n",
       " 0.9976525821596244,\n",
       " 0.9976525821596244,\n",
       " 1.0,\n",
       " 1.0,\n",
       " 1.0]"
      ]
     },
     "execution_count": 112,
     "metadata": {},
     "output_type": "execute_result"
    }
   ],
   "source": [
    "accuracy_train"
   ]
  },
  {
   "cell_type": "code",
   "execution_count": 113,
   "metadata": {},
   "outputs": [
    {
     "data": {
      "text/plain": [
       "[0.6363636363636364,\n",
       " 0.8671328671328671,\n",
       " 0.9300699300699301,\n",
       " 0.965034965034965,\n",
       " 0.965034965034965,\n",
       " 0.9790209790209791,\n",
       " 0.986013986013986,\n",
       " 0.986013986013986,\n",
       " 0.9790209790209791,\n",
       " 0.9790209790209791,\n",
       " 0.9790209790209791,\n",
       " 0.972027972027972,\n",
       " 0.972027972027972,\n",
       " 0.972027972027972,\n",
       " 0.972027972027972,\n",
       " 0.965034965034965,\n",
       " 0.965034965034965,\n",
       " 0.965034965034965,\n",
       " 0.965034965034965]"
      ]
     },
     "execution_count": 113,
     "metadata": {},
     "output_type": "execute_result"
    }
   ],
   "source": [
    "accuracy_test"
   ]
  },
  {
   "cell_type": "code",
   "execution_count": 121,
   "metadata": {
    "scrolled": true
   },
   "outputs": [
    {
     "data": {
      "text/plain": [
       "[<matplotlib.lines.Line2D at 0x7fa17c078bb0>]"
      ]
     },
     "execution_count": 121,
     "metadata": {},
     "output_type": "execute_result"
    },
    {
     "data": {
      "image/png": "[encoded data removed]",
      "text/plain": [
       "<Figure size 432x288 with 1 Axes>"
      ]
     },
     "metadata": {
      "needs_background": "light"
     },
     "output_type": "display_data"
    }
   ],
   "source": [
    "plt.plot(C_list, accuracy_train,\n",
    "     label = \"Training Score\", color = 'b')\n",
    "plt.plot(C_list, accuracy_test,\n",
    "     label = \"Testing Score\", color = 'r')\n",
    "# plt.axis([-10, 25, 0.60, 1.5])"
   ]
  },
  {
   "cell_type": "markdown",
   "metadata": {},
   "source": [
    "0.01 would be the ideal value for 'C', since after this the test accuracy begins to fall. "
   ]
  },
  {
   "cell_type": "markdown",
   "metadata": {},
   "source": [
    "### Question 12 [5 points]"
   ]
  },
  {
   "cell_type": "code",
   "execution_count": 119,
   "metadata": {},
   "outputs": [
    {
     "data": {
      "text/plain": [
       "(426, 30)"
      ]
     },
     "execution_count": 119,
     "metadata": {},
     "output_type": "execute_result"
    }
   ],
   "source": [
    "X_train_ss.shape"
   ]
  },
  {
   "cell_type": "code",
   "execution_count": 120,
   "metadata": {},
   "outputs": [
    {
     "data": {
      "text/plain": [
       "(426, 30)"
      ]
     },
     "execution_count": 120,
     "metadata": {},
     "output_type": "execute_result"
    }
   ],
   "source": [
    "X_train_ss[0:426,:].shape"
   ]
  },
  {
   "cell_type": "markdown",
   "metadata": {},
   "source": [
    "- After choosing your best C value, let's check the learning curve.\n",
    "- Create a logistic regression model of your chosen C value, and the other parameters the same as before.\n",
    "- Starting from 1 data point in the training set, increase your training set size by 1 point in each iteration, fit the model, get the accuracy scores for both the current training and test sets.\n",
    "- Increase the training set size consecutively. Do not randomly select data points. (`X_train_ss[0:N,:] where N = {1,2,3,...,len(X_train_ss)}`)\n",
    "- Plot the learning curve. What do you see? Comment on your finding. "
   ]
  },
  {
   "cell_type": "code",
   "execution_count": null,
   "metadata": {},
   "outputs": [],
   "source": [
    "X_train_ss.shape"
   ]
  },
  {
   "cell_type": "code",
   "execution_count": 124,
   "metadata": {},
   "outputs": [],
   "source": [
    "# Code here\n",
    "accuracy_train = []\n",
    "accuracy_test = []\n",
    "for i in range(2, len(X_train_ss)):\n",
    "    clf = LogisticRegression(max_iter = 10000, solver='lbfgs', penalty='l2', C=0.01)\n",
    "    xtrainss = X_train_ss[0:i,:]\n",
    "    ytrainss = y_train[0:i]\n",
    "    clf.fit(xtrainss, ytrainss)\n",
    "    log_pred_train = clf.predict(xtrainss)\n",
    "    accuracy_train.append(metrics.accuracy_score(y_true = ytrainss, y_pred = log_pred_train))\n",
    "    log_pred_test = clf.predict(X_test_ss)\n",
    "    accuracy_test.append(metrics.accuracy_score(y_true=y_test, y_pred=log_pred_test))"
   ]
  },
  {
   "cell_type": "code",
   "execution_count": 128,
   "metadata": {
    "scrolled": true
   },
   "outputs": [
    {
     "data": {
      "text/plain": [
       "[<matplotlib.lines.Line2D at 0x7fa17c1881c0>]"
      ]
     },
     "execution_count": 128,
     "metadata": {},
     "output_type": "execute_result"
    },
    {
     "data": {
      "image/png": "[encoded data removed]",
      "text/plain": [
       "<Figure size 432x288 with 1 Axes>"
      ]
     },
     "metadata": {
      "needs_background": "light"
     },
     "output_type": "display_data"
    }
   ],
   "source": [
    "plt.plot(range(2, len(X_train_ss)), accuracy_train,\n",
    "     label = \"Training Score\", color = 'b')\n",
    "plt.plot(range(2, len(X_train_ss)), accuracy_test,\n",
    "     label = \"Testing Score\", color = 'r')"
   ]
  },
  {
   "cell_type": "markdown",
   "metadata": {},
   "source": [
    "In this case, as the number of observations increase, the training and testing accuracies also increase. We see that after 100 observations, the accuracy curves begin to flatten out, which means that increasing the observations after this amount would not make a massive difference in the accuracies of the training and testing sets. Any data above 100 would be ideal number of observations for training. "
   ]
  },
  {
   "cell_type": "markdown",
   "metadata": {},
   "source": [
    "### Question 13 [5 points]"
   ]
  },
  {
   "cell_type": "markdown",
   "metadata": {},
   "source": [
    "- Before applying KNN, it is important to scale the features. \n",
    "- Use the standardized train and test sets re-do Quesion 10 and plot the validation curve for KNN models with same parameter range for K. \n",
    "- Plot the validation curve. What do you see? \n",
    "- Which value would you choose for K in nearest neighbor model?"
   ]
  },
  {
   "cell_type": "code",
   "execution_count": 133,
   "metadata": {},
   "outputs": [],
   "source": [
    "# Code here\n",
    "K_list = [1,3,5,7,9,15,19,25,29,35,39,45,49,99]\n",
    "accuracy_train_ss = []\n",
    "accuracy_test_ss = []\n",
    "for K in K_list:\n",
    "    clf = KNeighborsClassifier(n_neighbors=K)\n",
    "    clf.fit(X_train_ss, y_train)\n",
    "    knn_train_ss = clf.predict(X_train_ss)\n",
    "    accuracy_train_ss.append(metrics.accuracy_score(y_true = y_train, y_pred = knn_train_ss))\n",
    "    knn_test_ss = clf.predict(X_test_ss)\n",
    "    accuracy_test_ss.append(metrics.accuracy_score(y_true=y_test, y_pred=knn_test_ss))"
   ]
  },
  {
   "cell_type": "code",
   "execution_count": 134,
   "metadata": {},
   "outputs": [
    {
     "data": {
      "text/plain": [
       "[1.0,\n",
       " 0.9835680751173709,\n",
       " 0.9788732394366197,\n",
       " 0.971830985915493,\n",
       " 0.971830985915493,\n",
       " 0.9577464788732394,\n",
       " 0.960093896713615,\n",
       " 0.9530516431924883,\n",
       " 0.9483568075117371,\n",
       " 0.9530516431924883,\n",
       " 0.9530516431924883,\n",
       " 0.9460093896713615,\n",
       " 0.9483568075117371,\n",
       " 0.9248826291079812]"
      ]
     },
     "execution_count": 134,
     "metadata": {},
     "output_type": "execute_result"
    }
   ],
   "source": [
    " accuracy_train_ss"
   ]
  },
  {
   "cell_type": "code",
   "execution_count": 135,
   "metadata": {},
   "outputs": [
    {
     "data": {
      "text/plain": [
       "[0.951048951048951,\n",
       " 0.965034965034965,\n",
       " 0.972027972027972,\n",
       " 0.972027972027972,\n",
       " 0.9790209790209791,\n",
       " 0.972027972027972,\n",
       " 0.972027972027972,\n",
       " 0.965034965034965,\n",
       " 0.965034965034965,\n",
       " 0.972027972027972,\n",
       " 0.972027972027972,\n",
       " 0.972027972027972,\n",
       " 0.965034965034965,\n",
       " 0.951048951048951]"
      ]
     },
     "execution_count": 135,
     "metadata": {},
     "output_type": "execute_result"
    }
   ],
   "source": [
    " accuracy_test_ss"
   ]
  },
  {
   "cell_type": "code",
   "execution_count": 136,
   "metadata": {},
   "outputs": [
    {
     "data": {
      "text/plain": [
       "[<matplotlib.lines.Line2D at 0x7fa17c615220>]"
      ]
     },
     "execution_count": 136,
     "metadata": {},
     "output_type": "execute_result"
    },
    {
     "data": {
      "image/png": "[encoded data removed]",
      "text/plain": [
       "<Figure size 432x288 with 1 Axes>"
      ]
     },
     "metadata": {
      "needs_background": "light"
     },
     "output_type": "display_data"
    }
   ],
   "source": [
    "# Code here\n",
    "plt.plot(K_list, accuracy_train,\n",
    "     label = \"Training Score\", color = 'b')\n",
    "plt.plot(K_list, accuracy_test,\n",
    "     label = \"Testing Score\", color = 'r')"
   ]
  },
  {
   "cell_type": "markdown",
   "metadata": {},
   "source": [
    "The ideal value of K from this graph would be 9, since it corresponds to the the highest accuracy for the testing set, at 0.97902 or 97.9% accuracy. "
   ]
  },
  {
   "cell_type": "markdown",
   "metadata": {},
   "source": [
    "### Question 14 [10 points]\n",
    "- Using only the classifier models of logistic regression, Gaussian Naive Bayes, or KNN models:\n",
    "    - Think of other ways of improving the accuracy and list at least two possibilities.\n",
    "    - Implement one of the methods you proposed. \n",
    "    - Is the model accuracy increasing? Why do you think this might have helped?\n",
    "    - If it not increasing, try the other method you proposed. Why do you think this might have helped?\n",
    "    - If none of them did not improve, comment on why this might have been the case.\n",
    "    - If you have time try a few more solutions and see which one works. "
   ]
  },
  {
   "cell_type": "code",
   "execution_count": 140,
   "metadata": {},
   "outputs": [],
   "source": [
    "# Code here\n",
    "# trying elastic net instead of l2 (ridge regression)\n",
    "# elastic net helps when there is potential overfitting with ridge regression\n",
    "clf = LogisticRegression(max_iter = 10000, solver='saga', penalty='elasticnet', C=0.01, l1_ratio=0.5)\n",
    "clf.fit(X_train, y_train)\n",
    "log_pred_train = clf.predict(X_train)\n",
    "accuracy_train = metrics.accuracy_score(y_true = y_train, y_pred = log_pred_train)\n",
    "log_pred_test = clf.predict(X_test)\n",
    "accuracy_test = metrics.accuracy_score(y_true=y_test, y_pred=log_pred_test)"
   ]
  },
  {
   "cell_type": "code",
   "execution_count": 141,
   "metadata": {
    "scrolled": true
   },
   "outputs": [
    {
     "data": {
      "text/plain": [
       "0.9248826291079812"
      ]
     },
     "execution_count": 141,
     "metadata": {},
     "output_type": "execute_result"
    }
   ],
   "source": [
    "accuracy_train"
   ]
  },
  {
   "cell_type": "code",
   "execution_count": 142,
   "metadata": {
    "scrolled": true
   },
   "outputs": [
    {
     "data": {
      "text/plain": [
       "0.9230769230769231"
      ]
     },
     "execution_count": 142,
     "metadata": {},
     "output_type": "execute_result"
    }
   ],
   "source": [
    "accuracy_test"
   ]
  },
  {
   "cell_type": "markdown",
   "metadata": {},
   "source": [
    "Elastic Net Regression is a combination of L1 and L2 (ridge and lasso regression) and in this case, it has provided a lower accuracy for training (92.4%) and testing (92.3%) compared to the highest accuracy of the training and testing with ridge regression which sat at 99% for both of them. "
   ]
  },
  {
   "cell_type": "code",
   "execution_count": 143,
   "metadata": {},
   "outputs": [],
   "source": [
    "from sklearn.preprocessing import MinMaxScaler\n",
    "scaler = MinMaxScaler()\n",
    "X_train_mm = scaler.fit_transform(X_train)\n",
    "X_test_mm = scaler.transform(X_test)"
   ]
  },
  {
   "cell_type": "code",
   "execution_count": 144,
   "metadata": {},
   "outputs": [],
   "source": [
    "clf = KNeighborsClassifier(n_neighbors=9)\n",
    "clf.fit(X_train_mm, y_train)\n",
    "knn_train_mm = clf.predict(X_train_mm)\n",
    "accuracy_train_mm = metrics.accuracy_score(y_true = y_train, y_pred = knn_train_mm)\n",
    "knn_test_mm = clf.predict(X_test_mm)\n",
    "accuracy_test_mm = metrics.accuracy_score(y_true=y_test, y_pred=knn_test_mm)"
   ]
  },
  {
   "cell_type": "code",
   "execution_count": 145,
   "metadata": {
    "scrolled": true
   },
   "outputs": [
    {
     "data": {
      "text/plain": [
       "0.9765258215962441"
      ]
     },
     "execution_count": 145,
     "metadata": {},
     "output_type": "execute_result"
    }
   ],
   "source": [
    "accuracy_train_mm"
   ]
  },
  {
   "cell_type": "code",
   "execution_count": 146,
   "metadata": {
    "scrolled": true
   },
   "outputs": [
    {
     "data": {
      "text/plain": [
       "0.9790209790209791"
      ]
     },
     "execution_count": 146,
     "metadata": {},
     "output_type": "execute_result"
    }
   ],
   "source": [
    "accuracy_test_mm"
   ]
  },
  {
   "cell_type": "markdown",
   "metadata": {},
   "source": [
    "For K=9 the accuracy between using minmax Scaler and using regular scaling has increased from 0.948 with regular scaling to 0.976 with minmax scaling for the training set and 0.965 to 0.979 for the testing set. This shows a clear increase in the accuracy of the model at K=9 while using minmax scaling. Standard scaling scales everything to a unit variance, essentially centering all values around the mean as opposed to minmax scaling which keeps the distance of the values intact. The separation with the minmax scaling is better compared to the standard scaling for KNN which is based on distance between neighbors. "
   ]
  }
 ],
 "metadata": {
  "colab": {
   "collapsed_sections": [],
   "name": "Copy of Multiclass Classification.ipynb",
   "provenance": [],
   "version": "0.3.2"
  },
  "kernelspec": {
   "display_name": "Python 3 (ipykernel)",
   "language": "python",
   "name": "python3"
  },
  "language_info": {
   "codemirror_mode": {
    "name": "ipython",
    "version": 3
   },
   "file_extension": ".py",
   "mimetype": "text/x-python",
   "name": "python",
   "nbconvert_exporter": "python",
   "pygments_lexer": "ipython3",
   "version": "3.9.7"
  },
  "toc": {
   "base_numbering": 1,
   "nav_menu": {},
   "number_sections": false,
   "sideBar": false,
   "skip_h1_title": false,
   "title_cell": "Table of Contents",
   "title_sidebar": "Contents",
   "toc_cell": false,
   "toc_position": {},
   "toc_section_display": false,
   "toc_window_display": false
  }
 },
 "nbformat": 4,
 "nbformat_minor": 1
}
