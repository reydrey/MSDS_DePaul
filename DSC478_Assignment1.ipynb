{
 "cells": [
  {
   "cell_type": "code",
   "execution_count": null,
   "id": "2d5a7ce9",
   "metadata": {},
   "outputs": [],
   "source": [
    "# DSC 478 \n",
    "# Assignment 1\n",
    "# Shreyas Ravi"
   ]
  },
  {
   "cell_type": "code",
   "execution_count": 2,
   "id": "87b0f29a",
   "metadata": {},
   "outputs": [],
   "source": [
    "# Question (1)\n",
    "import pandas as pd\n",
    "import numpy as np\n",
    "import seaborn as sns\n",
    "df1 = pd.read_csv('adult-modified.csv')"
   ]
  },
  {
   "cell_type": "code",
   "execution_count": 3,
   "id": "962db1c9",
   "metadata": {
    "scrolled": true
   },
   "outputs": [
    {
     "data": {
      "text/html": [
       "<div>\n",
       "<style scoped>\n",
       "    .dataframe tbody tr th:only-of-type {\n",
       "        vertical-align: middle;\n",
       "    }\n",
       "\n",
       "    .dataframe tbody tr th {\n",
       "        vertical-align: top;\n",
       "    }\n",
       "\n",
       "    .dataframe thead th {\n",
       "        text-align: right;\n",
       "    }\n",
       "</style>\n",
       "<table border=\"1\" class=\"dataframe\">\n",
       "  <thead>\n",
       "    <tr style=\"text-align: right;\">\n",
       "      <th></th>\n",
       "      <th>age</th>\n",
       "      <th>workclass</th>\n",
       "      <th>education</th>\n",
       "      <th>marital-status</th>\n",
       "      <th>race</th>\n",
       "      <th>sex</th>\n",
       "      <th>hours-per-week</th>\n",
       "      <th>income</th>\n",
       "    </tr>\n",
       "  </thead>\n",
       "  <tbody>\n",
       "    <tr>\n",
       "      <th>0</th>\n",
       "      <td>39</td>\n",
       "      <td>Public</td>\n",
       "      <td>13</td>\n",
       "      <td>Single</td>\n",
       "      <td>White</td>\n",
       "      <td>Male</td>\n",
       "      <td>40</td>\n",
       "      <td>&lt;=50K</td>\n",
       "    </tr>\n",
       "    <tr>\n",
       "      <th>1</th>\n",
       "      <td>50</td>\n",
       "      <td>Self-emp</td>\n",
       "      <td>13</td>\n",
       "      <td>Married</td>\n",
       "      <td>White</td>\n",
       "      <td>Male</td>\n",
       "      <td>13</td>\n",
       "      <td>&lt;=50K</td>\n",
       "    </tr>\n",
       "    <tr>\n",
       "      <th>2</th>\n",
       "      <td>38</td>\n",
       "      <td>Private</td>\n",
       "      <td>9</td>\n",
       "      <td>Single</td>\n",
       "      <td>White</td>\n",
       "      <td>Male</td>\n",
       "      <td>40</td>\n",
       "      <td>&lt;=50K</td>\n",
       "    </tr>\n",
       "    <tr>\n",
       "      <th>3</th>\n",
       "      <td>53</td>\n",
       "      <td>Private</td>\n",
       "      <td>7</td>\n",
       "      <td>Married</td>\n",
       "      <td>Black</td>\n",
       "      <td>Male</td>\n",
       "      <td>40</td>\n",
       "      <td>&lt;=50K</td>\n",
       "    </tr>\n",
       "    <tr>\n",
       "      <th>4</th>\n",
       "      <td>28</td>\n",
       "      <td>Private</td>\n",
       "      <td>13</td>\n",
       "      <td>Married</td>\n",
       "      <td>Black</td>\n",
       "      <td>Female</td>\n",
       "      <td>40</td>\n",
       "      <td>&lt;=50K</td>\n",
       "    </tr>\n",
       "  </tbody>\n",
       "</table>\n",
       "</div>"
      ],
      "text/plain": [
       "   age workclass  education marital-status   race     sex  hours-per-week  \\\n",
       "0   39    Public         13         Single  White    Male              40   \n",
       "1   50  Self-emp         13        Married  White    Male              13   \n",
       "2   38   Private          9         Single  White    Male              40   \n",
       "3   53   Private          7        Married  Black    Male              40   \n",
       "4   28   Private         13        Married  Black  Female              40   \n",
       "\n",
       "  income  \n",
       "0  <=50K  \n",
       "1  <=50K  \n",
       "2  <=50K  \n",
       "3  <=50K  \n",
       "4  <=50K  "
      ]
     },
     "execution_count": 3,
     "metadata": {},
     "output_type": "execute_result"
    }
   ],
   "source": [
    "# examine means and standard deviations \n",
    "# examine frequencies associated with categorical variables\n",
    "df1.head()"
   ]
  },
  {
   "cell_type": "code",
   "execution_count": 8,
   "id": "18edb3b5",
   "metadata": {
    "scrolled": true
   },
   "outputs": [
    {
     "data": {
      "text/plain": [
       "10.12526561835954"
      ]
     },
     "execution_count": 8,
     "metadata": {},
     "output_type": "execute_result"
    }
   ],
   "source": [
    "# mean of 'education' column\n",
    "df1['education'].mean()"
   ]
  },
  {
   "cell_type": "code",
   "execution_count": 7,
   "id": "d643cb5b",
   "metadata": {
    "scrolled": true
   },
   "outputs": [
    {
     "data": {
      "text/plain": [
       "41.080216744581385"
      ]
     },
     "execution_count": 7,
     "metadata": {},
     "output_type": "execute_result"
    }
   ],
   "source": [
    "# mean of 'hours per week' column\n",
    "df1['hours-per-week'].mean()"
   ]
  },
  {
   "cell_type": "code",
   "execution_count": 28,
   "id": "2e272824",
   "metadata": {},
   "outputs": [
    {
     "data": {
      "text/plain": [
       "38.35730981725457"
      ]
     },
     "execution_count": 28,
     "metadata": {},
     "output_type": "execute_result"
    }
   ],
   "source": [
    "# mean of age\n",
    "df1['age'].mean()"
   ]
  },
  {
   "cell_type": "code",
   "execution_count": 10,
   "id": "dcd65638",
   "metadata": {
    "scrolled": true
   },
   "outputs": [
    {
     "data": {
      "text/plain": [
       "2.542118103016039"
      ]
     },
     "execution_count": 10,
     "metadata": {},
     "output_type": "execute_result"
    }
   ],
   "source": [
    "# standard deviation of 'education' column\n",
    "df1['education'].std()"
   ]
  },
  {
   "cell_type": "code",
   "execution_count": 11,
   "id": "6aea4ba0",
   "metadata": {},
   "outputs": [
    {
     "data": {
      "text/plain": [
       "11.884590228365683"
      ]
     },
     "execution_count": 11,
     "metadata": {},
     "output_type": "execute_result"
    }
   ],
   "source": [
    "# standard deviation of 'house per week' column\n",
    "df1['hours-per-week'].std()"
   ]
  },
  {
   "cell_type": "code",
   "execution_count": 29,
   "id": "4b6c0266",
   "metadata": {},
   "outputs": [
    {
     "data": {
      "text/plain": [
       "12.962134628549139"
      ]
     },
     "execution_count": 29,
     "metadata": {},
     "output_type": "execute_result"
    }
   ],
   "source": [
    "# std of 'age'\n",
    "df1['age'].std()"
   ]
  },
  {
   "cell_type": "code",
   "execution_count": 41,
   "id": "fafbcf3d",
   "metadata": {},
   "outputs": [
    {
     "data": {
      "text/plain": [
       "0.25     9.0\n",
       "0.50    10.0\n",
       "0.75    13.0\n",
       "Name: education, dtype: float64"
      ]
     },
     "execution_count": 41,
     "metadata": {},
     "output_type": "execute_result"
    }
   ],
   "source": [
    "# quartiles for education column\n",
    "df1['education'].quantile([0.25,0.5,0.75])"
   ]
  },
  {
   "cell_type": "code",
   "execution_count": 40,
   "id": "c93ccf93",
   "metadata": {
    "scrolled": true
   },
   "outputs": [
    {
     "data": {
      "text/plain": [
       "0.25    40.0\n",
       "0.50    40.0\n",
       "0.75    45.0\n",
       "Name: hours-per-week, dtype: float64"
      ]
     },
     "execution_count": 40,
     "metadata": {},
     "output_type": "execute_result"
    }
   ],
   "source": [
    "# quartiles for hours per week column\n",
    "df1['hours-per-week'].quantile([0.25,0.5,0.75])"
   ]
  },
  {
   "cell_type": "code",
   "execution_count": 42,
   "id": "cb452994",
   "metadata": {},
   "outputs": [
    {
     "data": {
      "text/plain": [
       "0.25    28.0\n",
       "0.50    37.0\n",
       "0.75    47.0\n",
       "Name: age, dtype: float64"
      ]
     },
     "execution_count": 42,
     "metadata": {},
     "output_type": "execute_result"
    }
   ],
   "source": [
    "# quartiles for age column\n",
    "df1['age'].quantile([0.25,0.5,0.75])\n",
    "# 0.25    28.0\n",
    "# 0.50    37.0\n",
    "# 0.75    47.0"
   ]
  },
  {
   "cell_type": "code",
   "execution_count": 21,
   "id": "f32ec7a1",
   "metadata": {},
   "outputs": [
    {
     "name": "stdout",
     "output_type": "stream",
     "text": [
      "Private     6947\n",
      "Public      1317\n",
      "Self-emp    1148\n",
      "Name: workclass, dtype: int64\n"
     ]
    }
   ],
   "source": [
    "#count of unique values in workclass column\n",
    "print(df1['workclass'].value_counts())\n",
    "# Private     6947\n",
    "# Public      1317\n",
    "# Self-emp    1148"
   ]
  },
  {
   "cell_type": "code",
   "execution_count": 24,
   "id": "fad650a6",
   "metadata": {},
   "outputs": [
    {
     "name": "stdout",
     "output_type": "stream",
     "text": [
      "White          8062\n",
      "Black           892\n",
      "Asian           291\n",
      "Amer-Indian      92\n",
      "Hispanic         75\n",
      "Name: race, dtype: int64\n"
     ]
    }
   ],
   "source": [
    "# count of unique values in race column\n",
    "print(df1['race'].value_counts())\n",
    "# White          8062\n",
    "# Black           892\n",
    "# Asian           291\n",
    "# Amer-Indian      92\n",
    "# Hispanic         75"
   ]
  },
  {
   "cell_type": "code",
   "execution_count": 25,
   "id": "5a709aba",
   "metadata": {},
   "outputs": [
    {
     "name": "stdout",
     "output_type": "stream",
     "text": [
      "Male      6383\n",
      "Female    3029\n",
      "Name: sex, dtype: int64\n"
     ]
    }
   ],
   "source": [
    "# count of unique values in 'sex' column\n",
    "print(df1['sex'].value_counts())\n",
    "# Male      6383\n",
    "# Female    3029"
   ]
  },
  {
   "cell_type": "code",
   "execution_count": 26,
   "id": "ff6f82bf",
   "metadata": {},
   "outputs": [
    {
     "name": "stdout",
     "output_type": "stream",
     "text": [
      "<=50K    7093\n",
      ">50K     2319\n",
      "Name: income, dtype: int64\n"
     ]
    }
   ],
   "source": [
    "# count of unique values in 'income' column\n",
    "print(df1['income'].value_counts())\n",
    "# <=50K    7093\n",
    "# >50K     2319"
   ]
  },
  {
   "cell_type": "code",
   "execution_count": 27,
   "id": "6f5cf06c",
   "metadata": {},
   "outputs": [
    {
     "name": "stdout",
     "output_type": "stream",
     "text": [
      "Married    4737\n",
      "Single     4675\n",
      "Name: marital-status, dtype: int64\n"
     ]
    }
   ],
   "source": [
    "# count of unique values in 'marital-status' column\n",
    "print(df1['marital-status'].value_counts())\n",
    "# Married    4737\n",
    "# Single     4675"
   ]
  },
  {
   "cell_type": "code",
   "execution_count": 34,
   "id": "280abec9",
   "metadata": {
    "scrolled": true
   },
   "outputs": [
    {
     "data": {
      "text/plain": [
       "<AxesSubplot:>"
      ]
     },
     "execution_count": 34,
     "metadata": {},
     "output_type": "execute_result"
    },
    {
     "data": {
      "image/png": "[encoded data removed]",
      "text/plain": [
       "<Figure size 432x288 with 1 Axes>"
      ]
     },
     "metadata": {
      "needs_background": "light"
     },
     "output_type": "display_data"
    }
   ],
   "source": [
    "# Question 2\n",
    "# box plot for column 'age'\n",
    "import matplotlib.pyplot as plt\n",
    "plt.figure()\n",
    "df1.boxplot(['age'])"
   ]
  },
  {
   "cell_type": "code",
   "execution_count": 35,
   "id": "83f47ca2",
   "metadata": {
    "scrolled": true
   },
   "outputs": [
    {
     "data": {
      "text/plain": [
       "<AxesSubplot:>"
      ]
     },
     "execution_count": 35,
     "metadata": {},
     "output_type": "execute_result"
    },
    {
     "data": {
      "image/png": "[encoded data removed]",
      "text/plain": [
       "<Figure size 432x288 with 1 Axes>"
      ]
     },
     "metadata": {
      "needs_background": "light"
     },
     "output_type": "display_data"
    }
   ],
   "source": [
    "plt.figure()\n",
    "df1.boxplot(['hours-per-week'])"
   ]
  },
  {
   "cell_type": "code",
   "execution_count": 36,
   "id": "71131c29",
   "metadata": {
    "scrolled": true
   },
   "outputs": [
    {
     "data": {
      "text/plain": [
       "<AxesSubplot:>"
      ]
     },
     "execution_count": 36,
     "metadata": {},
     "output_type": "execute_result"
    },
    {
     "data": {
      "image/png": "[encoded data removed]",
      "text/plain": [
       "<Figure size 432x288 with 1 Axes>"
      ]
     },
     "metadata": {
      "needs_background": "light"
     },
     "output_type": "display_data"
    }
   ],
   "source": [
    "plt.figure()\n",
    "df1.boxplot(['education'])"
   ]
  },
  {
   "cell_type": "code",
   "execution_count": 44,
   "id": "117d456b",
   "metadata": {},
   "outputs": [
    {
     "data": {
      "image/png": "[encoded data removed]",
      "text/plain": [
       "<Figure size 432x288 with 1 Axes>"
      ]
     },
     "metadata": {
      "needs_background": "light"
     },
     "output_type": "display_data"
    }
   ],
   "source": [
    "# histogram for age column\n",
    "df1.hist(column='age');"
   ]
  },
  {
   "cell_type": "code",
   "execution_count": 45,
   "id": "618b55e4",
   "metadata": {
    "scrolled": true
   },
   "outputs": [
    {
     "data": {
      "image/png": "[encoded data removed]",
      "text/plain": [
       "<Figure size 432x288 with 1 Axes>"
      ]
     },
     "metadata": {
      "needs_background": "light"
     },
     "output_type": "display_data"
    }
   ],
   "source": [
    "# histogram for hours-per-week column\n",
    "df1.hist(column='hours-per-week');"
   ]
  },
  {
   "cell_type": "code",
   "execution_count": 58,
   "id": "ad12ca68",
   "metadata": {
    "scrolled": true
   },
   "outputs": [
    {
     "data": {
      "image/png": "[encoded data removed]",
      "text/plain": [
       "<Figure size 432x288 with 1 Axes>"
      ]
     },
     "metadata": {
      "needs_background": "light"
     },
     "output_type": "display_data"
    }
   ],
   "source": [
    "# histogram for education column\n",
    "df1.hist(column='education');"
   ]
  },
  {
   "cell_type": "code",
   "execution_count": 56,
   "id": "66042530",
   "metadata": {
    "scrolled": true
   },
   "outputs": [
    {
     "data": {
      "text/plain": [
       "<AxesSubplot:title={'center':'Age vs. Hours Per Week'}, xlabel='age', ylabel='hours-per-week'>"
      ]
     },
     "execution_count": 56,
     "metadata": {},
     "output_type": "execute_result"
    },
    {
     "data": {
      "image/png": "[encoded data removed]",
      "text/plain": [
       "<Figure size 432x288 with 1 Axes>"
      ]
     },
     "metadata": {
      "needs_background": "light"
     },
     "output_type": "display_data"
    }
   ],
   "source": [
    "# scatterplot of x=age and y=hours-per-week\n",
    "df1.plot.scatter(x = 'age', y = 'hours-per-week', title='Age vs. Hours Per Week')"
   ]
  },
  {
   "cell_type": "code",
   "execution_count": 101,
   "id": "78b0e80c",
   "metadata": {
    "scrolled": false
   },
   "outputs": [
    {
     "data": {
      "image/png": "[encoded data removed]",
      "text/plain": [
       "<Figure size 432x288 with 1 Axes>"
      ]
     },
     "metadata": {
      "needs_background": "light"
     },
     "output_type": "display_data"
    },
    {
     "data": {
      "image/png": "[encoded data removed]",
      "text/plain": [
       "<Figure size 432x288 with 1 Axes>"
      ]
     },
     "metadata": {
      "needs_background": "light"
     },
     "output_type": "display_data"
    },
    {
     "data": {
      "image/png": "[encoded data removed]",
      "text/plain": [
       "<Figure size 432x288 with 1 Axes>"
      ]
     },
     "metadata": {
      "needs_background": "light"
     },
     "output_type": "display_data"
    },
    {
     "data": {
      "image/png": "[encoded data removed]",
      "text/plain": [
       "<Figure size 432x288 with 1 Axes>"
      ]
     },
     "metadata": {
      "needs_background": "light"
     },
     "output_type": "display_data"
    },
    {
     "data": {
      "image/png": "[encoded data removed]",
      "text/plain": [
       "<Figure size 432x288 with 1 Axes>"
      ]
     },
     "metadata": {
      "needs_background": "light"
     },
     "output_type": "display_data"
    }
   ],
   "source": [
    "# Question 3\n",
    "# bar plot for work class categorical variable\n",
    "import matplotlib.pyplot as plt\n",
    "df1['workclass'].value_counts().plot(kind='bar')\n",
    "plt.show()\n",
    "df1['race'].value_counts().plot(kind='bar')\n",
    "plt.show()\n",
    "df1['sex'].value_counts().plot(kind='bar')\n",
    "plt.show()\n",
    "df1['income'].value_counts().plot(kind='bar')\n",
    "plt.show()\n",
    "df1['marital-status'].value_counts().plot(kind='bar')\n",
    "plt.show()\n",
    "\n"
   ]
  },
  {
   "cell_type": "code",
   "execution_count": 110,
   "id": "7ab1676d",
   "metadata": {
    "scrolled": true
   },
   "outputs": [
    {
     "data": {
      "text/html": [
       "<div>\n",
       "<style scoped>\n",
       "    .dataframe tbody tr th:only-of-type {\n",
       "        vertical-align: middle;\n",
       "    }\n",
       "\n",
       "    .dataframe tbody tr th {\n",
       "        vertical-align: top;\n",
       "    }\n",
       "\n",
       "    .dataframe thead th {\n",
       "        text-align: right;\n",
       "    }\n",
       "</style>\n",
       "<table border=\"1\" class=\"dataframe\">\n",
       "  <thead>\n",
       "    <tr style=\"text-align: right;\">\n",
       "      <th>income</th>\n",
       "      <th>&lt;=50K</th>\n",
       "      <th>&gt;50K</th>\n",
       "    </tr>\n",
       "    <tr>\n",
       "      <th>workclass</th>\n",
       "      <th></th>\n",
       "      <th></th>\n",
       "    </tr>\n",
       "  </thead>\n",
       "  <tbody>\n",
       "    <tr>\n",
       "      <th>Private</th>\n",
       "      <td>5443</td>\n",
       "      <td>1504</td>\n",
       "    </tr>\n",
       "    <tr>\n",
       "      <th>Public</th>\n",
       "      <td>925</td>\n",
       "      <td>392</td>\n",
       "    </tr>\n",
       "    <tr>\n",
       "      <th>Self-emp</th>\n",
       "      <td>725</td>\n",
       "      <td>423</td>\n",
       "    </tr>\n",
       "  </tbody>\n",
       "</table>\n",
       "</div>"
      ],
      "text/plain": [
       "income     <=50K  >50K\n",
       "workclass             \n",
       "Private     5443  1504\n",
       "Public       925   392\n",
       "Self-emp     725   423"
      ]
     },
     "execution_count": 110,
     "metadata": {},
     "output_type": "execute_result"
    }
   ],
   "source": [
    "# Question 4\n",
    "# cross-tabulations of each of the workclass and race attributes with the income attribute\n",
    "wrk_inc = pd.crosstab(df1['workclass'], df1['income'])\n",
    "rc_inc = pd.crosstab(df1['race'], df1['income'])\n",
    "wrk_inc"
   ]
  },
  {
   "cell_type": "code",
   "execution_count": 111,
   "id": "fc7da040",
   "metadata": {
    "scrolled": false
   },
   "outputs": [
    {
     "data": {
      "text/html": [
       "<div>\n",
       "<style scoped>\n",
       "    .dataframe tbody tr th:only-of-type {\n",
       "        vertical-align: middle;\n",
       "    }\n",
       "\n",
       "    .dataframe tbody tr th {\n",
       "        vertical-align: top;\n",
       "    }\n",
       "\n",
       "    .dataframe thead th {\n",
       "        text-align: right;\n",
       "    }\n",
       "</style>\n",
       "<table border=\"1\" class=\"dataframe\">\n",
       "  <thead>\n",
       "    <tr style=\"text-align: right;\">\n",
       "      <th>income</th>\n",
       "      <th>&lt;=50K</th>\n",
       "      <th>&gt;50K</th>\n",
       "    </tr>\n",
       "    <tr>\n",
       "      <th>race</th>\n",
       "      <th></th>\n",
       "      <th></th>\n",
       "    </tr>\n",
       "  </thead>\n",
       "  <tbody>\n",
       "    <tr>\n",
       "      <th>Amer-Indian</th>\n",
       "      <td>83</td>\n",
       "      <td>9</td>\n",
       "    </tr>\n",
       "    <tr>\n",
       "      <th>Asian</th>\n",
       "      <td>224</td>\n",
       "      <td>67</td>\n",
       "    </tr>\n",
       "    <tr>\n",
       "      <th>Black</th>\n",
       "      <td>773</td>\n",
       "      <td>119</td>\n",
       "    </tr>\n",
       "    <tr>\n",
       "      <th>Hispanic</th>\n",
       "      <td>69</td>\n",
       "      <td>6</td>\n",
       "    </tr>\n",
       "    <tr>\n",
       "      <th>White</th>\n",
       "      <td>5944</td>\n",
       "      <td>2118</td>\n",
       "    </tr>\n",
       "  </tbody>\n",
       "</table>\n",
       "</div>"
      ],
      "text/plain": [
       "income       <=50K  >50K\n",
       "race                    \n",
       "Amer-Indian     83     9\n",
       "Asian          224    67\n",
       "Black          773   119\n",
       "Hispanic        69     6\n",
       "White         5944  2118"
      ]
     },
     "execution_count": 111,
     "metadata": {},
     "output_type": "execute_result"
    }
   ],
   "source": [
    "rc_inc"
   ]
  },
  {
   "cell_type": "code",
   "execution_count": 131,
   "id": "95c3d657",
   "metadata": {},
   "outputs": [],
   "source": [
    "rc_percentage = rc_inc['<=50K']/rc_inc['<=50K'].sum()"
   ]
  },
  {
   "cell_type": "code",
   "execution_count": 136,
   "id": "955e96a6",
   "metadata": {
    "scrolled": true
   },
   "outputs": [
    {
     "data": {
      "image/png": "[encoded data removed]",
      "text/plain": [
       "<Figure size 432x288 with 1 Axes>"
      ]
     },
     "metadata": {
      "needs_background": "light"
     },
     "output_type": "display_data"
    },
    {
     "data": {
      "image/png": "[encoded data removed]",
      "text/plain": [
       "<Figure size 432x288 with 1 Axes>"
      ]
     },
     "metadata": {
      "needs_background": "light"
     },
     "output_type": "display_data"
    },
    {
     "data": {
      "image/png": "[encoded data removed]",
      "text/plain": [
       "<Figure size 432x288 with 1 Axes>"
      ]
     },
     "metadata": {
      "needs_background": "light"
     },
     "output_type": "display_data"
    }
   ],
   "source": [
    "import matplotlib.pyplot as plt\n",
    "rc_plot = rc_inc.plot(kind='bar')\n",
    "plt.title('Income of each race')\n",
    "plt.show()\n",
    "wrk_plot = wrk_inc.plot(kind='bar')\n",
    "plt.title('Income brackets of each work class')\n",
    "plt.show()\n",
    "rc_percentage.plot(kind='bar')\n",
    "plt.title('Bar Plot representing of each race category that fall in the low-income group')\n",
    "plt.show()"
   ]
  },
  {
   "cell_type": "raw",
   "id": "1795abeb",
   "metadata": {},
   "source": [
    "The above plots display information on race vs income, work class vs income and percentage of income by race for low income groups. In the last plot we can clearly see that more than 80% of the people that fall in the low income group are 'White' race followed by more than 10% of people in the same low income group being of 'Black' race. "
   ]
  },
  {
   "cell_type": "code",
   "execution_count": 142,
   "id": "d67bffd7",
   "metadata": {
    "scrolled": true
   },
   "outputs": [
    {
     "data": {
      "text/html": [
       "<div>\n",
       "<style scoped>\n",
       "    .dataframe tbody tr th:only-of-type {\n",
       "        vertical-align: middle;\n",
       "    }\n",
       "\n",
       "    .dataframe tbody tr th {\n",
       "        vertical-align: top;\n",
       "    }\n",
       "\n",
       "    .dataframe thead th {\n",
       "        text-align: right;\n",
       "    }\n",
       "</style>\n",
       "<table border=\"1\" class=\"dataframe\">\n",
       "  <thead>\n",
       "    <tr style=\"text-align: right;\">\n",
       "      <th></th>\n",
       "      <th>age</th>\n",
       "      <th>education</th>\n",
       "      <th>hours-per-week</th>\n",
       "    </tr>\n",
       "  </thead>\n",
       "  <tbody>\n",
       "    <tr>\n",
       "      <th>count</th>\n",
       "      <td>2319.000000</td>\n",
       "      <td>2319.000000</td>\n",
       "      <td>2319.000000</td>\n",
       "    </tr>\n",
       "    <tr>\n",
       "      <th>mean</th>\n",
       "      <td>43.622251</td>\n",
       "      <td>11.588185</td>\n",
       "      <td>45.708495</td>\n",
       "    </tr>\n",
       "    <tr>\n",
       "      <th>std</th>\n",
       "      <td>10.047667</td>\n",
       "      <td>2.410764</td>\n",
       "      <td>10.678794</td>\n",
       "    </tr>\n",
       "    <tr>\n",
       "      <th>min</th>\n",
       "      <td>19.000000</td>\n",
       "      <td>2.000000</td>\n",
       "      <td>1.000000</td>\n",
       "    </tr>\n",
       "    <tr>\n",
       "      <th>25%</th>\n",
       "      <td>36.000000</td>\n",
       "      <td>9.000000</td>\n",
       "      <td>40.000000</td>\n",
       "    </tr>\n",
       "    <tr>\n",
       "      <th>50%</th>\n",
       "      <td>43.000000</td>\n",
       "      <td>12.000000</td>\n",
       "      <td>40.000000</td>\n",
       "    </tr>\n",
       "    <tr>\n",
       "      <th>75%</th>\n",
       "      <td>50.000000</td>\n",
       "      <td>13.000000</td>\n",
       "      <td>50.000000</td>\n",
       "    </tr>\n",
       "    <tr>\n",
       "      <th>max</th>\n",
       "      <td>90.000000</td>\n",
       "      <td>16.000000</td>\n",
       "      <td>99.000000</td>\n",
       "    </tr>\n",
       "  </tbody>\n",
       "</table>\n",
       "</div>"
      ],
      "text/plain": [
       "               age    education  hours-per-week\n",
       "count  2319.000000  2319.000000     2319.000000\n",
       "mean     43.622251    11.588185       45.708495\n",
       "std      10.047667     2.410764       10.678794\n",
       "min      19.000000     2.000000        1.000000\n",
       "25%      36.000000     9.000000       40.000000\n",
       "50%      43.000000    12.000000       40.000000\n",
       "75%      50.000000    13.000000       50.000000\n",
       "max      90.000000    16.000000       99.000000"
      ]
     },
     "execution_count": 142,
     "metadata": {},
     "output_type": "execute_result"
    }
   ],
   "source": [
    "# Question 5\n",
    "df1.head()\n",
    "df1[df1['income'] =='>50K'].describe()"
   ]
  },
  {
   "cell_type": "code",
   "execution_count": 143,
   "id": "c8f58520",
   "metadata": {},
   "outputs": [
    {
     "data": {
      "text/html": [
       "<div>\n",
       "<style scoped>\n",
       "    .dataframe tbody tr th:only-of-type {\n",
       "        vertical-align: middle;\n",
       "    }\n",
       "\n",
       "    .dataframe tbody tr th {\n",
       "        vertical-align: top;\n",
       "    }\n",
       "\n",
       "    .dataframe thead th {\n",
       "        text-align: right;\n",
       "    }\n",
       "</style>\n",
       "<table border=\"1\" class=\"dataframe\">\n",
       "  <thead>\n",
       "    <tr style=\"text-align: right;\">\n",
       "      <th></th>\n",
       "      <th>age</th>\n",
       "      <th>education</th>\n",
       "      <th>hours-per-week</th>\n",
       "    </tr>\n",
       "  </thead>\n",
       "  <tbody>\n",
       "    <tr>\n",
       "      <th>count</th>\n",
       "      <td>7093.000000</td>\n",
       "      <td>7093.000000</td>\n",
       "      <td>7093.000000</td>\n",
       "    </tr>\n",
       "    <tr>\n",
       "      <th>mean</th>\n",
       "      <td>36.635979</td>\n",
       "      <td>9.646976</td>\n",
       "      <td>39.567038</td>\n",
       "    </tr>\n",
       "    <tr>\n",
       "      <th>std</th>\n",
       "      <td>13.339117</td>\n",
       "      <td>2.397358</td>\n",
       "      <td>11.868506</td>\n",
       "    </tr>\n",
       "    <tr>\n",
       "      <th>min</th>\n",
       "      <td>17.000000</td>\n",
       "      <td>1.000000</td>\n",
       "      <td>1.000000</td>\n",
       "    </tr>\n",
       "    <tr>\n",
       "      <th>25%</th>\n",
       "      <td>26.000000</td>\n",
       "      <td>9.000000</td>\n",
       "      <td>38.000000</td>\n",
       "    </tr>\n",
       "    <tr>\n",
       "      <th>50%</th>\n",
       "      <td>35.000000</td>\n",
       "      <td>9.000000</td>\n",
       "      <td>40.000000</td>\n",
       "    </tr>\n",
       "    <tr>\n",
       "      <th>75%</th>\n",
       "      <td>45.000000</td>\n",
       "      <td>10.000000</td>\n",
       "      <td>40.000000</td>\n",
       "    </tr>\n",
       "    <tr>\n",
       "      <th>max</th>\n",
       "      <td>90.000000</td>\n",
       "      <td>16.000000</td>\n",
       "      <td>99.000000</td>\n",
       "    </tr>\n",
       "  </tbody>\n",
       "</table>\n",
       "</div>"
      ],
      "text/plain": [
       "               age    education  hours-per-week\n",
       "count  7093.000000  7093.000000     7093.000000\n",
       "mean     36.635979     9.646976       39.567038\n",
       "std      13.339117     2.397358       11.868506\n",
       "min      17.000000     1.000000        1.000000\n",
       "25%      26.000000     9.000000       38.000000\n",
       "50%      35.000000     9.000000       40.000000\n",
       "75%      45.000000    10.000000       40.000000\n",
       "max      90.000000    16.000000       99.000000"
      ]
     },
     "execution_count": 143,
     "metadata": {},
     "output_type": "execute_result"
    }
   ],
   "source": [
    "df1[df1['income'] =='<=50K'].describe()\n",
    "# plots tabled for later"
   ]
  },
  {
   "cell_type": "markdown",
   "id": "1f3f0927",
   "metadata": {},
   "source": [
    "the above tables show the differences in age, education and hours per week between the two income brackets. It can be seen than those in the higher income bracket of >50K tend to be slighly older, have more years of education and and work longer hours per week compared to those who are in the <=50K income bracket. When comparing the mean and median, we can see that both values for both tables show a similar conclusion as the one drawn above. "
   ]
  },
  {
   "cell_type": "code",
   "execution_count": 146,
   "id": "a45e6ee7",
   "metadata": {},
   "outputs": [
    {
     "data": {
      "text/plain": [
       "age                int64\n",
       "workclass         object\n",
       "education          int64\n",
       "marital-status    object\n",
       "race              object\n",
       "sex               object\n",
       "hours-per-week     int64\n",
       "income            object\n",
       "dtype: object"
      ]
     },
     "execution_count": 146,
     "metadata": {},
     "output_type": "execute_result"
    }
   ],
   "source": [
    "df1.dtypes"
   ]
  },
  {
   "cell_type": "code",
   "execution_count": 151,
   "id": "cae6c46c",
   "metadata": {
    "scrolled": true
   },
   "outputs": [
    {
     "data": {
      "text/html": [
       "<div>\n",
       "<style scoped>\n",
       "    .dataframe tbody tr th:only-of-type {\n",
       "        vertical-align: middle;\n",
       "    }\n",
       "\n",
       "    .dataframe tbody tr th {\n",
       "        vertical-align: top;\n",
       "    }\n",
       "\n",
       "    .dataframe thead th {\n",
       "        text-align: right;\n",
       "    }\n",
       "</style>\n",
       "<table border=\"1\" class=\"dataframe\">\n",
       "  <thead>\n",
       "    <tr style=\"text-align: right;\">\n",
       "      <th></th>\n",
       "      <th>age</th>\n",
       "      <th>education</th>\n",
       "      <th>hours-per-week</th>\n",
       "      <th>workclass_Private</th>\n",
       "      <th>workclass_Public</th>\n",
       "      <th>workclass_Self-emp</th>\n",
       "      <th>sex_Female</th>\n",
       "      <th>sex_Male</th>\n",
       "      <th>race_Amer-Indian</th>\n",
       "      <th>race_Asian</th>\n",
       "      <th>race_Black</th>\n",
       "      <th>race_Hispanic</th>\n",
       "      <th>race_White</th>\n",
       "      <th>marital-status_Married</th>\n",
       "      <th>marital-status_Single</th>\n",
       "      <th>income_&lt;=50K</th>\n",
       "      <th>income_&gt;50K</th>\n",
       "    </tr>\n",
       "  </thead>\n",
       "  <tbody>\n",
       "    <tr>\n",
       "      <th>0</th>\n",
       "      <td>39</td>\n",
       "      <td>13</td>\n",
       "      <td>40</td>\n",
       "      <td>0</td>\n",
       "      <td>1</td>\n",
       "      <td>0</td>\n",
       "      <td>0</td>\n",
       "      <td>1</td>\n",
       "      <td>0</td>\n",
       "      <td>0</td>\n",
       "      <td>0</td>\n",
       "      <td>0</td>\n",
       "      <td>1</td>\n",
       "      <td>0</td>\n",
       "      <td>1</td>\n",
       "      <td>1</td>\n",
       "      <td>0</td>\n",
       "    </tr>\n",
       "    <tr>\n",
       "      <th>1</th>\n",
       "      <td>50</td>\n",
       "      <td>13</td>\n",
       "      <td>13</td>\n",
       "      <td>0</td>\n",
       "      <td>0</td>\n",
       "      <td>1</td>\n",
       "      <td>0</td>\n",
       "      <td>1</td>\n",
       "      <td>0</td>\n",
       "      <td>0</td>\n",
       "      <td>0</td>\n",
       "      <td>0</td>\n",
       "      <td>1</td>\n",
       "      <td>1</td>\n",
       "      <td>0</td>\n",
       "      <td>1</td>\n",
       "      <td>0</td>\n",
       "    </tr>\n",
       "    <tr>\n",
       "      <th>2</th>\n",
       "      <td>38</td>\n",
       "      <td>9</td>\n",
       "      <td>40</td>\n",
       "      <td>1</td>\n",
       "      <td>0</td>\n",
       "      <td>0</td>\n",
       "      <td>0</td>\n",
       "      <td>1</td>\n",
       "      <td>0</td>\n",
       "      <td>0</td>\n",
       "      <td>0</td>\n",
       "      <td>0</td>\n",
       "      <td>1</td>\n",
       "      <td>0</td>\n",
       "      <td>1</td>\n",
       "      <td>1</td>\n",
       "      <td>0</td>\n",
       "    </tr>\n",
       "    <tr>\n",
       "      <th>3</th>\n",
       "      <td>53</td>\n",
       "      <td>7</td>\n",
       "      <td>40</td>\n",
       "      <td>1</td>\n",
       "      <td>0</td>\n",
       "      <td>0</td>\n",
       "      <td>0</td>\n",
       "      <td>1</td>\n",
       "      <td>0</td>\n",
       "      <td>0</td>\n",
       "      <td>1</td>\n",
       "      <td>0</td>\n",
       "      <td>0</td>\n",
       "      <td>1</td>\n",
       "      <td>0</td>\n",
       "      <td>1</td>\n",
       "      <td>0</td>\n",
       "    </tr>\n",
       "    <tr>\n",
       "      <th>4</th>\n",
       "      <td>28</td>\n",
       "      <td>13</td>\n",
       "      <td>40</td>\n",
       "      <td>1</td>\n",
       "      <td>0</td>\n",
       "      <td>0</td>\n",
       "      <td>1</td>\n",
       "      <td>0</td>\n",
       "      <td>0</td>\n",
       "      <td>0</td>\n",
       "      <td>1</td>\n",
       "      <td>0</td>\n",
       "      <td>0</td>\n",
       "      <td>1</td>\n",
       "      <td>0</td>\n",
       "      <td>1</td>\n",
       "      <td>0</td>\n",
       "    </tr>\n",
       "  </tbody>\n",
       "</table>\n",
       "</div>"
      ],
      "text/plain": [
       "   age  education  hours-per-week  workclass_Private  workclass_Public  \\\n",
       "0   39         13              40                  0                 1   \n",
       "1   50         13              13                  0                 0   \n",
       "2   38          9              40                  1                 0   \n",
       "3   53          7              40                  1                 0   \n",
       "4   28         13              40                  1                 0   \n",
       "\n",
       "   workclass_Self-emp  sex_Female  sex_Male  race_Amer-Indian  race_Asian  \\\n",
       "0                   0           0         1                 0           0   \n",
       "1                   1           0         1                 0           0   \n",
       "2                   0           0         1                 0           0   \n",
       "3                   0           0         1                 0           0   \n",
       "4                   0           1         0                 0           0   \n",
       "\n",
       "   race_Black  race_Hispanic  race_White  marital-status_Married  \\\n",
       "0           0              0           1                       0   \n",
       "1           0              0           1                       1   \n",
       "2           0              0           1                       0   \n",
       "3           1              0           0                       1   \n",
       "4           1              0           0                       1   \n",
       "\n",
       "   marital-status_Single  income_<=50K  income_>50K  \n",
       "0                      1             1            0  \n",
       "1                      0             1            0  \n",
       "2                      1             1            0  \n",
       "3                      0             1            0  \n",
       "4                      0             1            0  "
      ]
     },
     "execution_count": 151,
     "metadata": {},
     "output_type": "execute_result"
    }
   ],
   "source": [
    "# Question 6\n",
    "df2 = pd.get_dummies(df1, columns=['workclass', 'sex', 'race', 'marital-status', 'income'])\n",
    "df2.head()"
   ]
  },
  {
   "cell_type": "code",
   "execution_count": 152,
   "id": "3748a8e9",
   "metadata": {},
   "outputs": [],
   "source": [
    "df2.to_csv('adult_numeric.csv')"
   ]
  },
  {
   "cell_type": "code",
   "execution_count": 155,
   "id": "3a24e8c6",
   "metadata": {
    "scrolled": true
   },
   "outputs": [
    {
     "data": {
      "text/html": [
       "<div>\n",
       "<style scoped>\n",
       "    .dataframe tbody tr th:only-of-type {\n",
       "        vertical-align: middle;\n",
       "    }\n",
       "\n",
       "    .dataframe tbody tr th {\n",
       "        vertical-align: top;\n",
       "    }\n",
       "\n",
       "    .dataframe thead th {\n",
       "        text-align: right;\n",
       "    }\n",
       "</style>\n",
       "<table border=\"1\" class=\"dataframe\">\n",
       "  <thead>\n",
       "    <tr style=\"text-align: right;\">\n",
       "      <th></th>\n",
       "      <th>age</th>\n",
       "      <th>education</th>\n",
       "      <th>hours-per-week</th>\n",
       "      <th>workclass_Private</th>\n",
       "      <th>workclass_Public</th>\n",
       "      <th>workclass_Self-emp</th>\n",
       "      <th>sex_Female</th>\n",
       "      <th>sex_Male</th>\n",
       "      <th>race_Amer-Indian</th>\n",
       "      <th>race_Asian</th>\n",
       "      <th>race_Black</th>\n",
       "      <th>race_Hispanic</th>\n",
       "      <th>race_White</th>\n",
       "      <th>marital-status_Married</th>\n",
       "      <th>marital-status_Single</th>\n",
       "      <th>income_&lt;=50K</th>\n",
       "      <th>income_&gt;50K</th>\n",
       "    </tr>\n",
       "  </thead>\n",
       "  <tbody>\n",
       "    <tr>\n",
       "      <th>age</th>\n",
       "      <td>1.000000</td>\n",
       "      <td>0.034733</td>\n",
       "      <td>0.103170</td>\n",
       "      <td>-0.202982</td>\n",
       "      <td>0.080254</td>\n",
       "      <td>0.187633</td>\n",
       "      <td>-0.071804</td>\n",
       "      <td>0.071804</td>\n",
       "      <td>-0.010904</td>\n",
       "      <td>-0.008097</td>\n",
       "      <td>-0.008668</td>\n",
       "      <td>-0.031973</td>\n",
       "      <td>0.022413</td>\n",
       "      <td>0.381168</td>\n",
       "      <td>-0.381168</td>\n",
       "      <td>-0.232261</td>\n",
       "      <td>0.232261</td>\n",
       "    </tr>\n",
       "    <tr>\n",
       "      <th>education</th>\n",
       "      <td>0.034733</td>\n",
       "      <td>1.000000</td>\n",
       "      <td>0.141730</td>\n",
       "      <td>-0.154977</td>\n",
       "      <td>0.154462</td>\n",
       "      <td>0.044472</td>\n",
       "      <td>-0.008180</td>\n",
       "      <td>0.008180</td>\n",
       "      <td>-0.039308</td>\n",
       "      <td>0.057360</td>\n",
       "      <td>-0.069029</td>\n",
       "      <td>-0.044845</td>\n",
       "      <td>0.051765</td>\n",
       "      <td>0.050627</td>\n",
       "      <td>-0.050627</td>\n",
       "      <td>-0.329066</td>\n",
       "      <td>0.329066</td>\n",
       "    </tr>\n",
       "    <tr>\n",
       "      <th>hours-per-week</th>\n",
       "      <td>0.103170</td>\n",
       "      <td>0.141730</td>\n",
       "      <td>1.000000</td>\n",
       "      <td>-0.097753</td>\n",
       "      <td>-0.021407</td>\n",
       "      <td>0.154025</td>\n",
       "      <td>-0.221588</td>\n",
       "      <td>0.221588</td>\n",
       "      <td>0.002964</td>\n",
       "      <td>0.000550</td>\n",
       "      <td>-0.071442</td>\n",
       "      <td>0.011964</td>\n",
       "      <td>0.055561</td>\n",
       "      <td>0.183944</td>\n",
       "      <td>-0.183944</td>\n",
       "      <td>-0.222686</td>\n",
       "      <td>0.222686</td>\n",
       "    </tr>\n",
       "    <tr>\n",
       "      <th>workclass_Private</th>\n",
       "      <td>-0.202982</td>\n",
       "      <td>-0.154977</td>\n",
       "      <td>-0.097753</td>\n",
       "      <td>1.000000</td>\n",
       "      <td>-0.677134</td>\n",
       "      <td>-0.625700</td>\n",
       "      <td>0.072569</td>\n",
       "      <td>-0.072569</td>\n",
       "      <td>-0.007136</td>\n",
       "      <td>-0.015060</td>\n",
       "      <td>0.004632</td>\n",
       "      <td>0.023490</td>\n",
       "      <td>-0.000389</td>\n",
       "      <td>-0.121014</td>\n",
       "      <td>0.121014</td>\n",
       "      <td>0.116453</td>\n",
       "      <td>-0.116453</td>\n",
       "    </tr>\n",
       "    <tr>\n",
       "      <th>workclass_Public</th>\n",
       "      <td>0.080254</td>\n",
       "      <td>0.154462</td>\n",
       "      <td>-0.021407</td>\n",
       "      <td>-0.677134</td>\n",
       "      <td>1.000000</td>\n",
       "      <td>-0.150335</td>\n",
       "      <td>0.045338</td>\n",
       "      <td>-0.045338</td>\n",
       "      <td>0.022185</td>\n",
       "      <td>0.012883</td>\n",
       "      <td>0.070250</td>\n",
       "      <td>-0.018927</td>\n",
       "      <td>-0.066491</td>\n",
       "      <td>-0.002351</td>\n",
       "      <td>0.002351</td>\n",
       "      <td>-0.047981</td>\n",
       "      <td>0.047981</td>\n",
       "    </tr>\n",
       "  </tbody>\n",
       "</table>\n",
       "</div>"
      ],
      "text/plain": [
       "                        age  education  hours-per-week  workclass_Private  \\\n",
       "age                1.000000   0.034733        0.103170          -0.202982   \n",
       "education          0.034733   1.000000        0.141730          -0.154977   \n",
       "hours-per-week     0.103170   0.141730        1.000000          -0.097753   \n",
       "workclass_Private -0.202982  -0.154977       -0.097753           1.000000   \n",
       "workclass_Public   0.080254   0.154462       -0.021407          -0.677134   \n",
       "\n",
       "                   workclass_Public  workclass_Self-emp  sex_Female  sex_Male  \\\n",
       "age                        0.080254            0.187633   -0.071804  0.071804   \n",
       "education                  0.154462            0.044472   -0.008180  0.008180   \n",
       "hours-per-week            -0.021407            0.154025   -0.221588  0.221588   \n",
       "workclass_Private         -0.677134           -0.625700    0.072569 -0.072569   \n",
       "workclass_Public           1.000000           -0.150335    0.045338 -0.045338   \n",
       "\n",
       "                   race_Amer-Indian  race_Asian  race_Black  race_Hispanic  \\\n",
       "age                       -0.010904   -0.008097   -0.008668      -0.031973   \n",
       "education                 -0.039308    0.057360   -0.069029      -0.044845   \n",
       "hours-per-week             0.002964    0.000550   -0.071442       0.011964   \n",
       "workclass_Private         -0.007136   -0.015060    0.004632       0.023490   \n",
       "workclass_Public           0.022185    0.012883    0.070250      -0.018927   \n",
       "\n",
       "                   race_White  marital-status_Married  marital-status_Single  \\\n",
       "age                  0.022413                0.381168              -0.381168   \n",
       "education            0.051765                0.050627              -0.050627   \n",
       "hours-per-week       0.055561                0.183944              -0.183944   \n",
       "workclass_Private   -0.000389               -0.121014               0.121014   \n",
       "workclass_Public    -0.066491               -0.002351               0.002351   \n",
       "\n",
       "                   income_<=50K  income_>50K  \n",
       "age                   -0.232261     0.232261  \n",
       "education             -0.329066     0.329066  \n",
       "hours-per-week        -0.222686     0.222686  \n",
       "workclass_Private      0.116453    -0.116453  \n",
       "workclass_Public      -0.047981     0.047981  "
      ]
     },
     "execution_count": 155,
     "metadata": {},
     "output_type": "execute_result"
    }
   ],
   "source": [
    "# Question 7\n",
    "corr_matrix = df2.corr()\n",
    "corr_matrix.head()"
   ]
  },
  {
   "cell_type": "markdown",
   "id": "e860be27",
   "metadata": {},
   "source": [
    "corr() function has three correlation methods, the default being Pearson. Another such method is the spearman rank correlation."
   ]
  },
  {
   "cell_type": "code",
   "execution_count": 156,
   "id": "4ab40462",
   "metadata": {
    "scrolled": false
   },
   "outputs": [
    {
     "data": {
      "text/plain": [
       "education                 1.000000\n",
       "income_>50K               0.329066\n",
       "workclass_Public          0.154462\n",
       "hours-per-week            0.141730\n",
       "race_Asian                0.057360\n",
       "race_White                0.051765\n",
       "marital-status_Married    0.050627\n",
       "workclass_Self-emp        0.044472\n",
       "age                       0.034733\n",
       "sex_Male                  0.008180\n",
       "sex_Female               -0.008180\n",
       "race_Amer-Indian         -0.039308\n",
       "race_Hispanic            -0.044845\n",
       "marital-status_Single    -0.050627\n",
       "race_Black               -0.069029\n",
       "workclass_Private        -0.154977\n",
       "income_<=50K             -0.329066\n",
       "Name: education, dtype: float64"
      ]
     },
     "execution_count": 156,
     "metadata": {},
     "output_type": "execute_result"
    }
   ],
   "source": [
    "corr_matrix['education'].sort_values(ascending=False)"
   ]
  },
  {
   "cell_type": "markdown",
   "id": "67a065aa",
   "metadata": {},
   "source": [
    "From this correlaiton column we can see that there is a slightly high correlation with the income >50K group of people. This means that there is a negative correlation between education and people in the income <=50K group, which confirms that the more one is educated, the higher his/her salary is. Furthermore, we can see that gender has very little correlation with education, with a correlation of 0.008 for sex_Male and -0.008 for sex_Female, the magnitude of these values are far too low, which means one cannot identify if someone is male or female based on education level. "
   ]
  },
  {
   "cell_type": "code",
   "execution_count": 157,
   "id": "9d2cee0c",
   "metadata": {
    "scrolled": false
   },
   "outputs": [
    {
     "data": {
      "text/plain": [
       "income_<=50K              1.000000\n",
       "marital-status_Single     0.414173\n",
       "sex_Female                0.203886\n",
       "workclass_Private         0.116453\n",
       "race_Black                0.084836\n",
       "race_Hispanic             0.034607\n",
       "race_Amer-Indian          0.034254\n",
       "race_Asian                0.006693\n",
       "workclass_Public         -0.047981\n",
       "race_White               -0.092589\n",
       "workclass_Self-emp       -0.105593\n",
       "sex_Male                 -0.203886\n",
       "hours-per-week           -0.222686\n",
       "age                      -0.232261\n",
       "education                -0.329066\n",
       "marital-status_Married   -0.414173\n",
       "income_>50K              -1.000000\n",
       "Name: income_<=50K, dtype: float64"
      ]
     },
     "execution_count": 157,
     "metadata": {},
     "output_type": "execute_result"
    }
   ],
   "source": [
    "corr_matrix['income_<=50K'].sort_values(ascending=False)"
   ]
  },
  {
   "cell_type": "markdown",
   "id": "da90478a",
   "metadata": {},
   "source": [
    "From this correlation column we can see that Single people have a high correlation (0.414) with having an income <=50K, which means that married people have a better chance of making more than 50k. Furthermore, when we consider the races, we see that the Black population, Hispanic population, Amer-Indian population, Asian population and White population have relatively low correlations with an income bracket of <=50k (0.0848, 0.0346, 0.0342, 0.00669, -0.0925 respectively). \n",
    "From this we can conclude that Race/Ethnicity does not have an impact on how much a person can earn considering the relatively low correlations with the income brackets. "
   ]
  },
  {
   "cell_type": "code",
   "execution_count": 166,
   "id": "234f79c6",
   "metadata": {},
   "outputs": [],
   "source": [
    "# Question 8\n",
    "# young = <=16\n",
    "# mid age = 17< x < 65\n",
    "# old = >65\n",
    "# df3 = df1\n",
    "# df3['age_discretized'] = np.where(df3['age']<=16, \"young\", np.where(df3['age']>65, \"old\", \"mid_age\"))\n",
    "# df3.head(10)"
   ]
  },
  {
   "cell_type": "code",
   "execution_count": 173,
   "id": "d713bef1",
   "metadata": {},
   "outputs": [
    {
     "data": {
      "text/html": [
       "<div>\n",
       "<style scoped>\n",
       "    .dataframe tbody tr th:only-of-type {\n",
       "        vertical-align: middle;\n",
       "    }\n",
       "\n",
       "    .dataframe tbody tr th {\n",
       "        vertical-align: top;\n",
       "    }\n",
       "\n",
       "    .dataframe thead th {\n",
       "        text-align: right;\n",
       "    }\n",
       "</style>\n",
       "<table border=\"1\" class=\"dataframe\">\n",
       "  <thead>\n",
       "    <tr style=\"text-align: right;\">\n",
       "      <th></th>\n",
       "      <th>age</th>\n",
       "      <th>workclass</th>\n",
       "      <th>education</th>\n",
       "      <th>marital-status</th>\n",
       "      <th>race</th>\n",
       "      <th>sex</th>\n",
       "      <th>hours-per-week</th>\n",
       "      <th>income</th>\n",
       "      <th>age_discretized</th>\n",
       "    </tr>\n",
       "  </thead>\n",
       "  <tbody>\n",
       "    <tr>\n",
       "      <th>0</th>\n",
       "      <td>39</td>\n",
       "      <td>Public</td>\n",
       "      <td>13</td>\n",
       "      <td>Single</td>\n",
       "      <td>White</td>\n",
       "      <td>Male</td>\n",
       "      <td>40</td>\n",
       "      <td>&lt;=50K</td>\n",
       "      <td>mid_age</td>\n",
       "    </tr>\n",
       "    <tr>\n",
       "      <th>1</th>\n",
       "      <td>50</td>\n",
       "      <td>Self-emp</td>\n",
       "      <td>13</td>\n",
       "      <td>Married</td>\n",
       "      <td>White</td>\n",
       "      <td>Male</td>\n",
       "      <td>13</td>\n",
       "      <td>&lt;=50K</td>\n",
       "      <td>mid_age</td>\n",
       "    </tr>\n",
       "    <tr>\n",
       "      <th>2</th>\n",
       "      <td>38</td>\n",
       "      <td>Private</td>\n",
       "      <td>9</td>\n",
       "      <td>Single</td>\n",
       "      <td>White</td>\n",
       "      <td>Male</td>\n",
       "      <td>40</td>\n",
       "      <td>&lt;=50K</td>\n",
       "      <td>mid_age</td>\n",
       "    </tr>\n",
       "    <tr>\n",
       "      <th>3</th>\n",
       "      <td>53</td>\n",
       "      <td>Private</td>\n",
       "      <td>7</td>\n",
       "      <td>Married</td>\n",
       "      <td>Black</td>\n",
       "      <td>Male</td>\n",
       "      <td>40</td>\n",
       "      <td>&lt;=50K</td>\n",
       "      <td>mid_age</td>\n",
       "    </tr>\n",
       "    <tr>\n",
       "      <th>4</th>\n",
       "      <td>28</td>\n",
       "      <td>Private</td>\n",
       "      <td>13</td>\n",
       "      <td>Married</td>\n",
       "      <td>Black</td>\n",
       "      <td>Female</td>\n",
       "      <td>40</td>\n",
       "      <td>&lt;=50K</td>\n",
       "      <td>mid_age</td>\n",
       "    </tr>\n",
       "    <tr>\n",
       "      <th>5</th>\n",
       "      <td>37</td>\n",
       "      <td>Private</td>\n",
       "      <td>14</td>\n",
       "      <td>Married</td>\n",
       "      <td>White</td>\n",
       "      <td>Female</td>\n",
       "      <td>40</td>\n",
       "      <td>&lt;=50K</td>\n",
       "      <td>mid_age</td>\n",
       "    </tr>\n",
       "    <tr>\n",
       "      <th>6</th>\n",
       "      <td>49</td>\n",
       "      <td>Private</td>\n",
       "      <td>5</td>\n",
       "      <td>Married</td>\n",
       "      <td>Black</td>\n",
       "      <td>Female</td>\n",
       "      <td>16</td>\n",
       "      <td>&lt;=50K</td>\n",
       "      <td>mid_age</td>\n",
       "    </tr>\n",
       "    <tr>\n",
       "      <th>7</th>\n",
       "      <td>52</td>\n",
       "      <td>Self-emp</td>\n",
       "      <td>9</td>\n",
       "      <td>Married</td>\n",
       "      <td>White</td>\n",
       "      <td>Male</td>\n",
       "      <td>45</td>\n",
       "      <td>&gt;50K</td>\n",
       "      <td>mid_age</td>\n",
       "    </tr>\n",
       "    <tr>\n",
       "      <th>8</th>\n",
       "      <td>31</td>\n",
       "      <td>Private</td>\n",
       "      <td>14</td>\n",
       "      <td>Single</td>\n",
       "      <td>White</td>\n",
       "      <td>Female</td>\n",
       "      <td>50</td>\n",
       "      <td>&gt;50K</td>\n",
       "      <td>mid_age</td>\n",
       "    </tr>\n",
       "    <tr>\n",
       "      <th>9</th>\n",
       "      <td>42</td>\n",
       "      <td>Private</td>\n",
       "      <td>13</td>\n",
       "      <td>Married</td>\n",
       "      <td>White</td>\n",
       "      <td>Male</td>\n",
       "      <td>40</td>\n",
       "      <td>&gt;50K</td>\n",
       "      <td>mid_age</td>\n",
       "    </tr>\n",
       "  </tbody>\n",
       "</table>\n",
       "</div>"
      ],
      "text/plain": [
       "   age workclass  education marital-status   race     sex  hours-per-week  \\\n",
       "0   39    Public         13         Single  White    Male              40   \n",
       "1   50  Self-emp         13        Married  White    Male              13   \n",
       "2   38   Private          9         Single  White    Male              40   \n",
       "3   53   Private          7        Married  Black    Male              40   \n",
       "4   28   Private         13        Married  Black  Female              40   \n",
       "5   37   Private         14        Married  White  Female              40   \n",
       "6   49   Private          5        Married  Black  Female              16   \n",
       "7   52  Self-emp          9        Married  White    Male              45   \n",
       "8   31   Private         14         Single  White  Female              50   \n",
       "9   42   Private         13        Married  White    Male              40   \n",
       "\n",
       "  income age_discretized  \n",
       "0  <=50K         mid_age  \n",
       "1  <=50K         mid_age  \n",
       "2  <=50K         mid_age  \n",
       "3  <=50K         mid_age  \n",
       "4  <=50K         mid_age  \n",
       "5  <=50K         mid_age  \n",
       "6  <=50K         mid_age  \n",
       "7   >50K         mid_age  \n",
       "8   >50K         mid_age  \n",
       "9   >50K         mid_age  "
      ]
     },
     "execution_count": 173,
     "metadata": {},
     "output_type": "execute_result"
    }
   ],
   "source": [
    "#Question 8\n",
    "df3 = pd.concat([df1,pd.Series(data=np.where(df3['age']<=16, \"young\", np.where(df3['age']>65, \"old\", \"mid_age\")),name='age_discretized')],axis=1)\n",
    "df3.head(10)"
   ]
  },
  {
   "cell_type": "code",
   "execution_count": 182,
   "id": "df2bd863",
   "metadata": {},
   "outputs": [],
   "source": [
    "def min_max(data, columns):\n",
    "    for i in columns:\n",
    "        data[str(i)+'_min_max_normalized'] = (data[i]-data[i].min())/(data[i].max()-data[i].min())\n",
    "    return data\n",
    "\n",
    "def z_normalize(data, columns):\n",
    "    for i in columns:\n",
    "        data[str(i)+'_z_normalized'] = (data[i]-data[i].mean())/data[i].std()\n",
    "    return data"
   ]
  },
  {
   "cell_type": "code",
   "execution_count": 188,
   "id": "ea5954ad",
   "metadata": {},
   "outputs": [
    {
     "data": {
      "text/html": [
       "<div>\n",
       "<style scoped>\n",
       "    .dataframe tbody tr th:only-of-type {\n",
       "        vertical-align: middle;\n",
       "    }\n",
       "\n",
       "    .dataframe tbody tr th {\n",
       "        vertical-align: top;\n",
       "    }\n",
       "\n",
       "    .dataframe thead th {\n",
       "        text-align: right;\n",
       "    }\n",
       "</style>\n",
       "<table border=\"1\" class=\"dataframe\">\n",
       "  <thead>\n",
       "    <tr style=\"text-align: right;\">\n",
       "      <th></th>\n",
       "      <th>age</th>\n",
       "      <th>workclass</th>\n",
       "      <th>education</th>\n",
       "      <th>marital-status</th>\n",
       "      <th>race</th>\n",
       "      <th>sex</th>\n",
       "      <th>hours-per-week</th>\n",
       "      <th>income</th>\n",
       "      <th>hours-per-week_min_max_normalized</th>\n",
       "    </tr>\n",
       "  </thead>\n",
       "  <tbody>\n",
       "    <tr>\n",
       "      <th>0</th>\n",
       "      <td>39</td>\n",
       "      <td>Public</td>\n",
       "      <td>13</td>\n",
       "      <td>Single</td>\n",
       "      <td>White</td>\n",
       "      <td>Male</td>\n",
       "      <td>40</td>\n",
       "      <td>&lt;=50K</td>\n",
       "      <td>0.397959</td>\n",
       "    </tr>\n",
       "    <tr>\n",
       "      <th>1</th>\n",
       "      <td>50</td>\n",
       "      <td>Self-emp</td>\n",
       "      <td>13</td>\n",
       "      <td>Married</td>\n",
       "      <td>White</td>\n",
       "      <td>Male</td>\n",
       "      <td>13</td>\n",
       "      <td>&lt;=50K</td>\n",
       "      <td>0.122449</td>\n",
       "    </tr>\n",
       "    <tr>\n",
       "      <th>2</th>\n",
       "      <td>38</td>\n",
       "      <td>Private</td>\n",
       "      <td>9</td>\n",
       "      <td>Single</td>\n",
       "      <td>White</td>\n",
       "      <td>Male</td>\n",
       "      <td>40</td>\n",
       "      <td>&lt;=50K</td>\n",
       "      <td>0.397959</td>\n",
       "    </tr>\n",
       "    <tr>\n",
       "      <th>3</th>\n",
       "      <td>53</td>\n",
       "      <td>Private</td>\n",
       "      <td>7</td>\n",
       "      <td>Married</td>\n",
       "      <td>Black</td>\n",
       "      <td>Male</td>\n",
       "      <td>40</td>\n",
       "      <td>&lt;=50K</td>\n",
       "      <td>0.397959</td>\n",
       "    </tr>\n",
       "    <tr>\n",
       "      <th>4</th>\n",
       "      <td>28</td>\n",
       "      <td>Private</td>\n",
       "      <td>13</td>\n",
       "      <td>Married</td>\n",
       "      <td>Black</td>\n",
       "      <td>Female</td>\n",
       "      <td>40</td>\n",
       "      <td>&lt;=50K</td>\n",
       "      <td>0.397959</td>\n",
       "    </tr>\n",
       "    <tr>\n",
       "      <th>5</th>\n",
       "      <td>37</td>\n",
       "      <td>Private</td>\n",
       "      <td>14</td>\n",
       "      <td>Married</td>\n",
       "      <td>White</td>\n",
       "      <td>Female</td>\n",
       "      <td>40</td>\n",
       "      <td>&lt;=50K</td>\n",
       "      <td>0.397959</td>\n",
       "    </tr>\n",
       "    <tr>\n",
       "      <th>6</th>\n",
       "      <td>49</td>\n",
       "      <td>Private</td>\n",
       "      <td>5</td>\n",
       "      <td>Married</td>\n",
       "      <td>Black</td>\n",
       "      <td>Female</td>\n",
       "      <td>16</td>\n",
       "      <td>&lt;=50K</td>\n",
       "      <td>0.153061</td>\n",
       "    </tr>\n",
       "    <tr>\n",
       "      <th>7</th>\n",
       "      <td>52</td>\n",
       "      <td>Self-emp</td>\n",
       "      <td>9</td>\n",
       "      <td>Married</td>\n",
       "      <td>White</td>\n",
       "      <td>Male</td>\n",
       "      <td>45</td>\n",
       "      <td>&gt;50K</td>\n",
       "      <td>0.448980</td>\n",
       "    </tr>\n",
       "    <tr>\n",
       "      <th>8</th>\n",
       "      <td>31</td>\n",
       "      <td>Private</td>\n",
       "      <td>14</td>\n",
       "      <td>Single</td>\n",
       "      <td>White</td>\n",
       "      <td>Female</td>\n",
       "      <td>50</td>\n",
       "      <td>&gt;50K</td>\n",
       "      <td>0.500000</td>\n",
       "    </tr>\n",
       "    <tr>\n",
       "      <th>9</th>\n",
       "      <td>42</td>\n",
       "      <td>Private</td>\n",
       "      <td>13</td>\n",
       "      <td>Married</td>\n",
       "      <td>White</td>\n",
       "      <td>Male</td>\n",
       "      <td>40</td>\n",
       "      <td>&gt;50K</td>\n",
       "      <td>0.397959</td>\n",
       "    </tr>\n",
       "  </tbody>\n",
       "</table>\n",
       "</div>"
      ],
      "text/plain": [
       "   age workclass  education marital-status   race     sex  hours-per-week  \\\n",
       "0   39    Public         13         Single  White    Male              40   \n",
       "1   50  Self-emp         13        Married  White    Male              13   \n",
       "2   38   Private          9         Single  White    Male              40   \n",
       "3   53   Private          7        Married  Black    Male              40   \n",
       "4   28   Private         13        Married  Black  Female              40   \n",
       "5   37   Private         14        Married  White  Female              40   \n",
       "6   49   Private          5        Married  Black  Female              16   \n",
       "7   52  Self-emp          9        Married  White    Male              45   \n",
       "8   31   Private         14         Single  White  Female              50   \n",
       "9   42   Private         13        Married  White    Male              40   \n",
       "\n",
       "  income  hours-per-week_min_max_normalized  \n",
       "0  <=50K                           0.397959  \n",
       "1  <=50K                           0.122449  \n",
       "2  <=50K                           0.397959  \n",
       "3  <=50K                           0.397959  \n",
       "4  <=50K                           0.397959  \n",
       "5  <=50K                           0.397959  \n",
       "6  <=50K                           0.153061  \n",
       "7   >50K                           0.448980  \n",
       "8   >50K                           0.500000  \n",
       "9   >50K                           0.397959  "
      ]
     },
     "execution_count": 188,
     "metadata": {},
     "output_type": "execute_result"
    }
   ],
   "source": [
    "min_max_df = min_max(df1,['hours-per-week'])\n",
    "min_max_df.head(10)"
   ]
  },
  {
   "cell_type": "code",
   "execution_count": 189,
   "id": "3d55103c",
   "metadata": {},
   "outputs": [
    {
     "data": {
      "text/html": [
       "<div>\n",
       "<style scoped>\n",
       "    .dataframe tbody tr th:only-of-type {\n",
       "        vertical-align: middle;\n",
       "    }\n",
       "\n",
       "    .dataframe tbody tr th {\n",
       "        vertical-align: top;\n",
       "    }\n",
       "\n",
       "    .dataframe thead th {\n",
       "        text-align: right;\n",
       "    }\n",
       "</style>\n",
       "<table border=\"1\" class=\"dataframe\">\n",
       "  <thead>\n",
       "    <tr style=\"text-align: right;\">\n",
       "      <th></th>\n",
       "      <th>age</th>\n",
       "      <th>workclass</th>\n",
       "      <th>education</th>\n",
       "      <th>marital-status</th>\n",
       "      <th>race</th>\n",
       "      <th>sex</th>\n",
       "      <th>hours-per-week</th>\n",
       "      <th>income</th>\n",
       "      <th>hours-per-week_min_max_normalized</th>\n",
       "      <th>age_z_normalized</th>\n",
       "      <th>education_z_normalized</th>\n",
       "      <th>hours-per-week_z_normalized</th>\n",
       "    </tr>\n",
       "  </thead>\n",
       "  <tbody>\n",
       "    <tr>\n",
       "      <th>0</th>\n",
       "      <td>39</td>\n",
       "      <td>Public</td>\n",
       "      <td>13</td>\n",
       "      <td>Single</td>\n",
       "      <td>White</td>\n",
       "      <td>Male</td>\n",
       "      <td>40</td>\n",
       "      <td>&lt;=50K</td>\n",
       "      <td>0.397959</td>\n",
       "      <td>0.049582</td>\n",
       "      <td>1.130842</td>\n",
       "      <td>-0.090892</td>\n",
       "    </tr>\n",
       "    <tr>\n",
       "      <th>1</th>\n",
       "      <td>50</td>\n",
       "      <td>Self-emp</td>\n",
       "      <td>13</td>\n",
       "      <td>Married</td>\n",
       "      <td>White</td>\n",
       "      <td>Male</td>\n",
       "      <td>13</td>\n",
       "      <td>&lt;=50K</td>\n",
       "      <td>0.122449</td>\n",
       "      <td>0.898208</td>\n",
       "      <td>1.130842</td>\n",
       "      <td>-2.362742</td>\n",
       "    </tr>\n",
       "    <tr>\n",
       "      <th>2</th>\n",
       "      <td>38</td>\n",
       "      <td>Private</td>\n",
       "      <td>9</td>\n",
       "      <td>Single</td>\n",
       "      <td>White</td>\n",
       "      <td>Male</td>\n",
       "      <td>40</td>\n",
       "      <td>&lt;=50K</td>\n",
       "      <td>0.397959</td>\n",
       "      <td>-0.027566</td>\n",
       "      <td>-0.442649</td>\n",
       "      <td>-0.090892</td>\n",
       "    </tr>\n",
       "    <tr>\n",
       "      <th>3</th>\n",
       "      <td>53</td>\n",
       "      <td>Private</td>\n",
       "      <td>7</td>\n",
       "      <td>Married</td>\n",
       "      <td>Black</td>\n",
       "      <td>Male</td>\n",
       "      <td>40</td>\n",
       "      <td>&lt;=50K</td>\n",
       "      <td>0.397959</td>\n",
       "      <td>1.129651</td>\n",
       "      <td>-1.229394</td>\n",
       "      <td>-0.090892</td>\n",
       "    </tr>\n",
       "    <tr>\n",
       "      <th>4</th>\n",
       "      <td>28</td>\n",
       "      <td>Private</td>\n",
       "      <td>13</td>\n",
       "      <td>Married</td>\n",
       "      <td>Black</td>\n",
       "      <td>Female</td>\n",
       "      <td>40</td>\n",
       "      <td>&lt;=50K</td>\n",
       "      <td>0.397959</td>\n",
       "      <td>-0.799044</td>\n",
       "      <td>1.130842</td>\n",
       "      <td>-0.090892</td>\n",
       "    </tr>\n",
       "    <tr>\n",
       "      <th>5</th>\n",
       "      <td>37</td>\n",
       "      <td>Private</td>\n",
       "      <td>14</td>\n",
       "      <td>Married</td>\n",
       "      <td>White</td>\n",
       "      <td>Female</td>\n",
       "      <td>40</td>\n",
       "      <td>&lt;=50K</td>\n",
       "      <td>0.397959</td>\n",
       "      <td>-0.104713</td>\n",
       "      <td>1.524215</td>\n",
       "      <td>-0.090892</td>\n",
       "    </tr>\n",
       "    <tr>\n",
       "      <th>6</th>\n",
       "      <td>49</td>\n",
       "      <td>Private</td>\n",
       "      <td>5</td>\n",
       "      <td>Married</td>\n",
       "      <td>Black</td>\n",
       "      <td>Female</td>\n",
       "      <td>16</td>\n",
       "      <td>&lt;=50K</td>\n",
       "      <td>0.153061</td>\n",
       "      <td>0.821060</td>\n",
       "      <td>-2.016140</td>\n",
       "      <td>-2.110314</td>\n",
       "    </tr>\n",
       "    <tr>\n",
       "      <th>7</th>\n",
       "      <td>52</td>\n",
       "      <td>Self-emp</td>\n",
       "      <td>9</td>\n",
       "      <td>Married</td>\n",
       "      <td>White</td>\n",
       "      <td>Male</td>\n",
       "      <td>45</td>\n",
       "      <td>&gt;50K</td>\n",
       "      <td>0.448980</td>\n",
       "      <td>1.052503</td>\n",
       "      <td>-0.442649</td>\n",
       "      <td>0.329821</td>\n",
       "    </tr>\n",
       "    <tr>\n",
       "      <th>8</th>\n",
       "      <td>31</td>\n",
       "      <td>Private</td>\n",
       "      <td>14</td>\n",
       "      <td>Single</td>\n",
       "      <td>White</td>\n",
       "      <td>Female</td>\n",
       "      <td>50</td>\n",
       "      <td>&gt;50K</td>\n",
       "      <td>0.500000</td>\n",
       "      <td>-0.567600</td>\n",
       "      <td>1.524215</td>\n",
       "      <td>0.750534</td>\n",
       "    </tr>\n",
       "    <tr>\n",
       "      <th>9</th>\n",
       "      <td>42</td>\n",
       "      <td>Private</td>\n",
       "      <td>13</td>\n",
       "      <td>Married</td>\n",
       "      <td>White</td>\n",
       "      <td>Male</td>\n",
       "      <td>40</td>\n",
       "      <td>&gt;50K</td>\n",
       "      <td>0.397959</td>\n",
       "      <td>0.281025</td>\n",
       "      <td>1.130842</td>\n",
       "      <td>-0.090892</td>\n",
       "    </tr>\n",
       "  </tbody>\n",
       "</table>\n",
       "</div>"
      ],
      "text/plain": [
       "   age workclass  education marital-status   race     sex  hours-per-week  \\\n",
       "0   39    Public         13         Single  White    Male              40   \n",
       "1   50  Self-emp         13        Married  White    Male              13   \n",
       "2   38   Private          9         Single  White    Male              40   \n",
       "3   53   Private          7        Married  Black    Male              40   \n",
       "4   28   Private         13        Married  Black  Female              40   \n",
       "5   37   Private         14        Married  White  Female              40   \n",
       "6   49   Private          5        Married  Black  Female              16   \n",
       "7   52  Self-emp          9        Married  White    Male              45   \n",
       "8   31   Private         14         Single  White  Female              50   \n",
       "9   42   Private         13        Married  White    Male              40   \n",
       "\n",
       "  income  hours-per-week_min_max_normalized  age_z_normalized  \\\n",
       "0  <=50K                           0.397959          0.049582   \n",
       "1  <=50K                           0.122449          0.898208   \n",
       "2  <=50K                           0.397959         -0.027566   \n",
       "3  <=50K                           0.397959          1.129651   \n",
       "4  <=50K                           0.397959         -0.799044   \n",
       "5  <=50K                           0.397959         -0.104713   \n",
       "6  <=50K                           0.153061          0.821060   \n",
       "7   >50K                           0.448980          1.052503   \n",
       "8   >50K                           0.500000         -0.567600   \n",
       "9   >50K                           0.397959          0.281025   \n",
       "\n",
       "   education_z_normalized  hours-per-week_z_normalized  \n",
       "0                1.130842                    -0.090892  \n",
       "1                1.130842                    -2.362742  \n",
       "2               -0.442649                    -0.090892  \n",
       "3               -1.229394                    -0.090892  \n",
       "4                1.130842                    -0.090892  \n",
       "5                1.524215                    -0.090892  \n",
       "6               -2.016140                    -2.110314  \n",
       "7               -0.442649                     0.329821  \n",
       "8                1.524215                     0.750534  \n",
       "9                1.130842                    -0.090892  "
      ]
     },
     "execution_count": 189,
     "metadata": {},
     "output_type": "execute_result"
    }
   ],
   "source": [
    "z_normalized_df = z_normalize(df1,['age','education','hours-per-week'])\n",
    "z_normalized_df.head(10)"
   ]
  },
  {
   "cell_type": "code",
   "execution_count": 192,
   "id": "cb3b5a22",
   "metadata": {
    "scrolled": true
   },
   "outputs": [
    {
     "data": {
      "text/html": [
       "<div>\n",
       "<style scoped>\n",
       "    .dataframe tbody tr th:only-of-type {\n",
       "        vertical-align: middle;\n",
       "    }\n",
       "\n",
       "    .dataframe tbody tr th {\n",
       "        vertical-align: top;\n",
       "    }\n",
       "\n",
       "    .dataframe thead th {\n",
       "        text-align: right;\n",
       "    }\n",
       "</style>\n",
       "<table border=\"1\" class=\"dataframe\">\n",
       "  <thead>\n",
       "    <tr style=\"text-align: right;\">\n",
       "      <th></th>\n",
       "      <th>hours-per-week</th>\n",
       "      <th>hours-per-week_min_max_normalized</th>\n",
       "      <th>hours-per-week_z_normalized</th>\n",
       "    </tr>\n",
       "  </thead>\n",
       "  <tbody>\n",
       "    <tr>\n",
       "      <th>0</th>\n",
       "      <td>40</td>\n",
       "      <td>0.397959</td>\n",
       "      <td>-0.090892</td>\n",
       "    </tr>\n",
       "    <tr>\n",
       "      <th>1</th>\n",
       "      <td>13</td>\n",
       "      <td>0.122449</td>\n",
       "      <td>-2.362742</td>\n",
       "    </tr>\n",
       "    <tr>\n",
       "      <th>2</th>\n",
       "      <td>40</td>\n",
       "      <td>0.397959</td>\n",
       "      <td>-0.090892</td>\n",
       "    </tr>\n",
       "    <tr>\n",
       "      <th>3</th>\n",
       "      <td>40</td>\n",
       "      <td>0.397959</td>\n",
       "      <td>-0.090892</td>\n",
       "    </tr>\n",
       "    <tr>\n",
       "      <th>4</th>\n",
       "      <td>40</td>\n",
       "      <td>0.397959</td>\n",
       "      <td>-0.090892</td>\n",
       "    </tr>\n",
       "    <tr>\n",
       "      <th>5</th>\n",
       "      <td>40</td>\n",
       "      <td>0.397959</td>\n",
       "      <td>-0.090892</td>\n",
       "    </tr>\n",
       "    <tr>\n",
       "      <th>6</th>\n",
       "      <td>16</td>\n",
       "      <td>0.153061</td>\n",
       "      <td>-2.110314</td>\n",
       "    </tr>\n",
       "    <tr>\n",
       "      <th>7</th>\n",
       "      <td>45</td>\n",
       "      <td>0.448980</td>\n",
       "      <td>0.329821</td>\n",
       "    </tr>\n",
       "    <tr>\n",
       "      <th>8</th>\n",
       "      <td>50</td>\n",
       "      <td>0.500000</td>\n",
       "      <td>0.750534</td>\n",
       "    </tr>\n",
       "    <tr>\n",
       "      <th>9</th>\n",
       "      <td>40</td>\n",
       "      <td>0.397959</td>\n",
       "      <td>-0.090892</td>\n",
       "    </tr>\n",
       "  </tbody>\n",
       "</table>\n",
       "</div>"
      ],
      "text/plain": [
       "   hours-per-week  hours-per-week_min_max_normalized  \\\n",
       "0              40                           0.397959   \n",
       "1              13                           0.122449   \n",
       "2              40                           0.397959   \n",
       "3              40                           0.397959   \n",
       "4              40                           0.397959   \n",
       "5              40                           0.397959   \n",
       "6              16                           0.153061   \n",
       "7              45                           0.448980   \n",
       "8              50                           0.500000   \n",
       "9              40                           0.397959   \n",
       "\n",
       "   hours-per-week_z_normalized  \n",
       "0                    -0.090892  \n",
       "1                    -2.362742  \n",
       "2                    -0.090892  \n",
       "3                    -0.090892  \n",
       "4                    -0.090892  \n",
       "5                    -0.090892  \n",
       "6                    -2.110314  \n",
       "7                     0.329821  \n",
       "8                     0.750534  \n",
       "9                    -0.090892  "
      ]
     },
     "execution_count": 192,
     "metadata": {},
     "output_type": "execute_result"
    }
   ],
   "source": [
    "new_df = z_normalized_df[['hours-per-week','hours-per-week_min_max_normalized','hours-per-week_z_normalized']]\n",
    "new_df.head(10)"
   ]
  },
  {
   "cell_type": "code",
   "execution_count": 274,
   "id": "c3594238",
   "metadata": {
    "scrolled": false
   },
   "outputs": [
    {
     "data": {
      "text/plain": [
       "object     5\n",
       "int64      2\n",
       "float64    1\n",
       "dtype: int64"
      ]
     },
     "execution_count": 274,
     "metadata": {},
     "output_type": "execute_result"
    }
   ],
   "source": [
    "# Question 10\n",
    "#(a)\n",
    "df_modified = pd.read_csv('adult-modified-missing-vals.csv',  na_values=[\"?\"])\n",
    "df_modified.dtypes.value_counts()"
   ]
  },
  {
   "cell_type": "code",
   "execution_count": 275,
   "id": "bd8a0173",
   "metadata": {
    "scrolled": true
   },
   "outputs": [
    {
     "data": {
      "text/plain": [
       "age               198\n",
       "workclass         588\n",
       "education           0\n",
       "marital-status      0\n",
       "race                0\n",
       "sex                 0\n",
       "hours-per-week      0\n",
       "income              0\n",
       "dtype: int64"
      ]
     },
     "execution_count": 275,
     "metadata": {},
     "output_type": "execute_result"
    }
   ],
   "source": [
    "#(b)\n",
    "df_modified.isna().sum()"
   ]
  },
  {
   "cell_type": "code",
   "execution_count": 276,
   "id": "7c25f0d4",
   "metadata": {
    "scrolled": true
   },
   "outputs": [
    {
     "data": {
      "text/html": [
       "<div>\n",
       "<style scoped>\n",
       "    .dataframe tbody tr th:only-of-type {\n",
       "        vertical-align: middle;\n",
       "    }\n",
       "\n",
       "    .dataframe tbody tr th {\n",
       "        vertical-align: top;\n",
       "    }\n",
       "\n",
       "    .dataframe thead th {\n",
       "        text-align: right;\n",
       "    }\n",
       "</style>\n",
       "<table border=\"1\" class=\"dataframe\">\n",
       "  <thead>\n",
       "    <tr style=\"text-align: right;\">\n",
       "      <th></th>\n",
       "      <th>age</th>\n",
       "      <th>workclass</th>\n",
       "      <th>education</th>\n",
       "      <th>marital-status</th>\n",
       "      <th>race</th>\n",
       "      <th>sex</th>\n",
       "      <th>hours-per-week</th>\n",
       "      <th>income</th>\n",
       "    </tr>\n",
       "  </thead>\n",
       "  <tbody>\n",
       "    <tr>\n",
       "      <th>19</th>\n",
       "      <td>NaN</td>\n",
       "      <td>Self-emp</td>\n",
       "      <td>14</td>\n",
       "      <td>Single</td>\n",
       "      <td>White</td>\n",
       "      <td>Female</td>\n",
       "      <td>45</td>\n",
       "      <td>&gt;50K</td>\n",
       "    </tr>\n",
       "    <tr>\n",
       "      <th>27</th>\n",
       "      <td>NaN</td>\n",
       "      <td>NaN</td>\n",
       "      <td>10</td>\n",
       "      <td>Married</td>\n",
       "      <td>Asian</td>\n",
       "      <td>Male</td>\n",
       "      <td>60</td>\n",
       "      <td>&gt;50K</td>\n",
       "    </tr>\n",
       "    <tr>\n",
       "      <th>40</th>\n",
       "      <td>NaN</td>\n",
       "      <td>Private</td>\n",
       "      <td>5</td>\n",
       "      <td>Married</td>\n",
       "      <td>White</td>\n",
       "      <td>Male</td>\n",
       "      <td>43</td>\n",
       "      <td>&lt;=50K</td>\n",
       "    </tr>\n",
       "    <tr>\n",
       "      <th>65</th>\n",
       "      <td>NaN</td>\n",
       "      <td>Private</td>\n",
       "      <td>9</td>\n",
       "      <td>Married</td>\n",
       "      <td>White</td>\n",
       "      <td>Male</td>\n",
       "      <td>40</td>\n",
       "      <td>&lt;=50K</td>\n",
       "    </tr>\n",
       "    <tr>\n",
       "      <th>80</th>\n",
       "      <td>NaN</td>\n",
       "      <td>Private</td>\n",
       "      <td>9</td>\n",
       "      <td>Single</td>\n",
       "      <td>White</td>\n",
       "      <td>Male</td>\n",
       "      <td>30</td>\n",
       "      <td>&lt;=50K</td>\n",
       "    </tr>\n",
       "  </tbody>\n",
       "</table>\n",
       "</div>"
      ],
      "text/plain": [
       "    age workclass  education marital-status   race     sex  hours-per-week  \\\n",
       "19  NaN  Self-emp         14         Single  White  Female              45   \n",
       "27  NaN       NaN         10        Married  Asian    Male              60   \n",
       "40  NaN   Private          5        Married  White    Male              43   \n",
       "65  NaN   Private          9        Married  White    Male              40   \n",
       "80  NaN   Private          9         Single  White    Male              30   \n",
       "\n",
       "   income  \n",
       "19   >50K  \n",
       "27   >50K  \n",
       "40  <=50K  \n",
       "65  <=50K  \n",
       "80  <=50K  "
      ]
     },
     "execution_count": 276,
     "metadata": {},
     "output_type": "execute_result"
    }
   ],
   "source": [
    "df_age_na = df_modified[df_modified['age'].isna()]\n",
    "df_workclass_na = df_modified[df_modified['workclass'].isna()]\n",
    "df_age_na.head()"
   ]
  },
  {
   "cell_type": "code",
   "execution_count": 277,
   "id": "cd89cfad",
   "metadata": {},
   "outputs": [
    {
     "data": {
      "text/html": [
       "<div>\n",
       "<style scoped>\n",
       "    .dataframe tbody tr th:only-of-type {\n",
       "        vertical-align: middle;\n",
       "    }\n",
       "\n",
       "    .dataframe tbody tr th {\n",
       "        vertical-align: top;\n",
       "    }\n",
       "\n",
       "    .dataframe thead th {\n",
       "        text-align: right;\n",
       "    }\n",
       "</style>\n",
       "<table border=\"1\" class=\"dataframe\">\n",
       "  <thead>\n",
       "    <tr style=\"text-align: right;\">\n",
       "      <th></th>\n",
       "      <th>age</th>\n",
       "      <th>workclass</th>\n",
       "      <th>education</th>\n",
       "      <th>marital-status</th>\n",
       "      <th>race</th>\n",
       "      <th>sex</th>\n",
       "      <th>hours-per-week</th>\n",
       "      <th>income</th>\n",
       "    </tr>\n",
       "  </thead>\n",
       "  <tbody>\n",
       "    <tr>\n",
       "      <th>27</th>\n",
       "      <td>NaN</td>\n",
       "      <td>NaN</td>\n",
       "      <td>10</td>\n",
       "      <td>Married</td>\n",
       "      <td>Asian</td>\n",
       "      <td>Male</td>\n",
       "      <td>60</td>\n",
       "      <td>&gt;50K</td>\n",
       "    </tr>\n",
       "    <tr>\n",
       "      <th>61</th>\n",
       "      <td>32.0</td>\n",
       "      <td>NaN</td>\n",
       "      <td>4</td>\n",
       "      <td>Married</td>\n",
       "      <td>White</td>\n",
       "      <td>Male</td>\n",
       "      <td>40</td>\n",
       "      <td>&lt;=50K</td>\n",
       "    </tr>\n",
       "    <tr>\n",
       "      <th>69</th>\n",
       "      <td>25.0</td>\n",
       "      <td>NaN</td>\n",
       "      <td>10</td>\n",
       "      <td>Single</td>\n",
       "      <td>White</td>\n",
       "      <td>Male</td>\n",
       "      <td>40</td>\n",
       "      <td>&lt;=50K</td>\n",
       "    </tr>\n",
       "    <tr>\n",
       "      <th>77</th>\n",
       "      <td>67.0</td>\n",
       "      <td>NaN</td>\n",
       "      <td>6</td>\n",
       "      <td>Married</td>\n",
       "      <td>White</td>\n",
       "      <td>Male</td>\n",
       "      <td>2</td>\n",
       "      <td>&lt;=50K</td>\n",
       "    </tr>\n",
       "    <tr>\n",
       "      <th>106</th>\n",
       "      <td>17.0</td>\n",
       "      <td>NaN</td>\n",
       "      <td>6</td>\n",
       "      <td>Single</td>\n",
       "      <td>White</td>\n",
       "      <td>Female</td>\n",
       "      <td>32</td>\n",
       "      <td>&lt;=50K</td>\n",
       "    </tr>\n",
       "  </tbody>\n",
       "</table>\n",
       "</div>"
      ],
      "text/plain": [
       "      age workclass  education marital-status   race     sex  hours-per-week  \\\n",
       "27    NaN       NaN         10        Married  Asian    Male              60   \n",
       "61   32.0       NaN          4        Married  White    Male              40   \n",
       "69   25.0       NaN         10         Single  White    Male              40   \n",
       "77   67.0       NaN          6        Married  White    Male               2   \n",
       "106  17.0       NaN          6         Single  White  Female              32   \n",
       "\n",
       "    income  \n",
       "27    >50K  \n",
       "61   <=50K  \n",
       "69   <=50K  \n",
       "77   <=50K  \n",
       "106  <=50K  "
      ]
     },
     "execution_count": 277,
     "metadata": {},
     "output_type": "execute_result"
    }
   ],
   "source": [
    "df_workclass_na.head()"
   ]
  },
  {
   "cell_type": "code",
   "execution_count": 278,
   "id": "c73d7605",
   "metadata": {
    "scrolled": true
   },
   "outputs": [
    {
     "data": {
      "text/plain": [
       "0    39.0\n",
       "1    50.0\n",
       "2    38.0\n",
       "3    53.0\n",
       "4    28.0\n",
       "Name: age, dtype: float64"
      ]
     },
     "execution_count": 278,
     "metadata": {},
     "output_type": "execute_result"
    }
   ],
   "source": [
    "#c) \n",
    "df_modified['age'].fillna(int(df_modified['age'].mean()), inplace=True)\n",
    "df_modified['age'].head()\n",
    "\n",
    "#0    39.0\n",
    "#1    50.0\n",
    "#2    38.0\n",
    "#3    53.0\n",
    "#4    28.0\n",
    "#Name: age, dtype: float64"
   ]
  },
  {
   "cell_type": "code",
   "execution_count": 279,
   "id": "c26ee63a",
   "metadata": {
    "scrolled": true
   },
   "outputs": [
    {
     "data": {
      "text/plain": [
       "0"
      ]
     },
     "execution_count": 279,
     "metadata": {},
     "output_type": "execute_result"
    }
   ],
   "source": [
    "df_modified['age'].isna().sum()\n",
    "# sum of na's = 0 for the age column since it has been filled with the mean of the ages"
   ]
  },
  {
   "cell_type": "code",
   "execution_count": 281,
   "id": "ad769763",
   "metadata": {
    "scrolled": true
   },
   "outputs": [
    {
     "data": {
      "text/plain": [
       "age               0\n",
       "workclass         0\n",
       "education         0\n",
       "marital-status    0\n",
       "race              0\n",
       "sex               0\n",
       "hours-per-week    0\n",
       "income            0\n",
       "dtype: int64"
      ]
     },
     "execution_count": 281,
     "metadata": {},
     "output_type": "execute_result"
    }
   ],
   "source": [
    "#(d)\n",
    "df_modified = df_modified.dropna()\n",
    "#(e)\n",
    "df_modified.isna().sum()\n",
    "# age               0\n",
    "# workclass         0\n",
    "# education         0\n",
    "# marital-status    0\n",
    "# race              0\n",
    "# sex               0\n",
    "# hours-per-week    0\n",
    "# income            0\n",
    "# dtype: int64\n",
    "\n",
    "#no na values in the dataframe "
   ]
  },
  {
   "cell_type": "code",
   "execution_count": null,
   "id": "b9706e53",
   "metadata": {},
   "outputs": [],
   "source": []
  }
 ],
 "metadata": {
  "kernelspec": {
   "display_name": "Python 3 (ipykernel)",
   "language": "python",
   "name": "python3"
  },
  "language_info": {
   "codemirror_mode": {
    "name": "ipython",
    "version": 3
   },
   "file_extension": ".py",
   "mimetype": "text/x-python",
   "name": "python",
   "nbconvert_exporter": "python",
   "pygments_lexer": "ipython3",
   "version": "3.9.7"
  }
 },
 "nbformat": 4,
 "nbformat_minor": 5
}
