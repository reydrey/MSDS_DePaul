{
 "cells": [
  {
   "cell_type": "markdown",
   "metadata": {},
   "source": [
    "# DSC540 Project 2"
   ]
  },
  {
   "cell_type": "markdown",
   "metadata": {},
   "source": [
    "DePaul University  \n",
    "Ilyas Ustun, PhD  \n",
    "Chicago, IL  "
   ]
  },
  {
   "cell_type": "markdown",
   "metadata": {},
   "source": [
    "## Rules\n",
    "- Do not change the code already present in the notebook.\n",
    "- Write your code under the corresponding questions where you see `# Code here`. You are encouraged to use more than one cell.\n",
    "- Provide explanation in a separate Markdown formatted cell. \n",
    "- You can change the cell type by:\n",
    "    - Clicking on the outer area of the cell type you want to change,\n",
    "    - Go to the top, and select either Code or Markdown from the dropdown menu.\n",
    "- Be concise in your explanations and conclusions.\n",
    "- Write clear code and provide explanation to functions you create by using `#` comment sign.\n",
    "- For built-in function and methods you use from libraries, provide a very brief explanation of what they do.\n",
    "- Try to answer the questions by yourself. Use documentation from pandas, sklearn and similar libraries to solve the problem.\n",
    "- If you are stuck you can use different resources. Do not find an identical project and copy paste the solutions. \n",
    "- Write your name before beginning to code.\n",
    "\n",
    "> **Once you have completed your project, and you are done with coding restart your kernel and run everything. Make sure it runs without errors.**  \n",
    "    - For this go to the very top where the tabs are located:\n",
    "        - Kernel  \n",
    "            - Restart & Run All  \n",
    "    - We will check whether the code and results in this notebook is running fine.  \n",
    "\n",
    "\n",
    "Important:  \n",
    "- **Do NOT share the solutions with other people.**\n",
    "- **Do NOT share the solutions on the internet including but not limited to Github and other platforms.**\n",
    "- Sign the Honor Pledge below indicating that you have agreed to these rules listed here, and any other ethical and honor rules as required by the university.\n",
    "\n",
    "\n",
    "\n",
    "- **Deliverables:**\n",
    "    1. The Python Jupyter notebook file named properly with your name. Example: dsc540_project1_john_doe.ipynb\n",
    "    2. The HTML output of this code notebook names the same way. Example: dsc540_project1_john_doe.html\n",
    "        - File -> Download as -> HTML   \n",
    "    3. The label predictions as csv file. -> See last question.\n",
    "\n",
    "Good Luck!"
   ]
  },
  {
   "cell_type": "markdown",
   "metadata": {},
   "source": [
    "### Shreyas Ravi"
   ]
  },
  {
   "cell_type": "markdown",
   "metadata": {},
   "source": [
    "**Honor Pledge:**  \n",
    "I pledge on my honor that I, **Shreyas Ravi**, have followed the rules listed above, that I have not given or received any unauthorized assistance on this assignment. \n"
   ]
  },
  {
   "cell_type": "code",
   "execution_count": null,
   "metadata": {},
   "outputs": [],
   "source": []
  },
  {
   "cell_type": "markdown",
   "metadata": {},
   "source": [
    "\n",
    "## Project Description\n",
    "\n",
    "For this project we will be exploring publicly available data from [LendingClub.com](www.lendingclub.com).  \n",
    "Lending Club connects people who need money (borrowers) with people who have money (investors).   \n",
    "Hopefully, as an investor you would want to invest in people who showed a profile of having a high probability of paying you back. We will try to create a model that will help predict this.\n",
    "\n",
    "Check out more info on Lending Club on [Wikipedia](https://en.wikipedia.org/wiki/Lending_Club). Lending Club also had a [very interesting year in 2016](https://en.wikipedia.org/wiki/Lending_Club#2016).\n",
    "\n",
    "This dataset is from before they went public.\n",
    "\n",
    "We will use lending data from 2007-2010 and will try to classify and predict whether or not the borrower paid back their loan in full. You will analyze the data file provided. \n",
    "\n",
    "Here are what the columns represent:\n",
    "* credit.policy: 1 if the customer meets the credit underwriting criteria of LendingClub.com, and 0 otherwise.\n",
    "* purpose: The purpose of the loan (takes values \"credit_card\", \"debt_consolidation\", \"educational\", \"major_purchase\", \"small_business\", and \"all_other\").\n",
    "* int.rate: The interest rate of the loan, as a proportion (a rate of 11% would be stored as 0.11). Borrowers judged by LendingClub.com to be more risky are assigned higher interest rates.\n",
    "* installment: The monthly installments owed by the borrower if the loan is funded.\n",
    "* log.annual.inc: The natural log of the self-reported annual income of the borrower.\n",
    "* dti: The debt-to-income ratio of the borrower (amount of debt divided by annual income).\n",
    "* fico: The FICO credit score of the borrower.\n",
    "* days.with.cr.line: The number of days the borrower has had a credit line.\n",
    "* revol.bal: The borrower's revolving balance (amount unpaid at the end of the credit card billing cycle).\n",
    "* revol.util: The borrower's revolving line utilization rate (the amount of the credit line used relative to total credit available).\n",
    "* inq.last.6mths: The borrower's number of inquiries by creditors in the last 6 months.\n",
    "* delinq.2yrs: The number of times the borrower had been 30+ days past due on a payment in the past 2 years.\n",
    "* pub.rec: The borrower's number of derogatory public records (bankruptcy filings, tax liens, or judgments).\n",
    "* not.fully.paid: Whether the loan was paid back or not."
   ]
  },
  {
   "cell_type": "markdown",
   "metadata": {},
   "source": [
    "## Import Libraries\n",
    "\n",
    "**Import the usual libraries for pandas and plotting, and sklearn.**"
   ]
  },
  {
   "cell_type": "code",
   "execution_count": 3,
   "metadata": {},
   "outputs": [],
   "source": [
    "import pandas as pd\n",
    "import numpy as np\n",
    "import matplotlib.pyplot as plt\n",
    "import seaborn as sns\n"
   ]
  },
  {
   "cell_type": "code",
   "execution_count": 4,
   "metadata": {},
   "outputs": [
    {
     "data": {
      "text/plain": [
       "'0.24.2'"
      ]
     },
     "execution_count": 4,
     "metadata": {},
     "output_type": "execute_result"
    }
   ],
   "source": [
    "import sklearn\n",
    "sklearn.__version__"
   ]
  },
  {
   "cell_type": "code",
   "execution_count": 5,
   "metadata": {},
   "outputs": [],
   "source": [
    "pd.set_option('display.max_columns', 100)"
   ]
  },
  {
   "cell_type": "markdown",
   "metadata": {},
   "source": [
    "### These are the packages I used"
   ]
  },
  {
   "cell_type": "code",
   "execution_count": 2,
   "metadata": {},
   "outputs": [],
   "source": [
    "# Your package imports here\n",
    "import pandas as pd "
   ]
  },
  {
   "cell_type": "markdown",
   "metadata": {},
   "source": [
    "# Q1\n",
    "- Read in the dataset `loan_data.csv`\n",
    "- How many rows and variables are there?\n",
    "- What are the unique values of `not.fully.paid`?\n",
    "- `not.fully.paid` having a value of 1 means that the person who took the loan did not fully pay it back. What's the proportion of those people in the full dataset?"
   ]
  },
  {
   "cell_type": "markdown",
   "metadata": {},
   "source": [
    "## Get the Data\n",
    "\n",
    "**Use pandas to read loan_data.csv as a dataframe called loans.**"
   ]
  },
  {
   "cell_type": "code",
   "execution_count": 6,
   "metadata": {},
   "outputs": [],
   "source": [
    "loans = pd.read_csv('loans_train.csv')\n",
    "loans_outcome_not_known = pd.read_csv('loans_outcome_not_known.csv')"
   ]
  },
  {
   "cell_type": "code",
   "execution_count": 7,
   "metadata": {},
   "outputs": [
    {
     "data": {
      "text/html": [
       "<div>\n",
       "<style scoped>\n",
       "    .dataframe tbody tr th:only-of-type {\n",
       "        vertical-align: middle;\n",
       "    }\n",
       "\n",
       "    .dataframe tbody tr th {\n",
       "        vertical-align: top;\n",
       "    }\n",
       "\n",
       "    .dataframe thead th {\n",
       "        text-align: right;\n",
       "    }\n",
       "</style>\n",
       "<table border=\"1\" class=\"dataframe\">\n",
       "  <thead>\n",
       "    <tr style=\"text-align: right;\">\n",
       "      <th></th>\n",
       "      <th>credit.policy</th>\n",
       "      <th>purpose</th>\n",
       "      <th>int.rate</th>\n",
       "      <th>installment</th>\n",
       "      <th>log.annual.inc</th>\n",
       "      <th>dti</th>\n",
       "      <th>fico</th>\n",
       "      <th>days.with.cr.line</th>\n",
       "      <th>revol.bal</th>\n",
       "      <th>revol.util</th>\n",
       "      <th>inq.last.6mths</th>\n",
       "      <th>delinq.2yrs</th>\n",
       "      <th>pub.rec</th>\n",
       "      <th>not.fully.paid</th>\n",
       "    </tr>\n",
       "  </thead>\n",
       "  <tbody>\n",
       "    <tr>\n",
       "      <th>0</th>\n",
       "      <td>1</td>\n",
       "      <td>credit_card</td>\n",
       "      <td>0.0800</td>\n",
       "      <td>101.85</td>\n",
       "      <td>10.596635</td>\n",
       "      <td>10.26</td>\n",
       "      <td>747</td>\n",
       "      <td>7560.000000</td>\n",
       "      <td>18467</td>\n",
       "      <td>30.9</td>\n",
       "      <td>3</td>\n",
       "      <td>0</td>\n",
       "      <td>0</td>\n",
       "      <td>0</td>\n",
       "    </tr>\n",
       "    <tr>\n",
       "      <th>1</th>\n",
       "      <td>1</td>\n",
       "      <td>all_other</td>\n",
       "      <td>0.1114</td>\n",
       "      <td>328.04</td>\n",
       "      <td>10.530495</td>\n",
       "      <td>14.13</td>\n",
       "      <td>722</td>\n",
       "      <td>1920.000000</td>\n",
       "      <td>6811</td>\n",
       "      <td>56.8</td>\n",
       "      <td>0</td>\n",
       "      <td>0</td>\n",
       "      <td>0</td>\n",
       "      <td>0</td>\n",
       "    </tr>\n",
       "    <tr>\n",
       "      <th>2</th>\n",
       "      <td>1</td>\n",
       "      <td>debt_consolidation</td>\n",
       "      <td>0.1324</td>\n",
       "      <td>676.20</td>\n",
       "      <td>11.289782</td>\n",
       "      <td>20.73</td>\n",
       "      <td>697</td>\n",
       "      <td>4080.000000</td>\n",
       "      <td>16805</td>\n",
       "      <td>64.1</td>\n",
       "      <td>0</td>\n",
       "      <td>0</td>\n",
       "      <td>0</td>\n",
       "      <td>0</td>\n",
       "    </tr>\n",
       "    <tr>\n",
       "      <th>3</th>\n",
       "      <td>1</td>\n",
       "      <td>debt_consolidation</td>\n",
       "      <td>0.1103</td>\n",
       "      <td>671.44</td>\n",
       "      <td>10.555813</td>\n",
       "      <td>15.72</td>\n",
       "      <td>722</td>\n",
       "      <td>3580.041667</td>\n",
       "      <td>31566</td>\n",
       "      <td>32.3</td>\n",
       "      <td>1</td>\n",
       "      <td>0</td>\n",
       "      <td>0</td>\n",
       "      <td>1</td>\n",
       "    </tr>\n",
       "    <tr>\n",
       "      <th>4</th>\n",
       "      <td>0</td>\n",
       "      <td>debt_consolidation</td>\n",
       "      <td>0.1545</td>\n",
       "      <td>244.21</td>\n",
       "      <td>10.308953</td>\n",
       "      <td>18.80</td>\n",
       "      <td>647</td>\n",
       "      <td>1950.041667</td>\n",
       "      <td>4587</td>\n",
       "      <td>41.0</td>\n",
       "      <td>2</td>\n",
       "      <td>0</td>\n",
       "      <td>0</td>\n",
       "      <td>0</td>\n",
       "    </tr>\n",
       "  </tbody>\n",
       "</table>\n",
       "</div>"
      ],
      "text/plain": [
       "   credit.policy             purpose  int.rate  installment  log.annual.inc  \\\n",
       "0              1         credit_card    0.0800       101.85       10.596635   \n",
       "1              1           all_other    0.1114       328.04       10.530495   \n",
       "2              1  debt_consolidation    0.1324       676.20       11.289782   \n",
       "3              1  debt_consolidation    0.1103       671.44       10.555813   \n",
       "4              0  debt_consolidation    0.1545       244.21       10.308953   \n",
       "\n",
       "     dti  fico  days.with.cr.line  revol.bal  revol.util  inq.last.6mths  \\\n",
       "0  10.26   747        7560.000000      18467        30.9               3   \n",
       "1  14.13   722        1920.000000       6811        56.8               0   \n",
       "2  20.73   697        4080.000000      16805        64.1               0   \n",
       "3  15.72   722        3580.041667      31566        32.3               1   \n",
       "4  18.80   647        1950.041667       4587        41.0               2   \n",
       "\n",
       "   delinq.2yrs  pub.rec  not.fully.paid  \n",
       "0            0        0               0  \n",
       "1            0        0               0  \n",
       "2            0        0               0  \n",
       "3            0        0               1  \n",
       "4            0        0               0  "
      ]
     },
     "execution_count": 7,
     "metadata": {},
     "output_type": "execute_result"
    }
   ],
   "source": [
    "loans.head()"
   ]
  },
  {
   "cell_type": "code",
   "execution_count": 8,
   "metadata": {},
   "outputs": [
    {
     "data": {
      "text/html": [
       "<div>\n",
       "<style scoped>\n",
       "    .dataframe tbody tr th:only-of-type {\n",
       "        vertical-align: middle;\n",
       "    }\n",
       "\n",
       "    .dataframe tbody tr th {\n",
       "        vertical-align: top;\n",
       "    }\n",
       "\n",
       "    .dataframe thead th {\n",
       "        text-align: right;\n",
       "    }\n",
       "</style>\n",
       "<table border=\"1\" class=\"dataframe\">\n",
       "  <thead>\n",
       "    <tr style=\"text-align: right;\">\n",
       "      <th></th>\n",
       "      <th>credit.policy</th>\n",
       "      <th>purpose</th>\n",
       "      <th>int.rate</th>\n",
       "      <th>installment</th>\n",
       "      <th>log.annual.inc</th>\n",
       "      <th>dti</th>\n",
       "      <th>fico</th>\n",
       "      <th>days.with.cr.line</th>\n",
       "      <th>revol.bal</th>\n",
       "      <th>revol.util</th>\n",
       "      <th>inq.last.6mths</th>\n",
       "      <th>delinq.2yrs</th>\n",
       "      <th>pub.rec</th>\n",
       "    </tr>\n",
       "  </thead>\n",
       "  <tbody>\n",
       "    <tr>\n",
       "      <th>0</th>\n",
       "      <td>1</td>\n",
       "      <td>debt_consolidation</td>\n",
       "      <td>0.1324</td>\n",
       "      <td>540.96</td>\n",
       "      <td>10.596635</td>\n",
       "      <td>11.73</td>\n",
       "      <td>672</td>\n",
       "      <td>3210.000000</td>\n",
       "      <td>5671</td>\n",
       "      <td>55.1</td>\n",
       "      <td>0</td>\n",
       "      <td>0</td>\n",
       "      <td>0</td>\n",
       "    </tr>\n",
       "    <tr>\n",
       "      <th>1</th>\n",
       "      <td>0</td>\n",
       "      <td>educational</td>\n",
       "      <td>0.1221</td>\n",
       "      <td>333.15</td>\n",
       "      <td>11.156193</td>\n",
       "      <td>15.82</td>\n",
       "      <td>707</td>\n",
       "      <td>5314.000000</td>\n",
       "      <td>107643</td>\n",
       "      <td>81.0</td>\n",
       "      <td>3</td>\n",
       "      <td>0</td>\n",
       "      <td>0</td>\n",
       "    </tr>\n",
       "    <tr>\n",
       "      <th>2</th>\n",
       "      <td>1</td>\n",
       "      <td>debt_consolidation</td>\n",
       "      <td>0.1218</td>\n",
       "      <td>166.50</td>\n",
       "      <td>10.753836</td>\n",
       "      <td>6.38</td>\n",
       "      <td>772</td>\n",
       "      <td>1440.000000</td>\n",
       "      <td>233</td>\n",
       "      <td>6.7</td>\n",
       "      <td>0</td>\n",
       "      <td>0</td>\n",
       "      <td>0</td>\n",
       "    </tr>\n",
       "    <tr>\n",
       "      <th>3</th>\n",
       "      <td>0</td>\n",
       "      <td>major_purchase</td>\n",
       "      <td>0.1461</td>\n",
       "      <td>124.12</td>\n",
       "      <td>10.239960</td>\n",
       "      <td>0.00</td>\n",
       "      <td>692</td>\n",
       "      <td>1530.041667</td>\n",
       "      <td>0</td>\n",
       "      <td>0.0</td>\n",
       "      <td>6</td>\n",
       "      <td>0</td>\n",
       "      <td>0</td>\n",
       "    </tr>\n",
       "    <tr>\n",
       "      <th>4</th>\n",
       "      <td>1</td>\n",
       "      <td>credit_card</td>\n",
       "      <td>0.0800</td>\n",
       "      <td>156.69</td>\n",
       "      <td>10.434116</td>\n",
       "      <td>15.85</td>\n",
       "      <td>767</td>\n",
       "      <td>10170.000000</td>\n",
       "      <td>5748</td>\n",
       "      <td>12.3</td>\n",
       "      <td>0</td>\n",
       "      <td>1</td>\n",
       "      <td>0</td>\n",
       "    </tr>\n",
       "  </tbody>\n",
       "</table>\n",
       "</div>"
      ],
      "text/plain": [
       "   credit.policy             purpose  int.rate  installment  log.annual.inc  \\\n",
       "0              1  debt_consolidation    0.1324       540.96       10.596635   \n",
       "1              0         educational    0.1221       333.15       11.156193   \n",
       "2              1  debt_consolidation    0.1218       166.50       10.753836   \n",
       "3              0      major_purchase    0.1461       124.12       10.239960   \n",
       "4              1         credit_card    0.0800       156.69       10.434116   \n",
       "\n",
       "     dti  fico  days.with.cr.line  revol.bal  revol.util  inq.last.6mths  \\\n",
       "0  11.73   672        3210.000000       5671        55.1               0   \n",
       "1  15.82   707        5314.000000     107643        81.0               3   \n",
       "2   6.38   772        1440.000000        233         6.7               0   \n",
       "3   0.00   692        1530.041667          0         0.0               6   \n",
       "4  15.85   767       10170.000000       5748        12.3               0   \n",
       "\n",
       "   delinq.2yrs  pub.rec  \n",
       "0            0        0  \n",
       "1            0        0  \n",
       "2            0        0  \n",
       "3            0        0  \n",
       "4            1        0  "
      ]
     },
     "execution_count": 8,
     "metadata": {},
     "output_type": "execute_result"
    }
   ],
   "source": [
    "loans_outcome_not_known.head()"
   ]
  },
  {
   "cell_type": "markdown",
   "metadata": {},
   "source": [
    "**Check out the info(), head(), and describe() methods on loans.**"
   ]
  },
  {
   "cell_type": "code",
   "execution_count": 9,
   "metadata": {},
   "outputs": [
    {
     "name": "stdout",
     "output_type": "stream",
     "text": [
      "<class 'pandas.core.frame.DataFrame'>\n",
      "RangeIndex: 7478 entries, 0 to 7477\n",
      "Data columns (total 14 columns):\n",
      " #   Column             Non-Null Count  Dtype  \n",
      "---  ------             --------------  -----  \n",
      " 0   credit.policy      7478 non-null   int64  \n",
      " 1   purpose            7478 non-null   object \n",
      " 2   int.rate           7478 non-null   float64\n",
      " 3   installment        7478 non-null   float64\n",
      " 4   log.annual.inc     7478 non-null   float64\n",
      " 5   dti                7478 non-null   float64\n",
      " 6   fico               7478 non-null   int64  \n",
      " 7   days.with.cr.line  7478 non-null   float64\n",
      " 8   revol.bal          7478 non-null   int64  \n",
      " 9   revol.util         7478 non-null   float64\n",
      " 10  inq.last.6mths     7478 non-null   int64  \n",
      " 11  delinq.2yrs        7478 non-null   int64  \n",
      " 12  pub.rec            7478 non-null   int64  \n",
      " 13  not.fully.paid     7478 non-null   int64  \n",
      "dtypes: float64(6), int64(7), object(1)\n",
      "memory usage: 818.0+ KB\n"
     ]
    }
   ],
   "source": [
    "loans.info()"
   ]
  },
  {
   "cell_type": "code",
   "execution_count": 10,
   "metadata": {},
   "outputs": [
    {
     "data": {
      "text/plain": [
       "(7478, 14)"
      ]
     },
     "execution_count": 10,
     "metadata": {},
     "output_type": "execute_result"
    }
   ],
   "source": [
    "# YOUR CODE\n",
    "loans.shape"
   ]
  },
  {
   "cell_type": "code",
   "execution_count": 11,
   "metadata": {},
   "outputs": [
    {
     "data": {
      "text/plain": [
       "array([0, 1])"
      ]
     },
     "execution_count": 11,
     "metadata": {},
     "output_type": "execute_result"
    }
   ],
   "source": [
    "# finding the unique values in not.fully.paid = 2 unique\n",
    "loans['not.fully.paid'].unique()"
   ]
  },
  {
   "cell_type": "code",
   "execution_count": 13,
   "metadata": {},
   "outputs": [
    {
     "data": {
      "text/plain": [
       "0    0.808371\n",
       "1    0.191629\n",
       "Name: not.fully.paid, dtype: float64"
      ]
     },
     "execution_count": 13,
     "metadata": {},
     "output_type": "execute_result"
    }
   ],
   "source": [
    "loans['not.fully.paid'].value_counts(normalize=True)\n",
    "#19% did not fully pay it back"
   ]
  },
  {
   "cell_type": "markdown",
   "metadata": {},
   "source": [
    "# Q2\n",
    "- Visual and Exploratory Analysis\n",
    "- Carry out the tasks given below"
   ]
  },
  {
   "cell_type": "markdown",
   "metadata": {},
   "source": [
    "## Exploratory Data Analysis\n",
    "\n",
    "- Let's do some data visualization! \n",
    "- You can use many different visualization libraries inclusing matplotlib, seaborn, pandasand many more. Feel free to use whatever library you want. Don't worry about the colors matching, just worry about getting the main idea of the plot.\n",
    "\n",
    "**Create a histogram of two FICO distributions on top of each other, one for each credit.policy outcome.**\n",
    "\n",
    "*Note: You'll probably need one line of code for each histogram, I also recommend just using pandas built in .hist()*"
   ]
  },
  {
   "cell_type": "code",
   "execution_count": 30,
   "metadata": {
    "scrolled": true
   },
   "outputs": [
    {
     "data": {
      "text/plain": [
       "Text(0.5, 0, 'FICO')"
      ]
     },
     "execution_count": 30,
     "metadata": {},
     "output_type": "execute_result"
    },
    {
     "data": {
      "image/png": "[encoded data removed]",
      "text/plain": [
       "<Figure size 432x288 with 1 Axes>"
      ]
     },
     "metadata": {
      "needs_background": "light"
     },
     "output_type": "display_data"
    }
   ],
   "source": [
    "# YOUR CODE\n",
    "loans[loans['credit.policy']==0]['fico'].hist(alpha=0.5, label='Credit Policy = 0', bins=30)\n",
    "loans[loans['credit.policy']==1]['fico'].hist(alpha=0.5, label='Credit Policy = 1', bins=30)\n",
    "plt.legend()\n",
    "plt.xlabel('FICO')"
   ]
  },
  {
   "cell_type": "markdown",
   "metadata": {},
   "source": [
    "**Create a similar figure, except this time select by the not.fully.paid column.**"
   ]
  },
  {
   "cell_type": "code",
   "execution_count": 31,
   "metadata": {
    "scrolled": true
   },
   "outputs": [
    {
     "data": {
      "text/plain": [
       "Text(0.5, 0, 'FICO')"
      ]
     },
     "execution_count": 31,
     "metadata": {},
     "output_type": "execute_result"
    },
    {
     "data": {
      "image/png": "[encoded data removed]",
      "text/plain": [
       "<Figure size 432x288 with 1 Axes>"
      ]
     },
     "metadata": {
      "needs_background": "light"
     },
     "output_type": "display_data"
    }
   ],
   "source": [
    "# YOUR CODE\n",
    "loans[loans['not.fully.paid']==0]['fico'].hist(alpha=0.5, label='Not fully paid = 0', bins=30)\n",
    "loans[loans['not.fully.paid']==1]['fico'].hist(alpha=0.5, label='Not fully paid = 1', bins=30)\n",
    "plt.legend()\n",
    "plt.xlabel('FICO')"
   ]
  },
  {
   "cell_type": "markdown",
   "metadata": {},
   "source": [
    "**Create a countplot (bar plot showing counts using seaborn) that shows the counts of loans by purpose, with the color hue defined by `not.fully.paid`**"
   ]
  },
  {
   "cell_type": "code",
   "execution_count": 48,
   "metadata": {
    "scrolled": true
   },
   "outputs": [
    {
     "data": {
      "text/plain": [
       "<AxesSubplot:xlabel='purpose', ylabel='count'>"
      ]
     },
     "execution_count": 48,
     "metadata": {},
     "output_type": "execute_result"
    },
    {
     "data": {
      "image/png": "[encoded data removed]",
      "text/plain": [
       "<Figure size 864x576 with 1 Axes>"
      ]
     },
     "metadata": {
      "needs_background": "light"
     },
     "output_type": "display_data"
    }
   ],
   "source": [
    "# YOUR CODE\n",
    "plt.figure(figsize=(12,8))\n",
    "sns.countplot(x=\"purpose\", data=loans, hue='not.fully.paid')"
   ]
  },
  {
   "cell_type": "markdown",
   "metadata": {},
   "source": [
    "**Let's see the trend between FICO score and interest rate. Recreate the following jointplot.**"
   ]
  },
  {
   "cell_type": "code",
   "execution_count": 322,
   "metadata": {
    "scrolled": true
   },
   "outputs": [
    {
     "data": {
      "text/plain": [
       "Text(336.9714285714286, 0.5, 'int.rate')"
      ]
     },
     "execution_count": 322,
     "metadata": {},
     "output_type": "execute_result"
    },
    {
     "data": {
      "image/png": "[encoded data removed]",
      "text/plain": [
       "<Figure size 432x432 with 3 Axes>"
      ]
     },
     "metadata": {
      "needs_background": "light"
     },
     "output_type": "display_data"
    }
   ],
   "source": [
    "# YOUR CODE\n",
    "sns.jointplot(data=loans, x=\"fico\", y=\"int.rate\", kind='scatter', color='green', alpha=0.3, joint_kws={'s':65}, linewidth=0,  marginal_kws = dict(bins = 30, fill = True, alpha = 0.3, linewidth = 0))\n",
    "# sns.color_palette(\"light:#5A9\", as_cmap=True)\n",
    "plt.xlabel('FICO')\n",
    "plt.ylabel('int.rate')\n"
   ]
  },
  {
   "cell_type": "markdown",
   "metadata": {},
   "source": [
    "**Create the following lmplots to see if the trend differed between `not.fully.paid` and `credit.policy`. Check the documentation for seaborn `lmplot()` if you can't figure out how to separate it into columns.**"
   ]
  },
  {
   "cell_type": "code",
   "execution_count": 92,
   "metadata": {
    "scrolled": true
   },
   "outputs": [
    {
     "data": {
      "text/plain": [
       "<seaborn.axisgrid.FacetGrid at 0x7fb04ed042b0>"
      ]
     },
     "execution_count": 92,
     "metadata": {},
     "output_type": "execute_result"
    },
    {
     "data": {
      "image/png": "[encoded data removed]",
      "text/plain": [
       "<Figure size 789.25x360 with 2 Axes>"
      ]
     },
     "metadata": {
      "needs_background": "light"
     },
     "output_type": "display_data"
    }
   ],
   "source": [
    "# YOUR CODE\n",
    "sns.lmplot(x=\"fico\", y=\"int.rate\", col=\"not.fully.paid\", data=loans, hue='credit.policy', palette='Set1', scatter_kws={\"s\":30})"
   ]
  },
  {
   "cell_type": "markdown",
   "metadata": {},
   "source": [
    "# Q3"
   ]
  },
  {
   "cell_type": "markdown",
   "metadata": {},
   "source": [
    "## Setting up the Data\n",
    "\n",
    "Let's get ready to set up our data for our models!\n",
    "\n",
    "**Check loans.info() again.**"
   ]
  },
  {
   "cell_type": "code",
   "execution_count": 14,
   "metadata": {},
   "outputs": [
    {
     "name": "stdout",
     "output_type": "stream",
     "text": [
      "<class 'pandas.core.frame.DataFrame'>\n",
      "RangeIndex: 7478 entries, 0 to 7477\n",
      "Data columns (total 14 columns):\n",
      " #   Column             Non-Null Count  Dtype  \n",
      "---  ------             --------------  -----  \n",
      " 0   credit.policy      7478 non-null   int64  \n",
      " 1   purpose            7478 non-null   object \n",
      " 2   int.rate           7478 non-null   float64\n",
      " 3   installment        7478 non-null   float64\n",
      " 4   log.annual.inc     7478 non-null   float64\n",
      " 5   dti                7478 non-null   float64\n",
      " 6   fico               7478 non-null   int64  \n",
      " 7   days.with.cr.line  7478 non-null   float64\n",
      " 8   revol.bal          7478 non-null   int64  \n",
      " 9   revol.util         7478 non-null   float64\n",
      " 10  inq.last.6mths     7478 non-null   int64  \n",
      " 11  delinq.2yrs        7478 non-null   int64  \n",
      " 12  pub.rec            7478 non-null   int64  \n",
      " 13  not.fully.paid     7478 non-null   int64  \n",
      "dtypes: float64(6), int64(7), object(1)\n",
      "memory usage: 818.0+ KB\n"
     ]
    }
   ],
   "source": [
    "loans.info()"
   ]
  },
  {
   "cell_type": "markdown",
   "metadata": {},
   "source": [
    "## Categorical Features\n",
    "\n",
    "Notice that the **purpose** column is of categorical type.\n",
    "\n",
    "That means we need to transform them using dummy variables so sklearn will be able to understand them. Let's do this in one clean step using pd.get_dummies().\n",
    "\n",
    "Let's show you a way of dealing with these columns that can be expanded to multiple categorical features if necessary.\n",
    "\n",
    "**Create a list of 1 element containing the string 'purpose'. Call this list cat_feats.**"
   ]
  },
  {
   "cell_type": "markdown",
   "metadata": {},
   "source": [
    "> The same transformation needs to be aplied on every dataset. The easiest way would be to merge train and test (loans_outcome_not_known) sets, and to split after the transformation."
   ]
  },
  {
   "cell_type": "code",
   "execution_count": 10,
   "metadata": {
    "scrolled": true
   },
   "outputs": [
    {
     "data": {
      "text/html": [
       "<div>\n",
       "<style scoped>\n",
       "    .dataframe tbody tr th:only-of-type {\n",
       "        vertical-align: middle;\n",
       "    }\n",
       "\n",
       "    .dataframe tbody tr th {\n",
       "        vertical-align: top;\n",
       "    }\n",
       "\n",
       "    .dataframe thead th {\n",
       "        text-align: right;\n",
       "    }\n",
       "</style>\n",
       "<table border=\"1\" class=\"dataframe\">\n",
       "  <thead>\n",
       "    <tr style=\"text-align: right;\">\n",
       "      <th></th>\n",
       "      <th>credit.policy</th>\n",
       "      <th>purpose</th>\n",
       "      <th>int.rate</th>\n",
       "      <th>installment</th>\n",
       "      <th>log.annual.inc</th>\n",
       "      <th>dti</th>\n",
       "      <th>fico</th>\n",
       "      <th>days.with.cr.line</th>\n",
       "      <th>revol.bal</th>\n",
       "      <th>revol.util</th>\n",
       "      <th>inq.last.6mths</th>\n",
       "      <th>delinq.2yrs</th>\n",
       "      <th>pub.rec</th>\n",
       "      <th>not.fully.paid</th>\n",
       "    </tr>\n",
       "  </thead>\n",
       "  <tbody>\n",
       "    <tr>\n",
       "      <th>0</th>\n",
       "      <td>1</td>\n",
       "      <td>credit_card</td>\n",
       "      <td>0.0800</td>\n",
       "      <td>101.85</td>\n",
       "      <td>10.596635</td>\n",
       "      <td>10.26</td>\n",
       "      <td>747</td>\n",
       "      <td>7560.000000</td>\n",
       "      <td>18467</td>\n",
       "      <td>30.9</td>\n",
       "      <td>3</td>\n",
       "      <td>0</td>\n",
       "      <td>0</td>\n",
       "      <td>0</td>\n",
       "    </tr>\n",
       "    <tr>\n",
       "      <th>1</th>\n",
       "      <td>1</td>\n",
       "      <td>all_other</td>\n",
       "      <td>0.1114</td>\n",
       "      <td>328.04</td>\n",
       "      <td>10.530495</td>\n",
       "      <td>14.13</td>\n",
       "      <td>722</td>\n",
       "      <td>1920.000000</td>\n",
       "      <td>6811</td>\n",
       "      <td>56.8</td>\n",
       "      <td>0</td>\n",
       "      <td>0</td>\n",
       "      <td>0</td>\n",
       "      <td>0</td>\n",
       "    </tr>\n",
       "    <tr>\n",
       "      <th>2</th>\n",
       "      <td>1</td>\n",
       "      <td>debt_consolidation</td>\n",
       "      <td>0.1324</td>\n",
       "      <td>676.20</td>\n",
       "      <td>11.289782</td>\n",
       "      <td>20.73</td>\n",
       "      <td>697</td>\n",
       "      <td>4080.000000</td>\n",
       "      <td>16805</td>\n",
       "      <td>64.1</td>\n",
       "      <td>0</td>\n",
       "      <td>0</td>\n",
       "      <td>0</td>\n",
       "      <td>0</td>\n",
       "    </tr>\n",
       "    <tr>\n",
       "      <th>3</th>\n",
       "      <td>1</td>\n",
       "      <td>debt_consolidation</td>\n",
       "      <td>0.1103</td>\n",
       "      <td>671.44</td>\n",
       "      <td>10.555813</td>\n",
       "      <td>15.72</td>\n",
       "      <td>722</td>\n",
       "      <td>3580.041667</td>\n",
       "      <td>31566</td>\n",
       "      <td>32.3</td>\n",
       "      <td>1</td>\n",
       "      <td>0</td>\n",
       "      <td>0</td>\n",
       "      <td>1</td>\n",
       "    </tr>\n",
       "    <tr>\n",
       "      <th>4</th>\n",
       "      <td>0</td>\n",
       "      <td>debt_consolidation</td>\n",
       "      <td>0.1545</td>\n",
       "      <td>244.21</td>\n",
       "      <td>10.308953</td>\n",
       "      <td>18.80</td>\n",
       "      <td>647</td>\n",
       "      <td>1950.041667</td>\n",
       "      <td>4587</td>\n",
       "      <td>41.0</td>\n",
       "      <td>2</td>\n",
       "      <td>0</td>\n",
       "      <td>0</td>\n",
       "      <td>0</td>\n",
       "    </tr>\n",
       "  </tbody>\n",
       "</table>\n",
       "</div>"
      ],
      "text/plain": [
       "   credit.policy             purpose  int.rate  installment  log.annual.inc  \\\n",
       "0              1         credit_card    0.0800       101.85       10.596635   \n",
       "1              1           all_other    0.1114       328.04       10.530495   \n",
       "2              1  debt_consolidation    0.1324       676.20       11.289782   \n",
       "3              1  debt_consolidation    0.1103       671.44       10.555813   \n",
       "4              0  debt_consolidation    0.1545       244.21       10.308953   \n",
       "\n",
       "     dti  fico  days.with.cr.line  revol.bal  revol.util  inq.last.6mths  \\\n",
       "0  10.26   747        7560.000000      18467        30.9               3   \n",
       "1  14.13   722        1920.000000       6811        56.8               0   \n",
       "2  20.73   697        4080.000000      16805        64.1               0   \n",
       "3  15.72   722        3580.041667      31566        32.3               1   \n",
       "4  18.80   647        1950.041667       4587        41.0               2   \n",
       "\n",
       "   delinq.2yrs  pub.rec  not.fully.paid  \n",
       "0            0        0               0  \n",
       "1            0        0               0  \n",
       "2            0        0               0  \n",
       "3            0        0               1  \n",
       "4            0        0               0  "
      ]
     },
     "execution_count": 10,
     "metadata": {},
     "output_type": "execute_result"
    }
   ],
   "source": [
    "loans.head()"
   ]
  },
  {
   "cell_type": "markdown",
   "metadata": {},
   "source": [
    "**Now you can use `pd.get_dummies(loans,columns=cat_feats)` to create a fixed larger dataframe that has new feature columns with dummy variables.**"
   ]
  },
  {
   "cell_type": "code",
   "execution_count": 111,
   "metadata": {},
   "outputs": [],
   "source": [
    "# YOUR CODE\n",
    "cat_feats = ['purpose']\n",
    "loans = pd.get_dummies(loans, columns=cat_feats)\n"
   ]
  },
  {
   "cell_type": "markdown",
   "metadata": {},
   "source": [
    "## Train Test Split\n",
    "\n",
    "Now its time to split our data into a training set and a validation set!  \n",
    "\n",
    "The `not.fully.paid` variable is the one that we will try to predict.\n",
    "\n",
    "**Use sklearn to split your data into a training set and a testing set as we've done in the past.**"
   ]
  },
  {
   "cell_type": "code",
   "execution_count": 112,
   "metadata": {},
   "outputs": [],
   "source": [
    "from sklearn.model_selection import train_test_split"
   ]
  },
  {
   "cell_type": "code",
   "execution_count": 113,
   "metadata": {},
   "outputs": [],
   "source": [
    "X = loans.drop('not.fully.paid',axis=1)\n",
    "y = loans['not.fully.paid']\n",
    "X_train, X_val, y_train, y_val = train_test_split(X, y, test_size=0.30, random_state=2020)"
   ]
  },
  {
   "cell_type": "markdown",
   "metadata": {},
   "source": [
    "# Q4"
   ]
  },
  {
   "cell_type": "markdown",
   "metadata": {},
   "source": [
    "## Decision Tree Model\n",
    "\n",
    "Let's start by training a single decision tree first!\n"
   ]
  },
  {
   "cell_type": "markdown",
   "metadata": {},
   "source": [
    "- Initiate the Decision Tree classifier from the sklearn library. Keep all parameters with their default values. (No need to specify anything)\n",
    "- Fit the model\n",
    "- Make predictions\n",
    "- Calculate accuracy score. What are the **training** and **testing** accuracies of the model?\n",
    "- Create confusion matrix\n",
    "- Either using the confusion matrix or the methods in `sklearn.metrics` get the following metrics on the testing set:\n",
    "     - Recall (Sensitivity)\n",
    "     - Specificity\n",
    "     - Precision\n",
    "     - Balanced Accuracy\n",
    "     - F1 Score\n",
    "- Using all the training data perform cross-validation:\n",
    "    - Select the `min_samples_split` hyper-parameter and apply cross validation to find the best value.  \n",
    "    - Select the `max_depth` hyper-parameter and apply cross validation to find the best value. \n",
    "    - Perform grid search where you check for combinations of these hyper-parameters.\n",
    "        - https://scikit-learn.org/stable/modules/generated/sklearn.model_selection.GridSearchCV.html\n",
    "- For the best model:\n",
    "    - Plot the decision tree of the best model\n",
    "    - Either using the confusion matrix or the methods in `sklearn.metrics` get the following metrics on the testing set:\n",
    "         - Recall (Sensitivity)\n",
    "         - Specificity\n",
    "         - Precision\n",
    "         - Balanced Accuracy\n",
    "         - F1 Score\n",
    "    - Compare the results to the model with default paramters. Any change?"
   ]
  },
  {
   "cell_type": "code",
   "execution_count": 114,
   "metadata": {},
   "outputs": [],
   "source": [
    "# Import DecisionTreeClassifier\n",
    "from sklearn.tree import DecisionTreeClassifier, plot_tree"
   ]
  },
  {
   "cell_type": "code",
   "execution_count": 115,
   "metadata": {
    "scrolled": false
   },
   "outputs": [
    {
     "data": {
      "text/html": [
       "<div>\n",
       "<style scoped>\n",
       "    .dataframe tbody tr th:only-of-type {\n",
       "        vertical-align: middle;\n",
       "    }\n",
       "\n",
       "    .dataframe tbody tr th {\n",
       "        vertical-align: top;\n",
       "    }\n",
       "\n",
       "    .dataframe thead th {\n",
       "        text-align: right;\n",
       "    }\n",
       "</style>\n",
       "<table border=\"1\" class=\"dataframe\">\n",
       "  <thead>\n",
       "    <tr style=\"text-align: right;\">\n",
       "      <th></th>\n",
       "      <th>credit.policy</th>\n",
       "      <th>int.rate</th>\n",
       "      <th>installment</th>\n",
       "      <th>log.annual.inc</th>\n",
       "      <th>dti</th>\n",
       "      <th>fico</th>\n",
       "      <th>days.with.cr.line</th>\n",
       "      <th>revol.bal</th>\n",
       "      <th>revol.util</th>\n",
       "      <th>inq.last.6mths</th>\n",
       "      <th>delinq.2yrs</th>\n",
       "      <th>pub.rec</th>\n",
       "      <th>purpose_all_other</th>\n",
       "      <th>purpose_credit_card</th>\n",
       "      <th>purpose_debt_consolidation</th>\n",
       "      <th>purpose_educational</th>\n",
       "      <th>purpose_home_improvement</th>\n",
       "      <th>purpose_major_purchase</th>\n",
       "      <th>purpose_small_business</th>\n",
       "    </tr>\n",
       "  </thead>\n",
       "  <tbody>\n",
       "    <tr>\n",
       "      <th>613</th>\n",
       "      <td>0</td>\n",
       "      <td>0.1450</td>\n",
       "      <td>172.11</td>\n",
       "      <td>11.401994</td>\n",
       "      <td>16.57</td>\n",
       "      <td>647</td>\n",
       "      <td>5129.958333</td>\n",
       "      <td>21251</td>\n",
       "      <td>80.8</td>\n",
       "      <td>0</td>\n",
       "      <td>0</td>\n",
       "      <td>0</td>\n",
       "      <td>0</td>\n",
       "      <td>0</td>\n",
       "      <td>1</td>\n",
       "      <td>0</td>\n",
       "      <td>0</td>\n",
       "      <td>0</td>\n",
       "      <td>0</td>\n",
       "    </tr>\n",
       "    <tr>\n",
       "      <th>5734</th>\n",
       "      <td>1</td>\n",
       "      <td>0.1008</td>\n",
       "      <td>387.66</td>\n",
       "      <td>11.775290</td>\n",
       "      <td>21.20</td>\n",
       "      <td>772</td>\n",
       "      <td>6750.041667</td>\n",
       "      <td>74885</td>\n",
       "      <td>0.0</td>\n",
       "      <td>0</td>\n",
       "      <td>0</td>\n",
       "      <td>0</td>\n",
       "      <td>1</td>\n",
       "      <td>0</td>\n",
       "      <td>0</td>\n",
       "      <td>0</td>\n",
       "      <td>0</td>\n",
       "      <td>0</td>\n",
       "      <td>0</td>\n",
       "    </tr>\n",
       "    <tr>\n",
       "      <th>7118</th>\n",
       "      <td>1</td>\n",
       "      <td>0.1253</td>\n",
       "      <td>401.60</td>\n",
       "      <td>10.819778</td>\n",
       "      <td>16.08</td>\n",
       "      <td>712</td>\n",
       "      <td>5430.000000</td>\n",
       "      <td>15244</td>\n",
       "      <td>66.6</td>\n",
       "      <td>0</td>\n",
       "      <td>0</td>\n",
       "      <td>1</td>\n",
       "      <td>0</td>\n",
       "      <td>0</td>\n",
       "      <td>1</td>\n",
       "      <td>0</td>\n",
       "      <td>0</td>\n",
       "      <td>0</td>\n",
       "      <td>0</td>\n",
       "    </tr>\n",
       "    <tr>\n",
       "      <th>4418</th>\n",
       "      <td>1</td>\n",
       "      <td>0.0963</td>\n",
       "      <td>288.85</td>\n",
       "      <td>11.608236</td>\n",
       "      <td>18.41</td>\n",
       "      <td>737</td>\n",
       "      <td>3481.041667</td>\n",
       "      <td>2737</td>\n",
       "      <td>6.4</td>\n",
       "      <td>1</td>\n",
       "      <td>0</td>\n",
       "      <td>0</td>\n",
       "      <td>0</td>\n",
       "      <td>1</td>\n",
       "      <td>0</td>\n",
       "      <td>0</td>\n",
       "      <td>0</td>\n",
       "      <td>0</td>\n",
       "      <td>0</td>\n",
       "    </tr>\n",
       "    <tr>\n",
       "      <th>2609</th>\n",
       "      <td>1</td>\n",
       "      <td>0.1229</td>\n",
       "      <td>320.19</td>\n",
       "      <td>11.264464</td>\n",
       "      <td>8.80</td>\n",
       "      <td>672</td>\n",
       "      <td>3760.958333</td>\n",
       "      <td>4822</td>\n",
       "      <td>58.1</td>\n",
       "      <td>0</td>\n",
       "      <td>0</td>\n",
       "      <td>1</td>\n",
       "      <td>0</td>\n",
       "      <td>0</td>\n",
       "      <td>1</td>\n",
       "      <td>0</td>\n",
       "      <td>0</td>\n",
       "      <td>0</td>\n",
       "      <td>0</td>\n",
       "    </tr>\n",
       "  </tbody>\n",
       "</table>\n",
       "</div>"
      ],
      "text/plain": [
       "      credit.policy  int.rate  installment  log.annual.inc    dti  fico  \\\n",
       "613               0    0.1450       172.11       11.401994  16.57   647   \n",
       "5734              1    0.1008       387.66       11.775290  21.20   772   \n",
       "7118              1    0.1253       401.60       10.819778  16.08   712   \n",
       "4418              1    0.0963       288.85       11.608236  18.41   737   \n",
       "2609              1    0.1229       320.19       11.264464   8.80   672   \n",
       "\n",
       "      days.with.cr.line  revol.bal  revol.util  inq.last.6mths  delinq.2yrs  \\\n",
       "613         5129.958333      21251        80.8               0            0   \n",
       "5734        6750.041667      74885         0.0               0            0   \n",
       "7118        5430.000000      15244        66.6               0            0   \n",
       "4418        3481.041667       2737         6.4               1            0   \n",
       "2609        3760.958333       4822        58.1               0            0   \n",
       "\n",
       "      pub.rec  purpose_all_other  purpose_credit_card  \\\n",
       "613         0                  0                    0   \n",
       "5734        0                  1                    0   \n",
       "7118        1                  0                    0   \n",
       "4418        0                  0                    1   \n",
       "2609        1                  0                    0   \n",
       "\n",
       "      purpose_debt_consolidation  purpose_educational  \\\n",
       "613                            1                    0   \n",
       "5734                           0                    0   \n",
       "7118                           1                    0   \n",
       "4418                           0                    0   \n",
       "2609                           1                    0   \n",
       "\n",
       "      purpose_home_improvement  purpose_major_purchase  purpose_small_business  \n",
       "613                          0                       0                       0  \n",
       "5734                         0                       0                       0  \n",
       "7118                         0                       0                       0  \n",
       "4418                         0                       0                       0  \n",
       "2609                         0                       0                       0  "
      ]
     },
     "execution_count": 115,
     "metadata": {},
     "output_type": "execute_result"
    }
   ],
   "source": [
    "X_train.head()"
   ]
  },
  {
   "cell_type": "code",
   "execution_count": 177,
   "metadata": {},
   "outputs": [],
   "source": [
    "# YOUR CODE\n",
    "dt1 = DecisionTreeClassifier()\n",
    "dt1.fit(X_train, y_train)\n",
    "from sklearn.metrics import accuracy_score"
   ]
  },
  {
   "cell_type": "code",
   "execution_count": 178,
   "metadata": {},
   "outputs": [
    {
     "data": {
      "text/plain": [
       "1.0"
      ]
     },
     "execution_count": 178,
     "metadata": {},
     "output_type": "execute_result"
    }
   ],
   "source": [
    "dt1_pred_train = dt1.predict(X_train)\n",
    "accuracy_score(y_train, y_pred=dt1_pred_train)"
   ]
  },
  {
   "cell_type": "code",
   "execution_count": 179,
   "metadata": {},
   "outputs": [
    {
     "data": {
      "text/plain": [
       "0.714349376114082"
      ]
     },
     "execution_count": 179,
     "metadata": {},
     "output_type": "execute_result"
    }
   ],
   "source": [
    "dt1_pred = dt1.predict(X_val)\n",
    "accuracy_score(y_val, y_pred=dt1_pred)"
   ]
  },
  {
   "cell_type": "markdown",
   "metadata": {},
   "source": [
    "The above shows overfitting."
   ]
  },
  {
   "cell_type": "code",
   "execution_count": 180,
   "metadata": {},
   "outputs": [
    {
     "name": "stdout",
     "output_type": "stream",
     "text": [
      "[[1492  315]\n",
      " [ 326  111]]\n"
     ]
    }
   ],
   "source": [
    "from sklearn.metrics import confusion_matrix\n",
    "cm = confusion_matrix(y_val, dt1_pred)\n",
    "print(cm)"
   ]
  },
  {
   "cell_type": "code",
   "execution_count": 181,
   "metadata": {
    "scrolled": false
   },
   "outputs": [
    {
     "name": "stdout",
     "output_type": "stream",
     "text": [
      "              precision    recall  f1-score   support\n",
      "\n",
      "           0       0.82      0.83      0.82      1807\n",
      "           1       0.26      0.25      0.26       437\n",
      "\n",
      "    accuracy                           0.71      2244\n",
      "   macro avg       0.54      0.54      0.54      2244\n",
      "weighted avg       0.71      0.71      0.71      2244\n",
      "\n"
     ]
    }
   ],
   "source": [
    "from sklearn import metrics\n",
    "print(metrics.classification_report(y_true = y_val, y_pred = dt1_pred, labels=[0, 1]))"
   ]
  },
  {
   "cell_type": "code",
   "execution_count": 188,
   "metadata": {},
   "outputs": [
    {
     "name": "stdout",
     "output_type": "stream",
     "text": [
      "CV accuracy scores: [0.69245463 0.70964661 0.72492837 0.72301815 0.73518164]\n"
     ]
    }
   ],
   "source": [
    "from sklearn.model_selection import cross_val_score\n",
    "from sklearn.model_selection import StratifiedKFold\n",
    "cv = StratifiedKFold(n_splits=5, shuffle=True, random_state=0)\n",
    "dt = DecisionTreeClassifier(min_samples_split=5)\n",
    "scores = cross_val_score(dt, X=X_train, y=y_train, scoring='accuracy', cv=cv, n_jobs=1, )\n",
    "print('CV accuracy scores: %s' % scores)"
   ]
  },
  {
   "cell_type": "code",
   "execution_count": 191,
   "metadata": {},
   "outputs": [],
   "source": [
    "min_samples_split = [5, 10, 20, 25, 30, 40, 50]"
   ]
  },
  {
   "cell_type": "code",
   "execution_count": 192,
   "metadata": {},
   "outputs": [],
   "source": [
    "scores_params = []\n",
    "for m in min_samples_split:\n",
    "    dt = DecisionTreeClassifier(min_samples_split=m)\n",
    "    scores = cross_val_score(dt, X=X_train, y=y_train, scoring='accuracy', cv=cv)\n",
    "#     print(scores)\n",
    "    scores_params.append(scores.mean())"
   ]
  },
  {
   "cell_type": "code",
   "execution_count": 194,
   "metadata": {},
   "outputs": [
    {
     "data": {
      "image/png": "[encoded data removed]",
      "text/plain": [
       "<Figure size 432x288 with 1 Axes>"
      ]
     },
     "metadata": {
      "needs_background": "light"
     },
     "output_type": "display_data"
    }
   ],
   "source": [
    "plt.plot(scores_params, label = 'train')\n",
    "# plt.plot(scores_val, label = 'val')\n",
    "plt.xticks(np.arange(len(min_samples_split)), min_samples_split, rotation=45)\n",
    "plt.xlabel('min_samples_split')\n",
    "plt.ylabel('Score')\n",
    "plt.title('Validation Curve')\n",
    "plt.legend()\n",
    "plt.show()"
   ]
  },
  {
   "cell_type": "code",
   "execution_count": 189,
   "metadata": {},
   "outputs": [
    {
     "name": "stdout",
     "output_type": "stream",
     "text": [
      "CV accuracy scores: [0.80229226 0.80229226 0.7965616  0.79083095 0.79827916]\n"
     ]
    }
   ],
   "source": [
    "cv1 = StratifiedKFold(n_splits=5, shuffle=True, random_state=0)\n",
    "dt1_1 = DecisionTreeClassifier(max_depth=5)\n",
    "scores1 = cross_val_score(dt1_1, X=X_train, y=y_train, scoring='accuracy', cv=cv, n_jobs=1, )\n",
    "print('CV accuracy scores: %s' % scores1)"
   ]
  },
  {
   "cell_type": "code",
   "execution_count": 195,
   "metadata": {},
   "outputs": [],
   "source": [
    "max_depth = [5, 10, 20, 25, 30, 40, 50]\n",
    "scores_params1 = []\n",
    "for m in max_depth:\n",
    "    dt1 = DecisionTreeClassifier(max_depth=m)\n",
    "    scores = cross_val_score(dt1, X=X_train, y=y_train, scoring='accuracy', cv=cv)\n",
    "#     print(scores)\n",
    "    scores_params1.append(scores.mean())"
   ]
  },
  {
   "cell_type": "code",
   "execution_count": 324,
   "metadata": {},
   "outputs": [
    {
     "data": {
      "image/png": "[encoded data removed]",
      "text/plain": [
       "<Figure size 432x288 with 1 Axes>"
      ]
     },
     "metadata": {
      "needs_background": "light"
     },
     "output_type": "display_data"
    }
   ],
   "source": [
    "plt.plot(scores_params1, label = 'train')\n",
    "# plt.plot(scores_val, label = 'val')\n",
    "plt.xticks(np.arange(len(max_depth)), max_depth, rotation=45)\n",
    "plt.xlabel('max_depth')\n",
    "plt.ylabel('Score')\n",
    "plt.title('Validation Curve')\n",
    "plt.legend()\n",
    "plt.show()"
   ]
  },
  {
   "cell_type": "code",
   "execution_count": 328,
   "metadata": {},
   "outputs": [
    {
     "data": {
      "text/plain": [
       "GridSearchCV(cv=5, estimator=DecisionTreeClassifier(),\n",
       "             param_grid={'max_depth': [8, 9, 10, 11, 12, 13, 14, 15, 16, 17, 18,\n",
       "                                       19, 20],\n",
       "                         'min_samples_split': [5, 6, 7, 8, 9, 10, 11, 12, 13,\n",
       "                                               14, 15, 16, 17, 18, 19, 20]},\n",
       "             scoring='f1')"
      ]
     },
     "execution_count": 328,
     "metadata": {},
     "output_type": "execute_result"
    }
   ],
   "source": [
    "from sklearn.model_selection import GridSearchCV\n",
    "ms_rng = list(range(5, 21))\n",
    "mx_dpth = list(range(8, 21))\n",
    "parameters = {'min_samples_split':ms_rng, 'max_depth':mx_dpth}\n",
    "dt2 = DecisionTreeClassifier()\n",
    "clf = GridSearchCV(dt2, parameters, cv=5, scoring='f1')\n",
    "clf.fit(X_train, y_train)"
   ]
  },
  {
   "cell_type": "code",
   "execution_count": 329,
   "metadata": {
    "scrolled": true
   },
   "outputs": [],
   "source": [
    "best_estimator=clf.best_estimator_"
   ]
  },
  {
   "cell_type": "code",
   "execution_count": 330,
   "metadata": {
    "scrolled": true
   },
   "outputs": [
    {
     "data": {
      "text/plain": [
       "DecisionTreeClassifier(max_depth=16, min_samples_split=12)"
      ]
     },
     "execution_count": 330,
     "metadata": {},
     "output_type": "execute_result"
    }
   ],
   "source": [
    "best_estimator"
   ]
  },
  {
   "cell_type": "code",
   "execution_count": 185,
   "metadata": {
    "scrolled": true
   },
   "outputs": [
    {
     "name": "stdout",
     "output_type": "stream",
     "text": [
      "              precision    recall  f1-score   support\n",
      "\n",
      "           0       0.82      0.88      0.85      1807\n",
      "           1       0.27      0.19      0.22       437\n",
      "\n",
      "    accuracy                           0.74      2244\n",
      "   macro avg       0.54      0.53      0.53      2244\n",
      "weighted avg       0.71      0.74      0.72      2244\n",
      "\n"
     ]
    }
   ],
   "source": [
    "print(metrics.classification_report(y_true = y_val, y_pred = clf.predict(X_val), labels=[0, 1]))"
   ]
  },
  {
   "cell_type": "markdown",
   "metadata": {},
   "source": [
    "The above shows an increase in recall from 0.83 to 0.88 for class 0 and a decrease from 0.25 to 0.19 for class 1. Similarly, the precision shows the same value for class 0 and a 0.01 increase in precision for class 1. There is also an increase in accuracy from 0.71 to 0.74."
   ]
  },
  {
   "cell_type": "code",
   "execution_count": 204,
   "metadata": {},
   "outputs": [
    {
     "data": {
      "image/png": "[encoded data removed]",
      "text/plain": [
       "<Figure size 432x288 with 1 Axes>"
      ]
     },
     "metadata": {
      "needs_background": "light"
     },
     "output_type": "display_data"
    }
   ],
   "source": [
    "def plot_feature_importances(model, df):\n",
    "    n_features = df.shape[1]\n",
    "    df_colnames= df.columns\n",
    "    plt.barh(np.arange(n_features), model.feature_importances_, align='center')\n",
    "    plt.yticks(np.arange(n_features), df_colnames)\n",
    "    plt.xlabel(\"Feature importance\")\n",
    "#     plt.ylabel(\"Feature\")\n",
    "    plt.ylim(-1, n_features)\n",
    "\n",
    "plot_feature_importances(best_estimator, df=X)"
   ]
  },
  {
   "cell_type": "markdown",
   "metadata": {},
   "source": [
    "# Q5"
   ]
  },
  {
   "cell_type": "markdown",
   "metadata": {},
   "source": [
    "## Random Forest model"
   ]
  },
  {
   "cell_type": "markdown",
   "metadata": {},
   "source": [
    "- Initiate the Random Forest classifier from the sklearn library. Keep all parameters with their default values. (No need to specify anything)\n",
    "- Fit the model\n",
    "- Make predictions\n",
    "- Calculate accuracy score. What are the **training** and **testing** accuracies of the model?\n",
    "- Create confusion matrix\n",
    "- Either using the confusion matrix or the methods in `sklearn.metrics` get the following metrics on the testing set:\n",
    "     - Recall (Sensitivity)\n",
    "     - Specificity\n",
    "     - Precision\n",
    "     - Balanced Accuracy\n",
    "     - F1 Score\n",
    "- Using all the training data perform cross-validation:\n",
    "    - Select the `min_samples_split` hyper-parameter and apply cross validation to find the best value.  \n",
    "    - Select the `max_depth` hyper-parameter and apply cross validation to find the best value. \n",
    "    - Select the `n_estimators` hyper-parameter and apply cross validation to find the best value. \n",
    "    - Perform grid search where you check for combinations of these hyper-parameters.\n",
    "        - https://scikit-learn.org/stable/modules/generated/sklearn.model_selection.GridSearchCV.html\n",
    "- For the best model:\n",
    "    - Either using the confusion matrix or the methods in `sklearn.metrics` get the following metrics on the testing set:\n",
    "         - Recall (Sensitivity)\n",
    "         - Specificity\n",
    "         - Precision\n",
    "         - Balanced Accuracy\n",
    "         - F1 Score\n",
    "    - Compare the results to the model with default paramters. Any change?"
   ]
  },
  {
   "cell_type": "code",
   "execution_count": 206,
   "metadata": {},
   "outputs": [],
   "source": [
    "from sklearn.ensemble import RandomForestClassifier"
   ]
  },
  {
   "cell_type": "code",
   "execution_count": 207,
   "metadata": {},
   "outputs": [
    {
     "data": {
      "text/plain": [
       "RandomForestClassifier()"
      ]
     },
     "execution_count": 207,
     "metadata": {},
     "output_type": "execute_result"
    }
   ],
   "source": [
    "RandomForestClassifier()"
   ]
  },
  {
   "cell_type": "code",
   "execution_count": 209,
   "metadata": {
    "scrolled": true
   },
   "outputs": [
    {
     "data": {
      "text/plain": [
       "RandomForestClassifier()"
      ]
     },
     "execution_count": 209,
     "metadata": {},
     "output_type": "execute_result"
    }
   ],
   "source": [
    "# YOUR CODE\n",
    "rf = RandomForestClassifier()\n",
    "rf.fit(X_train, y_train)"
   ]
  },
  {
   "cell_type": "code",
   "execution_count": 211,
   "metadata": {
    "scrolled": true
   },
   "outputs": [
    {
     "data": {
      "text/plain": [
       "1.0"
      ]
     },
     "execution_count": 211,
     "metadata": {},
     "output_type": "execute_result"
    }
   ],
   "source": [
    "rf_pred_train = rf.predict(X_train)\n",
    "accuracy_score(y_train, y_pred=rf_pred_train) #training accuracy"
   ]
  },
  {
   "cell_type": "code",
   "execution_count": 212,
   "metadata": {
    "scrolled": false
   },
   "outputs": [
    {
     "data": {
      "text/plain": [
       "0.8061497326203209"
      ]
     },
     "execution_count": 212,
     "metadata": {},
     "output_type": "execute_result"
    }
   ],
   "source": [
    "rf_pred_test = rf.predict(X_val)\n",
    "accuracy_score(y_val, y_pred=rf_pred_test) #testing accuracy"
   ]
  },
  {
   "cell_type": "markdown",
   "metadata": {},
   "source": [
    "Once again, with a training accuracy of 100% and a testing accuracy of 80.6% we can tell that there is some amount of overfitting here. "
   ]
  },
  {
   "cell_type": "code",
   "execution_count": 213,
   "metadata": {
    "scrolled": true
   },
   "outputs": [
    {
     "name": "stdout",
     "output_type": "stream",
     "text": [
      "[[1791   16]\n",
      " [ 419   18]]\n"
     ]
    }
   ],
   "source": [
    "from sklearn.metrics import confusion_matrix\n",
    "cm_rf = confusion_matrix(y_val, rf_pred_test)\n",
    "print(cm_rf)"
   ]
  },
  {
   "cell_type": "code",
   "execution_count": 214,
   "metadata": {
    "scrolled": true
   },
   "outputs": [
    {
     "name": "stdout",
     "output_type": "stream",
     "text": [
      "              precision    recall  f1-score   support\n",
      "\n",
      "           0       0.81      0.99      0.89      1807\n",
      "           1       0.53      0.04      0.08       437\n",
      "\n",
      "    accuracy                           0.81      2244\n",
      "   macro avg       0.67      0.52      0.48      2244\n",
      "weighted avg       0.76      0.81      0.73      2244\n",
      "\n"
     ]
    }
   ],
   "source": [
    "print(metrics.classification_report(y_true = y_val, y_pred = rf_pred_test, labels=[0, 1]))"
   ]
  },
  {
   "cell_type": "code",
   "execution_count": 215,
   "metadata": {
    "scrolled": true
   },
   "outputs": [
    {
     "name": "stdout",
     "output_type": "stream",
     "text": [
      "CV accuracy scores: [0.80897803 0.79465138 0.80897803 0.79560649 0.80783939]\n"
     ]
    }
   ],
   "source": [
    "cv = StratifiedKFold(n_splits=5, shuffle=True, random_state=0)\n",
    "rfc = RandomForestClassifier(min_samples_split=5)\n",
    "scores = cross_val_score(rfc, X=X_train, y=y_train, scoring='accuracy', cv=cv, n_jobs=1, )\n",
    "print('CV accuracy scores: %s' % scores)"
   ]
  },
  {
   "cell_type": "code",
   "execution_count": 252,
   "metadata": {},
   "outputs": [],
   "source": [
    "min_samples_split = [5, 10, 20, 25, 30, 40, 50]\n",
    "scores_params = []\n",
    "for m in min_samples_split:\n",
    "    rfc1 = RandomForestClassifier(min_samples_split=m)\n",
    "    scores = cross_val_score(rfc1, X=X_train, y=y_train, scoring='accuracy', cv=cv)\n",
    "#     print(scores)\n",
    "    scores_params.append(scores.mean())"
   ]
  },
  {
   "cell_type": "code",
   "execution_count": 236,
   "metadata": {
    "scrolled": false
   },
   "outputs": [
    {
     "data": {
      "image/png": "[encoded data removed]",
      "text/plain": [
       "<Figure size 432x288 with 1 Axes>"
      ]
     },
     "metadata": {
      "needs_background": "light"
     },
     "output_type": "display_data"
    }
   ],
   "source": [
    "plt.plot(scores_params, label = 'train')\n",
    "# plt.plot(scores_val, label = 'val')\n",
    "plt.xticks(np.arange(len(min_samples_split)), min_samples_split, rotation=45)\n",
    "plt.xlabel('min_samples_split')\n",
    "plt.ylabel('Score')\n",
    "plt.title('Validation Curve')\n",
    "plt.legend()\n",
    "plt.show()"
   ]
  },
  {
   "cell_type": "code",
   "execution_count": 226,
   "metadata": {},
   "outputs": [],
   "source": [
    "max_depth = [5, 10, 20, 25, 30, 40, 50]\n",
    "scores_params2 = []\n",
    "for m in max_depth:\n",
    "    rfc2 = RandomForestClassifier(max_depth=m)\n",
    "    scores = cross_val_score(rfc2, X=X_train, y=y_train, scoring='accuracy', cv=cv)\n",
    "#     print(scores)\n",
    "    scores_params2.append(scores.mean())"
   ]
  },
  {
   "cell_type": "code",
   "execution_count": 227,
   "metadata": {
    "scrolled": true
   },
   "outputs": [
    {
     "data": {
      "image/png": "[encoded data removed]",
      "text/plain": [
       "<Figure size 432x288 with 1 Axes>"
      ]
     },
     "metadata": {
      "needs_background": "light"
     },
     "output_type": "display_data"
    }
   ],
   "source": [
    "plt.plot(scores_params2, label = 'train')\n",
    "# plt.plot(scores_val, label = 'val')\n",
    "plt.xticks(np.arange(len(max_depth)), max_depth, rotation=45)\n",
    "plt.xlabel('max_depth')\n",
    "plt.ylabel('Score')\n",
    "plt.title('Validation Curve')\n",
    "plt.legend()\n",
    "plt.show()"
   ]
  },
  {
   "cell_type": "code",
   "execution_count": 228,
   "metadata": {},
   "outputs": [],
   "source": [
    "n_estimators = [5, 10, 20, 25, 30, 40, 50]\n",
    "scores_params3 = []\n",
    "for m in n_estimators:\n",
    "    rfc3 = RandomForestClassifier(n_estimators=m)\n",
    "    scores = cross_val_score(rfc3, X=X_train, y=y_train, scoring='accuracy', cv=cv)\n",
    "#     print(scores)\n",
    "    scores_params3.append(scores.mean())"
   ]
  },
  {
   "cell_type": "code",
   "execution_count": 229,
   "metadata": {
    "scrolled": false
   },
   "outputs": [
    {
     "data": {
      "image/png": "[encoded data removed]",
      "text/plain": [
       "<Figure size 432x288 with 1 Axes>"
      ]
     },
     "metadata": {
      "needs_background": "light"
     },
     "output_type": "display_data"
    }
   ],
   "source": [
    "plt.plot(scores_params3, label = 'train')\n",
    "# plt.plot(scores_val, label = 'val')\n",
    "plt.xticks(np.arange(len(n_estimators)), n_estimators, rotation=45)\n",
    "plt.xlabel('n_estimators')\n",
    "plt.ylabel('Score')\n",
    "plt.title('Validation Curve')\n",
    "plt.legend()\n",
    "plt.show()"
   ]
  },
  {
   "cell_type": "code",
   "execution_count": 368,
   "metadata": {
    "scrolled": true
   },
   "outputs": [
    {
     "data": {
      "text/plain": [
       "GridSearchCV(cv=5, estimator=RandomForestClassifier(),\n",
       "             param_grid={'max_depth': [1, 2, 3, 'None'],\n",
       "                         'min_samples_split': [2, 4, 6, 8, 10],\n",
       "                         'n_estimators': [50, 60, 70, 80, 90]},\n",
       "             scoring='f1')"
      ]
     },
     "execution_count": 368,
     "metadata": {},
     "output_type": "execute_result"
    }
   ],
   "source": [
    "#from sklearn.model_selection import GridSearchCV\n",
    "ms_rng = list(range(2, 12, 2))\n",
    "mx_dpth = [1, 2, 3, 'None']\n",
    "n_estm = list(range(50, 100, 10))\n",
    "parameters = {'min_samples_split':ms_rng, 'max_depth':mx_dpth, 'n_estimators':n_estm}\n",
    "rfc_gscv = RandomForestClassifier()\n",
    "rf_gs = GridSearchCV(rfc_gscv, parameters, cv=5, scoring='f1')\n",
    "rf_gs.fit(X_train, y_train)"
   ]
  },
  {
   "cell_type": "code",
   "execution_count": 369,
   "metadata": {},
   "outputs": [],
   "source": [
    "best_estimator_rf=rf_gs.best_estimator_"
   ]
  },
  {
   "cell_type": "code",
   "execution_count": 370,
   "metadata": {},
   "outputs": [
    {
     "data": {
      "text/plain": [
       "RandomForestClassifier(max_depth=1, n_estimators=50)"
      ]
     },
     "execution_count": 370,
     "metadata": {},
     "output_type": "execute_result"
    }
   ],
   "source": [
    "best_estimator_rf"
   ]
  },
  {
   "cell_type": "code",
   "execution_count": 237,
   "metadata": {
    "scrolled": false
   },
   "outputs": [
    {
     "name": "stdout",
     "output_type": "stream",
     "text": [
      "              precision    recall  f1-score   support\n",
      "\n",
      "           0       0.82      0.95      0.88      1807\n",
      "           1       0.37      0.11      0.17       437\n",
      "\n",
      "    accuracy                           0.79      2244\n",
      "   macro avg       0.59      0.53      0.53      2244\n",
      "weighted avg       0.73      0.79      0.74      2244\n",
      "\n"
     ]
    }
   ],
   "source": [
    "print(metrics.classification_report(y_true = y_val, y_pred = clf_rf.predict(X_val)))"
   ]
  },
  {
   "cell_type": "markdown",
   "metadata": {},
   "source": [
    "When we compare the above precision, recall and f-1 score to the previous one for the random forest classifier we see small changes such as precision increasing from 0.81 to 0.82 for class 0 and precision falling quite a bit from 0.53 to 0.37 in class 1. Furthermore we also see a fall in the accuracy from 0.81 to 0.79, a fall in class 0 recall from 0.99 to 0.95 and a fall in class 0 f-1 score from 0.89 to 0.88."
   ]
  },
  {
   "cell_type": "markdown",
   "metadata": {},
   "source": [
    "# Q6"
   ]
  },
  {
   "cell_type": "markdown",
   "metadata": {},
   "source": [
    "## Adaboost model"
   ]
  },
  {
   "cell_type": "markdown",
   "metadata": {},
   "source": [
    "- Initiate the Random Forest classifier from the sklearn library. Keep all parameters with their default values. (No need to specify anything)\n",
    "- Fit the model\n",
    "- Make predictions\n",
    "- Calculate accuracy score. What are the **training** and **testing** accuracies of the model?\n",
    "- Create confusion matrix\n",
    "- Either using the confusion matrix or the methods in `sklearn.metrics` get the following metrics on the testing set:\n",
    "     - Recall (Sensitivity)\n",
    "     - Specificity\n",
    "     - Precision\n",
    "     - Balanced Accuracy\n",
    "     - F1 Score\n",
    "- Using all the training data perform cross-validation:\n",
    "    - Select the `learning_rate` hyper-parameter and apply cross validation to find the best value.  \n",
    "    - Select the `n_estimators` hyper-parameter and apply cross validation to find the best value. \n",
    "    - Perform grid search where you check for combinations of these hyper-parameters.\n",
    "        - https://scikit-learn.org/stable/modules/generated/sklearn.model_selection.GridSearchCV.html\n",
    "- For the best model:\n",
    "    - Either using the confusion matrix or the methods in `sklearn.metrics` get the following metrics on the testing set:\n",
    "         - Recall (Sensitivity)\n",
    "         - Specificity\n",
    "         - Precision\n",
    "         - Balanced Accuracy\n",
    "         - F1 Score\n",
    "    - Compare the results to the model with default paramters. Any change?"
   ]
  },
  {
   "cell_type": "code",
   "execution_count": 239,
   "metadata": {},
   "outputs": [],
   "source": [
    "from sklearn.ensemble import AdaBoostClassifier"
   ]
  },
  {
   "cell_type": "code",
   "execution_count": 240,
   "metadata": {},
   "outputs": [
    {
     "data": {
      "text/plain": [
       "AdaBoostClassifier()"
      ]
     },
     "execution_count": 240,
     "metadata": {},
     "output_type": "execute_result"
    }
   ],
   "source": [
    "AdaBoostClassifier()"
   ]
  },
  {
   "cell_type": "code",
   "execution_count": 241,
   "metadata": {},
   "outputs": [
    {
     "data": {
      "text/plain": [
       "AdaBoostClassifier()"
      ]
     },
     "execution_count": 241,
     "metadata": {},
     "output_type": "execute_result"
    }
   ],
   "source": [
    "# YOUR CODE\n",
    "abc = AdaBoostClassifier()\n",
    "abc.fit(X_train, y_train)"
   ]
  },
  {
   "cell_type": "code",
   "execution_count": 245,
   "metadata": {
    "scrolled": true
   },
   "outputs": [
    {
     "data": {
      "text/plain": [
       "0.815246465418418"
      ]
     },
     "execution_count": 245,
     "metadata": {},
     "output_type": "execute_result"
    }
   ],
   "source": [
    "abc_pred_train = abc.predict(X_train)\n",
    "accuracy_score(y_train, y_pred=abc_pred_train) #training accuracy"
   ]
  },
  {
   "cell_type": "code",
   "execution_count": 246,
   "metadata": {
    "scrolled": false
   },
   "outputs": [
    {
     "data": {
      "text/plain": [
       "0.803475935828877"
      ]
     },
     "execution_count": 246,
     "metadata": {},
     "output_type": "execute_result"
    }
   ],
   "source": [
    "abc_pred_test = abc.predict(X_val)\n",
    "accuracy_score(y_val, y_pred=abc_pred_test) #testing accuracy"
   ]
  },
  {
   "cell_type": "markdown",
   "metadata": {},
   "source": [
    "Here we can see that the training accuracy is not much higher than the testing accuracy. This means that the model is relatively better than the previous ones. We can also see that comparatively, there is little to no overfitting occuring here as well unlike previous models where training accuracies were at 100% and testing accuracies were much lower."
   ]
  },
  {
   "cell_type": "code",
   "execution_count": 247,
   "metadata": {
    "scrolled": true
   },
   "outputs": [
    {
     "name": "stdout",
     "output_type": "stream",
     "text": [
      "[[1786   21]\n",
      " [ 420   17]]\n"
     ]
    }
   ],
   "source": [
    "cm_abc = confusion_matrix(y_val, abc_pred_test)\n",
    "print(cm_abc)"
   ]
  },
  {
   "cell_type": "code",
   "execution_count": 248,
   "metadata": {
    "scrolled": true
   },
   "outputs": [
    {
     "name": "stdout",
     "output_type": "stream",
     "text": [
      "              precision    recall  f1-score   support\n",
      "\n",
      "           0       0.81      0.99      0.89      1807\n",
      "           1       0.45      0.04      0.07       437\n",
      "\n",
      "    accuracy                           0.80      2244\n",
      "   macro avg       0.63      0.51      0.48      2244\n",
      "weighted avg       0.74      0.80      0.73      2244\n",
      "\n"
     ]
    }
   ],
   "source": [
    "print(metrics.classification_report(y_true = y_val, y_pred = abc_pred_test, labels=[0, 1]))"
   ]
  },
  {
   "cell_type": "code",
   "execution_count": 264,
   "metadata": {},
   "outputs": [],
   "source": [
    "learning_rate = [2, 4, 6, 8, 10, 12, 14, 16]\n",
    "scores_params_abc = []\n",
    "for m in learning_rate:\n",
    "    abc1 = AdaBoostClassifier(learning_rate=m)\n",
    "    scores = cross_val_score(abc1, X=X_train, y=y_train, scoring='accuracy', cv=cv)\n",
    "#     print(scores)\n",
    "    scores_params_abc.append(scores.mean())"
   ]
  },
  {
   "cell_type": "code",
   "execution_count": 265,
   "metadata": {
    "scrolled": true
   },
   "outputs": [
    {
     "data": {
      "image/png": "[encoded data removed]",
      "text/plain": [
       "<Figure size 432x288 with 1 Axes>"
      ]
     },
     "metadata": {
      "needs_background": "light"
     },
     "output_type": "display_data"
    }
   ],
   "source": [
    "plt.plot(scores_params_abc, label = 'train')\n",
    "# plt.plot(scores_val, label = 'val')\n",
    "plt.xticks(np.arange(len(learning_rate)), learning_rate, rotation=45)\n",
    "plt.xlabel('learning rate')\n",
    "plt.ylabel('Score')\n",
    "plt.title('Validation Curve')\n",
    "plt.legend()\n",
    "plt.show()"
   ]
  },
  {
   "cell_type": "code",
   "execution_count": 284,
   "metadata": {},
   "outputs": [],
   "source": [
    "n_estimators = [50, 60, 70, 80, 90, 100]\n",
    "scores_params_abc1 = []\n",
    "for m in n_estimators:\n",
    "    abc2 = AdaBoostClassifier(n_estimators=m)\n",
    "    scores = cross_val_score(abc2, X=X_train, y=y_train, scoring='accuracy', cv=cv)\n",
    "#     print(scores)\n",
    "    scores_params_abc1.append(scores.mean())"
   ]
  },
  {
   "cell_type": "code",
   "execution_count": 285,
   "metadata": {
    "scrolled": true
   },
   "outputs": [
    {
     "data": {
      "image/png": "[encoded data removed]",
      "text/plain": [
       "<Figure size 432x288 with 1 Axes>"
      ]
     },
     "metadata": {
      "needs_background": "light"
     },
     "output_type": "display_data"
    }
   ],
   "source": [
    "plt.plot(scores_params_abc1, label = 'train')\n",
    "# plt.plot(scores_val, label = 'val')\n",
    "plt.xticks(np.arange(len(n_estimators)), n_estimators, rotation=45)\n",
    "plt.xlabel('n_estimators')\n",
    "plt.ylabel('Score')\n",
    "plt.title('Validation Curve')\n",
    "plt.legend()\n",
    "plt.show()"
   ]
  },
  {
   "cell_type": "code",
   "execution_count": 360,
   "metadata": {
    "scrolled": false
   },
   "outputs": [
    {
     "data": {
      "text/plain": [
       "GridSearchCV(cv=5, estimator=AdaBoostClassifier(),\n",
       "             param_grid={'learning_rate': [1, 3, 5, 7, 9, 11, 13, 15],\n",
       "                         'n_estimators': [50, 60, 70, 80, 90, 100]},\n",
       "             scoring='recall')"
      ]
     },
     "execution_count": 360,
     "metadata": {},
     "output_type": "execute_result"
    }
   ],
   "source": [
    "lrn_rte = list(range(1, 17, 2))\n",
    "n_estm1 = list(range(50, 101, 10))\n",
    "parameters = {'learning_rate':lrn_rte, 'n_estimators':n_estm1}\n",
    "abc_gscv = AdaBoostClassifier()\n",
    "abc_gs = GridSearchCV(abc_gscv, parameters, cv=5, scoring='recall')\n",
    "abc_gs.fit(X_train, y_train)"
   ]
  },
  {
   "cell_type": "code",
   "execution_count": 364,
   "metadata": {},
   "outputs": [],
   "source": [
    "abc_pred1 = abc_gs.predict(X_val)"
   ]
  },
  {
   "cell_type": "code",
   "execution_count": 365,
   "metadata": {},
   "outputs": [],
   "source": [
    "best_estimator=clf1.best_estimator_"
   ]
  },
  {
   "cell_type": "code",
   "execution_count": 366,
   "metadata": {},
   "outputs": [
    {
     "name": "stdout",
     "output_type": "stream",
     "text": [
      "AdaBoostClassifier(learning_rate=5)\n"
     ]
    }
   ],
   "source": [
    "print(best_estimator)"
   ]
  },
  {
   "cell_type": "code",
   "execution_count": 351,
   "metadata": {},
   "outputs": [
    {
     "name": "stdout",
     "output_type": "stream",
     "text": [
      "              precision    recall  f1-score   support\n",
      "\n",
      "           0       0.00      0.00      0.00      1807\n",
      "           1       0.19      1.00      0.33       437\n",
      "\n",
      "    accuracy                           0.19      2244\n",
      "   macro avg       0.10      0.50      0.16      2244\n",
      "weighted avg       0.04      0.19      0.06      2244\n",
      "\n"
     ]
    }
   ],
   "source": [
    "print(metrics.classification_report(y_true = y_val, y_pred = clf1.predict(X_val)))"
   ]
  },
  {
   "cell_type": "markdown",
   "metadata": {},
   "source": [
    "# Q7"
   ]
  },
  {
   "cell_type": "markdown",
   "metadata": {},
   "source": [
    "## Gradient Boost model"
   ]
  },
  {
   "cell_type": "markdown",
   "metadata": {},
   "source": [
    "- Initiate the Random Forest classifier from the sklearn library. Keep all parameters with their default values. (No need to specify anything)\n",
    "- Fit the model\n",
    "- Make predictions\n",
    "- Calculate accuracy score. What are the **training** and **testing** accuracies of the model?\n",
    "- Create confusion matrix\n",
    "- Either using the confusion matrix or the methods in `sklearn.metrics` get the following metrics on the testing set:\n",
    "     - Recall (Sensitivity)\n",
    "     - Specificity\n",
    "     - Precision\n",
    "     - Balanced Accuracy\n",
    "     - F1 Score\n",
    "- Using all the training data perform cross-validation:\n",
    "    - Select the `learning_rate` hyper-parameter and apply cross validation to find the best value.  \n",
    "    - Select the `n_estimators` hyper-parameter and apply cross validation to find the best value. \n",
    "    - Perform grid search where you check for combinations of these hyper-parameters.\n",
    "        - https://scikit-learn.org/stable/modules/generated/sklearn.model_selection.GridSearchCV.html\n",
    "- For the best model:\n",
    "    - Either using the confusion matrix or the methods in `sklearn.metrics` get the following metrics on the testing set:\n",
    "         - Recall (Sensitivity)\n",
    "         - Specificity\n",
    "         - Precision\n",
    "         - Balanced Accuracy\n",
    "         - F1 Score\n",
    "    - Compare the results to the model with default paramters. Any change?"
   ]
  },
  {
   "cell_type": "code",
   "execution_count": 276,
   "metadata": {},
   "outputs": [],
   "source": [
    "from sklearn.ensemble import GradientBoostingClassifier"
   ]
  },
  {
   "cell_type": "code",
   "execution_count": 277,
   "metadata": {},
   "outputs": [
    {
     "data": {
      "text/plain": [
       "GradientBoostingClassifier()"
      ]
     },
     "execution_count": 277,
     "metadata": {},
     "output_type": "execute_result"
    }
   ],
   "source": [
    "GradientBoostingClassifier()"
   ]
  },
  {
   "cell_type": "code",
   "execution_count": 278,
   "metadata": {},
   "outputs": [
    {
     "data": {
      "text/plain": [
       "GradientBoostingClassifier()"
      ]
     },
     "execution_count": 278,
     "metadata": {},
     "output_type": "execute_result"
    }
   ],
   "source": [
    "# YOUR CODE\n",
    "gbc = GradientBoostingClassifier()\n",
    "gbc.fit(X_train, y_train)"
   ]
  },
  {
   "cell_type": "code",
   "execution_count": 279,
   "metadata": {
    "scrolled": true
   },
   "outputs": [
    {
     "data": {
      "text/plain": [
       "0.8291937332823844"
      ]
     },
     "execution_count": 279,
     "metadata": {},
     "output_type": "execute_result"
    }
   ],
   "source": [
    "gbc_pred_train = gbc.predict(X_train)\n",
    "accuracy_score(y_train, y_pred=gbc_pred_train) #training accuracy"
   ]
  },
  {
   "cell_type": "code",
   "execution_count": 280,
   "metadata": {
    "scrolled": true
   },
   "outputs": [
    {
     "data": {
      "text/plain": [
       "0.8057040998217468"
      ]
     },
     "execution_count": 280,
     "metadata": {},
     "output_type": "execute_result"
    }
   ],
   "source": [
    "gbc_pred_test = gbc.predict(X_val)\n",
    "accuracy_score(y_val, y_pred=gbc_pred_test) #testing accuracy"
   ]
  },
  {
   "cell_type": "markdown",
   "metadata": {},
   "source": [
    "Similar to the outcome of the testing and training accuracies with the Ada Boost model, we see a training accuracy of 82% and testing accuracy of about 80% which do not have a very large gap between them. This means that there is little to no overfitting and the model is relatively good, in that it is able to perform with similar accuracy with the training data and testing data."
   ]
  },
  {
   "cell_type": "code",
   "execution_count": 281,
   "metadata": {
    "scrolled": true
   },
   "outputs": [
    {
     "name": "stdout",
     "output_type": "stream",
     "text": [
      "[[1791   16]\n",
      " [ 420   17]]\n"
     ]
    }
   ],
   "source": [
    "cm_gbc = confusion_matrix(y_val, gbc_pred_test)\n",
    "print(cm_gbc)"
   ]
  },
  {
   "cell_type": "code",
   "execution_count": 282,
   "metadata": {
    "scrolled": true
   },
   "outputs": [
    {
     "name": "stdout",
     "output_type": "stream",
     "text": [
      "              precision    recall  f1-score   support\n",
      "\n",
      "           0       0.81      0.99      0.89      1807\n",
      "           1       0.52      0.04      0.07       437\n",
      "\n",
      "    accuracy                           0.81      2244\n",
      "   macro avg       0.66      0.52      0.48      2244\n",
      "weighted avg       0.75      0.81      0.73      2244\n",
      "\n"
     ]
    }
   ],
   "source": [
    "print(metrics.classification_report(y_true = y_val, y_pred = gbc_pred_test, labels=[0, 1]))"
   ]
  },
  {
   "cell_type": "code",
   "execution_count": 287,
   "metadata": {},
   "outputs": [],
   "source": [
    "learning_rate1 = [2, 4, 6, 8, 10, 12, 14, 16]\n",
    "scores_params_gbc = []\n",
    "for m in learning_rate1:\n",
    "    gbc1 = GradientBoostingClassifier(learning_rate=m)\n",
    "    scores = cross_val_score(gbc1, X=X_train, y=y_train, scoring='accuracy', cv=cv)\n",
    "#     print(scores)\n",
    "    scores_params_gbc.append(scores.mean())"
   ]
  },
  {
   "cell_type": "code",
   "execution_count": 288,
   "metadata": {
    "scrolled": true
   },
   "outputs": [
    {
     "data": {
      "image/png": "[encoded data removed]",
      "text/plain": [
       "<Figure size 432x288 with 1 Axes>"
      ]
     },
     "metadata": {
      "needs_background": "light"
     },
     "output_type": "display_data"
    }
   ],
   "source": [
    "plt.plot(scores_params_gbc, label = 'train')\n",
    "# plt.plot(scores_val, label = 'val')\n",
    "plt.xticks(np.arange(len(learning_rate1)), learning_rate1, rotation=45)\n",
    "plt.xlabel('learning rate')\n",
    "plt.ylabel('Score')\n",
    "plt.title('Validation Curve')\n",
    "plt.legend()\n",
    "plt.show()"
   ]
  },
  {
   "cell_type": "code",
   "execution_count": 289,
   "metadata": {},
   "outputs": [],
   "source": [
    "n_estimators1 = [50, 60, 70, 80, 90, 100]\n",
    "scores_params_gbc1 = []\n",
    "for m in n_estimators1:\n",
    "    gbc2 = GradientBoostingClassifier(n_estimators=m)\n",
    "    scores = cross_val_score(gbc2, X=X_train, y=y_train, scoring='accuracy', cv=cv)\n",
    "#     print(scores)\n",
    "    scores_params_gbc1.append(scores.mean())"
   ]
  },
  {
   "cell_type": "code",
   "execution_count": 290,
   "metadata": {
    "scrolled": true
   },
   "outputs": [
    {
     "data": {
      "image/png": "[encoded data removed]",
      "text/plain": [
       "<Figure size 432x288 with 1 Axes>"
      ]
     },
     "metadata": {
      "needs_background": "light"
     },
     "output_type": "display_data"
    }
   ],
   "source": [
    "plt.plot(scores_params_gbc1, label = 'train')\n",
    "# plt.plot(scores_val, label = 'val')\n",
    "plt.xticks(np.arange(len(n_estimators1)), n_estimators1, rotation=45)\n",
    "plt.xlabel('n_estimators')\n",
    "plt.ylabel('Score')\n",
    "plt.title('Validation Curve')\n",
    "plt.legend()\n",
    "plt.show()"
   ]
  },
  {
   "cell_type": "code",
   "execution_count": 295,
   "metadata": {},
   "outputs": [
    {
     "data": {
      "text/plain": [
       "GridSearchCV(cv=5, estimator=GradientBoostingClassifier(),\n",
       "             param_grid={'learning_rate': [1, 3, 5, 7, 9, 11],\n",
       "                         'n_estimators': [50, 60, 70, 80, 90, 100]},\n",
       "             scoring='f1')"
      ]
     },
     "execution_count": 295,
     "metadata": {},
     "output_type": "execute_result"
    }
   ],
   "source": [
    "lrn_rte1 = list(range(1, 12, 2))\n",
    "n_estm2 = list(range(50, 101, 10))\n",
    "parameters_gbc = {'learning_rate':lrn_rte1, 'n_estimators':n_estm2}\n",
    "gbc_gscv = GradientBoostingClassifier()\n",
    "gbc_gs = GridSearchCV(gbc_gscv, parameters_gbc, cv=5, scoring='f1')\n",
    "gbc_gs.fit(X_train, y_train)"
   ]
  },
  {
   "cell_type": "code",
   "execution_count": 296,
   "metadata": {},
   "outputs": [],
   "source": [
    "gbc_gs_pred1 = gbc_gs.predict(X_val)"
   ]
  },
  {
   "cell_type": "code",
   "execution_count": 353,
   "metadata": {},
   "outputs": [],
   "source": [
    "best_estimators_gbc=gbc_gs.best_estimator_"
   ]
  },
  {
   "cell_type": "code",
   "execution_count": 354,
   "metadata": {},
   "outputs": [
    {
     "data": {
      "text/plain": [
       "GradientBoostingClassifier(learning_rate=3, n_estimators=50)"
      ]
     },
     "execution_count": 354,
     "metadata": {},
     "output_type": "execute_result"
    }
   ],
   "source": [
    "best_estimators_gbc"
   ]
  },
  {
   "cell_type": "code",
   "execution_count": 297,
   "metadata": {
    "scrolled": true
   },
   "outputs": [
    {
     "name": "stdout",
     "output_type": "stream",
     "text": [
      "              precision    recall  f1-score   support\n",
      "\n",
      "           0       0.94      0.19      0.32      1807\n",
      "           1       0.22      0.95      0.36       437\n",
      "\n",
      "    accuracy                           0.34      2244\n",
      "   macro avg       0.58      0.57      0.34      2244\n",
      "weighted avg       0.80      0.34      0.33      2244\n",
      "\n"
     ]
    }
   ],
   "source": [
    "print(metrics.classification_report(y_true = y_val, y_pred = gbc_gs_pred1))"
   ]
  },
  {
   "cell_type": "markdown",
   "metadata": {},
   "source": [
    "The above shows a large decrease in the accuracy after tuning the n_estimators and learning_rate parameters. Initially we had an accuracy of 0.81 beforehand and after the entire cross validation and hyperparameter tuning process we got an accuracy of 0.34, showing that this did not help the accuracy of the model. Furthermore, we see large changes in recall and precision as well after this process, large falls in precision and accuracy also support what I mentioned earlier. The tuning of hyperparameters did not help any of these metrics in this case. "
   ]
  },
  {
   "cell_type": "markdown",
   "metadata": {},
   "source": [
    "# Q8"
   ]
  },
  {
   "cell_type": "markdown",
   "metadata": {},
   "source": [
    "- Using the Decision Tree, Random Forest, Adaboost, and Gradient Boosting classifer models:\n",
    "    - Think of other ways of improving the accuracy and list at least two possibilities.\n",
    "    - Implement both of the methods you proposed. \n",
    "    - Is the model recall increasing? Why do you think this might have helped?\n",
    "    - If both of them did not improve, comment on why this might have been the case.\n",
    "    - Optional: Apply different things and see if the recall is improving"
   ]
  },
  {
   "cell_type": "code",
   "execution_count": 308,
   "metadata": {},
   "outputs": [
    {
     "data": {
      "text/plain": [
       "DecisionTreeClassifier()"
      ]
     },
     "execution_count": 308,
     "metadata": {},
     "output_type": "execute_result"
    }
   ],
   "source": [
    "# YOUR CODE\n",
    "# tuning hyperparameters is a good place to start especially for classifiers such as Decision Trees\n",
    "dt_gini = DecisionTreeClassifier(criterion='gini', min_samples_split=2, max_depth=None)\n",
    "dt_gini.fit(X_train, y_train)"
   ]
  },
  {
   "cell_type": "code",
   "execution_count": 309,
   "metadata": {
    "scrolled": false
   },
   "outputs": [
    {
     "data": {
      "text/plain": [
       "1.0"
      ]
     },
     "execution_count": 309,
     "metadata": {},
     "output_type": "execute_result"
    }
   ],
   "source": [
    "dt_gini_pred=dt_gini.predict(X_train)\n",
    "accuracy_score(y_train, y_pred=dt_gini_pred) #training accuracy"
   ]
  },
  {
   "cell_type": "markdown",
   "metadata": {},
   "source": [
    "Here we can already see a good chance of overfitting since the training accuracy seems to be 100%"
   ]
  },
  {
   "cell_type": "code",
   "execution_count": 310,
   "metadata": {
    "scrolled": true
   },
   "outputs": [
    {
     "data": {
      "text/plain": [
       "0.7040998217468806"
      ]
     },
     "execution_count": 310,
     "metadata": {},
     "output_type": "execute_result"
    }
   ],
   "source": [
    "dt_gini_pred1=dt_gini.predict(X_val)\n",
    "accuracy_score(y_val, y_pred=dt_gini_pred1) #tesing accuracy"
   ]
  },
  {
   "cell_type": "markdown",
   "metadata": {},
   "source": [
    "The testing accuracy is about 30% lower than the training accuracy which means there is a lot of overfitting in this model. Next, we will try the same classifier with 'entropy' as the criterion."
   ]
  },
  {
   "cell_type": "code",
   "execution_count": 311,
   "metadata": {
    "scrolled": true
   },
   "outputs": [
    {
     "data": {
      "text/plain": [
       "DecisionTreeClassifier(criterion='entropy')"
      ]
     },
     "execution_count": 311,
     "metadata": {},
     "output_type": "execute_result"
    }
   ],
   "source": [
    "# criterion = entropy\n",
    "dt_ent = DecisionTreeClassifier(criterion='entropy', min_samples_split=2, max_depth=None)\n",
    "dt_ent.fit(X_train, y_train)"
   ]
  },
  {
   "cell_type": "code",
   "execution_count": 312,
   "metadata": {
    "scrolled": true
   },
   "outputs": [
    {
     "data": {
      "text/plain": [
       "1.0"
      ]
     },
     "execution_count": 312,
     "metadata": {},
     "output_type": "execute_result"
    }
   ],
   "source": [
    "dt_ent_pred=dt_ent.predict(X_train)\n",
    "accuracy_score(y_train, y_pred=dt_ent_pred) #training accuracy"
   ]
  },
  {
   "cell_type": "markdown",
   "metadata": {},
   "source": [
    "Once again, a very high training accuracy which means there will be overfitting"
   ]
  },
  {
   "cell_type": "code",
   "execution_count": 313,
   "metadata": {
    "scrolled": true
   },
   "outputs": [
    {
     "data": {
      "text/plain": [
       "0.7094474153297683"
      ]
     },
     "execution_count": 313,
     "metadata": {},
     "output_type": "execute_result"
    }
   ],
   "source": [
    "dt_ent_pred1=dt_ent.predict(X_val)\n",
    "accuracy_score(y_val, y_pred=dt_ent_pred1) #testing accuracy"
   ]
  },
  {
   "cell_type": "markdown",
   "metadata": {},
   "source": [
    "Despite there being overfitting with both models, we see a slight increase in accuracy for the testing set between the model with gini criterion and the model with entropy criterion. Another way to test for an increase in accuracy would be to try the same classifier with default splitter vs splitter=random."
   ]
  },
  {
   "cell_type": "code",
   "execution_count": 315,
   "metadata": {
    "scrolled": true
   },
   "outputs": [
    {
     "data": {
      "text/plain": [
       "DecisionTreeClassifier(splitter='random')"
      ]
     },
     "execution_count": 315,
     "metadata": {},
     "output_type": "execute_result"
    }
   ],
   "source": [
    "dt_rand = DecisionTreeClassifier(criterion='gini', min_samples_split=2, max_depth=None, splitter='random')\n",
    "dt_rand.fit(X_train, y_train)"
   ]
  },
  {
   "cell_type": "code",
   "execution_count": 316,
   "metadata": {
    "scrolled": true
   },
   "outputs": [
    {
     "data": {
      "text/plain": [
       "1.0"
      ]
     },
     "execution_count": 316,
     "metadata": {},
     "output_type": "execute_result"
    }
   ],
   "source": [
    "dt_rand_pred=dt_rand.predict(X_train)\n",
    "accuracy_score(y_train, y_pred=dt_rand_pred) #training accuracy"
   ]
  },
  {
   "cell_type": "markdown",
   "metadata": {},
   "source": [
    "Once again, overfitting"
   ]
  },
  {
   "cell_type": "code",
   "execution_count": 317,
   "metadata": {
    "scrolled": true
   },
   "outputs": [
    {
     "data": {
      "text/plain": [
       "0.6987522281639929"
      ]
     },
     "execution_count": 317,
     "metadata": {},
     "output_type": "execute_result"
    }
   ],
   "source": [
    "dt_rand_pred1=dt_rand.predict(X_val)\n",
    "accuracy_score(y_val, y_pred=dt_rand_pred1) #testing accuracy"
   ]
  },
  {
   "cell_type": "markdown",
   "metadata": {},
   "source": [
    "Now we will try the default splitter value"
   ]
  },
  {
   "cell_type": "code",
   "execution_count": 319,
   "metadata": {
    "scrolled": true
   },
   "outputs": [
    {
     "data": {
      "text/plain": [
       "DecisionTreeClassifier()"
      ]
     },
     "execution_count": 319,
     "metadata": {},
     "output_type": "execute_result"
    }
   ],
   "source": [
    "dt_best = DecisionTreeClassifier(criterion='gini', min_samples_split=2, max_depth=None, splitter='best')\n",
    "dt_best.fit(X_train, y_train)"
   ]
  },
  {
   "cell_type": "code",
   "execution_count": 320,
   "metadata": {
    "scrolled": true
   },
   "outputs": [
    {
     "data": {
      "text/plain": [
       "1.0"
      ]
     },
     "execution_count": 320,
     "metadata": {},
     "output_type": "execute_result"
    }
   ],
   "source": [
    "dt_best_pred=dt_best.predict(X_train)\n",
    "accuracy_score(y_train, y_pred=dt_best_pred) #training accuracy"
   ]
  },
  {
   "cell_type": "code",
   "execution_count": 321,
   "metadata": {
    "scrolled": true
   },
   "outputs": [
    {
     "data": {
      "text/plain": [
       "0.7112299465240641"
      ]
     },
     "execution_count": 321,
     "metadata": {},
     "output_type": "execute_result"
    }
   ],
   "source": [
    "dt_best_pred1=dt_best.predict(X_val)\n",
    "accuracy_score(y_val, y_pred=dt_best_pred1) #testing accuracy"
   ]
  },
  {
   "cell_type": "markdown",
   "metadata": {},
   "source": [
    "The default splitter value seems to provide a higher testing accuracy of 0.71 as opposed to the random splitter value which provided an accuracy of 0.69. Therefore, the default splitter value increases the accuracy of the DT model compared to the former. "
   ]
  },
  {
   "cell_type": "markdown",
   "metadata": {},
   "source": [
    "# Q9"
   ]
  },
  {
   "cell_type": "markdown",
   "metadata": {},
   "source": [
    "- Choose the best fitted model for each of teh classifiers (1 model for each of Decision Tree, Random Forest, Adaboost, and Gradient Boosting)\n",
    "- Create a table summarizing results on the test set:\n",
    "    - Create confusion matrix for each model\n",
    "    - Either using the confusion matrix or the methods in `sklearn.metrics` get the following metrics on the testing set:\n",
    "        - Recall (Sensitivity)\n",
    "        - Specificity\n",
    "        - Precision\n",
    "        - Balanced Accuracy\n",
    "        - F1 Score"
   ]
  },
  {
   "cell_type": "code",
   "execution_count": 333,
   "metadata": {},
   "outputs": [
    {
     "data": {
      "text/plain": [
       "DecisionTreeClassifier(max_depth=16, min_samples_split=12)"
      ]
     },
     "execution_count": 333,
     "metadata": {},
     "output_type": "execute_result"
    }
   ],
   "source": [
    "# YOUR CODE\n",
    "# decision tree\n",
    "dt_final = DecisionTreeClassifier(max_depth=16, min_samples_split=12)\n",
    "dt_final.fit(X_val, y_val)"
   ]
  },
  {
   "cell_type": "code",
   "execution_count": 334,
   "metadata": {
    "scrolled": true
   },
   "outputs": [],
   "source": [
    "dt_final_pred = dt_final.predict(X_val)"
   ]
  },
  {
   "cell_type": "code",
   "execution_count": 361,
   "metadata": {},
   "outputs": [
    {
     "name": "stdout",
     "output_type": "stream",
     "text": [
      "[[1764   43]\n",
      " [ 190  247]]\n"
     ]
    }
   ],
   "source": [
    "cm_dt_final = confusion_matrix(y_val, dt_final_pred)\n",
    "print(cm_dt_final)"
   ]
  },
  {
   "cell_type": "code",
   "execution_count": 335,
   "metadata": {
    "scrolled": true
   },
   "outputs": [
    {
     "data": {
      "text/plain": [
       "0.8961675579322638"
      ]
     },
     "execution_count": 335,
     "metadata": {},
     "output_type": "execute_result"
    }
   ],
   "source": [
    "accuracy_score(y_val, y_pred=dt_final_pred) #accuracy"
   ]
  },
  {
   "cell_type": "code",
   "execution_count": 336,
   "metadata": {
    "scrolled": true
   },
   "outputs": [
    {
     "name": "stdout",
     "output_type": "stream",
     "text": [
      "              precision    recall  f1-score   support\n",
      "\n",
      "           0       0.90      0.98      0.94      1807\n",
      "           1       0.85      0.57      0.68       437\n",
      "\n",
      "    accuracy                           0.90      2244\n",
      "   macro avg       0.88      0.77      0.81      2244\n",
      "weighted avg       0.89      0.90      0.89      2244\n",
      "\n"
     ]
    }
   ],
   "source": [
    "print(metrics.classification_report(y_true = y_val, y_pred = dt_final_pred))"
   ]
  },
  {
   "cell_type": "code",
   "execution_count": 344,
   "metadata": {
    "scrolled": true
   },
   "outputs": [
    {
     "data": {
      "text/plain": [
       "AdaBoostClassifier(learning_rate=5)"
      ]
     },
     "execution_count": 344,
     "metadata": {},
     "output_type": "execute_result"
    }
   ],
   "source": [
    "# adaboost\n",
    "abc_final = AdaBoostClassifier(learning_rate=5)\n",
    "abc_final.fit(X_val, y_val)\n"
   ]
  },
  {
   "cell_type": "code",
   "execution_count": 345,
   "metadata": {},
   "outputs": [],
   "source": [
    "abc_final_pred = abc_final.predict(X_val)"
   ]
  },
  {
   "cell_type": "code",
   "execution_count": 362,
   "metadata": {},
   "outputs": [
    {
     "name": "stdout",
     "output_type": "stream",
     "text": [
      "[[   0 1807]\n",
      " [   0  437]]\n"
     ]
    }
   ],
   "source": [
    "cm_abc_final = confusion_matrix(y_val, abc_final_pred)\n",
    "print(cm_abc_final)"
   ]
  },
  {
   "cell_type": "code",
   "execution_count": 346,
   "metadata": {
    "scrolled": false
   },
   "outputs": [
    {
     "data": {
      "text/plain": [
       "0.1947415329768271"
      ]
     },
     "execution_count": 346,
     "metadata": {},
     "output_type": "execute_result"
    }
   ],
   "source": [
    "accuracy_score(y_val, y_pred=abc_final_pred) #very low accuracy despite being fit on the testing set - underfitting"
   ]
  },
  {
   "cell_type": "code",
   "execution_count": 349,
   "metadata": {},
   "outputs": [],
   "source": [
    "import warnings\n",
    "warnings.filterwarnings('ignore')"
   ]
  },
  {
   "cell_type": "code",
   "execution_count": 350,
   "metadata": {
    "scrolled": true
   },
   "outputs": [
    {
     "name": "stdout",
     "output_type": "stream",
     "text": [
      "              precision    recall  f1-score   support\n",
      "\n",
      "           0       0.00      0.00      0.00      1807\n",
      "           1       0.19      1.00      0.33       437\n",
      "\n",
      "    accuracy                           0.19      2244\n",
      "   macro avg       0.10      0.50      0.16      2244\n",
      "weighted avg       0.04      0.19      0.06      2244\n",
      "\n"
     ]
    }
   ],
   "source": [
    "print(metrics.classification_report(y_true = y_val, y_pred = abc_final_pred))"
   ]
  },
  {
   "cell_type": "code",
   "execution_count": 355,
   "metadata": {
    "scrolled": true
   },
   "outputs": [
    {
     "data": {
      "text/plain": [
       "GradientBoostingClassifier(learning_rate=3, n_estimators=50)"
      ]
     },
     "execution_count": 355,
     "metadata": {},
     "output_type": "execute_result"
    }
   ],
   "source": [
    "# gradient boost\n",
    "gbc_final=GradientBoostingClassifier(learning_rate=3, n_estimators=50)\n",
    "gbc_final.fit(X_val, y_val)"
   ]
  },
  {
   "cell_type": "code",
   "execution_count": 357,
   "metadata": {},
   "outputs": [],
   "source": [
    "gbc_final_pred = gbc_final.predict(X_val)"
   ]
  },
  {
   "cell_type": "code",
   "execution_count": 363,
   "metadata": {},
   "outputs": [
    {
     "name": "stdout",
     "output_type": "stream",
     "text": [
      "[[  46 1761]\n",
      " [  24  413]]\n"
     ]
    }
   ],
   "source": [
    "cm_gbc_final = confusion_matrix(y_val, gbc_final_pred)\n",
    "print(cm_gbc_final)"
   ]
  },
  {
   "cell_type": "code",
   "execution_count": 358,
   "metadata": {
    "scrolled": true
   },
   "outputs": [
    {
     "data": {
      "text/plain": [
       "0.20454545454545456"
      ]
     },
     "execution_count": 358,
     "metadata": {},
     "output_type": "execute_result"
    }
   ],
   "source": [
    "accuracy_score(y_val, y_pred=gbc_final_pred) #very low accuracy despite being fit on the testing set - underfitting"
   ]
  },
  {
   "cell_type": "code",
   "execution_count": 359,
   "metadata": {},
   "outputs": [
    {
     "name": "stdout",
     "output_type": "stream",
     "text": [
      "              precision    recall  f1-score   support\n",
      "\n",
      "           0       0.66      0.03      0.05      1807\n",
      "           1       0.19      0.95      0.32       437\n",
      "\n",
      "    accuracy                           0.20      2244\n",
      "   macro avg       0.42      0.49      0.18      2244\n",
      "weighted avg       0.57      0.20      0.10      2244\n",
      "\n"
     ]
    }
   ],
   "source": [
    "print(metrics.classification_report(y_true = y_val, y_pred = gbc_final_pred))\n",
    "# very low recall, precision and accuracy scores displayed here as well. "
   ]
  },
  {
   "cell_type": "code",
   "execution_count": 371,
   "metadata": {
    "scrolled": true
   },
   "outputs": [
    {
     "data": {
      "text/plain": [
       "RandomForestClassifier(max_depth=1, n_estimators=50)"
      ]
     },
     "execution_count": 371,
     "metadata": {},
     "output_type": "execute_result"
    }
   ],
   "source": [
    "# random forest\n",
    "rf_final = RandomForestClassifier(max_depth=1, n_estimators=50)\n",
    "rf_final.fit(X_val, y_val)"
   ]
  },
  {
   "cell_type": "code",
   "execution_count": 372,
   "metadata": {},
   "outputs": [],
   "source": [
    "rf_final_pred = rf_final.predict(X_val)"
   ]
  },
  {
   "cell_type": "code",
   "execution_count": 373,
   "metadata": {
    "scrolled": true
   },
   "outputs": [
    {
     "name": "stdout",
     "output_type": "stream",
     "text": [
      "[[1807    0]\n",
      " [ 437    0]]\n"
     ]
    }
   ],
   "source": [
    "cm_rf_final = confusion_matrix(y_val, rf_final_pred)\n",
    "print(cm_rf_final)"
   ]
  },
  {
   "cell_type": "code",
   "execution_count": 374,
   "metadata": {
    "scrolled": true
   },
   "outputs": [
    {
     "name": "stdout",
     "output_type": "stream",
     "text": [
      "              precision    recall  f1-score   support\n",
      "\n",
      "           0       0.81      1.00      0.89      1807\n",
      "           1       0.00      0.00      0.00       437\n",
      "\n",
      "    accuracy                           0.81      2244\n",
      "   macro avg       0.40      0.50      0.45      2244\n",
      "weighted avg       0.65      0.81      0.72      2244\n",
      "\n"
     ]
    }
   ],
   "source": [
    "print(metrics.classification_report(y_true = y_val, y_pred = rf_final_pred))\n",
    "#decent accuracy rate"
   ]
  },
  {
   "cell_type": "markdown",
   "metadata": {},
   "source": [
    "# Q10"
   ]
  },
  {
   "cell_type": "markdown",
   "metadata": {},
   "source": [
    "- Choose a winner model.\n",
    "- Make predictions on the hold-out set whose outcome variables are not known (data we imported as: `loans_outcome_not_known`).\n",
    "- Write the code below to make predictions with this model. At the end it should output the prediction of the labels.\n",
    "- Save the predictions in a csv file\n",
    "- There should be a single column in the csv file.\n",
    "- The column header should be 'predictions'\n",
    "- Your prediction performance will be calculated and a ranking will be performed "
   ]
  },
  {
   "cell_type": "code",
   "execution_count": null,
   "metadata": {},
   "outputs": [],
   "source": [
    "# YOUR CODE"
   ]
  },
  {
   "cell_type": "code",
   "execution_count": null,
   "metadata": {},
   "outputs": [],
   "source": []
  },
  {
   "cell_type": "markdown",
   "metadata": {},
   "source": [
    "# Great Job!"
   ]
  }
 ],
 "metadata": {
  "kernelspec": {
   "display_name": "Python 3 (ipykernel)",
   "language": "python",
   "name": "python3"
  },
  "language_info": {
   "codemirror_mode": {
    "name": "ipython",
    "version": 3
   },
   "file_extension": ".py",
   "mimetype": "text/x-python",
   "name": "python",
   "nbconvert_exporter": "python",
   "pygments_lexer": "ipython3",
   "version": "3.9.7"
  },
  "toc": {
   "base_numbering": 1,
   "nav_menu": {},
   "number_sections": false,
   "sideBar": false,
   "skip_h1_title": false,
   "title_cell": "Table of Contents",
   "title_sidebar": "Contents",
   "toc_cell": false,
   "toc_position": {},
   "toc_section_display": false,
   "toc_window_display": false
  }
 },
 "nbformat": 4,
 "nbformat_minor": 1
}
