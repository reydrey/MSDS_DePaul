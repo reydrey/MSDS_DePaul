{
 "cells": [
  {
   "cell_type": "markdown",
   "id": "1d4e8178",
   "metadata": {},
   "source": [
    "Shreyas Ravi\n",
    "DSC 478\n",
    "Assignment 2"
   ]
  },
  {
   "cell_type": "code",
   "execution_count": 32,
   "id": "6038d4af",
   "metadata": {},
   "outputs": [],
   "source": [
    "def file2matrix(filename):\n",
    "    fr = open(filename)\n",
    "    numberOfLines = len(fr.readlines())         #get the number of lines in the file\n",
    "    returnMat = zeros((numberOfLines,800))        #prepare matrix to return\n",
    "    classLabelVector = []                       #prepare labels return   \n",
    "    fr = open(filename)\n",
    "    index = 0\n",
    "    for line in fr.readlines():\n",
    "        line = line.strip()\n",
    "        listFromLine = line.split('\\t')\n",
    "        returnMat[index,:] = listFromLine\n",
    "#         classLabelVector.append(int(listFromLine[-1]))\n",
    "        index += 1\n",
    "    return returnMat,classLabelVector"
   ]
  },
  {
   "cell_type": "code",
   "execution_count": 7,
   "id": "ec2b8cfc",
   "metadata": {},
   "outputs": [
    {
     "data": {
      "text/plain": [
       "(5500, 200)"
      ]
     },
     "execution_count": 7,
     "metadata": {},
     "output_type": "execute_result"
    }
   ],
   "source": [
    "# Question 1 (a)\n",
    "import pandas as pd\n",
    "train_m = pd.read_csv('trainMatrixModified.txt', sep='\\t', header=None)\n",
    "test_m = pd.read_csv('testMatrixModified.txt', sep='\\t', header=None)\n",
    "test_m.shape"
   ]
  },
  {
   "cell_type": "code",
   "execution_count": 118,
   "id": "0e3069e0",
   "metadata": {},
   "outputs": [
    {
     "data": {
      "text/plain": [
       "(5500, 800)"
      ]
     },
     "execution_count": 118,
     "metadata": {},
     "output_type": "execute_result"
    }
   ],
   "source": [
    "train_m.shape"
   ]
  },
  {
   "cell_type": "code",
   "execution_count": 84,
   "id": "f0f5fa33",
   "metadata": {},
   "outputs": [],
   "source": [
    "test_cl.drop(columns=[0],axis=1,inplace=True)"
   ]
  },
  {
   "cell_type": "code",
   "execution_count": 67,
   "id": "fcaed951",
   "metadata": {},
   "outputs": [],
   "source": [
    "from numpy import *\n",
    "import numpy as np\n",
    "import operator"
   ]
  },
  {
   "cell_type": "code",
   "execution_count": 10,
   "id": "3d1da147",
   "metadata": {},
   "outputs": [
    {
     "data": {
      "text/plain": [
       "(800, 2)"
      ]
     },
     "execution_count": 10,
     "metadata": {},
     "output_type": "execute_result"
    }
   ],
   "source": [
    "test_cl = pd.read_csv('testClasses.txt', sep='\\t', header=None)\n",
    "train_cl = pd.read_csv('trainClasses.txt', sep='\\t', header=None)\n",
    "test_cl.shape\n",
    "train_cl.shape"
   ]
  },
  {
   "cell_type": "code",
   "execution_count": 12,
   "id": "6d9a7c22",
   "metadata": {},
   "outputs": [
    {
     "data": {
      "text/plain": [
       "(5500, 1)"
      ]
     },
     "execution_count": 12,
     "metadata": {},
     "output_type": "execute_result"
    }
   ],
   "source": [
    "mod_t = pd.read_csv('modifiedterms.txt', sep='\\t', header=None)\n",
    "mod_t.shape"
   ]
  },
  {
   "cell_type": "code",
   "execution_count": 394,
   "id": "17cf2843",
   "metadata": {},
   "outputs": [],
   "source": [
    "def classify(inX, dataSet, labels, k, dist='Euclidean'):  \n",
    "    sortedDistIndicies = distance(dist=dist, inX=inX, dataSet=dataSet)\n",
    "#     print(sortedDistIndicies)\n",
    "    classCount={}          \n",
    "    for i in range(k):\n",
    "        voteIlabel = labels[sortedDistIndicies[i]]\n",
    "        print(voteIlabel)\n",
    "#         print(voteIlabel[1])\n",
    "        classCount[voteIlabel[0]] = classCount.get(voteIlabel[0],0) + 1\n",
    "    sortedClassCount = sorted(classCount.items(), key=operator.itemgetter(1), reverse=True)\n",
    "    return sortedClassCount[0][0]"
   ]
  },
  {
   "cell_type": "code",
   "execution_count": 395,
   "id": "7b2aa747",
   "metadata": {},
   "outputs": [],
   "source": [
    "def distance(dist, inX, dataSet):\n",
    "    if dist=='Euclidean':\n",
    "        dataSetSize = dataSet.shape[0]\n",
    "        diffMat = tile(inX,(dataSetSize,1)) - dataSet\n",
    "#         print(diffMat.shape)\n",
    "        sqDiffMat = diffMat**2\n",
    "        sqDistances = sqDiffMat.sum(axis=1)\n",
    "#         print(sqDistances.shape)\n",
    "        distances = sqDistances**0.5\n",
    "#         print(distances.argsort())\n",
    "        return distances.argsort()\n",
    "    if dist=='Cosine':\n",
    "        D_norm = array([linalg.norm(dataSet[i]) for i in range(len(dataSet))])\n",
    "        x_norm = linalg.norm(inX)\n",
    "        cosines = dot(dataSet,inX)/(D_norm * x_norm)\n",
    "        distances = 1 - cosines\n",
    "        return distances.argsort()"
   ]
  },
  {
   "cell_type": "code",
   "execution_count": 295,
   "id": "2aabf02b",
   "metadata": {},
   "outputs": [
    {
     "data": {
      "text/plain": [
       "0"
      ]
     },
     "execution_count": 295,
     "metadata": {},
     "output_type": "execute_result"
    }
   ],
   "source": [
    "classify(test_m.iloc[:,150].to_numpy(), train_m.to_numpy().T, train_cl.to_numpy(),k=799)"
   ]
  },
  {
   "cell_type": "code",
   "execution_count": 296,
   "id": "0c05991c",
   "metadata": {},
   "outputs": [
    {
     "data": {
      "text/plain": [
       "(200, 1)"
      ]
     },
     "execution_count": 296,
     "metadata": {},
     "output_type": "execute_result"
    }
   ],
   "source": [
    "test_cl.shape"
   ]
  },
  {
   "cell_type": "code",
   "execution_count": 297,
   "id": "9aee434d",
   "metadata": {},
   "outputs": [
    {
     "data": {
      "text/plain": [
       "(5500, 200)"
      ]
     },
     "execution_count": 297,
     "metadata": {},
     "output_type": "execute_result"
    }
   ],
   "source": [
    "test_m.shape"
   ]
  },
  {
   "cell_type": "code",
   "execution_count": 298,
   "id": "5dca484a",
   "metadata": {},
   "outputs": [],
   "source": [
    "# Question 1(b)\n",
    "def evaluation(test_m, test_labels,dataSet, labels, k, dist='Euclidean'):\n",
    "    size = test_labels[1].shape[0]\n",
    "    counter = 0\n",
    "    for i in range(size):\n",
    "        if classify(test_m.iloc[:,i].to_numpy(), dataSet.to_numpy().T, labels.to_numpy(),k, dist=dist) == test_labels[1][i]:\n",
    "            counter = counter+1\n",
    "    return float(counter)/ size"
   ]
  },
  {
   "cell_type": "code",
   "execution_count": 299,
   "id": "0087a6cb",
   "metadata": {
    "scrolled": true
   },
   "outputs": [
    {
     "data": {
      "text/plain": [
       "0.735"
      ]
     },
     "execution_count": 299,
     "metadata": {},
     "output_type": "execute_result"
    }
   ],
   "source": [
    "evaluation(test_m, test_cl, train_m, train_cl, k=21)"
   ]
  },
  {
   "cell_type": "code",
   "execution_count": 300,
   "id": "281560c3",
   "metadata": {},
   "outputs": [],
   "source": [
    "# Question 1(c)\n",
    "val_of_k = list(range(5, 101, 5))"
   ]
  },
  {
   "cell_type": "code",
   "execution_count": 301,
   "id": "6cddbc06",
   "metadata": {},
   "outputs": [],
   "source": [
    "euclidean = []\n",
    "cosine = []\n",
    "for i in val_of_k:\n",
    "    euclidean.append(evaluation(test_m, test_cl, train_m, train_cl, k=i))\n",
    "    cosine.append(evaluation(test_m, test_cl, train_m, train_cl, k=i, dist='Cosine'))    "
   ]
  },
  {
   "cell_type": "code",
   "execution_count": 302,
   "id": "eab423aa",
   "metadata": {
    "scrolled": true
   },
   "outputs": [
    {
     "data": {
      "text/plain": [
       "[<matplotlib.lines.Line2D at 0x7fd850393580>]"
      ]
     },
     "execution_count": 302,
     "metadata": {},
     "output_type": "execute_result"
    },
    {
     "data": {
      "image/png": "[encoded data removed]",
      "text/plain": [
       "<Figure size 432x288 with 1 Axes>"
      ]
     },
     "metadata": {
      "needs_background": "light"
     },
     "output_type": "display_data"
    }
   ],
   "source": [
    "import matplotlib.pyplot as plt \n",
    "plt.plot(val_of_k, euclidean,\n",
    "     label = \"Euclidean\", color = 'b')\n",
    "plt.plot(val_of_k, cosine,\n",
    "     label = \"Cosine\", color = 'r')"
   ]
  },
  {
   "cell_type": "code",
   "execution_count": 303,
   "id": "1ff0ff25",
   "metadata": {},
   "outputs": [],
   "source": [
    "# Question 1(d)\n",
    "# define a function that would calculate IDF (from tf IDF)\n",
    "def inverse_docf(dataset):\n",
    "    N=dataset.shape[1]\n",
    "    nk=np.count_nonzero(dataset, axis=1) # axis = 1 -> only counts column sum\n",
    "    return np.log(N/nk) "
   ]
  },
  {
   "cell_type": "code",
   "execution_count": 304,
   "id": "326a400d",
   "metadata": {},
   "outputs": [
    {
     "name": "stderr",
     "output_type": "stream",
     "text": [
      "/var/folders/2m/jcjlh17n5tzctdvfqpkgtx3w0000gn/T/ipykernel_41241/545761093.py:6: RuntimeWarning: divide by zero encountered in true_divide\n",
      "  return np.log(N/nk)\n"
     ]
    }
   ],
   "source": [
    "train_m_tfidf = inverse_docf(train_m).reshape(train_m.shape[0],1)*train_m\n",
    "test_m_tfidf = inverse_docf(test_m).reshape(test_m.shape[0],1)*test_m"
   ]
  },
  {
   "cell_type": "code",
   "execution_count": 305,
   "id": "e1e0dc70",
   "metadata": {},
   "outputs": [],
   "source": [
    "cosine_tfidf = []\n",
    "for i in val_of_k:\n",
    "    cosine_tfidf.append(evaluation(test_m_tfidf, test_cl, train_m_tfidf, train_cl, k=i, dist='Cosine'))    "
   ]
  },
  {
   "cell_type": "code",
   "execution_count": 306,
   "id": "d6539fbc",
   "metadata": {
    "scrolled": false
   },
   "outputs": [
    {
     "data": {
      "text/plain": [
       "[<matplotlib.lines.Line2D at 0x7fd86479d580>]"
      ]
     },
     "execution_count": 306,
     "metadata": {},
     "output_type": "execute_result"
    },
    {
     "data": {
      "image/png": "[encoded data removed]",
      "text/plain": [
       "<Figure size 432x288 with 1 Axes>"
      ]
     },
     "metadata": {
      "needs_background": "light"
     },
     "output_type": "display_data"
    }
   ],
   "source": [
    "plt.plot(val_of_k, cosine,\n",
    "     label = \"Cosine\", color = 'b')\n",
    "plt.plot(val_of_k, cosine_tfidf,\n",
    "     label = \"Cosine TFIDF\", color = 'r')"
   ]
  },
  {
   "cell_type": "markdown",
   "id": "ad8bd270",
   "metadata": {},
   "source": [
    "From the look of this graph we see that the TFIDF does not seem to be working properly. KNN does not work better with tdidf. "
   ]
  },
  {
   "cell_type": "code",
   "execution_count": null,
   "id": "f3c84edd",
   "metadata": {},
   "outputs": [],
   "source": [
    "# Question 1(e)\n",
    "# create 1 function converts training matrix to another centroid matrix (should be given in theory)\n",
    "# call previous functions to get output - evaluation"
   ]
  },
  {
   "cell_type": "code",
   "execution_count": 387,
   "id": "9903eda1",
   "metadata": {},
   "outputs": [],
   "source": [
    "def train_rocchio(train_m, labels):\n",
    "    unique_labels = np.unique(labels)\n",
    "    centroid = np.empty([train_m.shape[0],len(unique_labels)])\n",
    "    for i in unique_labels:\n",
    "        doc_index = np.where(np.all(train_cl==i,axis=1))[0]\n",
    "        centroid[:,i] = train_m[:,doc_index].reshape([train_m.shape[0],doc_index.shape[0]]).mean(axis=1)\n",
    "    return centroid, unique_labels"
   ]
  },
  {
   "cell_type": "code",
   "execution_count": 409,
   "id": "90c92515",
   "metadata": {},
   "outputs": [],
   "source": [
    "def rocchio_method(inX, dataSet, labels):\n",
    "    dataSet,labels = train_rocchio(dataSet, labels)\n",
    "    D_norm = array([linalg.norm(dataSet.T[i]) for i in range(len(dataSet.T))])\n",
    "    x_norm = linalg.norm(inX)\n",
    "    cosines = dot(dataSet.T,inX)/(D_norm * x_norm)\n",
    "    distances = 1 - cosines\n",
    "    sortedDistIndicies = distances.argsort()     \n",
    "    return distances[sortedDistIndicies[0]], labels[sortedDistIndicies[0]]"
   ]
  },
  {
   "cell_type": "code",
   "execution_count": 410,
   "id": "f5b81b99",
   "metadata": {},
   "outputs": [
    {
     "data": {
      "text/plain": [
       "(0.5891382266531727, 1)"
      ]
     },
     "execution_count": 410,
     "metadata": {},
     "output_type": "execute_result"
    }
   ],
   "source": [
    "rocchio_method(test_m.iloc[:,150].to_numpy(), train_m.to_numpy(), train_cl.to_numpy())"
   ]
  },
  {
   "cell_type": "code",
   "execution_count": 414,
   "id": "809e54b8",
   "metadata": {},
   "outputs": [],
   "source": [
    "def evaluation(test_m, test_labels,dataSet, labels):\n",
    "    size = test_labels[1].shape[0]\n",
    "    counter = 0\n",
    "    for i in range(size):\n",
    "        if rocchio_method(test_m.iloc[:,i].to_numpy(), dataSet.to_numpy(), labels.to_numpy())[1] == test_labels[1][i]:\n",
    "            counter = counter+1\n",
    "    return float(counter)/ size"
   ]
  },
  {
   "cell_type": "code",
   "execution_count": 416,
   "id": "e3856e00",
   "metadata": {
    "scrolled": true
   },
   "outputs": [
    {
     "data": {
      "text/plain": [
       "0.975"
      ]
     },
     "execution_count": 416,
     "metadata": {},
     "output_type": "execute_result"
    }
   ],
   "source": [
    "evaluation(test_m, test_cl, train_m, train_cl)"
   ]
  },
  {
   "cell_type": "markdown",
   "id": "0d4b1f2c",
   "metadata": {},
   "source": [
    "Comparing this evaluation the best outcomes achieved using Cosine distances for KNN (which would be 0.98) we can see that they are quite close to each other as opposed to the best evaluation outcome using Euclidean distances for KNN (which would be at 0.86) which seems further away from the evaluation outcome of the rocchio method. "
   ]
  },
  {
   "cell_type": "code",
   "execution_count": 137,
   "id": "abca73c0",
   "metadata": {},
   "outputs": [],
   "source": [
    "# Question 1(f)\n",
    "train_cl.drop(columns=[0],axis=1,inplace=True)"
   ]
  },
  {
   "cell_type": "code",
   "execution_count": 138,
   "id": "c576655c",
   "metadata": {},
   "outputs": [],
   "source": [
    "# from sklearn.neighbors import NearestCentroid"
   ]
  },
  {
   "cell_type": "code",
   "execution_count": 140,
   "id": "5c47e426",
   "metadata": {
    "scrolled": false
   },
   "outputs": [
    {
     "name": "stderr",
     "output_type": "stream",
     "text": [
      "/Users/shreyasravi/opt/anaconda3/lib/python3.9/site-packages/sklearn/utils/validation.py:63: DataConversionWarning: A column-vector y was passed when a 1d array was expected. Please change the shape of y to (n_samples, ), for example using ravel().\n",
      "  return f(*args, **kwargs)\n"
     ]
    },
    {
     "data": {
      "text/plain": [
       "NearestCentroid()"
      ]
     },
     "execution_count": 140,
     "metadata": {},
     "output_type": "execute_result"
    }
   ],
   "source": [
    "X=train_m.T\n",
    "y=train_cl\n",
    "clf = NearestCentroid()\n",
    "clf.fit(X, y)"
   ]
  },
  {
   "cell_type": "code",
   "execution_count": 145,
   "id": "7a69966e",
   "metadata": {},
   "outputs": [],
   "source": [
    "from sklearn import metrics"
   ]
  },
  {
   "cell_type": "code",
   "execution_count": 146,
   "id": "bca651aa",
   "metadata": {
    "scrolled": true
   },
   "outputs": [
    {
     "data": {
      "text/plain": [
       "0.94"
      ]
     },
     "execution_count": 146,
     "metadata": {},
     "output_type": "execute_result"
    }
   ],
   "source": [
    "pred = clf.predict(test_m.T)\n",
    "metrics.accuracy_score(y_true = test_cl, y_pred = pred)"
   ]
  },
  {
   "cell_type": "code",
   "execution_count": 149,
   "id": "6dd6c93d",
   "metadata": {
    "scrolled": true
   },
   "outputs": [
    {
     "data": {
      "text/html": [
       "<div>\n",
       "<style scoped>\n",
       "    .dataframe tbody tr th:only-of-type {\n",
       "        vertical-align: middle;\n",
       "    }\n",
       "\n",
       "    .dataframe tbody tr th {\n",
       "        vertical-align: top;\n",
       "    }\n",
       "\n",
       "    .dataframe thead th {\n",
       "        text-align: right;\n",
       "    }\n",
       "</style>\n",
       "<table border=\"1\" class=\"dataframe\">\n",
       "  <thead>\n",
       "    <tr style=\"text-align: right;\">\n",
       "      <th></th>\n",
       "      <th>age</th>\n",
       "      <th>workclass</th>\n",
       "      <th>education</th>\n",
       "      <th>marital-status</th>\n",
       "      <th>race</th>\n",
       "      <th>sex</th>\n",
       "      <th>hours-per-week</th>\n",
       "      <th>income</th>\n",
       "    </tr>\n",
       "  </thead>\n",
       "  <tbody>\n",
       "    <tr>\n",
       "      <th>0</th>\n",
       "      <td>39</td>\n",
       "      <td>Public</td>\n",
       "      <td>13</td>\n",
       "      <td>Single</td>\n",
       "      <td>White</td>\n",
       "      <td>Male</td>\n",
       "      <td>40</td>\n",
       "      <td>&lt;=50K</td>\n",
       "    </tr>\n",
       "    <tr>\n",
       "      <th>1</th>\n",
       "      <td>50</td>\n",
       "      <td>Self-emp</td>\n",
       "      <td>13</td>\n",
       "      <td>Married</td>\n",
       "      <td>White</td>\n",
       "      <td>Male</td>\n",
       "      <td>13</td>\n",
       "      <td>&lt;=50K</td>\n",
       "    </tr>\n",
       "    <tr>\n",
       "      <th>2</th>\n",
       "      <td>38</td>\n",
       "      <td>Private</td>\n",
       "      <td>9</td>\n",
       "      <td>Single</td>\n",
       "      <td>White</td>\n",
       "      <td>Male</td>\n",
       "      <td>40</td>\n",
       "      <td>&lt;=50K</td>\n",
       "    </tr>\n",
       "    <tr>\n",
       "      <th>3</th>\n",
       "      <td>53</td>\n",
       "      <td>Private</td>\n",
       "      <td>7</td>\n",
       "      <td>Married</td>\n",
       "      <td>Black</td>\n",
       "      <td>Male</td>\n",
       "      <td>40</td>\n",
       "      <td>&lt;=50K</td>\n",
       "    </tr>\n",
       "    <tr>\n",
       "      <th>4</th>\n",
       "      <td>28</td>\n",
       "      <td>Private</td>\n",
       "      <td>13</td>\n",
       "      <td>Married</td>\n",
       "      <td>Black</td>\n",
       "      <td>Female</td>\n",
       "      <td>40</td>\n",
       "      <td>&lt;=50K</td>\n",
       "    </tr>\n",
       "  </tbody>\n",
       "</table>\n",
       "</div>"
      ],
      "text/plain": [
       "   age workclass  education marital-status   race     sex  hours-per-week  \\\n",
       "0   39    Public         13         Single  White    Male              40   \n",
       "1   50  Self-emp         13        Married  White    Male              13   \n",
       "2   38   Private          9         Single  White    Male              40   \n",
       "3   53   Private          7        Married  Black    Male              40   \n",
       "4   28   Private         13        Married  Black  Female              40   \n",
       "\n",
       "  income  \n",
       "0  <=50K  \n",
       "1  <=50K  \n",
       "2  <=50K  \n",
       "3  <=50K  \n",
       "4  <=50K  "
      ]
     },
     "execution_count": 149,
     "metadata": {},
     "output_type": "execute_result"
    }
   ],
   "source": [
    "# Question 2(a)\n",
    "a_mod = pd.read_csv('adult-modified1.csv')\n",
    "a_mod.head()"
   ]
  },
  {
   "cell_type": "code",
   "execution_count": 153,
   "id": "f182cda7",
   "metadata": {
    "scrolled": true
   },
   "outputs": [
    {
     "data": {
      "text/html": [
       "<div>\n",
       "<style scoped>\n",
       "    .dataframe tbody tr th:only-of-type {\n",
       "        vertical-align: middle;\n",
       "    }\n",
       "\n",
       "    .dataframe tbody tr th {\n",
       "        vertical-align: top;\n",
       "    }\n",
       "\n",
       "    .dataframe thead th {\n",
       "        text-align: right;\n",
       "    }\n",
       "</style>\n",
       "<table border=\"1\" class=\"dataframe\">\n",
       "  <thead>\n",
       "    <tr style=\"text-align: right;\">\n",
       "      <th></th>\n",
       "      <th>age</th>\n",
       "      <th>education</th>\n",
       "      <th>hours-per-week</th>\n",
       "      <th>workclass_Private</th>\n",
       "      <th>workclass_Public</th>\n",
       "      <th>workclass_Self-emp</th>\n",
       "      <th>marital-status_Married</th>\n",
       "      <th>marital-status_Single</th>\n",
       "      <th>race_Amer-Indian</th>\n",
       "      <th>race_Asian</th>\n",
       "      <th>race_Black</th>\n",
       "      <th>race_Hispanic</th>\n",
       "      <th>race_White</th>\n",
       "      <th>sex_Female</th>\n",
       "      <th>sex_Male</th>\n",
       "      <th>income_&lt;=50K</th>\n",
       "      <th>income_&gt;50K</th>\n",
       "    </tr>\n",
       "  </thead>\n",
       "  <tbody>\n",
       "    <tr>\n",
       "      <th>0</th>\n",
       "      <td>39</td>\n",
       "      <td>13</td>\n",
       "      <td>40</td>\n",
       "      <td>0</td>\n",
       "      <td>1</td>\n",
       "      <td>0</td>\n",
       "      <td>0</td>\n",
       "      <td>1</td>\n",
       "      <td>0</td>\n",
       "      <td>0</td>\n",
       "      <td>0</td>\n",
       "      <td>0</td>\n",
       "      <td>1</td>\n",
       "      <td>0</td>\n",
       "      <td>1</td>\n",
       "      <td>1</td>\n",
       "      <td>0</td>\n",
       "    </tr>\n",
       "    <tr>\n",
       "      <th>1</th>\n",
       "      <td>50</td>\n",
       "      <td>13</td>\n",
       "      <td>13</td>\n",
       "      <td>0</td>\n",
       "      <td>0</td>\n",
       "      <td>1</td>\n",
       "      <td>1</td>\n",
       "      <td>0</td>\n",
       "      <td>0</td>\n",
       "      <td>0</td>\n",
       "      <td>0</td>\n",
       "      <td>0</td>\n",
       "      <td>1</td>\n",
       "      <td>0</td>\n",
       "      <td>1</td>\n",
       "      <td>1</td>\n",
       "      <td>0</td>\n",
       "    </tr>\n",
       "    <tr>\n",
       "      <th>2</th>\n",
       "      <td>38</td>\n",
       "      <td>9</td>\n",
       "      <td>40</td>\n",
       "      <td>1</td>\n",
       "      <td>0</td>\n",
       "      <td>0</td>\n",
       "      <td>0</td>\n",
       "      <td>1</td>\n",
       "      <td>0</td>\n",
       "      <td>0</td>\n",
       "      <td>0</td>\n",
       "      <td>0</td>\n",
       "      <td>1</td>\n",
       "      <td>0</td>\n",
       "      <td>1</td>\n",
       "      <td>1</td>\n",
       "      <td>0</td>\n",
       "    </tr>\n",
       "    <tr>\n",
       "      <th>3</th>\n",
       "      <td>53</td>\n",
       "      <td>7</td>\n",
       "      <td>40</td>\n",
       "      <td>1</td>\n",
       "      <td>0</td>\n",
       "      <td>0</td>\n",
       "      <td>1</td>\n",
       "      <td>0</td>\n",
       "      <td>0</td>\n",
       "      <td>0</td>\n",
       "      <td>1</td>\n",
       "      <td>0</td>\n",
       "      <td>0</td>\n",
       "      <td>0</td>\n",
       "      <td>1</td>\n",
       "      <td>1</td>\n",
       "      <td>0</td>\n",
       "    </tr>\n",
       "    <tr>\n",
       "      <th>4</th>\n",
       "      <td>28</td>\n",
       "      <td>13</td>\n",
       "      <td>40</td>\n",
       "      <td>1</td>\n",
       "      <td>0</td>\n",
       "      <td>0</td>\n",
       "      <td>1</td>\n",
       "      <td>0</td>\n",
       "      <td>0</td>\n",
       "      <td>0</td>\n",
       "      <td>1</td>\n",
       "      <td>0</td>\n",
       "      <td>0</td>\n",
       "      <td>1</td>\n",
       "      <td>0</td>\n",
       "      <td>1</td>\n",
       "      <td>0</td>\n",
       "    </tr>\n",
       "    <tr>\n",
       "      <th>5</th>\n",
       "      <td>37</td>\n",
       "      <td>14</td>\n",
       "      <td>40</td>\n",
       "      <td>1</td>\n",
       "      <td>0</td>\n",
       "      <td>0</td>\n",
       "      <td>1</td>\n",
       "      <td>0</td>\n",
       "      <td>0</td>\n",
       "      <td>0</td>\n",
       "      <td>0</td>\n",
       "      <td>0</td>\n",
       "      <td>1</td>\n",
       "      <td>1</td>\n",
       "      <td>0</td>\n",
       "      <td>1</td>\n",
       "      <td>0</td>\n",
       "    </tr>\n",
       "    <tr>\n",
       "      <th>6</th>\n",
       "      <td>49</td>\n",
       "      <td>5</td>\n",
       "      <td>16</td>\n",
       "      <td>1</td>\n",
       "      <td>0</td>\n",
       "      <td>0</td>\n",
       "      <td>1</td>\n",
       "      <td>0</td>\n",
       "      <td>0</td>\n",
       "      <td>0</td>\n",
       "      <td>1</td>\n",
       "      <td>0</td>\n",
       "      <td>0</td>\n",
       "      <td>1</td>\n",
       "      <td>0</td>\n",
       "      <td>1</td>\n",
       "      <td>0</td>\n",
       "    </tr>\n",
       "    <tr>\n",
       "      <th>7</th>\n",
       "      <td>52</td>\n",
       "      <td>9</td>\n",
       "      <td>45</td>\n",
       "      <td>0</td>\n",
       "      <td>0</td>\n",
       "      <td>1</td>\n",
       "      <td>1</td>\n",
       "      <td>0</td>\n",
       "      <td>0</td>\n",
       "      <td>0</td>\n",
       "      <td>0</td>\n",
       "      <td>0</td>\n",
       "      <td>1</td>\n",
       "      <td>0</td>\n",
       "      <td>1</td>\n",
       "      <td>0</td>\n",
       "      <td>1</td>\n",
       "    </tr>\n",
       "    <tr>\n",
       "      <th>8</th>\n",
       "      <td>31</td>\n",
       "      <td>14</td>\n",
       "      <td>50</td>\n",
       "      <td>1</td>\n",
       "      <td>0</td>\n",
       "      <td>0</td>\n",
       "      <td>0</td>\n",
       "      <td>1</td>\n",
       "      <td>0</td>\n",
       "      <td>0</td>\n",
       "      <td>0</td>\n",
       "      <td>0</td>\n",
       "      <td>1</td>\n",
       "      <td>1</td>\n",
       "      <td>0</td>\n",
       "      <td>0</td>\n",
       "      <td>1</td>\n",
       "    </tr>\n",
       "    <tr>\n",
       "      <th>9</th>\n",
       "      <td>42</td>\n",
       "      <td>13</td>\n",
       "      <td>40</td>\n",
       "      <td>1</td>\n",
       "      <td>0</td>\n",
       "      <td>0</td>\n",
       "      <td>1</td>\n",
       "      <td>0</td>\n",
       "      <td>0</td>\n",
       "      <td>0</td>\n",
       "      <td>0</td>\n",
       "      <td>0</td>\n",
       "      <td>1</td>\n",
       "      <td>0</td>\n",
       "      <td>1</td>\n",
       "      <td>0</td>\n",
       "      <td>1</td>\n",
       "    </tr>\n",
       "  </tbody>\n",
       "</table>\n",
       "</div>"
      ],
      "text/plain": [
       "   age  education  hours-per-week  workclass_Private  workclass_Public  \\\n",
       "0   39         13              40                  0                 1   \n",
       "1   50         13              13                  0                 0   \n",
       "2   38          9              40                  1                 0   \n",
       "3   53          7              40                  1                 0   \n",
       "4   28         13              40                  1                 0   \n",
       "5   37         14              40                  1                 0   \n",
       "6   49          5              16                  1                 0   \n",
       "7   52          9              45                  0                 0   \n",
       "8   31         14              50                  1                 0   \n",
       "9   42         13              40                  1                 0   \n",
       "\n",
       "   workclass_Self-emp  marital-status_Married  marital-status_Single  \\\n",
       "0                   0                       0                      1   \n",
       "1                   1                       1                      0   \n",
       "2                   0                       0                      1   \n",
       "3                   0                       1                      0   \n",
       "4                   0                       1                      0   \n",
       "5                   0                       1                      0   \n",
       "6                   0                       1                      0   \n",
       "7                   1                       1                      0   \n",
       "8                   0                       0                      1   \n",
       "9                   0                       1                      0   \n",
       "\n",
       "   race_Amer-Indian  race_Asian  race_Black  race_Hispanic  race_White  \\\n",
       "0                 0           0           0              0           1   \n",
       "1                 0           0           0              0           1   \n",
       "2                 0           0           0              0           1   \n",
       "3                 0           0           1              0           0   \n",
       "4                 0           0           1              0           0   \n",
       "5                 0           0           0              0           1   \n",
       "6                 0           0           1              0           0   \n",
       "7                 0           0           0              0           1   \n",
       "8                 0           0           0              0           1   \n",
       "9                 0           0           0              0           1   \n",
       "\n",
       "   sex_Female  sex_Male  income_<=50K  income_>50K  \n",
       "0           0         1             1            0  \n",
       "1           0         1             1            0  \n",
       "2           0         1             1            0  \n",
       "3           0         1             1            0  \n",
       "4           1         0             1            0  \n",
       "5           1         0             1            0  \n",
       "6           1         0             1            0  \n",
       "7           0         1             0            1  \n",
       "8           1         0             0            1  \n",
       "9           0         1             0            1  "
      ]
     },
     "execution_count": 153,
     "metadata": {},
     "output_type": "execute_result"
    }
   ],
   "source": [
    "a_mod_dummies = pd.get_dummies(a_mod)\n",
    "a_mod_dummies.head(10)"
   ]
  },
  {
   "cell_type": "code",
   "execution_count": 154,
   "id": "429cb942",
   "metadata": {},
   "outputs": [],
   "source": [
    "a_mod_dummies.drop(columns=['income_<=50K'],axis=1,inplace=True)\n",
    "y=a_mod_dummies['income_>50K']\n",
    "a_mod_dummies.drop(columns=['income_>50K'],axis=1,inplace=True)"
   ]
  },
  {
   "cell_type": "code",
   "execution_count": 156,
   "id": "d27a3ca1",
   "metadata": {},
   "outputs": [],
   "source": [
    "from sklearn.model_selection import train_test_split\n",
    "x_train, x_test, y_train, y_test = train_test_split(a_mod_dummies, y, test_size=0.2)"
   ]
  },
  {
   "cell_type": "code",
   "execution_count": 161,
   "id": "5017fb3f",
   "metadata": {},
   "outputs": [],
   "source": [
    "# Question 2(b(i))\n",
    "from sklearn.preprocessing import MinMaxScaler"
   ]
  },
  {
   "cell_type": "code",
   "execution_count": 185,
   "id": "5190d523",
   "metadata": {
    "scrolled": true
   },
   "outputs": [],
   "source": [
    "scaler = MinMaxScaler()\n",
    "min_max_norm = scaler.fit(x_train, y_train)\n",
    "min_max_norm = scaler.transform(x_train)"
   ]
  },
  {
   "cell_type": "code",
   "execution_count": 177,
   "id": "cda2fd13",
   "metadata": {
    "scrolled": false
   },
   "outputs": [
    {
     "data": {
      "text/plain": [
       "array([[0.09589041, 0.53333333, 0.29591837, 1.        , 0.        ,\n",
       "        0.        , 0.        , 1.        , 0.        , 0.        ,\n",
       "        0.        , 0.        , 1.        , 1.        , 0.        ],\n",
       "       [0.4109589 , 0.53333333, 0.55102041, 1.        , 0.        ,\n",
       "        0.        , 1.        , 0.        , 0.        , 0.        ,\n",
       "        0.        , 0.        , 1.        , 0.        , 1.        ],\n",
       "       [0.39726027, 0.86666667, 0.43877551, 1.        , 0.        ,\n",
       "        0.        , 1.        , 0.        , 0.        , 0.        ,\n",
       "        0.        , 0.        , 1.        , 1.        , 0.        ],\n",
       "       [0.2739726 , 0.53333333, 0.44897959, 1.        , 0.        ,\n",
       "        0.        , 0.        , 1.        , 0.        , 0.        ,\n",
       "        0.        , 0.        , 1.        , 1.        , 0.        ],\n",
       "       [0.35616438, 0.8       , 0.39795918, 1.        , 0.        ,\n",
       "        0.        , 0.        , 1.        , 0.        , 0.        ,\n",
       "        0.        , 0.        , 1.        , 0.        , 1.        ]])"
      ]
     },
     "execution_count": 177,
     "metadata": {},
     "output_type": "execute_result"
    }
   ],
   "source": [
    "min_max_norm[:5,:]"
   ]
  },
  {
   "cell_type": "code",
   "execution_count": 186,
   "id": "d26abd64",
   "metadata": {},
   "outputs": [],
   "source": [
    "min_max_test = scaler.transform(x_test)"
   ]
  },
  {
   "cell_type": "code",
   "execution_count": 187,
   "id": "98622018",
   "metadata": {},
   "outputs": [
    {
     "data": {
      "text/plain": [
       "array([[0.35616438, 0.6       , 0.39795918, 1.        , 0.        ,\n",
       "        0.        , 1.        , 0.        , 0.        , 0.        ,\n",
       "        0.        , 0.        , 1.        , 0.        , 1.        ],\n",
       "       [0.54794521, 0.53333333, 0.37755102, 0.        , 0.        ,\n",
       "        1.        , 1.        , 0.        , 0.        , 0.        ,\n",
       "        0.        , 0.        , 1.        , 1.        , 0.        ],\n",
       "       [0.12328767, 0.6       , 0.39795918, 1.        , 0.        ,\n",
       "        0.        , 0.        , 1.        , 0.        , 0.        ,\n",
       "        0.        , 0.        , 1.        , 1.        , 0.        ],\n",
       "       [0.53424658, 0.4       , 0.39795918, 1.        , 0.        ,\n",
       "        0.        , 0.        , 1.        , 0.        , 0.        ,\n",
       "        0.        , 0.        , 1.        , 1.        , 0.        ],\n",
       "       [0.47945205, 0.53333333, 0.39795918, 1.        , 0.        ,\n",
       "        0.        , 0.        , 1.        , 0.        , 0.        ,\n",
       "        0.        , 0.        , 1.        , 1.        , 0.        ]])"
      ]
     },
     "execution_count": 187,
     "metadata": {},
     "output_type": "execute_result"
    }
   ],
   "source": [
    "min_max_test[:5,:]"
   ]
  },
  {
   "cell_type": "code",
   "execution_count": 188,
   "id": "6978626d",
   "metadata": {
    "scrolled": true
   },
   "outputs": [
    {
     "data": {
      "text/plain": [
       "KNeighborsClassifier(n_neighbors=10)"
      ]
     },
     "execution_count": 188,
     "metadata": {},
     "output_type": "execute_result"
    }
   ],
   "source": [
    "from sklearn.neighbors import KNeighborsClassifier\n",
    "knn = KNeighborsClassifier(n_neighbors=10)\n",
    "knn.fit(min_max_norm, y_train)"
   ]
  },
  {
   "cell_type": "code",
   "execution_count": 189,
   "id": "f627191a",
   "metadata": {},
   "outputs": [
    {
     "data": {
      "text/plain": [
       "0.8394209058307877"
      ]
     },
     "execution_count": 189,
     "metadata": {},
     "output_type": "execute_result"
    }
   ],
   "source": [
    "knn_pred = knn.predict(min_max_norm)\n",
    "metrics.accuracy_score(y_true = y_train, y_pred = knn_pred)"
   ]
  },
  {
   "cell_type": "code",
   "execution_count": 190,
   "id": "a870a46e",
   "metadata": {
    "scrolled": true
   },
   "outputs": [
    {
     "data": {
      "text/plain": [
       "0.7934147636749868"
      ]
     },
     "execution_count": 190,
     "metadata": {},
     "output_type": "execute_result"
    }
   ],
   "source": [
    "knn_pred_test = knn.predict(min_max_test)\n",
    "metrics.accuracy_score(y_true = y_test, y_pred = knn_pred_test)"
   ]
  },
  {
   "cell_type": "markdown",
   "id": "38655fce",
   "metadata": {},
   "source": [
    "The accuracy of the testing is almost 5% lower than that of the training which means there is a presence of overfitting, considering this large difference in accuracy between train and test."
   ]
  },
  {
   "cell_type": "code",
   "execution_count": 203,
   "id": "240321ca",
   "metadata": {},
   "outputs": [
    {
     "data": {
      "image/png": "[encoded data removed]",
      "text/plain": [
       "<Figure size 432x288 with 2 Axes>"
      ]
     },
     "metadata": {
      "needs_background": "light"
     },
     "output_type": "display_data"
    }
   ],
   "source": [
    "# from sklearn.metrics import confusion_matrix\n",
    "# confusion matrix for train\n",
    "conf_train = confusion_matrix(y_train, knn_pred)\n",
    "import matplotlib.pyplot as plt\n",
    "from sklearn.metrics import plot_confusion_matrix\n",
    "plot_confusion_matrix(knn, min_max_norm, y_train)\n",
    "plt.show()"
   ]
  },
  {
   "cell_type": "code",
   "execution_count": 204,
   "id": "fae15dd6",
   "metadata": {
    "scrolled": false
   },
   "outputs": [
    {
     "data": {
      "image/png": "[encoded data removed]",
      "text/plain": [
       "<Figure size 432x288 with 2 Axes>"
      ]
     },
     "metadata": {
      "needs_background": "light"
     },
     "output_type": "display_data"
    }
   ],
   "source": [
    "# confusion matrix for test\n",
    "confusion_matrix(y_test, knn_pred_test)\n",
    "plot_confusion_matrix(knn, min_max_test, y_test)\n",
    "plt.show()"
   ]
  },
  {
   "cell_type": "code",
   "execution_count": 197,
   "id": "018c91ad",
   "metadata": {},
   "outputs": [
    {
     "name": "stdout",
     "output_type": "stream",
     "text": [
      "              precision    recall  f1-score   support\n",
      "\n",
      "           0       0.86      0.94      0.90      5670\n",
      "           1       0.74      0.53      0.62      1859\n",
      "\n",
      "    accuracy                           0.84      7529\n",
      "   macro avg       0.80      0.74      0.76      7529\n",
      "weighted avg       0.83      0.84      0.83      7529\n",
      "\n"
     ]
    }
   ],
   "source": [
    "# from sklearn.metrics import classification_report\n",
    "print(classification_report(y_train, knn_pred))"
   ]
  },
  {
   "cell_type": "code",
   "execution_count": 198,
   "id": "8a398ccd",
   "metadata": {
    "scrolled": false
   },
   "outputs": [
    {
     "name": "stdout",
     "output_type": "stream",
     "text": [
      "              precision    recall  f1-score   support\n",
      "\n",
      "           0       0.83      0.91      0.87      1423\n",
      "           1       0.61      0.42      0.50       460\n",
      "\n",
      "    accuracy                           0.79      1883\n",
      "   macro avg       0.72      0.67      0.68      1883\n",
      "weighted avg       0.78      0.79      0.78      1883\n",
      "\n"
     ]
    }
   ],
   "source": [
    "print(classification_report(y_test, knn_pred_test))"
   ]
  },
  {
   "cell_type": "code",
   "execution_count": 205,
   "id": "93aeb19f",
   "metadata": {
    "scrolled": true
   },
   "outputs": [
    {
     "data": {
      "text/plain": [
       "KNeighborsClassifier(weights='distance')"
      ]
     },
     "execution_count": 205,
     "metadata": {},
     "output_type": "execute_result"
    }
   ],
   "source": [
    "# Question 2(b(ii))\n",
    "# fitting knn with distance weights and k=5\n",
    "knn = KNeighborsClassifier(n_neighbors=5, weights='distance')\n",
    "knn.fit(min_max_norm, y_train)"
   ]
  },
  {
   "cell_type": "code",
   "execution_count": 206,
   "id": "4417afb4",
   "metadata": {
    "scrolled": false
   },
   "outputs": [
    {
     "data": {
      "text/plain": [
       "0.7742963356346256"
      ]
     },
     "execution_count": 206,
     "metadata": {},
     "output_type": "execute_result"
    }
   ],
   "source": [
    "knn_pred_test = knn.predict(min_max_test)\n",
    "metrics.accuracy_score(y_true = y_test, y_pred = knn_pred_test)"
   ]
  },
  {
   "cell_type": "markdown",
   "id": "e66f2ca6",
   "metadata": {},
   "source": [
    "Decreasing the neighbors to 5 and using distance weights did not improve the accuracy. I will now be trying the same but with uniform distance instead to see which one provides a higher accuracy."
   ]
  },
  {
   "cell_type": "code",
   "execution_count": 208,
   "id": "21da8673",
   "metadata": {
    "scrolled": true
   },
   "outputs": [
    {
     "data": {
      "text/plain": [
       "0.7817312798725438"
      ]
     },
     "execution_count": 208,
     "metadata": {},
     "output_type": "execute_result"
    }
   ],
   "source": [
    "knn = KNeighborsClassifier(n_neighbors=5, weights='uniform')\n",
    "knn.fit(min_max_norm, y_train)\n",
    "knn_pred_test = knn.predict(min_max_test\n",
    "metrics.accuracy_score(y_true = y_test, y_pred = knn_pred_test)"
   ]
  },
  {
   "cell_type": "markdown",
   "id": "79d229de",
   "metadata": {},
   "source": [
    "Using uniform weights increases the accuracy ever-so-slightly however it is still less than the original accuracy i calculated earlier. I will now try changing the number of neighbors to 10 with distance weights and compare it to the accuracy we previously recieved without any specified weights. "
   ]
  },
  {
   "cell_type": "code",
   "execution_count": 209,
   "id": "16a59949",
   "metadata": {
    "scrolled": true
   },
   "outputs": [
    {
     "data": {
      "text/plain": [
       "0.7843866171003717"
      ]
     },
     "execution_count": 209,
     "metadata": {},
     "output_type": "execute_result"
    }
   ],
   "source": [
    "knn = KNeighborsClassifier(n_neighbors=10, weights='distance')\n",
    "knn.fit(min_max_norm, y_train)\n",
    "knn_pred_test = knn.predict(min_max_test)\n",
    "metrics.accuracy_score(y_true = y_test, y_pred = knn_pred_test)"
   ]
  },
  {
   "cell_type": "markdown",
   "id": "709bc528",
   "metadata": {},
   "source": [
    "This accuracy is still slightly lower than the original one we calculated when the no. of neighbors was = 10\n",
    "Below i have written a for loop to test all the values of k between 10 and 101 with uniform weights. I will then pick the highest accuracy among all of them and test that with distance weights. "
   ]
  },
  {
   "cell_type": "code",
   "execution_count": 218,
   "id": "c0aee37d",
   "metadata": {
    "scrolled": false
   },
   "outputs": [
    {
     "name": "stdout",
     "output_type": "stream",
     "text": [
      "accuracy for 5 = 0.7817312798725438\n",
      "accuracy for 10 = 0.7934147636749868\n",
      "accuracy for 15 = 0.8040361125862985\n",
      "accuracy for 20 = 0.8024429102496017\n",
      "accuracy for 25 = 0.8061603823685608\n",
      "accuracy for 30 = 0.8056293149229952\n",
      "accuracy for 35 = 0.8082846521508231\n",
      "accuracy for 40 = 0.8088157195963888\n",
      "accuracy for 45 = 0.807222517259692\n",
      "accuracy for 50 = 0.8098778544875199\n",
      "accuracy for 55 = 0.8082846521508231\n",
      "accuracy for 60 = 0.8056293149229952\n",
      "accuracy for 65 = 0.8008497079129049\n",
      "accuracy for 70 = 0.8019118428040362\n",
      "accuracy for 75 = 0.8019118428040362\n",
      "accuracy for 80 = 0.804567180031864\n",
      "accuracy for 85 = 0.8061603823685608\n",
      "accuracy for 90 = 0.8056293149229952\n",
      "accuracy for 95 = 0.804567180031864\n",
      "accuracy for 100 = 0.8019118428040362\n"
     ]
    }
   ],
   "source": [
    "uniform = []\n",
    "for i in range(5, 101, 5):\n",
    "    knn = KNeighborsClassifier(n_neighbors=i, weights='uniform')\n",
    "    knn.fit(min_max_norm, y_train)\n",
    "    knn_pred_test = knn.predict(min_max_test)\n",
    "    print('accuracy for', i, '=', metrics.accuracy_score(y_true = y_test, y_pred = knn_pred_test))\n",
    "    uniform.append(metrics.accuracy_score(y_true = y_test, y_pred = knn_pred_test))\n",
    "\n",
    "    "
   ]
  },
  {
   "cell_type": "code",
   "execution_count": 219,
   "id": "8f8492ca",
   "metadata": {},
   "outputs": [
    {
     "name": "stdout",
     "output_type": "stream",
     "text": [
      "accuracy for 5 = 0.7742963356346256\n",
      "accuracy for 10 = 0.7843866171003717\n",
      "accuracy for 15 = 0.7812002124269782\n",
      "accuracy for 20 = 0.7843866171003717\n",
      "accuracy for 25 = 0.7870419543281997\n",
      "accuracy for 30 = 0.782793414763675\n",
      "accuracy for 35 = 0.7812002124269782\n",
      "accuracy for 40 = 0.7806691449814126\n",
      "accuracy for 45 = 0.7822623473181094\n",
      "accuracy for 50 = 0.7817312798725438\n",
      "accuracy for 55 = 0.7796070100902814\n",
      "accuracy for 60 = 0.7806691449814126\n",
      "accuracy for 65 = 0.7817312798725438\n",
      "accuracy for 70 = 0.7833244822092406\n",
      "accuracy for 75 = 0.7859798194370685\n",
      "accuracy for 80 = 0.7854487519915029\n",
      "accuracy for 85 = 0.7843866171003717\n",
      "accuracy for 90 = 0.7859798194370685\n",
      "accuracy for 95 = 0.7870419543281997\n",
      "accuracy for 100 = 0.7859798194370685\n"
     ]
    }
   ],
   "source": [
    "distances = []\n",
    "for i in range(5, 101, 5):\n",
    "    knn = KNeighborsClassifier(n_neighbors=i, weights='distance')\n",
    "    knn.fit(min_max_norm, y_train)\n",
    "    knn_pred_test = knn.predict(min_max_test)\n",
    "    print('accuracy for', i, '=', metrics.accuracy_score(y_true = y_test, y_pred = knn_pred_test))\n",
    "    distances.append(metrics.accuracy_score(y_true = y_test, y_pred = knn_pred_test))"
   ]
  },
  {
   "cell_type": "markdown",
   "id": "763cf8a7",
   "metadata": {},
   "source": [
    "Above, we can see that the value of K that provides the highest accuracy is K=50 with uniform weights. Comparing this to the same value of K using distance weights we see a much lower accuracy rate. Infact, when we look at the all the accuracy values from K = 5 to 100, the uniform weight accuracies are all higher than the distance weight accuracies.\n",
    "This shows a decline in accuracy compared to earlier when we used uniform distances. This is also lower than the original test accuracy we recieved when we used k=10. Therefore, the best accuracy is achieved at K=50 using uniform distances. "
   ]
  },
  {
   "cell_type": "code",
   "execution_count": 220,
   "id": "fcaa2349",
   "metadata": {},
   "outputs": [
    {
     "data": {
      "text/plain": [
       "[<matplotlib.lines.Line2D at 0x7fd81016a520>]"
      ]
     },
     "execution_count": 220,
     "metadata": {},
     "output_type": "execute_result"
    },
    {
     "data": {
      "image/png": "[encoded data removed]",
      "text/plain": [
       "<Figure size 432x288 with 1 Axes>"
      ]
     },
     "metadata": {
      "needs_background": "light"
     },
     "output_type": "display_data"
    }
   ],
   "source": [
    "k_vals = list(range(5, 101, 5))\n",
    "plt.plot(k_vals, distances,\n",
    "     label = \"Distance weights\", color = 'b')\n",
    "plt.plot(k_vals, uniform,\n",
    "     label = \"Uniform weights\", color = 'r')"
   ]
  },
  {
   "cell_type": "markdown",
   "id": "d87f3642",
   "metadata": {},
   "source": [
    "This plot shows what we had deciphered earlier, that distance weights have lower accuracies than uniform weights. At its highest, uniform weights have an accuracy of close to 0.81 at K=50 as opposed to distance weights having a highest accuracy of 0.787 at K=25.b"
   ]
  },
  {
   "cell_type": "code",
   "execution_count": 223,
   "id": "213691c8",
   "metadata": {
    "scrolled": true
   },
   "outputs": [
    {
     "data": {
      "text/plain": [
       "0.8206933191658918"
      ]
     },
     "execution_count": 223,
     "metadata": {},
     "output_type": "execute_result"
    }
   ],
   "source": [
    "knn = KNeighborsClassifier(n_neighbors=50, weights='uniform')\n",
    "knn.fit(min_max_norm, y_train)\n",
    "knn_pred_train = knn.predict(min_max_norm)\n",
    "metrics.accuracy_score(y_true = y_train, y_pred = knn_pred_train)"
   ]
  },
  {
   "cell_type": "code",
   "execution_count": 225,
   "id": "8cbcee09",
   "metadata": {
    "scrolled": true
   },
   "outputs": [
    {
     "data": {
      "text/plain": [
       "0.8098778544875199"
      ]
     },
     "execution_count": 225,
     "metadata": {},
     "output_type": "execute_result"
    }
   ],
   "source": [
    "knn_pred_test = knn.predict(min_max_test)\n",
    "metrics.accuracy_score(y_true = y_test, y_pred = knn_pred_test)"
   ]
  },
  {
   "cell_type": "markdown",
   "id": "0095c0ab",
   "metadata": {},
   "source": [
    "The above shows an improvement in the testing accuracy as compared to the original knn classifier which displayed a testing accuracy of 0.78"
   ]
  },
  {
   "cell_type": "code",
   "execution_count": 229,
   "id": "6f6800f1",
   "metadata": {},
   "outputs": [],
   "source": [
    "# Question 2(b(iii))\n",
    "uniform_tr = []\n",
    "uniform_ts = []\n",
    "for i in range(5, 101, 5):\n",
    "    knn = KNeighborsClassifier(n_neighbors=i, weights='uniform')\n",
    "    knn.fit(min_max_norm, y_train)\n",
    "    knn_pred_train = knn.predict(min_max_norm)\n",
    "    knn_pred_test = knn.predict(min_max_test)\n",
    "    # print('accuracy for', i, '=', metrics.accuracy_score(y_true = y_train, y_pred = knn_pred_train))\n",
    "    uniform_tr.append(metrics.accuracy_score(y_true = y_train, y_pred = knn_pred_train))\n",
    "    uniform_ts.append(metrics.accuracy_score(y_true = y_test, y_pred = knn_pred_test))"
   ]
  },
  {
   "cell_type": "code",
   "execution_count": 230,
   "id": "489812ac",
   "metadata": {
    "scrolled": true
   },
   "outputs": [
    {
     "data": {
      "text/plain": [
       "[<matplotlib.lines.Line2D at 0x7fd8711e7940>]"
      ]
     },
     "execution_count": 230,
     "metadata": {},
     "output_type": "execute_result"
    },
    {
     "data": {
      "image/png": "[encoded data removed]",
      "text/plain": [
       "<Figure size 432x288 with 1 Axes>"
      ]
     },
     "metadata": {
      "needs_background": "light"
     },
     "output_type": "display_data"
    }
   ],
   "source": [
    "k_vals1 = list(range(5, 101, 5))\n",
    "plt.plot(k_vals1, uniform_tr,\n",
    "     label = \"Training\", color = 'b')\n",
    "plt.plot(k_vals1, uniform_ts,\n",
    "     label = \"Testing\", color = 'r')"
   ]
  },
  {
   "cell_type": "markdown",
   "id": "ee1cfbe4",
   "metadata": {},
   "source": [
    "In this case, the points that represent overfitting would be where the training has a much higher accuracy than testing. In this case, the points between 5 and 40 would be considered overfitting since the training accuracy is a much higher than the testing accuracy between these values of K. "
   ]
  },
  {
   "cell_type": "code",
   "execution_count": 239,
   "id": "1a0d1cd1",
   "metadata": {},
   "outputs": [],
   "source": [
    "# Question 2(c)\n",
    "from sklearn.datasets import load_iris\n",
    "from sklearn import tree\n",
    "dt1 = tree.DecisionTreeClassifier()\n",
    "dt1.fit(x_train, y_train)\n",
    "dt1_pred = dt1.predict(x_test)"
   ]
  },
  {
   "cell_type": "code",
   "execution_count": 241,
   "id": "e22994f3",
   "metadata": {},
   "outputs": [
    {
     "name": "stdout",
     "output_type": "stream",
     "text": [
      "[[1219  204]\n",
      " [ 240  220]]\n"
     ]
    }
   ],
   "source": [
    "conf_test1 = confusion_matrix(y_test, dt1_pred)\n",
    "print(conf_test1)"
   ]
  },
  {
   "cell_type": "code",
   "execution_count": 242,
   "id": "e283fc5e",
   "metadata": {},
   "outputs": [
    {
     "name": "stdout",
     "output_type": "stream",
     "text": [
      "              precision    recall  f1-score   support\n",
      "\n",
      "           0       0.84      0.86      0.85      1423\n",
      "           1       0.52      0.48      0.50       460\n",
      "\n",
      "    accuracy                           0.76      1883\n",
      "   macro avg       0.68      0.67      0.67      1883\n",
      "weighted avg       0.76      0.76      0.76      1883\n",
      "\n"
     ]
    }
   ],
   "source": [
    "print(classification_report(y_test, dt1_pred))"
   ]
  },
  {
   "cell_type": "code",
   "execution_count": 244,
   "id": "6dfd1761",
   "metadata": {
    "scrolled": true
   },
   "outputs": [
    {
     "data": {
      "text/plain": [
       "0.7642060541688794"
      ]
     },
     "execution_count": 244,
     "metadata": {},
     "output_type": "execute_result"
    }
   ],
   "source": [
    "from sklearn.metrics import accuracy_score\n",
    "accuracy_score(y_test, dt1_pred)\n",
    "# testing accuracy"
   ]
  },
  {
   "cell_type": "code",
   "execution_count": 246,
   "id": "4bb68878",
   "metadata": {
    "scrolled": true
   },
   "outputs": [
    {
     "data": {
      "text/plain": [
       "0.9442156992960552"
      ]
     },
     "execution_count": 246,
     "metadata": {},
     "output_type": "execute_result"
    }
   ],
   "source": [
    "dt1_pred1 = dt1.predict(x_train)\n",
    "accuracy_score(y_train, dt1_pred1)\n",
    "# training accuracy"
   ]
  },
  {
   "cell_type": "markdown",
   "id": "46911395",
   "metadata": {},
   "source": [
    "With the above accuracy scores for training and testing, we can see a big difference in accuracy between the train and test scores, which means that there is a certain amount of overfitting in this case. When considering the bias-variance tradeoff this would mean that there is high variance and low bias in this model. "
   ]
  },
  {
   "cell_type": "code",
   "execution_count": 247,
   "id": "1005a68a",
   "metadata": {},
   "outputs": [],
   "source": [
    "dt2 = tree.DecisionTreeClassifier(criterion='gini', min_samples_split=10, max_depth=4)\n",
    "dt2.fit(x_train, y_train)\n",
    "dt2_pred = dt2.predict(x_test)"
   ]
  },
  {
   "cell_type": "code",
   "execution_count": 248,
   "id": "83ed01a0",
   "metadata": {},
   "outputs": [],
   "source": [
    "dt2_pred1 = dt2.predict(x_train)"
   ]
  },
  {
   "cell_type": "code",
   "execution_count": 249,
   "id": "a5cf0279",
   "metadata": {
    "scrolled": true
   },
   "outputs": [
    {
     "data": {
      "text/plain": [
       "0.8188338424757604"
      ]
     },
     "execution_count": 249,
     "metadata": {},
     "output_type": "execute_result"
    }
   ],
   "source": [
    "accuracy_score(y_train, dt2_pred1) # average training accuracy score"
   ]
  },
  {
   "cell_type": "code",
   "execution_count": 250,
   "id": "930bcd14",
   "metadata": {
    "scrolled": true
   },
   "outputs": [
    {
     "data": {
      "text/plain": [
       "0.8066914498141264"
      ]
     },
     "execution_count": 250,
     "metadata": {},
     "output_type": "execute_result"
    }
   ],
   "source": [
    "accuracy_score(y_test, dt2_pred) # average testing accuracy score "
   ]
  },
  {
   "cell_type": "code",
   "execution_count": 460,
   "id": "656d80dd",
   "metadata": {
    "scrolled": true
   },
   "outputs": [
    {
     "data": {
      "text/plain": [
       "[Text(167.4, 195.696, 'X[6] <= 0.5\\ngini = 0.372\\nsamples = 7529\\nvalue = [5670, 1859]'),\n",
       " Text(83.7, 152.208, 'X[1] <= 13.5\\ngini = 0.122\\nsamples = 3736\\nvalue = [3492, 244]'),\n",
       " Text(41.85, 108.72, 'X[1] <= 12.5\\ngini = 0.088\\nsamples = 3510\\nvalue = [3348, 162]'),\n",
       " Text(20.925, 65.232, 'X[0] <= 31.5\\ngini = 0.057\\nsamples = 2931\\nvalue = [2845, 86]'),\n",
       " Text(10.4625, 21.744, 'gini = 0.015\\nsamples = 1582\\nvalue = [1570, 12]'),\n",
       " Text(31.387500000000003, 21.744, 'gini = 0.104\\nsamples = 1349\\nvalue = [1275, 74]'),\n",
       " Text(62.775000000000006, 65.232, 'X[0] <= 29.5\\ngini = 0.228\\nsamples = 579\\nvalue = [503, 76]'),\n",
       " Text(52.3125, 21.744, 'gini = 0.039\\nsamples = 251\\nvalue = [246, 5]'),\n",
       " Text(73.2375, 21.744, 'gini = 0.339\\nsamples = 328\\nvalue = [257, 71]'),\n",
       " Text(125.55000000000001, 108.72, 'X[0] <= 30.5\\ngini = 0.462\\nsamples = 226\\nvalue = [144, 82]'),\n",
       " Text(104.625, 65.232, 'X[2] <= 62.5\\ngini = 0.105\\nsamples = 36\\nvalue = [34, 2]'),\n",
       " Text(94.16250000000001, 21.744, 'gini = 0.062\\nsamples = 31\\nvalue = [30, 1]'),\n",
       " Text(115.0875, 21.744, 'gini = 0.32\\nsamples = 5\\nvalue = [4, 1]'),\n",
       " Text(146.475, 65.232, 'X[1] <= 14.5\\ngini = 0.488\\nsamples = 190\\nvalue = [110, 80]'),\n",
       " Text(136.01250000000002, 21.744, 'gini = 0.44\\nsamples = 138\\nvalue = [93, 45]'),\n",
       " Text(156.9375, 21.744, 'gini = 0.44\\nsamples = 52\\nvalue = [17, 35]'),\n",
       " Text(251.10000000000002, 152.208, 'X[1] <= 11.5\\ngini = 0.489\\nsamples = 3793\\nvalue = [2178, 1615]'),\n",
       " Text(209.25, 108.72, 'X[1] <= 8.5\\ngini = 0.422\\nsamples = 2576\\nvalue = [1797, 779]'),\n",
       " Text(188.32500000000002, 65.232, 'X[0] <= 35.5\\ngini = 0.188\\nsamples = 437\\nvalue = [391, 46]'),\n",
       " Text(177.8625, 21.744, 'gini = 0.065\\nsamples = 118\\nvalue = [114, 4]'),\n",
       " Text(198.7875, 21.744, 'gini = 0.229\\nsamples = 319\\nvalue = [277, 42]'),\n",
       " Text(230.175, 65.232, 'X[2] <= 34.0\\ngini = 0.451\\nsamples = 2139\\nvalue = [1406, 733]'),\n",
       " Text(219.7125, 21.744, 'gini = 0.206\\nsamples = 214\\nvalue = [189, 25]'),\n",
       " Text(240.63750000000002, 21.744, 'gini = 0.465\\nsamples = 1925\\nvalue = [1217, 708]'),\n",
       " Text(292.95, 108.72, 'X[0] <= 33.5\\ngini = 0.43\\nsamples = 1217\\nvalue = [381, 836]'),\n",
       " Text(272.02500000000003, 65.232, 'X[0] <= 26.5\\ngini = 0.499\\nsamples = 244\\nvalue = [118, 126]'),\n",
       " Text(261.5625, 21.744, 'gini = 0.45\\nsamples = 38\\nvalue = [25, 13]'),\n",
       " Text(282.4875, 21.744, 'gini = 0.495\\nsamples = 206\\nvalue = [93, 113]'),\n",
       " Text(313.875, 65.232, 'X[2] <= 31.0\\ngini = 0.394\\nsamples = 973\\nvalue = [263, 710]'),\n",
       " Text(303.4125, 21.744, 'gini = 0.492\\nsamples = 78\\nvalue = [44, 34]'),\n",
       " Text(324.33750000000003, 21.744, 'gini = 0.37\\nsamples = 895\\nvalue = [219, 676]')]"
      ]
     },
     "execution_count": 460,
     "metadata": {},
     "output_type": "execute_result"
    },
    {
     "data": {
      "image/png": "[encoded data removed]",
      "text/plain": [
       "<Figure size 432x288 with 1 Axes>"
      ]
     },
     "metadata": {
      "needs_background": "light"
     },
     "output_type": "display_data"
    }
   ],
   "source": [
    "from sklearn import tree\n",
    "tree.plot_tree(dt2)"
   ]
  },
  {
   "cell_type": "code",
   "execution_count": 430,
   "id": "c114417e",
   "metadata": {},
   "outputs": [],
   "source": [
    "#Question 2(d)\n",
    "from sklearn.naive_bayes import GaussianNB\n",
    "from sklearn.discriminant_analysis import LinearDiscriminantAnalysis\n",
    "gnb = GaussianNB()\n",
    "nb_fit = gnb.fit(x_train, y_train)\n",
    "nb_pred = nb_fit.predict(x_train)"
   ]
  },
  {
   "cell_type": "code",
   "execution_count": 451,
   "id": "3b465aa6",
   "metadata": {},
   "outputs": [
    {
     "data": {
      "text/plain": [
       "0.7210784964802762"
      ]
     },
     "execution_count": 451,
     "metadata": {},
     "output_type": "execute_result"
    }
   ],
   "source": [
    "accuracy_score(y_train, nb_pred)"
   ]
  },
  {
   "cell_type": "code",
   "execution_count": 427,
   "id": "837f51ef",
   "metadata": {
    "scrolled": true
   },
   "outputs": [],
   "source": [
    "lda = LinearDiscriminantAnalysis()\n",
    "lda_fit = lda.fit(x_train, y_train)\n",
    "lda_pred = lda_fit.predict(x_train)"
   ]
  },
  {
   "cell_type": "code",
   "execution_count": 452,
   "id": "a311f967",
   "metadata": {},
   "outputs": [
    {
     "data": {
      "text/plain": [
       "0.8100677380794262"
      ]
     },
     "execution_count": 452,
     "metadata": {},
     "output_type": "execute_result"
    }
   ],
   "source": [
    "accuracy_score(y_train, lda_pred)"
   ]
  },
  {
   "cell_type": "code",
   "execution_count": 456,
   "id": "69a65cc8",
   "metadata": {},
   "outputs": [
    {
     "data": {
      "text/plain": [
       "array([0.74236388, 0.7250996 , 0.70119522, 0.70252324, 0.76626826,\n",
       "       0.7184595 , 0.69588313, 0.71447543, 0.71978752, 0.71542553])"
      ]
     },
     "execution_count": 456,
     "metadata": {},
     "output_type": "execute_result"
    }
   ],
   "source": [
    "from sklearn.model_selection import KFold\n",
    "cv_nb = KFold(n_splits=10, random_state=1, shuffle=True)\n",
    "scores_nb = cross_val_score(gnb, x_train, y_train, scoring='accuracy', cv=cv_nb, n_jobs=-1)\n",
    "scores_nb"
   ]
  },
  {
   "cell_type": "code",
   "execution_count": 457,
   "id": "ca34e8af",
   "metadata": {},
   "outputs": [
    {
     "data": {
      "text/plain": [
       "0.7201481308807324"
      ]
     },
     "execution_count": 457,
     "metadata": {},
     "output_type": "execute_result"
    }
   ],
   "source": [
    "scores_nb.mean()"
   ]
  },
  {
   "cell_type": "code",
   "execution_count": 458,
   "id": "11c9d142",
   "metadata": {
    "scrolled": true
   },
   "outputs": [
    {
     "data": {
      "text/plain": [
       "array([0.82337317, 0.81009296, 0.79150066, 0.81938911, 0.84329349,\n",
       "       0.79017264, 0.80876494, 0.79814077, 0.812749  , 0.80984043])"
      ]
     },
     "execution_count": 458,
     "metadata": {},
     "output_type": "execute_result"
    }
   ],
   "source": [
    "cv_lda = KFold(n_splits=10, random_state=1, shuffle=True)\n",
    "scores_lda = cross_val_score(lda, x_train, y_train, scoring='accuracy', cv=cv_lda, n_jobs=-1)\n",
    "scores_lda"
   ]
  },
  {
   "cell_type": "code",
   "execution_count": 459,
   "id": "f7efaa5e",
   "metadata": {},
   "outputs": [
    {
     "data": {
      "text/plain": [
       "0.8107317185160069"
      ]
     },
     "execution_count": 459,
     "metadata": {},
     "output_type": "execute_result"
    }
   ],
   "source": [
    "scores_lda.mean()"
   ]
  },
  {
   "cell_type": "markdown",
   "id": "1afd7d22",
   "metadata": {},
   "source": [
    "Comparing the mean accuracy achieved from the 10 fold cross validation to the mean without 10 fold cross validation we see that for Naive Bayes, the accuracy goes from 0.721 without cross validation to 0.720 with cross validation which means that in this case, the accuracy has remained more or less the same. For LDA, we see the accuracy go from 0.8100 to 0.8107 (mean accuracy from 10 fold cross validation) which shows a slight increase in overall accuracy with 10 fold cross validation.  "
   ]
  },
  {
   "cell_type": "code",
   "execution_count": 462,
   "id": "3cbd4b33",
   "metadata": {
    "scrolled": false
   },
   "outputs": [
    {
     "data": {
      "text/plain": [
       "array([1, 1, 0, ..., 0, 0, 0], dtype=uint8)"
      ]
     },
     "execution_count": 462,
     "metadata": {},
     "output_type": "execute_result"
    }
   ],
   "source": [
    "nb_pred = nb_fit.predict(x_test)"
   ]
  },
  {
   "cell_type": "code",
   "execution_count": 465,
   "id": "70830bc9",
   "metadata": {
    "scrolled": true
   },
   "outputs": [
    {
     "data": {
      "text/plain": [
       "0.7174721189591078"
      ]
     },
     "execution_count": 465,
     "metadata": {},
     "output_type": "execute_result"
    }
   ],
   "source": [
    "accuracy_score(y_test, nb_pred)"
   ]
  },
  {
   "cell_type": "markdown",
   "id": "93a7505e",
   "metadata": {},
   "source": [
    "Compared to the original training set's accuracy of 0.721, we can see that the difference between the scores for training and testing are not that far off. This means that the model is not overfitting. "
   ]
  },
  {
   "cell_type": "code",
   "execution_count": 463,
   "id": "b4fdd859",
   "metadata": {},
   "outputs": [],
   "source": [
    "lda_pred = lda_fit.predict(x_test)"
   ]
  },
  {
   "cell_type": "code",
   "execution_count": 464,
   "id": "8d321146",
   "metadata": {
    "scrolled": true
   },
   "outputs": [
    {
     "data": {
      "text/plain": [
       "0.7992565055762082"
      ]
     },
     "execution_count": 464,
     "metadata": {},
     "output_type": "execute_result"
    }
   ],
   "source": [
    "accuracy_score(y_test, lda_pred)"
   ]
  },
  {
   "cell_type": "markdown",
   "id": "574cf7c1",
   "metadata": {},
   "source": [
    "Comparing this to the original LDA model training set accuracy rate of 0.810, this testing accuracy score is only slightly lower. We would however prefer the training accuracy and testing accuracy to be much closer to each other, which would show that the model is working properly and not overfitting on the training set. "
   ]
  }
 ],
 "metadata": {
  "kernelspec": {
   "display_name": "Python 3 (ipykernel)",
   "language": "python",
   "name": "python3"
  },
  "language_info": {
   "codemirror_mode": {
    "name": "ipython",
    "version": 3
   },
   "file_extension": ".py",
   "mimetype": "text/x-python",
   "name": "python",
   "nbconvert_exporter": "python",
   "pygments_lexer": "ipython3",
   "version": "3.9.7"
  }
 },
 "nbformat": 4,
 "nbformat_minor": 5
}
