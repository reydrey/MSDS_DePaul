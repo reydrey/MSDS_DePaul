{
 "cells": [
  {
   "cell_type": "markdown",
   "id": "201d16cf",
   "metadata": {},
   "source": [
    "Shreyas Ravi\n",
    "DSC 478\n",
    "Assignment 3"
   ]
  },
  {
   "cell_type": "code",
   "execution_count": 470,
   "id": "abbc0ef1",
   "metadata": {},
   "outputs": [],
   "source": [
    "# Question 1(a)\n",
    "# reading the file \n",
    "import pandas as pd \n",
    "com = pd.read_csv('communities.csv')"
   ]
  },
  {
   "cell_type": "code",
   "execution_count": 471,
   "id": "d8edf16e",
   "metadata": {},
   "outputs": [],
   "source": [
    "from matplotlib import pyplot as plt"
   ]
  },
  {
   "cell_type": "code",
   "execution_count": 472,
   "id": "1b100825",
   "metadata": {},
   "outputs": [
    {
     "data": {
      "text/plain": [
       "(1994, 100)"
      ]
     },
     "execution_count": 472,
     "metadata": {},
     "output_type": "execute_result"
    }
   ],
   "source": [
    "com.shape"
   ]
  },
  {
   "cell_type": "code",
   "execution_count": 473,
   "id": "894d724e",
   "metadata": {
    "scrolled": true
   },
   "outputs": [
    {
     "data": {
      "text/html": [
       "<div>\n",
       "<style scoped>\n",
       "    .dataframe tbody tr th:only-of-type {\n",
       "        vertical-align: middle;\n",
       "    }\n",
       "\n",
       "    .dataframe tbody tr th {\n",
       "        vertical-align: top;\n",
       "    }\n",
       "\n",
       "    .dataframe thead th {\n",
       "        text-align: right;\n",
       "    }\n",
       "</style>\n",
       "<table border=\"1\" class=\"dataframe\">\n",
       "  <thead>\n",
       "    <tr style=\"text-align: right;\">\n",
       "      <th></th>\n",
       "      <th>state</th>\n",
       "      <th>communityname</th>\n",
       "      <th>population</th>\n",
       "      <th>householdsize</th>\n",
       "      <th>racepctblack</th>\n",
       "      <th>racePctWhite</th>\n",
       "      <th>racePctAsian</th>\n",
       "      <th>racePctHisp</th>\n",
       "      <th>agePct12t21</th>\n",
       "      <th>agePct12t29</th>\n",
       "      <th>...</th>\n",
       "      <th>NumStreet</th>\n",
       "      <th>PctForeignBorn</th>\n",
       "      <th>PctBornSameState</th>\n",
       "      <th>PctSameHouse85</th>\n",
       "      <th>PctSameCity85</th>\n",
       "      <th>PctSameState85</th>\n",
       "      <th>LandArea</th>\n",
       "      <th>PopDens</th>\n",
       "      <th>PctUsePubTrans</th>\n",
       "      <th>ViolentCrimesPerPop</th>\n",
       "    </tr>\n",
       "  </thead>\n",
       "  <tbody>\n",
       "    <tr>\n",
       "      <th>0</th>\n",
       "      <td>8</td>\n",
       "      <td>Lakewoodcity</td>\n",
       "      <td>0.19</td>\n",
       "      <td>0.33</td>\n",
       "      <td>0.02</td>\n",
       "      <td>0.90</td>\n",
       "      <td>0.12</td>\n",
       "      <td>0.17</td>\n",
       "      <td>0.34</td>\n",
       "      <td>0.47</td>\n",
       "      <td>...</td>\n",
       "      <td>0.0</td>\n",
       "      <td>0.12</td>\n",
       "      <td>0.42</td>\n",
       "      <td>0.50</td>\n",
       "      <td>0.51</td>\n",
       "      <td>0.64</td>\n",
       "      <td>0.12</td>\n",
       "      <td>0.26</td>\n",
       "      <td>0.20</td>\n",
       "      <td>0.20</td>\n",
       "    </tr>\n",
       "    <tr>\n",
       "      <th>1</th>\n",
       "      <td>53</td>\n",
       "      <td>Tukwilacity</td>\n",
       "      <td>0.00</td>\n",
       "      <td>0.16</td>\n",
       "      <td>0.12</td>\n",
       "      <td>0.74</td>\n",
       "      <td>0.45</td>\n",
       "      <td>0.07</td>\n",
       "      <td>0.26</td>\n",
       "      <td>0.59</td>\n",
       "      <td>...</td>\n",
       "      <td>0.0</td>\n",
       "      <td>0.21</td>\n",
       "      <td>0.50</td>\n",
       "      <td>0.34</td>\n",
       "      <td>0.60</td>\n",
       "      <td>0.52</td>\n",
       "      <td>0.02</td>\n",
       "      <td>0.12</td>\n",
       "      <td>0.45</td>\n",
       "      <td>0.67</td>\n",
       "    </tr>\n",
       "    <tr>\n",
       "      <th>2</th>\n",
       "      <td>24</td>\n",
       "      <td>Aberdeentown</td>\n",
       "      <td>0.00</td>\n",
       "      <td>0.42</td>\n",
       "      <td>0.49</td>\n",
       "      <td>0.56</td>\n",
       "      <td>0.17</td>\n",
       "      <td>0.04</td>\n",
       "      <td>0.39</td>\n",
       "      <td>0.47</td>\n",
       "      <td>...</td>\n",
       "      <td>0.0</td>\n",
       "      <td>0.14</td>\n",
       "      <td>0.49</td>\n",
       "      <td>0.54</td>\n",
       "      <td>0.67</td>\n",
       "      <td>0.56</td>\n",
       "      <td>0.01</td>\n",
       "      <td>0.21</td>\n",
       "      <td>0.02</td>\n",
       "      <td>0.43</td>\n",
       "    </tr>\n",
       "    <tr>\n",
       "      <th>3</th>\n",
       "      <td>34</td>\n",
       "      <td>Willingborotownship</td>\n",
       "      <td>0.04</td>\n",
       "      <td>0.77</td>\n",
       "      <td>1.00</td>\n",
       "      <td>0.08</td>\n",
       "      <td>0.12</td>\n",
       "      <td>0.10</td>\n",
       "      <td>0.51</td>\n",
       "      <td>0.50</td>\n",
       "      <td>...</td>\n",
       "      <td>0.0</td>\n",
       "      <td>0.19</td>\n",
       "      <td>0.30</td>\n",
       "      <td>0.73</td>\n",
       "      <td>0.64</td>\n",
       "      <td>0.65</td>\n",
       "      <td>0.02</td>\n",
       "      <td>0.39</td>\n",
       "      <td>0.28</td>\n",
       "      <td>0.12</td>\n",
       "    </tr>\n",
       "    <tr>\n",
       "      <th>4</th>\n",
       "      <td>42</td>\n",
       "      <td>Bethlehemtownship</td>\n",
       "      <td>0.01</td>\n",
       "      <td>0.55</td>\n",
       "      <td>0.02</td>\n",
       "      <td>0.95</td>\n",
       "      <td>0.09</td>\n",
       "      <td>0.05</td>\n",
       "      <td>0.38</td>\n",
       "      <td>0.38</td>\n",
       "      <td>...</td>\n",
       "      <td>0.0</td>\n",
       "      <td>0.11</td>\n",
       "      <td>0.72</td>\n",
       "      <td>0.64</td>\n",
       "      <td>0.61</td>\n",
       "      <td>0.53</td>\n",
       "      <td>0.04</td>\n",
       "      <td>0.09</td>\n",
       "      <td>0.02</td>\n",
       "      <td>0.03</td>\n",
       "    </tr>\n",
       "  </tbody>\n",
       "</table>\n",
       "<p>5 rows × 100 columns</p>\n",
       "</div>"
      ],
      "text/plain": [
       "   state        communityname  population  householdsize  racepctblack  \\\n",
       "0      8         Lakewoodcity        0.19           0.33          0.02   \n",
       "1     53          Tukwilacity        0.00           0.16          0.12   \n",
       "2     24         Aberdeentown        0.00           0.42          0.49   \n",
       "3     34  Willingborotownship        0.04           0.77          1.00   \n",
       "4     42    Bethlehemtownship        0.01           0.55          0.02   \n",
       "\n",
       "   racePctWhite  racePctAsian  racePctHisp  agePct12t21  agePct12t29  ...  \\\n",
       "0          0.90          0.12         0.17         0.34         0.47  ...   \n",
       "1          0.74          0.45         0.07         0.26         0.59  ...   \n",
       "2          0.56          0.17         0.04         0.39         0.47  ...   \n",
       "3          0.08          0.12         0.10         0.51         0.50  ...   \n",
       "4          0.95          0.09         0.05         0.38         0.38  ...   \n",
       "\n",
       "   NumStreet  PctForeignBorn  PctBornSameState  PctSameHouse85  PctSameCity85  \\\n",
       "0        0.0            0.12              0.42            0.50           0.51   \n",
       "1        0.0            0.21              0.50            0.34           0.60   \n",
       "2        0.0            0.14              0.49            0.54           0.67   \n",
       "3        0.0            0.19              0.30            0.73           0.64   \n",
       "4        0.0            0.11              0.72            0.64           0.61   \n",
       "\n",
       "   PctSameState85  LandArea  PopDens  PctUsePubTrans  ViolentCrimesPerPop  \n",
       "0            0.64      0.12     0.26            0.20                 0.20  \n",
       "1            0.52      0.02     0.12            0.45                 0.67  \n",
       "2            0.56      0.01     0.21            0.02                 0.43  \n",
       "3            0.65      0.02     0.39            0.28                 0.12  \n",
       "4            0.53      0.04     0.09            0.02                 0.03  \n",
       "\n",
       "[5 rows x 100 columns]"
      ]
     },
     "execution_count": 473,
     "metadata": {},
     "output_type": "execute_result"
    }
   ],
   "source": [
    "com.head()"
   ]
  },
  {
   "cell_type": "code",
   "execution_count": 474,
   "id": "7373993d",
   "metadata": {
    "scrolled": true
   },
   "outputs": [
    {
     "data": {
      "text/plain": [
       "Index([], dtype='object')"
      ]
     },
     "execution_count": 474,
     "metadata": {},
     "output_type": "execute_result"
    }
   ],
   "source": [
    "com.columns[com.isnull().sum() >0]\n",
    " # checking for empty values "
   ]
  },
  {
   "cell_type": "code",
   "execution_count": 475,
   "id": "009c76f6",
   "metadata": {},
   "outputs": [
    {
     "data": {
      "text/plain": [
       "communityname    object\n",
       "OtherPerCap      object\n",
       "dtype: object"
      ]
     },
     "execution_count": 475,
     "metadata": {},
     "output_type": "execute_result"
    }
   ],
   "source": [
    "com.dtypes[com.dtypes=='object']"
   ]
  },
  {
   "cell_type": "code",
   "execution_count": 476,
   "id": "5617596c",
   "metadata": {},
   "outputs": [],
   "source": [
    "com.OtherPerCap.replace({'?':nan},inplace=True)"
   ]
  },
  {
   "cell_type": "code",
   "execution_count": 477,
   "id": "bbe1b7b0",
   "metadata": {},
   "outputs": [],
   "source": [
    "com.OtherPerCap = com.OtherPerCap.astype('float')"
   ]
  },
  {
   "cell_type": "code",
   "execution_count": 478,
   "id": "f8a75936",
   "metadata": {},
   "outputs": [],
   "source": [
    "com.OtherPerCap.fillna(com['OtherPerCap'].mean(),inplace=True)"
   ]
  },
  {
   "cell_type": "code",
   "execution_count": 479,
   "id": "a6ee33f0",
   "metadata": {
    "scrolled": true
   },
   "outputs": [
    {
     "data": {
      "text/plain": [
       "state                  0\n",
       "communityname          0\n",
       "population             0\n",
       "householdsize          0\n",
       "racepctblack           0\n",
       "                      ..\n",
       "PctSameState85         0\n",
       "LandArea               0\n",
       "PopDens                0\n",
       "PctUsePubTrans         0\n",
       "ViolentCrimesPerPop    0\n",
       "Length: 100, dtype: int64"
      ]
     },
     "execution_count": 479,
     "metadata": {},
     "output_type": "execute_result"
    }
   ],
   "source": [
    "com.isnull().sum()"
   ]
  },
  {
   "cell_type": "code",
   "execution_count": 480,
   "id": "b04de6d4",
   "metadata": {},
   "outputs": [],
   "source": [
    "y = com['ViolentCrimesPerPop']\n",
    "x = com.drop(['ViolentCrimesPerPop'], axis=1)"
   ]
  },
  {
   "cell_type": "code",
   "execution_count": 481,
   "id": "49ac6424",
   "metadata": {},
   "outputs": [],
   "source": [
    "x.drop(['communityname'],axis=1,inplace=True)"
   ]
  },
  {
   "cell_type": "code",
   "execution_count": 482,
   "id": "8d99b1d1",
   "metadata": {
    "scrolled": true
   },
   "outputs": [
    {
     "data": {
      "text/html": [
       "<div>\n",
       "<style scoped>\n",
       "    .dataframe tbody tr th:only-of-type {\n",
       "        vertical-align: middle;\n",
       "    }\n",
       "\n",
       "    .dataframe tbody tr th {\n",
       "        vertical-align: top;\n",
       "    }\n",
       "\n",
       "    .dataframe thead th {\n",
       "        text-align: right;\n",
       "    }\n",
       "</style>\n",
       "<table border=\"1\" class=\"dataframe\">\n",
       "  <thead>\n",
       "    <tr style=\"text-align: right;\">\n",
       "      <th></th>\n",
       "      <th>state</th>\n",
       "      <th>population</th>\n",
       "      <th>householdsize</th>\n",
       "      <th>racepctblack</th>\n",
       "      <th>racePctWhite</th>\n",
       "      <th>racePctAsian</th>\n",
       "      <th>racePctHisp</th>\n",
       "      <th>agePct12t21</th>\n",
       "      <th>agePct12t29</th>\n",
       "      <th>agePct16t24</th>\n",
       "      <th>...</th>\n",
       "      <th>NumInShelters</th>\n",
       "      <th>NumStreet</th>\n",
       "      <th>PctForeignBorn</th>\n",
       "      <th>PctBornSameState</th>\n",
       "      <th>PctSameHouse85</th>\n",
       "      <th>PctSameCity85</th>\n",
       "      <th>PctSameState85</th>\n",
       "      <th>LandArea</th>\n",
       "      <th>PopDens</th>\n",
       "      <th>PctUsePubTrans</th>\n",
       "    </tr>\n",
       "  </thead>\n",
       "  <tbody>\n",
       "    <tr>\n",
       "      <th>0</th>\n",
       "      <td>8</td>\n",
       "      <td>0.19</td>\n",
       "      <td>0.33</td>\n",
       "      <td>0.02</td>\n",
       "      <td>0.90</td>\n",
       "      <td>0.12</td>\n",
       "      <td>0.17</td>\n",
       "      <td>0.34</td>\n",
       "      <td>0.47</td>\n",
       "      <td>0.29</td>\n",
       "      <td>...</td>\n",
       "      <td>0.04</td>\n",
       "      <td>0.0</td>\n",
       "      <td>0.12</td>\n",
       "      <td>0.42</td>\n",
       "      <td>0.50</td>\n",
       "      <td>0.51</td>\n",
       "      <td>0.64</td>\n",
       "      <td>0.12</td>\n",
       "      <td>0.26</td>\n",
       "      <td>0.20</td>\n",
       "    </tr>\n",
       "    <tr>\n",
       "      <th>1</th>\n",
       "      <td>53</td>\n",
       "      <td>0.00</td>\n",
       "      <td>0.16</td>\n",
       "      <td>0.12</td>\n",
       "      <td>0.74</td>\n",
       "      <td>0.45</td>\n",
       "      <td>0.07</td>\n",
       "      <td>0.26</td>\n",
       "      <td>0.59</td>\n",
       "      <td>0.35</td>\n",
       "      <td>...</td>\n",
       "      <td>0.00</td>\n",
       "      <td>0.0</td>\n",
       "      <td>0.21</td>\n",
       "      <td>0.50</td>\n",
       "      <td>0.34</td>\n",
       "      <td>0.60</td>\n",
       "      <td>0.52</td>\n",
       "      <td>0.02</td>\n",
       "      <td>0.12</td>\n",
       "      <td>0.45</td>\n",
       "    </tr>\n",
       "    <tr>\n",
       "      <th>2</th>\n",
       "      <td>24</td>\n",
       "      <td>0.00</td>\n",
       "      <td>0.42</td>\n",
       "      <td>0.49</td>\n",
       "      <td>0.56</td>\n",
       "      <td>0.17</td>\n",
       "      <td>0.04</td>\n",
       "      <td>0.39</td>\n",
       "      <td>0.47</td>\n",
       "      <td>0.28</td>\n",
       "      <td>...</td>\n",
       "      <td>0.00</td>\n",
       "      <td>0.0</td>\n",
       "      <td>0.14</td>\n",
       "      <td>0.49</td>\n",
       "      <td>0.54</td>\n",
       "      <td>0.67</td>\n",
       "      <td>0.56</td>\n",
       "      <td>0.01</td>\n",
       "      <td>0.21</td>\n",
       "      <td>0.02</td>\n",
       "    </tr>\n",
       "    <tr>\n",
       "      <th>3</th>\n",
       "      <td>34</td>\n",
       "      <td>0.04</td>\n",
       "      <td>0.77</td>\n",
       "      <td>1.00</td>\n",
       "      <td>0.08</td>\n",
       "      <td>0.12</td>\n",
       "      <td>0.10</td>\n",
       "      <td>0.51</td>\n",
       "      <td>0.50</td>\n",
       "      <td>0.34</td>\n",
       "      <td>...</td>\n",
       "      <td>0.00</td>\n",
       "      <td>0.0</td>\n",
       "      <td>0.19</td>\n",
       "      <td>0.30</td>\n",
       "      <td>0.73</td>\n",
       "      <td>0.64</td>\n",
       "      <td>0.65</td>\n",
       "      <td>0.02</td>\n",
       "      <td>0.39</td>\n",
       "      <td>0.28</td>\n",
       "    </tr>\n",
       "    <tr>\n",
       "      <th>4</th>\n",
       "      <td>42</td>\n",
       "      <td>0.01</td>\n",
       "      <td>0.55</td>\n",
       "      <td>0.02</td>\n",
       "      <td>0.95</td>\n",
       "      <td>0.09</td>\n",
       "      <td>0.05</td>\n",
       "      <td>0.38</td>\n",
       "      <td>0.38</td>\n",
       "      <td>0.23</td>\n",
       "      <td>...</td>\n",
       "      <td>0.00</td>\n",
       "      <td>0.0</td>\n",
       "      <td>0.11</td>\n",
       "      <td>0.72</td>\n",
       "      <td>0.64</td>\n",
       "      <td>0.61</td>\n",
       "      <td>0.53</td>\n",
       "      <td>0.04</td>\n",
       "      <td>0.09</td>\n",
       "      <td>0.02</td>\n",
       "    </tr>\n",
       "  </tbody>\n",
       "</table>\n",
       "<p>5 rows × 98 columns</p>\n",
       "</div>"
      ],
      "text/plain": [
       "   state  population  householdsize  racepctblack  racePctWhite  racePctAsian  \\\n",
       "0      8        0.19           0.33          0.02          0.90          0.12   \n",
       "1     53        0.00           0.16          0.12          0.74          0.45   \n",
       "2     24        0.00           0.42          0.49          0.56          0.17   \n",
       "3     34        0.04           0.77          1.00          0.08          0.12   \n",
       "4     42        0.01           0.55          0.02          0.95          0.09   \n",
       "\n",
       "   racePctHisp  agePct12t21  agePct12t29  agePct16t24  ...  NumInShelters  \\\n",
       "0         0.17         0.34         0.47         0.29  ...           0.04   \n",
       "1         0.07         0.26         0.59         0.35  ...           0.00   \n",
       "2         0.04         0.39         0.47         0.28  ...           0.00   \n",
       "3         0.10         0.51         0.50         0.34  ...           0.00   \n",
       "4         0.05         0.38         0.38         0.23  ...           0.00   \n",
       "\n",
       "   NumStreet  PctForeignBorn  PctBornSameState  PctSameHouse85  PctSameCity85  \\\n",
       "0        0.0            0.12              0.42            0.50           0.51   \n",
       "1        0.0            0.21              0.50            0.34           0.60   \n",
       "2        0.0            0.14              0.49            0.54           0.67   \n",
       "3        0.0            0.19              0.30            0.73           0.64   \n",
       "4        0.0            0.11              0.72            0.64           0.61   \n",
       "\n",
       "   PctSameState85  LandArea  PopDens  PctUsePubTrans  \n",
       "0            0.64      0.12     0.26            0.20  \n",
       "1            0.52      0.02     0.12            0.45  \n",
       "2            0.56      0.01     0.21            0.02  \n",
       "3            0.65      0.02     0.39            0.28  \n",
       "4            0.53      0.04     0.09            0.02  \n",
       "\n",
       "[5 rows x 98 columns]"
      ]
     },
     "execution_count": 482,
     "metadata": {},
     "output_type": "execute_result"
    }
   ],
   "source": [
    "x.head()"
   ]
  },
  {
   "cell_type": "code",
   "execution_count": 483,
   "id": "39497d06",
   "metadata": {},
   "outputs": [
    {
     "data": {
      "text/plain": [
       "0    0.20\n",
       "1    0.67\n",
       "2    0.43\n",
       "3    0.12\n",
       "4    0.03\n",
       "Name: ViolentCrimesPerPop, dtype: float64"
      ]
     },
     "execution_count": 483,
     "metadata": {},
     "output_type": "execute_result"
    }
   ],
   "source": [
    "y.head()"
   ]
  },
  {
   "cell_type": "code",
   "execution_count": 484,
   "id": "8b9d8b13",
   "metadata": {},
   "outputs": [],
   "source": [
    "from sklearn.model_selection import train_test_split\n",
    "x_train, x_test, y_train, y_test = train_test_split(x, y, test_size=0.20, random_state=0)"
   ]
  },
  {
   "cell_type": "code",
   "execution_count": 485,
   "id": "ef5b502b",
   "metadata": {},
   "outputs": [],
   "source": [
    "# question 1(b)\n",
    "#from textbook\n",
    "from numpy import *\n",
    "def standRegres(xArr,yArr):\n",
    "    xMat = mat(xArr); yMat = mat(yArr).T\n",
    "#     print(xMat)\n",
    "    xTx = xMat.T*xMat\n",
    "    if linalg.det(xTx) == 0.0:\n",
    "        print (\"This matrix is singular, cannot do inverse\")\n",
    "        return\n",
    "    ws = xTx.I * (xMat.T*yMat)\n",
    "    return ws"
   ]
  },
  {
   "cell_type": "code",
   "execution_count": 486,
   "id": "050cc008",
   "metadata": {},
   "outputs": [],
   "source": [
    "# rmse for training data\n",
    "def rmse(y_true, y_pred):\n",
    "#     y_true = y_true.to_numpy().reshape(len(y_true),1)\n",
    "#     y_pred = y_pred.reshape(len(y_))\n",
    "    return ((square(y_true - y_pred)).mean())**0.5"
   ]
  },
  {
   "cell_type": "code",
   "execution_count": 487,
   "id": "e1deb772",
   "metadata": {},
   "outputs": [],
   "source": [
    "ws = standRegres(x_train,y_train)"
   ]
  },
  {
   "cell_type": "code",
   "execution_count": 488,
   "id": "13f51a38",
   "metadata": {},
   "outputs": [
    {
     "data": {
      "text/plain": [
       "(98, 1)"
      ]
     },
     "execution_count": 488,
     "metadata": {},
     "output_type": "execute_result"
    }
   ],
   "source": [
    "ws.shape"
   ]
  },
  {
   "cell_type": "code",
   "execution_count": 489,
   "id": "c11f3769",
   "metadata": {},
   "outputs": [
    {
     "data": {
      "text/plain": [
       "(1595, 98)"
      ]
     },
     "execution_count": 489,
     "metadata": {},
     "output_type": "execute_result"
    }
   ],
   "source": [
    "x_train.shape"
   ]
  },
  {
   "cell_type": "code",
   "execution_count": 490,
   "id": "409acd37",
   "metadata": {},
   "outputs": [
    {
     "data": {
      "text/plain": [
       "(1, 1595)"
      ]
     },
     "execution_count": 490,
     "metadata": {},
     "output_type": "execute_result"
    }
   ],
   "source": [
    "dot(x_train,ws).ravel().shape"
   ]
  },
  {
   "cell_type": "code",
   "execution_count": 491,
   "id": "b7053c4f",
   "metadata": {},
   "outputs": [],
   "source": [
    "y_pred = dot(x_train,ws)"
   ]
  },
  {
   "cell_type": "code",
   "execution_count": 492,
   "id": "f3968ec8",
   "metadata": {
    "scrolled": true
   },
   "outputs": [
    {
     "data": {
      "text/plain": [
       "0.12675481388639603"
      ]
     },
     "execution_count": 492,
     "metadata": {},
     "output_type": "execute_result"
    }
   ],
   "source": [
    "rmse(y_train.to_numpy().reshape(1,len(y_train)), y_pred.ravel())"
   ]
  },
  {
   "cell_type": "code",
   "execution_count": 493,
   "id": "271fe217",
   "metadata": {},
   "outputs": [],
   "source": [
    "df = x_train.copy()"
   ]
  },
  {
   "cell_type": "code",
   "execution_count": 494,
   "id": "d59b3774",
   "metadata": {},
   "outputs": [],
   "source": [
    "df['y_pred'] = y_pred"
   ]
  },
  {
   "cell_type": "code",
   "execution_count": 495,
   "id": "a0b33729",
   "metadata": {
    "scrolled": true
   },
   "outputs": [
    {
     "data": {
      "text/html": [
       "<div>\n",
       "<style scoped>\n",
       "    .dataframe tbody tr th:only-of-type {\n",
       "        vertical-align: middle;\n",
       "    }\n",
       "\n",
       "    .dataframe tbody tr th {\n",
       "        vertical-align: top;\n",
       "    }\n",
       "\n",
       "    .dataframe thead th {\n",
       "        text-align: right;\n",
       "    }\n",
       "</style>\n",
       "<table border=\"1\" class=\"dataframe\">\n",
       "  <thead>\n",
       "    <tr style=\"text-align: right;\">\n",
       "      <th></th>\n",
       "      <th>state</th>\n",
       "      <th>population</th>\n",
       "      <th>householdsize</th>\n",
       "      <th>racepctblack</th>\n",
       "      <th>racePctWhite</th>\n",
       "      <th>racePctAsian</th>\n",
       "      <th>racePctHisp</th>\n",
       "      <th>agePct12t21</th>\n",
       "      <th>agePct12t29</th>\n",
       "      <th>agePct16t24</th>\n",
       "      <th>...</th>\n",
       "      <th>NumStreet</th>\n",
       "      <th>PctForeignBorn</th>\n",
       "      <th>PctBornSameState</th>\n",
       "      <th>PctSameHouse85</th>\n",
       "      <th>PctSameCity85</th>\n",
       "      <th>PctSameState85</th>\n",
       "      <th>LandArea</th>\n",
       "      <th>PopDens</th>\n",
       "      <th>PctUsePubTrans</th>\n",
       "      <th>y_pred</th>\n",
       "    </tr>\n",
       "  </thead>\n",
       "  <tbody>\n",
       "    <tr>\n",
       "      <th>1594</th>\n",
       "      <td>34</td>\n",
       "      <td>0.06</td>\n",
       "      <td>0.49</td>\n",
       "      <td>0.27</td>\n",
       "      <td>0.69</td>\n",
       "      <td>0.09</td>\n",
       "      <td>0.19</td>\n",
       "      <td>0.35</td>\n",
       "      <td>0.42</td>\n",
       "      <td>0.26</td>\n",
       "      <td>...</td>\n",
       "      <td>0.01</td>\n",
       "      <td>0.31</td>\n",
       "      <td>0.48</td>\n",
       "      <td>0.64</td>\n",
       "      <td>0.61</td>\n",
       "      <td>0.69</td>\n",
       "      <td>0.07</td>\n",
       "      <td>0.15</td>\n",
       "      <td>0.22</td>\n",
       "      <td>0.222014</td>\n",
       "    </tr>\n",
       "    <tr>\n",
       "      <th>318</th>\n",
       "      <td>39</td>\n",
       "      <td>0.00</td>\n",
       "      <td>0.24</td>\n",
       "      <td>0.02</td>\n",
       "      <td>0.96</td>\n",
       "      <td>0.06</td>\n",
       "      <td>0.03</td>\n",
       "      <td>0.27</td>\n",
       "      <td>0.37</td>\n",
       "      <td>0.24</td>\n",
       "      <td>...</td>\n",
       "      <td>0.00</td>\n",
       "      <td>0.25</td>\n",
       "      <td>0.77</td>\n",
       "      <td>0.86</td>\n",
       "      <td>0.97</td>\n",
       "      <td>0.92</td>\n",
       "      <td>0.01</td>\n",
       "      <td>0.23</td>\n",
       "      <td>0.23</td>\n",
       "      <td>0.100273</td>\n",
       "    </tr>\n",
       "    <tr>\n",
       "      <th>992</th>\n",
       "      <td>37</td>\n",
       "      <td>0.00</td>\n",
       "      <td>0.32</td>\n",
       "      <td>0.31</td>\n",
       "      <td>0.74</td>\n",
       "      <td>0.02</td>\n",
       "      <td>0.02</td>\n",
       "      <td>0.33</td>\n",
       "      <td>0.44</td>\n",
       "      <td>0.29</td>\n",
       "      <td>...</td>\n",
       "      <td>0.00</td>\n",
       "      <td>0.03</td>\n",
       "      <td>0.83</td>\n",
       "      <td>0.63</td>\n",
       "      <td>0.78</td>\n",
       "      <td>0.79</td>\n",
       "      <td>0.02</td>\n",
       "      <td>0.12</td>\n",
       "      <td>0.02</td>\n",
       "      <td>0.308815</td>\n",
       "    </tr>\n",
       "    <tr>\n",
       "      <th>465</th>\n",
       "      <td>8</td>\n",
       "      <td>0.00</td>\n",
       "      <td>0.36</td>\n",
       "      <td>0.03</td>\n",
       "      <td>0.94</td>\n",
       "      <td>0.02</td>\n",
       "      <td>0.14</td>\n",
       "      <td>0.32</td>\n",
       "      <td>0.33</td>\n",
       "      <td>0.19</td>\n",
       "      <td>...</td>\n",
       "      <td>0.00</td>\n",
       "      <td>0.05</td>\n",
       "      <td>0.46</td>\n",
       "      <td>0.46</td>\n",
       "      <td>0.54</td>\n",
       "      <td>0.66</td>\n",
       "      <td>0.02</td>\n",
       "      <td>0.13</td>\n",
       "      <td>0.00</td>\n",
       "      <td>0.147118</td>\n",
       "    </tr>\n",
       "    <tr>\n",
       "      <th>1461</th>\n",
       "      <td>49</td>\n",
       "      <td>0.01</td>\n",
       "      <td>1.00</td>\n",
       "      <td>0.00</td>\n",
       "      <td>0.98</td>\n",
       "      <td>0.03</td>\n",
       "      <td>0.04</td>\n",
       "      <td>0.69</td>\n",
       "      <td>0.56</td>\n",
       "      <td>0.31</td>\n",
       "      <td>...</td>\n",
       "      <td>0.00</td>\n",
       "      <td>0.04</td>\n",
       "      <td>0.82</td>\n",
       "      <td>0.69</td>\n",
       "      <td>0.80</td>\n",
       "      <td>0.77</td>\n",
       "      <td>0.02</td>\n",
       "      <td>0.16</td>\n",
       "      <td>0.09</td>\n",
       "      <td>0.119241</td>\n",
       "    </tr>\n",
       "  </tbody>\n",
       "</table>\n",
       "<p>5 rows × 99 columns</p>\n",
       "</div>"
      ],
      "text/plain": [
       "      state  population  householdsize  racepctblack  racePctWhite  \\\n",
       "1594     34        0.06           0.49          0.27          0.69   \n",
       "318      39        0.00           0.24          0.02          0.96   \n",
       "992      37        0.00           0.32          0.31          0.74   \n",
       "465       8        0.00           0.36          0.03          0.94   \n",
       "1461     49        0.01           1.00          0.00          0.98   \n",
       "\n",
       "      racePctAsian  racePctHisp  agePct12t21  agePct12t29  agePct16t24  ...  \\\n",
       "1594          0.09         0.19         0.35         0.42         0.26  ...   \n",
       "318           0.06         0.03         0.27         0.37         0.24  ...   \n",
       "992           0.02         0.02         0.33         0.44         0.29  ...   \n",
       "465           0.02         0.14         0.32         0.33         0.19  ...   \n",
       "1461          0.03         0.04         0.69         0.56         0.31  ...   \n",
       "\n",
       "      NumStreet  PctForeignBorn  PctBornSameState  PctSameHouse85  \\\n",
       "1594       0.01            0.31              0.48            0.64   \n",
       "318        0.00            0.25              0.77            0.86   \n",
       "992        0.00            0.03              0.83            0.63   \n",
       "465        0.00            0.05              0.46            0.46   \n",
       "1461       0.00            0.04              0.82            0.69   \n",
       "\n",
       "      PctSameCity85  PctSameState85  LandArea  PopDens  PctUsePubTrans  \\\n",
       "1594           0.61            0.69      0.07     0.15            0.22   \n",
       "318            0.97            0.92      0.01     0.23            0.23   \n",
       "992            0.78            0.79      0.02     0.12            0.02   \n",
       "465            0.54            0.66      0.02     0.13            0.00   \n",
       "1461           0.80            0.77      0.02     0.16            0.09   \n",
       "\n",
       "        y_pred  \n",
       "1594  0.222014  \n",
       "318   0.100273  \n",
       "992   0.308815  \n",
       "465   0.147118  \n",
       "1461  0.119241  \n",
       "\n",
       "[5 rows x 99 columns]"
      ]
     },
     "execution_count": 495,
     "metadata": {},
     "output_type": "execute_result"
    }
   ],
   "source": [
    "df.head()"
   ]
  },
  {
   "cell_type": "code",
   "execution_count": 496,
   "id": "baa16778",
   "metadata": {},
   "outputs": [
    {
     "data": {
      "text/plain": [
       "<AxesSubplot:>"
      ]
     },
     "execution_count": 496,
     "metadata": {},
     "output_type": "execute_result"
    },
    {
     "data": {
      "image/png": "[encoded data removed]",
      "text/plain": [
       "<Figure size 1152x720 with 1 Axes>"
      ]
     },
     "metadata": {
      "needs_background": "light"
     },
     "output_type": "display_data"
    }
   ],
   "source": [
    "plt.figure(figsize = (16,10));\n",
    "df.corr()['y_pred'].plot()"
   ]
  },
  {
   "cell_type": "code",
   "execution_count": 497,
   "id": "2be9979b",
   "metadata": {},
   "outputs": [
    {
     "data": {
      "text/plain": [
       "<Figure size 1152x720 with 0 Axes>"
      ]
     },
     "metadata": {},
     "output_type": "display_data"
    },
    {
     "data": {
      "image/png": "[encoded data removed]",
      "text/plain": [
       "<Figure size 432x288 with 1 Axes>"
      ]
     },
     "metadata": {
      "needs_background": "light"
     },
     "output_type": "display_data"
    }
   ],
   "source": [
    "data = pd.DataFrame(ws.T,columns=list(x_train.columns)).T\n",
    "plt.figure(figsize = (16,10))\n",
    "data.plot();"
   ]
  },
  {
   "cell_type": "code",
   "execution_count": 498,
   "id": "738c51fe",
   "metadata": {},
   "outputs": [],
   "source": [
    "from sklearn.linear_model import LinearRegression\n",
    "lr = LinearRegression()"
   ]
  },
  {
   "cell_type": "code",
   "execution_count": 499,
   "id": "e75a0fbe",
   "metadata": {},
   "outputs": [],
   "source": [
    "from sklearn.model_selection import KFold\n",
    "from sklearn.model_selection import cross_val_score"
   ]
  },
  {
   "cell_type": "code",
   "execution_count": 500,
   "id": "b449b70d",
   "metadata": {
    "scrolled": false
   },
   "outputs": [
    {
     "name": "stdout",
     "output_type": "stream",
     "text": [
      "[0.1477015  0.111358   0.1285153  0.14395786 0.13821979 0.14042417\n",
      " 0.14909716 0.12434912 0.12355891 0.15223731]\n"
     ]
    }
   ],
   "source": [
    "cv = KFold(n_splits=10, random_state=1, shuffle=True)\n",
    "print(-1*cross_val_score(lr, x_train, y_train, scoring='neg_root_mean_squared_error', cv=cv, n_jobs=-1))"
   ]
  },
  {
   "cell_type": "markdown",
   "id": "4b142aaa",
   "metadata": {},
   "source": [
    "0.126 vs smallest rmse of 0.111 (small difference, slightly better)"
   ]
  },
  {
   "cell_type": "code",
   "execution_count": 501,
   "id": "c13f2f32",
   "metadata": {},
   "outputs": [],
   "source": [
    "#Question 1(c)\n",
    "from sklearn import feature_selection"
   ]
  },
  {
   "cell_type": "code",
   "execution_count": null,
   "id": "247a2f77",
   "metadata": {},
   "outputs": [],
   "source": [
    "# fs = feature_selection.SelectPercentile(feature_selection.f_regression, percentile=30)\n",
    "# x_train_fs = fs.fit_transform(x_train, y_train)"
   ]
  },
  {
   "cell_type": "code",
   "execution_count": 502,
   "id": "bd7df232",
   "metadata": {},
   "outputs": [],
   "source": [
    "from sklearn import model_selection\n",
    "from sklearn.linear_model import LinearRegression\n",
    "import numpy as np"
   ]
  },
  {
   "cell_type": "code",
   "execution_count": 503,
   "id": "f05c99d5",
   "metadata": {
    "scrolled": true
   },
   "outputs": [
    {
     "name": "stdout",
     "output_type": "stream",
     "text": [
      "1 -0.11248639351171645\n",
      "6 -0.1013625524556802\n",
      "11 -0.101508709723509\n",
      "16 -0.1010376088316293\n",
      "21 -0.09839040692427371\n",
      "26 -0.09625161088708392\n",
      "31 -0.09630403156985567\n",
      "36 -0.09547844819798205\n",
      "41 -0.09544221858116658\n",
      "46 -0.09587587149953249\n",
      "51 -0.09629495931627736\n",
      "56 -0.09654060644909987\n",
      "61 -0.09662160822890485\n",
      "66 -0.09686496377553051\n",
      "71 -0.09718269887509014\n",
      "76 -0.09646245138619773\n",
      "81 -0.0968532907069389\n",
      "86 -0.09672715515885308\n",
      "91 -0.09666889671669866\n",
      "96 -0.09632068114569628\n",
      "8\n",
      "Optimal percentile of features:41 \n",
      "\n",
      "Optimal number of features:40 \n",
      "\n"
     ]
    },
    {
     "data": {
      "text/plain": [
       "[<matplotlib.lines.Line2D at 0x7f85695cd670>]"
      ]
     },
     "execution_count": 503,
     "metadata": {},
     "output_type": "execute_result"
    },
    {
     "data": {
      "image/png": "[encoded data removed]",
      "text/plain": [
       "<Figure size 432x288 with 1 Axes>"
      ]
     },
     "metadata": {
      "needs_background": "light"
     },
     "output_type": "display_data"
    }
   ],
   "source": [
    "reg = LinearRegression()\n",
    "\n",
    "percentiles = range(1, 100, 5)\n",
    "results = []\n",
    "for i in range(1, 100, 5):\n",
    "    fs = feature_selection.SelectPercentile(feature_selection.f_regression, percentile=i)\n",
    "    x_train_fs = fs.fit_transform(x_train, y_train)\n",
    "    scores = model_selection.cross_val_score(reg, x_train_fs, y_train, cv=5, scoring = 'neg_mean_absolute_error')\n",
    "    print (i,scores.mean())\n",
    "    results = np.append(results, scores.mean())\n",
    "\n",
    "optimal_percentile = np.where(results == results.max())[0]\n",
    "print(optimal_percentile[0])\n",
    "print (\"Optimal percentile of features:{0}\".format(percentiles[optimal_percentile[0]]), \"\\n\")\n",
    "optimal_num_features = int(percentiles[optimal_percentile[0]]*len(x.columns)/100)\n",
    "print (\"Optimal number of features:{0}\".format(optimal_num_features), \"\\n\")\n",
    "\n",
    "# Plot percentile of features VS. cross-validation scores\n",
    "import pylab as pl\n",
    "pl.figure()\n",
    "pl.xlabel(\"Percentage of features selected\")\n",
    "pl.ylabel(\"Cross validation mean absolute error\")\n",
    "pl.plot(percentiles,results)"
   ]
  },
  {
   "cell_type": "markdown",
   "id": "fda30280",
   "metadata": {},
   "source": [
    "From the above we can see the cross validation mean absolute error plotted aginst the percentage of features selected. From this plot we can see that the idea number of features selected would be at around 40 features as this is where the cv mean absolute error is the lowest, compared to the rest. After 40 features the error seems to slightly increase again, making them not ideal percentage of features to be selected. "
   ]
  },
  {
   "cell_type": "code",
   "execution_count": 504,
   "id": "4b159f0a",
   "metadata": {},
   "outputs": [],
   "source": [
    "# Question 1(d)\n",
    "from sklearn.model_selection import KFold\n",
    "from sklearn.metrics import mean_absolute_error\n",
    "def calc_params(X, y, clf, param_values, param_name, K):\n",
    "    \n",
    "    # Convert input to Numpy arrays\n",
    "    X = np.array(X)\n",
    "    y = np.array(y)\n",
    "\n",
    "    # initialize training and testing scores with zeros\n",
    "    train_scores = np.zeros(len(param_values))\n",
    "    test_scores = np.zeros(len(param_values))\n",
    "    \n",
    "    # iterate over the different parameter values\n",
    "    for i, param_value in enumerate(param_values):\n",
    "        print (param_name, ' = ', param_value)\n",
    "        \n",
    "        # set classifier parameters\n",
    "        clf.set_params(**{param_name:param_value})\n",
    "        \n",
    "        # initialize the K scores obtained for each fold\n",
    "        k_train_scores = np.zeros(K)\n",
    "        k_test_scores = np.zeros(K)\n",
    "        \n",
    "        # create KFold cross validation\n",
    "        #cv = KFold(len(X), K, shuffle=True, random_state=0)\n",
    "        \n",
    "        cv = KFold(n_splits=K)\n",
    "        cv.get_n_splits(X) \n",
    "        cv = KFold(n_splits=K,random_state=None, shuffle=False)\n",
    "        \n",
    "        # iterate over the K folds\n",
    "        for j, (train, test) in enumerate(cv.split(X)):\n",
    "            # fit the regression in the corresponding fold\n",
    "            # and obtain the corresponding mae scores on train and test sets\n",
    "            clf.fit([X[k] for k in train], y[train])\n",
    "            k_train_scores[j] = mean_absolute_error(clf.predict([X[k] for k in train]), y[train])\n",
    "            k_test_scores[j] = mean_absolute_error(clf.predict([X[k] for k in test]), y[test])\n",
    "            \n",
    "        # store the mean of the K fold scores\n",
    "        train_scores[i] = np.mean(k_train_scores)\n",
    "        test_scores[i] = np.mean(k_test_scores)\n",
    "       \n",
    "    # plot the training and testing scores in a log scale\n",
    "    plt.plot(param_values, train_scores, label='Train', alpha=0.4, lw=2, c='b')\n",
    "    plt.plot(param_values, test_scores, label='X-Val', alpha=0.4, lw=2, c='g')\n",
    "    plt.legend(loc=7)\n",
    "    plt.xlabel(param_name + \" values\")\n",
    "    plt.ylabel(\"MAE\")\n",
    "\n",
    "    # return the training and testing scores on each parameter value\n",
    "    return train_scores, test_scores"
   ]
  },
  {
   "cell_type": "code",
   "execution_count": 505,
   "id": "818e531d",
   "metadata": {},
   "outputs": [
    {
     "name": "stdout",
     "output_type": "stream",
     "text": [
      "alpha  =  0.0\n"
     ]
    },
    {
     "name": "stderr",
     "output_type": "stream",
     "text": [
      "/var/folders/2m/jcjlh17n5tzctdvfqpkgtx3w0000gn/T/ipykernel_64243/2915930358.py:36: UserWarning: With alpha=0, this algorithm does not converge well. You are advised to use the LinearRegression estimator\n",
      "  clf.fit([X[k] for k in train], y[train])\n",
      "/Users/shreyasravi/opt/anaconda3/lib/python3.9/site-packages/sklearn/linear_model/_coordinate_descent.py:530: UserWarning: Coordinate descent with no regularization may lead to unexpected results and is discouraged.\n",
      "  model = cd_fast.enet_coordinate_descent(\n",
      "/Users/shreyasravi/opt/anaconda3/lib/python3.9/site-packages/sklearn/linear_model/_coordinate_descent.py:530: ConvergenceWarning: Objective did not converge. You might want to increase the number of iterations. Duality gap: 10.263362747411104, tolerance: 0.006965547899686525\n",
      "  model = cd_fast.enet_coordinate_descent(\n",
      "/var/folders/2m/jcjlh17n5tzctdvfqpkgtx3w0000gn/T/ipykernel_64243/2915930358.py:36: UserWarning: With alpha=0, this algorithm does not converge well. You are advised to use the LinearRegression estimator\n",
      "  clf.fit([X[k] for k in train], y[train])\n",
      "/Users/shreyasravi/opt/anaconda3/lib/python3.9/site-packages/sklearn/linear_model/_coordinate_descent.py:530: UserWarning: Coordinate descent with no regularization may lead to unexpected results and is discouraged.\n",
      "  model = cd_fast.enet_coordinate_descent(\n",
      "/Users/shreyasravi/opt/anaconda3/lib/python3.9/site-packages/sklearn/linear_model/_coordinate_descent.py:530: ConvergenceWarning: Objective did not converge. You might want to increase the number of iterations. Duality gap: 10.333234535272616, tolerance: 0.006836086543887149\n",
      "  model = cd_fast.enet_coordinate_descent(\n",
      "/var/folders/2m/jcjlh17n5tzctdvfqpkgtx3w0000gn/T/ipykernel_64243/2915930358.py:36: UserWarning: With alpha=0, this algorithm does not converge well. You are advised to use the LinearRegression estimator\n",
      "  clf.fit([X[k] for k in train], y[train])\n",
      "/Users/shreyasravi/opt/anaconda3/lib/python3.9/site-packages/sklearn/linear_model/_coordinate_descent.py:530: UserWarning: Coordinate descent with no regularization may lead to unexpected results and is discouraged.\n",
      "  model = cd_fast.enet_coordinate_descent(\n",
      "/Users/shreyasravi/opt/anaconda3/lib/python3.9/site-packages/sklearn/linear_model/_coordinate_descent.py:530: ConvergenceWarning: Objective did not converge. You might want to increase the number of iterations. Duality gap: 9.941448044741072, tolerance: 0.006472484098746084\n",
      "  model = cd_fast.enet_coordinate_descent(\n",
      "/var/folders/2m/jcjlh17n5tzctdvfqpkgtx3w0000gn/T/ipykernel_64243/2915930358.py:36: UserWarning: With alpha=0, this algorithm does not converge well. You are advised to use the LinearRegression estimator\n",
      "  clf.fit([X[k] for k in train], y[train])\n",
      "/Users/shreyasravi/opt/anaconda3/lib/python3.9/site-packages/sklearn/linear_model/_coordinate_descent.py:530: UserWarning: Coordinate descent with no regularization may lead to unexpected results and is discouraged.\n",
      "  model = cd_fast.enet_coordinate_descent(\n",
      "/Users/shreyasravi/opt/anaconda3/lib/python3.9/site-packages/sklearn/linear_model/_coordinate_descent.py:530: ConvergenceWarning: Objective did not converge. You might want to increase the number of iterations. Duality gap: 9.761558288359556, tolerance: 0.006823809373040753\n",
      "  model = cd_fast.enet_coordinate_descent(\n",
      "/var/folders/2m/jcjlh17n5tzctdvfqpkgtx3w0000gn/T/ipykernel_64243/2915930358.py:36: UserWarning: With alpha=0, this algorithm does not converge well. You are advised to use the LinearRegression estimator\n",
      "  clf.fit([X[k] for k in train], y[train])\n",
      "/Users/shreyasravi/opt/anaconda3/lib/python3.9/site-packages/sklearn/linear_model/_coordinate_descent.py:530: UserWarning: Coordinate descent with no regularization may lead to unexpected results and is discouraged.\n",
      "  model = cd_fast.enet_coordinate_descent(\n",
      "/Users/shreyasravi/opt/anaconda3/lib/python3.9/site-packages/sklearn/linear_model/_coordinate_descent.py:530: ConvergenceWarning: Objective did not converge. You might want to increase the number of iterations. Duality gap: 9.99327030515808, tolerance: 0.006677588934169277\n",
      "  model = cd_fast.enet_coordinate_descent(\n"
     ]
    },
    {
     "name": "stdout",
     "output_type": "stream",
     "text": [
      "alpha  =  0.1\n",
      "alpha  =  0.2\n",
      "alpha  =  0.30000000000000004\n",
      "alpha  =  0.4\n",
      "alpha  =  0.5\n",
      "alpha  =  0.6000000000000001\n",
      "alpha  =  0.7000000000000001\n",
      "alpha  =  0.8\n",
      "alpha  =  0.9\n",
      "alpha  =  1.0\n"
     ]
    },
    {
     "data": {
      "image/png": "[encoded data removed]",
      "text/plain": [
       "<Figure size 432x288 with 1 Axes>"
      ]
     },
     "metadata": {
      "needs_background": "light"
     },
     "output_type": "display_data"
    }
   ],
   "source": [
    "from sklearn import linear_model\n",
    "\n",
    "lasso = linear_model.Lasso()\n",
    "alpha = np.linspace(0.0, 1.0, 11)\n",
    "\n",
    "ridge = linear_model.Ridge()\n",
    "\n",
    "train_scores, test_scores = calc_params(x_train, y_train, lasso, alpha, 'alpha', 5)"
   ]
  },
  {
   "cell_type": "code",
   "execution_count": 506,
   "id": "03cdb141",
   "metadata": {},
   "outputs": [
    {
     "name": "stdout",
     "output_type": "stream",
     "text": [
      "alpha  =  1.0\n",
      "alpha  =  12.0\n",
      "alpha  =  23.0\n",
      "alpha  =  34.0\n",
      "alpha  =  45.0\n",
      "alpha  =  56.0\n",
      "alpha  =  67.0\n",
      "alpha  =  78.0\n",
      "alpha  =  89.0\n",
      "alpha  =  100.0\n"
     ]
    },
    {
     "data": {
      "image/png": "[encoded data removed]",
      "text/plain": [
       "<Figure size 432x288 with 1 Axes>"
      ]
     },
     "metadata": {
      "needs_background": "light"
     },
     "output_type": "display_data"
    }
   ],
   "source": [
    "alpha = np.linspace(1,100,10)\n",
    "train_scores, test_scores = calc_params(x_train, y_train, ridge, alpha, 'alpha', 5)"
   ]
  },
  {
   "cell_type": "markdown",
   "id": "ecf2eac8",
   "metadata": {},
   "source": [
    "In the above plot we can see that the mean absolute error icreases with an increase in alpha value for both the training set and the validation set. We can see that the MAE for both train set and X-Val are smallest at alpha = 1. "
   ]
  },
  {
   "cell_type": "code",
   "execution_count": 507,
   "id": "dd05905d",
   "metadata": {
    "scrolled": true
   },
   "outputs": [
    {
     "name": "stderr",
     "output_type": "stream",
     "text": [
      "/var/folders/2m/jcjlh17n5tzctdvfqpkgtx3w0000gn/T/ipykernel_64243/750423391.py:3: UserWarning: With alpha=0, this algorithm does not converge well. You are advised to use the LinearRegression estimator\n",
      "  lasso1.fit(x_train, y_train)\n",
      "/Users/shreyasravi/opt/anaconda3/lib/python3.9/site-packages/sklearn/linear_model/_coordinate_descent.py:530: UserWarning: Coordinate descent with no regularization may lead to unexpected results and is discouraged.\n",
      "  model = cd_fast.enet_coordinate_descent(\n",
      "/Users/shreyasravi/opt/anaconda3/lib/python3.9/site-packages/sklearn/linear_model/_coordinate_descent.py:530: ConvergenceWarning: Objective did not converge. You might want to increase the number of iterations. Duality gap: 12.774918597227424, tolerance: 0.008445817278996867\n",
      "  model = cd_fast.enet_coordinate_descent(\n"
     ]
    },
    {
     "data": {
      "text/plain": [
       "Ridge(alpha=1)"
      ]
     },
     "execution_count": 507,
     "metadata": {},
     "output_type": "execute_result"
    }
   ],
   "source": [
    "lasso1 = linear_model.Lasso(alpha=0)\n",
    "ridge1 = linear_model.Ridge(alpha=1)\n",
    "lasso1.fit(x_train, y_train)\n",
    "ridge1.fit(x_train, y_train)"
   ]
  },
  {
   "cell_type": "code",
   "execution_count": 508,
   "id": "b14e2383",
   "metadata": {},
   "outputs": [],
   "source": [
    "lasso1_pred = lasso1.predict(x_test)\n",
    "ridge1_pred = ridge1.predict(x_test)"
   ]
  },
  {
   "cell_type": "code",
   "execution_count": 509,
   "id": "920e46c3",
   "metadata": {},
   "outputs": [],
   "source": [
    "# Question 1 (e)\n",
    "from sklearn.linear_model import SGDRegressor\n",
    "from sklearn.preprocessing import StandardScaler\n",
    "x_sgd_train, x_sgd_test, y_sgd_train, y_sgd_test = train_test_split(x, y, test_size=0.20, random_state=0)"
   ]
  },
  {
   "cell_type": "code",
   "execution_count": 510,
   "id": "3dd0df09",
   "metadata": {
    "scrolled": true
   },
   "outputs": [
    {
     "data": {
      "text/plain": [
       "StandardScaler()"
      ]
     },
     "execution_count": 510,
     "metadata": {},
     "output_type": "execute_result"
    }
   ],
   "source": [
    "# performing scaling \n",
    "scaler = StandardScaler()\n",
    "scaler.fit(x_sgd_train, y_sgd_train)"
   ]
  },
  {
   "cell_type": "code",
   "execution_count": 511,
   "id": "033fcb00",
   "metadata": {},
   "outputs": [],
   "source": [
    "# fitting SGD model \n",
    "sgd = SGDRegressor()\n",
    "sgd = sgd.fit(x_sgd_train, y_sgd_train)"
   ]
  },
  {
   "cell_type": "code",
   "execution_count": 512,
   "id": "55e753f8",
   "metadata": {},
   "outputs": [],
   "source": [
    "from sklearn.metrics import accuracy_score"
   ]
  },
  {
   "cell_type": "code",
   "execution_count": 513,
   "id": "9e09f158",
   "metadata": {
    "scrolled": true
   },
   "outputs": [
    {
     "data": {
      "text/plain": [
       "GridSearchCV(cv=5, estimator=SGDRegressor(), n_jobs=-1,\n",
       "             param_grid={'alpha': [0.0001, 0.001, 0.01, 0.1, 1, 10],\n",
       "                         'penalty': ['l1', 'l2']})"
      ]
     },
     "execution_count": 513,
     "metadata": {},
     "output_type": "execute_result"
    }
   ],
   "source": [
    "# using GridSearchCV \n",
    "from sklearn.model_selection import GridSearchCV\n",
    "parameters = {\n",
    "    'alpha': [0.0001, 0.001, 0.01, 0.1, 1, 10],\n",
    "    'penalty': ['l1', 'l2']\n",
    "}\n",
    "\n",
    "sgd2 = SGDRegressor()\n",
    "clf = GridSearchCV(sgd2, parameters, cv=5, n_jobs=-1)\n",
    "clf.fit(x_sgd_train, y_sgd_train)\n"
   ]
  },
  {
   "cell_type": "code",
   "execution_count": 514,
   "id": "411d6c02",
   "metadata": {
    "scrolled": false
   },
   "outputs": [
    {
     "data": {
      "text/plain": [
       "SGDRegressor(alpha=10, penalty='l1')"
      ]
     },
     "execution_count": 514,
     "metadata": {},
     "output_type": "execute_result"
    }
   ],
   "source": [
    "best_estimator=clf.best_estimator_\n",
    "best_estimator\n",
    "# no penalty mentioned therefore we assume it picks the default which is l2"
   ]
  },
  {
   "cell_type": "code",
   "execution_count": 515,
   "id": "435457c5",
   "metadata": {},
   "outputs": [],
   "source": [
    "sgd3 = SGDRegressor(alpha=10, penalty='l2')\n",
    "sgd3 = sgd3.fit(x_sgd_test, y_sgd_test)"
   ]
  },
  {
   "cell_type": "code",
   "execution_count": 516,
   "id": "291c444a",
   "metadata": {},
   "outputs": [],
   "source": [
    "sgd3_pred=sgd3.predict(x_sgd_test)"
   ]
  },
  {
   "cell_type": "code",
   "execution_count": 517,
   "id": "9c954d9c",
   "metadata": {},
   "outputs": [
    {
     "data": {
      "text/plain": [
       "0.3102671399899244"
      ]
     },
     "execution_count": 517,
     "metadata": {},
     "output_type": "execute_result"
    }
   ],
   "source": [
    "metrics.mean_squared_error(y_sgd_train, sgd3.predict(x_sgd_train))**0.5 \n",
    "#train rmse "
   ]
  },
  {
   "cell_type": "code",
   "execution_count": 518,
   "id": "03560c3d",
   "metadata": {
    "scrolled": false
   },
   "outputs": [
    {
     "data": {
      "text/plain": [
       "0.321444544612878"
      ]
     },
     "execution_count": 518,
     "metadata": {},
     "output_type": "execute_result"
    }
   ],
   "source": [
    "from sklearn import metrics\n",
    "metrics.mean_squared_error(y_sgd_test, sgd3_pred)**0.5 \n",
    "#test rmse "
   ]
  },
  {
   "cell_type": "code",
   "execution_count": 519,
   "id": "e0f5c22b",
   "metadata": {
    "scrolled": true
   },
   "outputs": [
    {
     "name": "stdout",
     "output_type": "stream",
     "text": [
      "l1_ratio  =  0.0\n",
      "l1_ratio  =  0.1\n",
      "l1_ratio  =  0.2\n",
      "l1_ratio  =  0.30000000000000004\n",
      "l1_ratio  =  0.4\n",
      "l1_ratio  =  0.5\n",
      "l1_ratio  =  0.6000000000000001\n",
      "l1_ratio  =  0.7000000000000001\n",
      "l1_ratio  =  0.8\n",
      "l1_ratio  =  0.9\n",
      "l1_ratio  =  1.0\n"
     ]
    },
    {
     "data": {
      "image/png": "[encoded data removed]",
      "text/plain": [
       "<Figure size 432x288 with 1 Axes>"
      ]
     },
     "metadata": {
      "needs_background": "light"
     },
     "output_type": "display_data"
    }
   ],
   "source": [
    "sgd_1 = SGDRegressor(alpha=10, penalty='l2')\n",
    "l1_ratio = np.linspace(0.0, 1.0, 11)\n",
    "train_scores, test_scores = calc_params(x_sgd_train, y_sgd_train, sgd_1, l1_ratio, 'l1_ratio', K=5)"
   ]
  },
  {
   "cell_type": "code",
   "execution_count": 520,
   "id": "3be2cbb5",
   "metadata": {},
   "outputs": [
    {
     "name": "stdout",
     "output_type": "stream",
     "text": [
      "[0.1870914  0.16584321 0.27033325 0.20052739 0.16093014 0.15874065\n",
      " 0.16921215 0.16828207 0.17644492 0.16853526 0.1679039 ]\n"
     ]
    }
   ],
   "source": [
    "print(train_scores)"
   ]
  },
  {
   "cell_type": "markdown",
   "id": "61655cb4",
   "metadata": {},
   "source": [
    "0.2 seems to have the lowest mean absolute error which mean it would be the best choice for the l1_ratio value"
   ]
  },
  {
   "cell_type": "code",
   "execution_count": 521,
   "id": "9c84b465",
   "metadata": {},
   "outputs": [],
   "source": [
    "import kMeans"
   ]
  },
  {
   "cell_type": "code",
   "execution_count": 522,
   "id": "c6ff1ae5",
   "metadata": {},
   "outputs": [],
   "source": [
    "import numpy as np"
   ]
  },
  {
   "cell_type": "code",
   "execution_count": 523,
   "id": "c8a86bb7",
   "metadata": {
    "scrolled": true
   },
   "outputs": [
    {
     "data": {
      "text/plain": [
       "(2500, 2)"
      ]
     },
     "execution_count": 523,
     "metadata": {},
     "output_type": "execute_result"
    }
   ],
   "source": [
    "# question 2\n",
    "classes = pd.read_csv('classes.txt', header=None, skiprows=1, delim_whitespace=True)\n",
    "terms = pd.read_csv('terms.txt',header=None)\n",
    "matrix = pd.read_csv('matrix.txt', header=None)\n",
    "classes.shape"
   ]
  },
  {
   "cell_type": "code",
   "execution_count": 524,
   "id": "d642a955",
   "metadata": {},
   "outputs": [
    {
     "data": {
      "text/plain": [
       "(9328, 2500)"
      ]
     },
     "execution_count": 524,
     "metadata": {},
     "output_type": "execute_result"
    }
   ],
   "source": [
    "matrix.shape"
   ]
  },
  {
   "cell_type": "code",
   "execution_count": 525,
   "id": "209b3acc",
   "metadata": {
    "scrolled": false
   },
   "outputs": [
    {
     "data": {
      "text/plain": [
       "(2500, 2)"
      ]
     },
     "execution_count": 525,
     "metadata": {},
     "output_type": "execute_result"
    }
   ],
   "source": [
    "classes.shape"
   ]
  },
  {
   "cell_type": "code",
   "execution_count": 526,
   "id": "d505d510",
   "metadata": {},
   "outputs": [
    {
     "data": {
      "text/html": [
       "<div>\n",
       "<style scoped>\n",
       "    .dataframe tbody tr th:only-of-type {\n",
       "        vertical-align: middle;\n",
       "    }\n",
       "\n",
       "    .dataframe tbody tr th {\n",
       "        vertical-align: top;\n",
       "    }\n",
       "\n",
       "    .dataframe thead th {\n",
       "        text-align: right;\n",
       "    }\n",
       "</style>\n",
       "<table border=\"1\" class=\"dataframe\">\n",
       "  <thead>\n",
       "    <tr style=\"text-align: right;\">\n",
       "      <th></th>\n",
       "      <th>0</th>\n",
       "      <th>1</th>\n",
       "      <th>2</th>\n",
       "      <th>3</th>\n",
       "      <th>4</th>\n",
       "      <th>5</th>\n",
       "      <th>6</th>\n",
       "      <th>7</th>\n",
       "      <th>8</th>\n",
       "      <th>9</th>\n",
       "      <th>...</th>\n",
       "      <th>2490</th>\n",
       "      <th>2491</th>\n",
       "      <th>2492</th>\n",
       "      <th>2493</th>\n",
       "      <th>2494</th>\n",
       "      <th>2495</th>\n",
       "      <th>2496</th>\n",
       "      <th>2497</th>\n",
       "      <th>2498</th>\n",
       "      <th>2499</th>\n",
       "    </tr>\n",
       "  </thead>\n",
       "  <tbody>\n",
       "    <tr>\n",
       "      <th>0</th>\n",
       "      <td>0</td>\n",
       "      <td>0</td>\n",
       "      <td>0</td>\n",
       "      <td>0</td>\n",
       "      <td>0</td>\n",
       "      <td>0</td>\n",
       "      <td>0</td>\n",
       "      <td>0</td>\n",
       "      <td>0</td>\n",
       "      <td>0</td>\n",
       "      <td>...</td>\n",
       "      <td>0</td>\n",
       "      <td>0</td>\n",
       "      <td>0</td>\n",
       "      <td>0</td>\n",
       "      <td>0</td>\n",
       "      <td>0</td>\n",
       "      <td>0</td>\n",
       "      <td>0</td>\n",
       "      <td>0</td>\n",
       "      <td>0</td>\n",
       "    </tr>\n",
       "    <tr>\n",
       "      <th>1</th>\n",
       "      <td>0</td>\n",
       "      <td>0</td>\n",
       "      <td>0</td>\n",
       "      <td>0</td>\n",
       "      <td>0</td>\n",
       "      <td>0</td>\n",
       "      <td>0</td>\n",
       "      <td>0</td>\n",
       "      <td>0</td>\n",
       "      <td>0</td>\n",
       "      <td>...</td>\n",
       "      <td>0</td>\n",
       "      <td>0</td>\n",
       "      <td>0</td>\n",
       "      <td>0</td>\n",
       "      <td>0</td>\n",
       "      <td>0</td>\n",
       "      <td>0</td>\n",
       "      <td>0</td>\n",
       "      <td>0</td>\n",
       "      <td>0</td>\n",
       "    </tr>\n",
       "    <tr>\n",
       "      <th>2</th>\n",
       "      <td>0</td>\n",
       "      <td>0</td>\n",
       "      <td>0</td>\n",
       "      <td>0</td>\n",
       "      <td>0</td>\n",
       "      <td>0</td>\n",
       "      <td>0</td>\n",
       "      <td>0</td>\n",
       "      <td>0</td>\n",
       "      <td>0</td>\n",
       "      <td>...</td>\n",
       "      <td>0</td>\n",
       "      <td>0</td>\n",
       "      <td>0</td>\n",
       "      <td>0</td>\n",
       "      <td>0</td>\n",
       "      <td>0</td>\n",
       "      <td>0</td>\n",
       "      <td>0</td>\n",
       "      <td>0</td>\n",
       "      <td>0</td>\n",
       "    </tr>\n",
       "    <tr>\n",
       "      <th>3</th>\n",
       "      <td>0</td>\n",
       "      <td>0</td>\n",
       "      <td>0</td>\n",
       "      <td>0</td>\n",
       "      <td>0</td>\n",
       "      <td>0</td>\n",
       "      <td>0</td>\n",
       "      <td>0</td>\n",
       "      <td>0</td>\n",
       "      <td>0</td>\n",
       "      <td>...</td>\n",
       "      <td>0</td>\n",
       "      <td>0</td>\n",
       "      <td>0</td>\n",
       "      <td>0</td>\n",
       "      <td>0</td>\n",
       "      <td>0</td>\n",
       "      <td>0</td>\n",
       "      <td>0</td>\n",
       "      <td>0</td>\n",
       "      <td>0</td>\n",
       "    </tr>\n",
       "    <tr>\n",
       "      <th>4</th>\n",
       "      <td>0</td>\n",
       "      <td>0</td>\n",
       "      <td>0</td>\n",
       "      <td>0</td>\n",
       "      <td>0</td>\n",
       "      <td>0</td>\n",
       "      <td>0</td>\n",
       "      <td>0</td>\n",
       "      <td>0</td>\n",
       "      <td>0</td>\n",
       "      <td>...</td>\n",
       "      <td>0</td>\n",
       "      <td>0</td>\n",
       "      <td>0</td>\n",
       "      <td>0</td>\n",
       "      <td>0</td>\n",
       "      <td>0</td>\n",
       "      <td>0</td>\n",
       "      <td>0</td>\n",
       "      <td>0</td>\n",
       "      <td>0</td>\n",
       "    </tr>\n",
       "  </tbody>\n",
       "</table>\n",
       "<p>5 rows × 2500 columns</p>\n",
       "</div>"
      ],
      "text/plain": [
       "   0     1     2     3     4     5     6     7     8     9     ...  2490  \\\n",
       "0     0     0     0     0     0     0     0     0     0     0  ...     0   \n",
       "1     0     0     0     0     0     0     0     0     0     0  ...     0   \n",
       "2     0     0     0     0     0     0     0     0     0     0  ...     0   \n",
       "3     0     0     0     0     0     0     0     0     0     0  ...     0   \n",
       "4     0     0     0     0     0     0     0     0     0     0  ...     0   \n",
       "\n",
       "   2491  2492  2493  2494  2495  2496  2497  2498  2499  \n",
       "0     0     0     0     0     0     0     0     0     0  \n",
       "1     0     0     0     0     0     0     0     0     0  \n",
       "2     0     0     0     0     0     0     0     0     0  \n",
       "3     0     0     0     0     0     0     0     0     0  \n",
       "4     0     0     0     0     0     0     0     0     0  \n",
       "\n",
       "[5 rows x 2500 columns]"
      ]
     },
     "execution_count": 526,
     "metadata": {},
     "output_type": "execute_result"
    }
   ],
   "source": [
    "matrix.head()"
   ]
  },
  {
   "cell_type": "code",
   "execution_count": 527,
   "id": "78bf2be2",
   "metadata": {},
   "outputs": [],
   "source": [
    "# question 2(a)\n",
    "def cosine_sim(vec_a, vec_b):\n",
    "    return (np.dot(vec_a, vec_b)/(np.linalg.norm(vec_a) * np.linalg.norm(vec_b)))"
   ]
  },
  {
   "cell_type": "code",
   "execution_count": 528,
   "id": "e7fda32b",
   "metadata": {},
   "outputs": [],
   "source": [
    "def cosine_dis(vec_a, vec_b):\n",
    "    return 1-(np.dot(vec_a, vec_b)/(np.linalg.norm(vec_a) * np.linalg.norm(vec_b)))"
   ]
  },
  {
   "cell_type": "code",
   "execution_count": 529,
   "id": "1a4e0e38",
   "metadata": {},
   "outputs": [],
   "source": [
    "# question2(b)\n",
    "matrix_t = matrix.T\n",
    "matrix_t.columns = terms[0].tolist()\n",
    "x_train, x_test, y_train, y_test = train_test_split(matrix_t, classes[1], test_size=0.2)"
   ]
  },
  {
   "cell_type": "code",
   "execution_count": 530,
   "id": "068f5563",
   "metadata": {},
   "outputs": [
    {
     "data": {
      "text/plain": [
       "(2000, 9328)"
      ]
     },
     "execution_count": 530,
     "metadata": {},
     "output_type": "execute_result"
    }
   ],
   "source": [
    "x_train.shape"
   ]
  },
  {
   "cell_type": "code",
   "execution_count": 531,
   "id": "ad81d039",
   "metadata": {},
   "outputs": [
    {
     "data": {
      "text/plain": [
       "(2000,)"
      ]
     },
     "execution_count": 531,
     "metadata": {},
     "output_type": "execute_result"
    }
   ],
   "source": [
    "y_train.shape"
   ]
  },
  {
   "cell_type": "code",
   "execution_count": 532,
   "id": "5abbb5a0",
   "metadata": {},
   "outputs": [],
   "source": [
    "# define a function that would calculate IDF (from tf IDF)\n",
    "def inverse_docf(dataset):\n",
    "    N=float(dataset.shape[0])\n",
    "    nk=np.count_nonzero(dataset, axis=0).astype('float') # axis = 1 -> only counts column sum\n",
    "    idf = np.log(N/nk)\n",
    "    return idf"
   ]
  },
  {
   "cell_type": "code",
   "execution_count": 536,
   "id": "3faa3bb6",
   "metadata": {},
   "outputs": [
    {
     "name": "stderr",
     "output_type": "stream",
     "text": [
      "/var/folders/2m/jcjlh17n5tzctdvfqpkgtx3w0000gn/T/ipykernel_64243/1093838512.py:5: RuntimeWarning: divide by zero encountered in true_divide\n",
      "  idf = np.log(N/nk)\n"
     ]
    }
   ],
   "source": [
    "x_tfidf = x_train * inverse_docf(x_train)"
   ]
  },
  {
   "cell_type": "code",
   "execution_count": 537,
   "id": "c2236dc9",
   "metadata": {},
   "outputs": [
    {
     "data": {
      "text/plain": [
       "(2000, 9328)"
      ]
     },
     "execution_count": 537,
     "metadata": {},
     "output_type": "execute_result"
    }
   ],
   "source": [
    "x_tfidf.shape"
   ]
  },
  {
   "cell_type": "code",
   "execution_count": 538,
   "id": "adb44861",
   "metadata": {},
   "outputs": [],
   "source": [
    "x_tfidf.fillna(0.0, inplace=True)"
   ]
  },
  {
   "cell_type": "code",
   "execution_count": 539,
   "id": "16abbce7",
   "metadata": {},
   "outputs": [
    {
     "data": {
      "text/html": [
       "<div>\n",
       "<style scoped>\n",
       "    .dataframe tbody tr th:only-of-type {\n",
       "        vertical-align: middle;\n",
       "    }\n",
       "\n",
       "    .dataframe tbody tr th {\n",
       "        vertical-align: top;\n",
       "    }\n",
       "\n",
       "    .dataframe thead th {\n",
       "        text-align: right;\n",
       "    }\n",
       "</style>\n",
       "<table border=\"1\" class=\"dataframe\">\n",
       "  <thead>\n",
       "    <tr style=\"text-align: right;\">\n",
       "      <th></th>\n",
       "      <th>aa</th>\n",
       "      <th>aargh</th>\n",
       "      <th>aaron</th>\n",
       "      <th>aaronc</th>\n",
       "      <th>ab</th>\n",
       "      <th>abandon</th>\n",
       "      <th>abc</th>\n",
       "      <th>abid</th>\n",
       "      <th>abil</th>\n",
       "      <th>abl</th>\n",
       "      <th>...</th>\n",
       "      <th>zq</th>\n",
       "      <th>zr</th>\n",
       "      <th>zrb</th>\n",
       "      <th>zs</th>\n",
       "      <th>zu</th>\n",
       "      <th>zubov</th>\n",
       "      <th>zv</th>\n",
       "      <th>zw</th>\n",
       "      <th>zx</th>\n",
       "      <th>zz</th>\n",
       "    </tr>\n",
       "  </thead>\n",
       "  <tbody>\n",
       "    <tr>\n",
       "      <th>1626</th>\n",
       "      <td>0.0</td>\n",
       "      <td>0.0</td>\n",
       "      <td>0.0</td>\n",
       "      <td>0.0</td>\n",
       "      <td>0.0</td>\n",
       "      <td>0.0</td>\n",
       "      <td>0.0</td>\n",
       "      <td>0.0</td>\n",
       "      <td>0.0</td>\n",
       "      <td>0.000000</td>\n",
       "      <td>...</td>\n",
       "      <td>0.0</td>\n",
       "      <td>0.0</td>\n",
       "      <td>0.0</td>\n",
       "      <td>0.0</td>\n",
       "      <td>0.0</td>\n",
       "      <td>0.000000</td>\n",
       "      <td>0.0</td>\n",
       "      <td>0.0</td>\n",
       "      <td>0.0</td>\n",
       "      <td>0.0</td>\n",
       "    </tr>\n",
       "    <tr>\n",
       "      <th>1387</th>\n",
       "      <td>0.0</td>\n",
       "      <td>0.0</td>\n",
       "      <td>0.0</td>\n",
       "      <td>0.0</td>\n",
       "      <td>0.0</td>\n",
       "      <td>0.0</td>\n",
       "      <td>0.0</td>\n",
       "      <td>0.0</td>\n",
       "      <td>0.0</td>\n",
       "      <td>0.000000</td>\n",
       "      <td>...</td>\n",
       "      <td>0.0</td>\n",
       "      <td>0.0</td>\n",
       "      <td>0.0</td>\n",
       "      <td>0.0</td>\n",
       "      <td>0.0</td>\n",
       "      <td>0.000000</td>\n",
       "      <td>0.0</td>\n",
       "      <td>0.0</td>\n",
       "      <td>0.0</td>\n",
       "      <td>0.0</td>\n",
       "    </tr>\n",
       "    <tr>\n",
       "      <th>1186</th>\n",
       "      <td>0.0</td>\n",
       "      <td>0.0</td>\n",
       "      <td>0.0</td>\n",
       "      <td>0.0</td>\n",
       "      <td>0.0</td>\n",
       "      <td>0.0</td>\n",
       "      <td>0.0</td>\n",
       "      <td>0.0</td>\n",
       "      <td>0.0</td>\n",
       "      <td>0.000000</td>\n",
       "      <td>...</td>\n",
       "      <td>0.0</td>\n",
       "      <td>0.0</td>\n",
       "      <td>0.0</td>\n",
       "      <td>0.0</td>\n",
       "      <td>0.0</td>\n",
       "      <td>12.429216</td>\n",
       "      <td>0.0</td>\n",
       "      <td>0.0</td>\n",
       "      <td>0.0</td>\n",
       "      <td>0.0</td>\n",
       "    </tr>\n",
       "    <tr>\n",
       "      <th>2274</th>\n",
       "      <td>0.0</td>\n",
       "      <td>0.0</td>\n",
       "      <td>0.0</td>\n",
       "      <td>0.0</td>\n",
       "      <td>0.0</td>\n",
       "      <td>0.0</td>\n",
       "      <td>0.0</td>\n",
       "      <td>0.0</td>\n",
       "      <td>0.0</td>\n",
       "      <td>0.000000</td>\n",
       "      <td>...</td>\n",
       "      <td>0.0</td>\n",
       "      <td>0.0</td>\n",
       "      <td>0.0</td>\n",
       "      <td>0.0</td>\n",
       "      <td>0.0</td>\n",
       "      <td>0.000000</td>\n",
       "      <td>0.0</td>\n",
       "      <td>0.0</td>\n",
       "      <td>0.0</td>\n",
       "      <td>0.0</td>\n",
       "    </tr>\n",
       "    <tr>\n",
       "      <th>2001</th>\n",
       "      <td>0.0</td>\n",
       "      <td>0.0</td>\n",
       "      <td>0.0</td>\n",
       "      <td>0.0</td>\n",
       "      <td>0.0</td>\n",
       "      <td>0.0</td>\n",
       "      <td>0.0</td>\n",
       "      <td>0.0</td>\n",
       "      <td>0.0</td>\n",
       "      <td>0.000000</td>\n",
       "      <td>...</td>\n",
       "      <td>0.0</td>\n",
       "      <td>0.0</td>\n",
       "      <td>0.0</td>\n",
       "      <td>0.0</td>\n",
       "      <td>0.0</td>\n",
       "      <td>0.000000</td>\n",
       "      <td>0.0</td>\n",
       "      <td>0.0</td>\n",
       "      <td>0.0</td>\n",
       "      <td>0.0</td>\n",
       "    </tr>\n",
       "    <tr>\n",
       "      <th>...</th>\n",
       "      <td>...</td>\n",
       "      <td>...</td>\n",
       "      <td>...</td>\n",
       "      <td>...</td>\n",
       "      <td>...</td>\n",
       "      <td>...</td>\n",
       "      <td>...</td>\n",
       "      <td>...</td>\n",
       "      <td>...</td>\n",
       "      <td>...</td>\n",
       "      <td>...</td>\n",
       "      <td>...</td>\n",
       "      <td>...</td>\n",
       "      <td>...</td>\n",
       "      <td>...</td>\n",
       "      <td>...</td>\n",
       "      <td>...</td>\n",
       "      <td>...</td>\n",
       "      <td>...</td>\n",
       "      <td>...</td>\n",
       "      <td>...</td>\n",
       "    </tr>\n",
       "    <tr>\n",
       "      <th>1351</th>\n",
       "      <td>0.0</td>\n",
       "      <td>0.0</td>\n",
       "      <td>0.0</td>\n",
       "      <td>0.0</td>\n",
       "      <td>0.0</td>\n",
       "      <td>0.0</td>\n",
       "      <td>0.0</td>\n",
       "      <td>0.0</td>\n",
       "      <td>0.0</td>\n",
       "      <td>0.000000</td>\n",
       "      <td>...</td>\n",
       "      <td>0.0</td>\n",
       "      <td>0.0</td>\n",
       "      <td>0.0</td>\n",
       "      <td>0.0</td>\n",
       "      <td>0.0</td>\n",
       "      <td>0.000000</td>\n",
       "      <td>0.0</td>\n",
       "      <td>0.0</td>\n",
       "      <td>0.0</td>\n",
       "      <td>0.0</td>\n",
       "    </tr>\n",
       "    <tr>\n",
       "      <th>2259</th>\n",
       "      <td>0.0</td>\n",
       "      <td>0.0</td>\n",
       "      <td>0.0</td>\n",
       "      <td>0.0</td>\n",
       "      <td>0.0</td>\n",
       "      <td>0.0</td>\n",
       "      <td>0.0</td>\n",
       "      <td>0.0</td>\n",
       "      <td>0.0</td>\n",
       "      <td>0.000000</td>\n",
       "      <td>...</td>\n",
       "      <td>0.0</td>\n",
       "      <td>0.0</td>\n",
       "      <td>0.0</td>\n",
       "      <td>0.0</td>\n",
       "      <td>0.0</td>\n",
       "      <td>0.000000</td>\n",
       "      <td>0.0</td>\n",
       "      <td>0.0</td>\n",
       "      <td>0.0</td>\n",
       "      <td>0.0</td>\n",
       "    </tr>\n",
       "    <tr>\n",
       "      <th>1750</th>\n",
       "      <td>0.0</td>\n",
       "      <td>0.0</td>\n",
       "      <td>0.0</td>\n",
       "      <td>0.0</td>\n",
       "      <td>0.0</td>\n",
       "      <td>0.0</td>\n",
       "      <td>0.0</td>\n",
       "      <td>0.0</td>\n",
       "      <td>0.0</td>\n",
       "      <td>2.666429</td>\n",
       "      <td>...</td>\n",
       "      <td>0.0</td>\n",
       "      <td>0.0</td>\n",
       "      <td>0.0</td>\n",
       "      <td>0.0</td>\n",
       "      <td>0.0</td>\n",
       "      <td>0.000000</td>\n",
       "      <td>0.0</td>\n",
       "      <td>0.0</td>\n",
       "      <td>0.0</td>\n",
       "      <td>0.0</td>\n",
       "    </tr>\n",
       "    <tr>\n",
       "      <th>1178</th>\n",
       "      <td>0.0</td>\n",
       "      <td>0.0</td>\n",
       "      <td>0.0</td>\n",
       "      <td>0.0</td>\n",
       "      <td>0.0</td>\n",
       "      <td>0.0</td>\n",
       "      <td>0.0</td>\n",
       "      <td>0.0</td>\n",
       "      <td>0.0</td>\n",
       "      <td>0.000000</td>\n",
       "      <td>...</td>\n",
       "      <td>0.0</td>\n",
       "      <td>0.0</td>\n",
       "      <td>0.0</td>\n",
       "      <td>0.0</td>\n",
       "      <td>0.0</td>\n",
       "      <td>0.000000</td>\n",
       "      <td>0.0</td>\n",
       "      <td>0.0</td>\n",
       "      <td>0.0</td>\n",
       "      <td>0.0</td>\n",
       "    </tr>\n",
       "    <tr>\n",
       "      <th>1636</th>\n",
       "      <td>0.0</td>\n",
       "      <td>0.0</td>\n",
       "      <td>0.0</td>\n",
       "      <td>0.0</td>\n",
       "      <td>0.0</td>\n",
       "      <td>0.0</td>\n",
       "      <td>0.0</td>\n",
       "      <td>0.0</td>\n",
       "      <td>0.0</td>\n",
       "      <td>0.000000</td>\n",
       "      <td>...</td>\n",
       "      <td>0.0</td>\n",
       "      <td>0.0</td>\n",
       "      <td>0.0</td>\n",
       "      <td>0.0</td>\n",
       "      <td>0.0</td>\n",
       "      <td>0.000000</td>\n",
       "      <td>0.0</td>\n",
       "      <td>0.0</td>\n",
       "      <td>0.0</td>\n",
       "      <td>0.0</td>\n",
       "    </tr>\n",
       "  </tbody>\n",
       "</table>\n",
       "<p>2000 rows × 9328 columns</p>\n",
       "</div>"
      ],
      "text/plain": [
       "       aa  aargh  aaron  aaronc   ab  abandon  abc  abid  abil       abl  ...  \\\n",
       "1626  0.0    0.0    0.0     0.0  0.0      0.0  0.0   0.0   0.0  0.000000  ...   \n",
       "1387  0.0    0.0    0.0     0.0  0.0      0.0  0.0   0.0   0.0  0.000000  ...   \n",
       "1186  0.0    0.0    0.0     0.0  0.0      0.0  0.0   0.0   0.0  0.000000  ...   \n",
       "2274  0.0    0.0    0.0     0.0  0.0      0.0  0.0   0.0   0.0  0.000000  ...   \n",
       "2001  0.0    0.0    0.0     0.0  0.0      0.0  0.0   0.0   0.0  0.000000  ...   \n",
       "...   ...    ...    ...     ...  ...      ...  ...   ...   ...       ...  ...   \n",
       "1351  0.0    0.0    0.0     0.0  0.0      0.0  0.0   0.0   0.0  0.000000  ...   \n",
       "2259  0.0    0.0    0.0     0.0  0.0      0.0  0.0   0.0   0.0  0.000000  ...   \n",
       "1750  0.0    0.0    0.0     0.0  0.0      0.0  0.0   0.0   0.0  2.666429  ...   \n",
       "1178  0.0    0.0    0.0     0.0  0.0      0.0  0.0   0.0   0.0  0.000000  ...   \n",
       "1636  0.0    0.0    0.0     0.0  0.0      0.0  0.0   0.0   0.0  0.000000  ...   \n",
       "\n",
       "       zq   zr  zrb   zs   zu      zubov   zv   zw   zx   zz  \n",
       "1626  0.0  0.0  0.0  0.0  0.0   0.000000  0.0  0.0  0.0  0.0  \n",
       "1387  0.0  0.0  0.0  0.0  0.0   0.000000  0.0  0.0  0.0  0.0  \n",
       "1186  0.0  0.0  0.0  0.0  0.0  12.429216  0.0  0.0  0.0  0.0  \n",
       "2274  0.0  0.0  0.0  0.0  0.0   0.000000  0.0  0.0  0.0  0.0  \n",
       "2001  0.0  0.0  0.0  0.0  0.0   0.000000  0.0  0.0  0.0  0.0  \n",
       "...   ...  ...  ...  ...  ...        ...  ...  ...  ...  ...  \n",
       "1351  0.0  0.0  0.0  0.0  0.0   0.000000  0.0  0.0  0.0  0.0  \n",
       "2259  0.0  0.0  0.0  0.0  0.0   0.000000  0.0  0.0  0.0  0.0  \n",
       "1750  0.0  0.0  0.0  0.0  0.0   0.000000  0.0  0.0  0.0  0.0  \n",
       "1178  0.0  0.0  0.0  0.0  0.0   0.000000  0.0  0.0  0.0  0.0  \n",
       "1636  0.0  0.0  0.0  0.0  0.0   0.000000  0.0  0.0  0.0  0.0  \n",
       "\n",
       "[2000 rows x 9328 columns]"
      ]
     },
     "execution_count": 539,
     "metadata": {},
     "output_type": "execute_result"
    }
   ],
   "source": [
    "x_tfidf"
   ]
  },
  {
   "cell_type": "code",
   "execution_count": null,
   "id": "a2c6f4e0",
   "metadata": {},
   "outputs": [],
   "source": [
    "#question 2c"
   ]
  },
  {
   "cell_type": "code",
   "execution_count": 540,
   "id": "6f267de5",
   "metadata": {},
   "outputs": [],
   "source": [
    "centroids = []\n",
    "asess = []\n",
    "for k in [4,5,6,7,8]:\n",
    "    train_df = x_tfidf.to_numpy()\n",
    "    i, j = kMeans.kMeans(train_df, k, distMeas=cosine_dis)\n",
    "    centroids.append(i)\n",
    "    asess.append(j)"
   ]
  },
  {
   "cell_type": "code",
   "execution_count": 541,
   "id": "16c07094",
   "metadata": {},
   "outputs": [],
   "source": [
    "#question 2d\n",
    "def kMeans_predict(centroids, x):\n",
    "    y_pred =[]\n",
    "    min_dist = 1000000\n",
    "    for i in centroids:\n",
    "        if cosine_dis(np.logical_and(i,x))<min_dist:\n",
    "            min_dist = cosine_dis(i,x)\n",
    "            nearest_cent = i\n",
    "        return i, min_dist"
   ]
  },
  {
   "cell_type": "code",
   "execution_count": 542,
   "id": "afaa206c",
   "metadata": {
    "scrolled": true
   },
   "outputs": [
    {
     "data": {
      "text/plain": [
       "array([[0., 0., 0., ..., 0., 0., 0.],\n",
       "       [0., 0., 0., ..., 0., 0., 0.],\n",
       "       [0., 0., 0., ..., 0., 0., 0.],\n",
       "       ...,\n",
       "       [0., 0., 0., ..., 0., 0., 0.],\n",
       "       [0., 0., 0., ..., 0., 0., 0.],\n",
       "       [0., 0., 0., ..., 0., 0., 0.]])"
      ]
     },
     "execution_count": 542,
     "metadata": {},
     "output_type": "execute_result"
    }
   ],
   "source": [
    "train_df"
   ]
  },
  {
   "cell_type": "code",
   "execution_count": null,
   "id": "c439c43e",
   "metadata": {},
   "outputs": [],
   "source": [
    "metrics.homogeneity_score(kMeans_predict(centroids, x_tfidf))"
   ]
  },
  {
   "cell_type": "code",
   "execution_count": null,
   "id": "7b642e0b",
   "metadata": {},
   "outputs": [],
   "source": [
    "metrics.completeness_score(y_train, kMeans_predict(centroids, x_tfidf))"
   ]
  },
  {
   "cell_type": "code",
   "execution_count": 454,
   "id": "1ab22698",
   "metadata": {},
   "outputs": [
    {
     "name": "stderr",
     "output_type": "stream",
     "text": [
      "/var/folders/2m/jcjlh17n5tzctdvfqpkgtx3w0000gn/T/ipykernel_64243/1093838512.py:5: RuntimeWarning: divide by zero encountered in true_divide\n",
      "  idf = np.log(N/nk)\n"
     ]
    }
   ],
   "source": [
    "x_test_tfidf = x_test * inverse_docf(x_test)"
   ]
  },
  {
   "cell_type": "code",
   "execution_count": null,
   "id": "70637880",
   "metadata": {},
   "outputs": [],
   "source": [
    "#question 2e\n",
    "cent_test = []\n",
    "dist = []\n",
    "\n",
    "for i in x_test_tfidf:\n",
    "    a,b = kMeans_predict(centroids,i)\n",
    "    cent_test.append(a)\n",
    "    dist.append(b)\n",
    "    \n",
    "print(cent_test, dist)"
   ]
  }
 ],
 "metadata": {
  "kernelspec": {
   "display_name": "Python 3 (ipykernel)",
   "language": "python",
   "name": "python3"
  },
  "language_info": {
   "codemirror_mode": {
    "name": "ipython",
    "version": 3
   },
   "file_extension": ".py",
   "mimetype": "text/x-python",
   "name": "python",
   "nbconvert_exporter": "python",
   "pygments_lexer": "ipython3",
   "version": "3.9.7"
  }
 },
 "nbformat": 4,
 "nbformat_minor": 5
}
