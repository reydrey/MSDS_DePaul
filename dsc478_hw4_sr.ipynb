{
 "cells": [
  {
   "cell_type": "markdown",
   "id": "057f57fc",
   "metadata": {},
   "source": [
    "# Shreyas Ravi\n",
    "# DSC 478\n",
    "# Assignment 4"
   ]
  },
  {
   "cell_type": "code",
   "execution_count": null,
   "id": "c64cf560",
   "metadata": {},
   "outputs": [],
   "source": [
    "import numpy as np\n",
    "import pandas as pd"
   ]
  },
  {
   "cell_type": "markdown",
   "id": "64225c5b",
   "metadata": {},
   "source": [
    "# Question 1(a)"
   ]
  },
  {
   "cell_type": "code",
   "execution_count": 91,
   "id": "0a3350e8",
   "metadata": {},
   "outputs": [],
   "source": [
    "m_jokes_df=pd.read_csv('modified_jester_data.csv', header=None)"
   ]
  },
  {
   "cell_type": "code",
   "execution_count": 92,
   "id": "a42a4765",
   "metadata": {},
   "outputs": [],
   "source": [
    "dataMat=m_jokes_df.to_numpy()"
   ]
  },
  {
   "cell_type": "code",
   "execution_count": 93,
   "id": "10f5ac18",
   "metadata": {
    "scrolled": true
   },
   "outputs": [],
   "source": [
    "jokes_df = pd.read_csv('jokes.csv', header=None)"
   ]
  },
  {
   "cell_type": "code",
   "execution_count": 94,
   "id": "c4a380fb",
   "metadata": {},
   "outputs": [],
   "source": [
    "jokes = jokes_df.to_numpy()"
   ]
  },
  {
   "cell_type": "code",
   "execution_count": 95,
   "id": "2440dc08",
   "metadata": {},
   "outputs": [
    {
     "data": {
      "text/plain": [
       "(100, 2)"
      ]
     },
     "execution_count": 95,
     "metadata": {},
     "output_type": "execute_result"
    }
   ],
   "source": [
    "jokes.shape"
   ]
  },
  {
   "cell_type": "code",
   "execution_count": 96,
   "id": "7438391a",
   "metadata": {},
   "outputs": [
    {
     "data": {
      "text/plain": [
       "(1000, 100)"
      ]
     },
     "execution_count": 96,
     "metadata": {},
     "output_type": "execute_result"
    }
   ],
   "source": [
    "dataMat.shape"
   ]
  },
  {
   "cell_type": "markdown",
   "id": "03663a8a",
   "metadata": {},
   "source": [
    "# Question1(b)"
   ]
  },
  {
   "cell_type": "code",
   "execution_count": 97,
   "id": "6b90774b",
   "metadata": {},
   "outputs": [],
   "source": [
    "def svdEst(dataMat, user, simMeas, item):\n",
    "    n = shape(dataMat)[1]\n",
    "    simTotal = 0.0; ratSimTotal = 0.0\n",
    "    data=mat(dataMat)\n",
    "    U,Sigma,VT = la.svd(data)\n",
    "    Sig4 = mat(eye(4)*Sigma[:4]) #arrange Sig4 into a diagonal matrix\n",
    "    xformedItems = data.T * U[:,:4] * Sig4.I  #create transformed items\n",
    "    for j in range(n):\n",
    "        userRating = data[user,j]\n",
    "        if userRating == 0 or j==item: continue\n",
    "        similarity = simMeas(xformedItems[item,:].T,\\\n",
    "                             xformedItems[j,:].T)\n",
    "        #print 'the %d and %d similarity is: %f' % (item, j, similarity)\n",
    "        simTotal += similarity\n",
    "        ratSimTotal += similarity * userRating\n",
    "    if simTotal == 0: return 0\n",
    "    else: return ratSimTotal/simTotal"
   ]
  },
  {
   "cell_type": "code",
   "execution_count": 98,
   "id": "2499e9f5",
   "metadata": {},
   "outputs": [],
   "source": [
    "def standEst(dataMat, user, simMeas, item):\n",
    "    n = dataMat.shape[1]\n",
    "    simTotal = 0.0; ratSimTotal = 0.0\n",
    "    for j in range(n):\n",
    "        userRating = dataMat[user,j]\n",
    "        if userRating == 0: continue\n",
    "        overLap = np.nonzero(np.logical_and(dataMat[:,item]>0, \\\n",
    "                                      dataMat[:,j]>0))[0]\n",
    "        if len(overLap) == 0: similarity = 0\n",
    "        else: similarity = simMeas(dataMat[overLap,item], \\\n",
    "                                   dataMat[overLap,j])\n",
    "        #print 'the %d and %d similarity is: %f' % (item, j, similarity)\n",
    "        simTotal += similarity\n",
    "        ratSimTotal += similarity * userRating\n",
    "    if simTotal == 0: return 0\n",
    "    else: return ratSimTotal/simTotal"
   ]
  },
  {
   "cell_type": "code",
   "execution_count": 99,
   "id": "b93751c2",
   "metadata": {},
   "outputs": [],
   "source": [
    "def pearsSim(inA,inB):\n",
    "    if len(inA) < 3 : return 1.0\n",
    "    return 0.5 + 0.5 * np.corrcoef(inA, inB, rowvar = 0)[0][1]"
   ]
  },
  {
   "cell_type": "code",
   "execution_count": 100,
   "id": "ca0f8615",
   "metadata": {},
   "outputs": [],
   "source": [
    "def cross_validate_user(dataMat, user, test_ratio, estMethod=standEst, simMeas=pearsSim):\n",
    "    number_of_items = np.shape(dataMat)[1]\n",
    "    rated_items_by_user = np.array([i for i in range(number_of_items) if dataMat[user,i]>0])\n",
    "    test_size = int(test_ratio * len(rated_items_by_user))\n",
    "    test_indices = np.random.randint(0, len(rated_items_by_user), test_size)\n",
    "    withheld_items = rated_items_by_user[test_indices]\n",
    "    original_user_profile = np.copy(dataMat[user])\n",
    "    dataMat[user, withheld_items] = 0 # So that the withheld test items is not used in the rating estimation below\n",
    "    error_u = 0.0\n",
    "    count_u = len(withheld_items)\n",
    "\n",
    "    # Compute absolute error for user u over all test items\n",
    "    for item in withheld_items:\n",
    "        # Estimate rating on the withheld item\n",
    "        estimatedScore = estMethod(dataMat, user, simMeas, item)\n",
    "        error_u = error_u + abs(estimatedScore - original_user_profile[item])\t\n",
    "    \n",
    "    # Now restore ratings of the withheld items to the user profile\n",
    "    for item in withheld_items:\n",
    "        dataMat[user, item] = original_user_profile[item]\n",
    "        \n",
    "    # Return sum of absolute errors and the count of test cases for this user\n",
    "    # Note that these will have to be accumulated for each user to compute MAE\n",
    "    return error_u, count_u\n",
    "    "
   ]
  },
  {
   "cell_type": "code",
   "execution_count": 101,
   "id": "aa491560",
   "metadata": {},
   "outputs": [],
   "source": [
    "def test(dataMat, test_ratio, estMethod):\n",
    "    error_l = []\n",
    "    count_l = []\n",
    "    for i in range(len(dataMat)): \n",
    "        error_u, count_u = cross_validate_user(dataMat, i, test_ratio, estMethod=standEst, simMeas=pearsSim)\n",
    "        error_l.append(error_u)\n",
    "        count_l.append(count_u)\n",
    "    mae = sum(error_l)/sum(count_l)\n",
    "    # Write this function to iterate over all users and for each perform evaluation by calling\n",
    "    # the above cross_validate_user function on each user. MAE will be the ratio of total error \n",
    "    # across all test cases to the total number of test cases, for all users\n",
    "    print('Mean Absoloute Error for ',estMethod,' : ', mae)"
   ]
  },
  {
   "cell_type": "code",
   "execution_count": 102,
   "id": "4d9ba014",
   "metadata": {
    "scrolled": true
   },
   "outputs": [
    {
     "name": "stdout",
     "output_type": "stream",
     "text": [
      "Mean Absoloute Error for  <function svdEst at 0x7fa6385bb1f0>  :  3.6971936746875262\n"
     ]
    }
   ],
   "source": [
    "test(dataMat, 0.2, svdEst)"
   ]
  },
  {
   "cell_type": "markdown",
   "id": "17e513bc",
   "metadata": {},
   "source": [
    "# Question 1(c)"
   ]
  },
  {
   "cell_type": "code",
   "execution_count": 103,
   "id": "37a35d59",
   "metadata": {},
   "outputs": [],
   "source": [
    "def print_most_similar_jokes(dataMat, jokes, queryJoke, k, metric=pearsSim):\n",
    "    dataSetSize = dataMat.shape[1]\n",
    "    distance = []\n",
    "    for i in range(dataSetSize):\n",
    "        distance.append(1.0 - metric(dataMat[:,i], dataMat[:,queryJoke]))\n",
    "    print(\"The query joke is :\", jokes[queryJoke,1])\n",
    "    indices = np.array(distance).argsort()[1:k+1]\n",
    "#     print(indices)\n",
    "    for i in indices:\n",
    "        print(\"\\n\\nJoke: \", jokes[i,1], \"\\tDistance: \", distance[i])\n",
    "    # Write this function to find the k most similar jokes (based on user ratings) to a queryJoke\n",
    "    # The queryJoke is a joke id as given in the 'jokes.csv' file (an corresponding to the a column in dataMat)\n",
    "    # You must compare ratings for the queryJoke (the column in dataMat corresponding to the joke), to all\n",
    "    # other joke rating vectors and return the top k. Note that this is the same as performing KNN on the \n",
    "    # columns of dataMat. The function must retrieve the text of the joke from 'jokes.csv' file and print both\n",
    "    # the queryJoke text as well as the text of the returned jokes."
   ]
  },
  {
   "cell_type": "code",
   "execution_count": 104,
   "id": "e58c1cfd",
   "metadata": {},
   "outputs": [
    {
     "name": "stdout",
     "output_type": "stream",
     "text": [
      "The query joke is : Q. What's the difference between a man and a toilet? A. A toilet doesn't follow you around after you use it.\n",
      "\n",
      "\n",
      "Joke:  What do you get when you run over a parakeet with a lawnmower? Shredded tweet. \tDistance:  0.16637074212389624\n",
      "\n",
      "\n",
      "Joke:  A country guy goes into a city bar that has a dress code and the maitred' demands he wear a tie. Discouraged the guy goes to his car to sulk when inspiration strikes: He's got jumper cables in the trunk! So he wraps them around his neck sort of like a string tie (a bulky string tie to be sure) and returns to the bar. The maitre d' is reluctant but says to the guy \"Okay you're a pretty resourceful fellow you can come in... but just don't start anything\"!   \tDistance:  0.17651439946576852\n",
      "\n",
      "\n",
      "Joke:  Q. What's 200 feet long and has 4 teeth? A. The front row at a Willie Nelson Concert. \tDistance:  0.18528337280182083\n"
     ]
    }
   ],
   "source": [
    "print_most_similar_jokes(dataMat, jokes, 3, 3)"
   ]
  },
  {
   "cell_type": "markdown",
   "id": "d6fa4f7a",
   "metadata": {},
   "source": [
    "# Question 2(a)"
   ]
  },
  {
   "cell_type": "code",
   "execution_count": 105,
   "id": "797f777a",
   "metadata": {},
   "outputs": [],
   "source": [
    "data = pd.read_csv('segmentation_data.txt', header=None)"
   ]
  },
  {
   "cell_type": "code",
   "execution_count": 106,
   "id": "e2834bf8",
   "metadata": {},
   "outputs": [],
   "source": [
    "data_class = pd.read_csv('segmentation_classes.txt', sep='\\t', header=None)"
   ]
  },
  {
   "cell_type": "code",
   "execution_count": 107,
   "id": "46c48852",
   "metadata": {
    "scrolled": true
   },
   "outputs": [
    {
     "data": {
      "text/plain": [
       "(2100, 19)"
      ]
     },
     "execution_count": 107,
     "metadata": {},
     "output_type": "execute_result"
    }
   ],
   "source": [
    "data.shape"
   ]
  },
  {
   "cell_type": "code",
   "execution_count": 108,
   "id": "d12805cb",
   "metadata": {
    "scrolled": true
   },
   "outputs": [
    {
     "data": {
      "text/plain": [
       "(2100, 2)"
      ]
     },
     "execution_count": 108,
     "metadata": {},
     "output_type": "execute_result"
    }
   ],
   "source": [
    "data_class.shape"
   ]
  },
  {
   "cell_type": "code",
   "execution_count": 109,
   "id": "667ec788",
   "metadata": {
    "scrolled": true
   },
   "outputs": [
    {
     "data": {
      "text/html": [
       "<div>\n",
       "<style scoped>\n",
       "    .dataframe tbody tr th:only-of-type {\n",
       "        vertical-align: middle;\n",
       "    }\n",
       "\n",
       "    .dataframe tbody tr th {\n",
       "        vertical-align: top;\n",
       "    }\n",
       "\n",
       "    .dataframe thead th {\n",
       "        text-align: right;\n",
       "    }\n",
       "</style>\n",
       "<table border=\"1\" class=\"dataframe\">\n",
       "  <thead>\n",
       "    <tr style=\"text-align: right;\">\n",
       "      <th></th>\n",
       "      <th>0</th>\n",
       "      <th>1</th>\n",
       "      <th>2</th>\n",
       "      <th>3</th>\n",
       "      <th>4</th>\n",
       "      <th>5</th>\n",
       "      <th>6</th>\n",
       "      <th>7</th>\n",
       "      <th>8</th>\n",
       "      <th>9</th>\n",
       "      <th>10</th>\n",
       "      <th>11</th>\n",
       "      <th>12</th>\n",
       "      <th>13</th>\n",
       "      <th>14</th>\n",
       "      <th>15</th>\n",
       "      <th>16</th>\n",
       "      <th>17</th>\n",
       "      <th>18</th>\n",
       "    </tr>\n",
       "  </thead>\n",
       "  <tbody>\n",
       "    <tr>\n",
       "      <th>0</th>\n",
       "      <td>110.0</td>\n",
       "      <td>189.0</td>\n",
       "      <td>9</td>\n",
       "      <td>0.0</td>\n",
       "      <td>0.0</td>\n",
       "      <td>1.000000</td>\n",
       "      <td>0.666667</td>\n",
       "      <td>1.222222</td>\n",
       "      <td>1.186342</td>\n",
       "      <td>12.925926</td>\n",
       "      <td>10.888889</td>\n",
       "      <td>9.222222</td>\n",
       "      <td>18.666668</td>\n",
       "      <td>-6.111111</td>\n",
       "      <td>-11.111111</td>\n",
       "      <td>17.222221</td>\n",
       "      <td>18.666668</td>\n",
       "      <td>0.508139</td>\n",
       "      <td>1.910864</td>\n",
       "    </tr>\n",
       "    <tr>\n",
       "      <th>1</th>\n",
       "      <td>86.0</td>\n",
       "      <td>187.0</td>\n",
       "      <td>9</td>\n",
       "      <td>0.0</td>\n",
       "      <td>0.0</td>\n",
       "      <td>1.111111</td>\n",
       "      <td>0.720082</td>\n",
       "      <td>1.444444</td>\n",
       "      <td>0.750309</td>\n",
       "      <td>13.740741</td>\n",
       "      <td>11.666667</td>\n",
       "      <td>10.333334</td>\n",
       "      <td>19.222221</td>\n",
       "      <td>-6.222222</td>\n",
       "      <td>-10.222222</td>\n",
       "      <td>16.444445</td>\n",
       "      <td>19.222221</td>\n",
       "      <td>0.463329</td>\n",
       "      <td>1.941465</td>\n",
       "    </tr>\n",
       "    <tr>\n",
       "      <th>2</th>\n",
       "      <td>225.0</td>\n",
       "      <td>244.0</td>\n",
       "      <td>9</td>\n",
       "      <td>0.0</td>\n",
       "      <td>0.0</td>\n",
       "      <td>3.388889</td>\n",
       "      <td>2.195113</td>\n",
       "      <td>3.000000</td>\n",
       "      <td>1.520234</td>\n",
       "      <td>12.259259</td>\n",
       "      <td>10.333334</td>\n",
       "      <td>9.333334</td>\n",
       "      <td>17.111110</td>\n",
       "      <td>-5.777778</td>\n",
       "      <td>-8.777778</td>\n",
       "      <td>14.555555</td>\n",
       "      <td>17.111110</td>\n",
       "      <td>0.480149</td>\n",
       "      <td>1.987902</td>\n",
       "    </tr>\n",
       "    <tr>\n",
       "      <th>3</th>\n",
       "      <td>47.0</td>\n",
       "      <td>232.0</td>\n",
       "      <td>9</td>\n",
       "      <td>0.0</td>\n",
       "      <td>0.0</td>\n",
       "      <td>1.277778</td>\n",
       "      <td>1.254621</td>\n",
       "      <td>1.000000</td>\n",
       "      <td>0.894427</td>\n",
       "      <td>12.703704</td>\n",
       "      <td>11.000000</td>\n",
       "      <td>9.000000</td>\n",
       "      <td>18.111110</td>\n",
       "      <td>-5.111111</td>\n",
       "      <td>-11.111111</td>\n",
       "      <td>16.222221</td>\n",
       "      <td>18.111110</td>\n",
       "      <td>0.500966</td>\n",
       "      <td>1.875362</td>\n",
       "    </tr>\n",
       "    <tr>\n",
       "      <th>4</th>\n",
       "      <td>97.0</td>\n",
       "      <td>186.0</td>\n",
       "      <td>9</td>\n",
       "      <td>0.0</td>\n",
       "      <td>0.0</td>\n",
       "      <td>1.166667</td>\n",
       "      <td>0.691215</td>\n",
       "      <td>1.166667</td>\n",
       "      <td>1.005540</td>\n",
       "      <td>15.592592</td>\n",
       "      <td>13.888889</td>\n",
       "      <td>11.777778</td>\n",
       "      <td>21.111110</td>\n",
       "      <td>-5.111111</td>\n",
       "      <td>-11.444445</td>\n",
       "      <td>16.555555</td>\n",
       "      <td>21.111110</td>\n",
       "      <td>0.442661</td>\n",
       "      <td>1.863654</td>\n",
       "    </tr>\n",
       "  </tbody>\n",
       "</table>\n",
       "</div>"
      ],
      "text/plain": [
       "      0      1   2    3    4         5         6         7         8   \\\n",
       "0  110.0  189.0   9  0.0  0.0  1.000000  0.666667  1.222222  1.186342   \n",
       "1   86.0  187.0   9  0.0  0.0  1.111111  0.720082  1.444444  0.750309   \n",
       "2  225.0  244.0   9  0.0  0.0  3.388889  2.195113  3.000000  1.520234   \n",
       "3   47.0  232.0   9  0.0  0.0  1.277778  1.254621  1.000000  0.894427   \n",
       "4   97.0  186.0   9  0.0  0.0  1.166667  0.691215  1.166667  1.005540   \n",
       "\n",
       "          9          10         11         12        13         14         15  \\\n",
       "0  12.925926  10.888889   9.222222  18.666668 -6.111111 -11.111111  17.222221   \n",
       "1  13.740741  11.666667  10.333334  19.222221 -6.222222 -10.222222  16.444445   \n",
       "2  12.259259  10.333334   9.333334  17.111110 -5.777778  -8.777778  14.555555   \n",
       "3  12.703704  11.000000   9.000000  18.111110 -5.111111 -11.111111  16.222221   \n",
       "4  15.592592  13.888889  11.777778  21.111110 -5.111111 -11.444445  16.555555   \n",
       "\n",
       "          16        17        18  \n",
       "0  18.666668  0.508139  1.910864  \n",
       "1  19.222221  0.463329  1.941465  \n",
       "2  17.111110  0.480149  1.987902  \n",
       "3  18.111110  0.500966  1.875362  \n",
       "4  21.111110  0.442661  1.863654  "
      ]
     },
     "execution_count": 109,
     "metadata": {},
     "output_type": "execute_result"
    }
   ],
   "source": [
    "data.head()"
   ]
  },
  {
   "cell_type": "code",
   "execution_count": 110,
   "id": "24560416",
   "metadata": {
    "scrolled": true
   },
   "outputs": [
    {
     "data": {
      "text/html": [
       "<div>\n",
       "<style scoped>\n",
       "    .dataframe tbody tr th:only-of-type {\n",
       "        vertical-align: middle;\n",
       "    }\n",
       "\n",
       "    .dataframe tbody tr th {\n",
       "        vertical-align: top;\n",
       "    }\n",
       "\n",
       "    .dataframe thead th {\n",
       "        text-align: right;\n",
       "    }\n",
       "</style>\n",
       "<table border=\"1\" class=\"dataframe\">\n",
       "  <thead>\n",
       "    <tr style=\"text-align: right;\">\n",
       "      <th></th>\n",
       "      <th>0</th>\n",
       "      <th>1</th>\n",
       "    </tr>\n",
       "  </thead>\n",
       "  <tbody>\n",
       "    <tr>\n",
       "      <th>0</th>\n",
       "      <td>GRASS</td>\n",
       "      <td>0</td>\n",
       "    </tr>\n",
       "    <tr>\n",
       "      <th>1</th>\n",
       "      <td>GRASS</td>\n",
       "      <td>0</td>\n",
       "    </tr>\n",
       "    <tr>\n",
       "      <th>2</th>\n",
       "      <td>GRASS</td>\n",
       "      <td>0</td>\n",
       "    </tr>\n",
       "    <tr>\n",
       "      <th>3</th>\n",
       "      <td>GRASS</td>\n",
       "      <td>0</td>\n",
       "    </tr>\n",
       "    <tr>\n",
       "      <th>4</th>\n",
       "      <td>GRASS</td>\n",
       "      <td>0</td>\n",
       "    </tr>\n",
       "  </tbody>\n",
       "</table>\n",
       "</div>"
      ],
      "text/plain": [
       "       0  1\n",
       "0  GRASS  0\n",
       "1  GRASS  0\n",
       "2  GRASS  0\n",
       "3  GRASS  0\n",
       "4  GRASS  0"
      ]
     },
     "execution_count": 110,
     "metadata": {},
     "output_type": "execute_result"
    }
   ],
   "source": [
    "data_class.head()"
   ]
  },
  {
   "cell_type": "code",
   "execution_count": 111,
   "id": "07a09937",
   "metadata": {},
   "outputs": [],
   "source": [
    "from sklearn.preprocessing import MinMaxScaler"
   ]
  },
  {
   "cell_type": "code",
   "execution_count": 112,
   "id": "c4a1d9d1",
   "metadata": {},
   "outputs": [
    {
     "data": {
      "text/plain": [
       "MinMaxScaler()"
      ]
     },
     "execution_count": 112,
     "metadata": {},
     "output_type": "execute_result"
    }
   ],
   "source": [
    "scaler = MinMaxScaler()\n",
    "scaler.fit(data)"
   ]
  },
  {
   "cell_type": "code",
   "execution_count": 113,
   "id": "0dd821a8",
   "metadata": {
    "scrolled": true
   },
   "outputs": [],
   "source": [
    "data_t = scaler.transform(data)"
   ]
  },
  {
   "cell_type": "markdown",
   "id": "5bfce064",
   "metadata": {},
   "source": [
    "# Question 2(b)"
   ]
  },
  {
   "cell_type": "code",
   "execution_count": 114,
   "id": "8c5c862e",
   "metadata": {},
   "outputs": [],
   "source": [
    "from sklearn.cluster import KMeans\n",
    "import numpy as np"
   ]
  },
  {
   "cell_type": "code",
   "execution_count": 115,
   "id": "b3d659ed",
   "metadata": {},
   "outputs": [],
   "source": [
    "kmeans = KMeans(n_clusters=7, random_state=0).fit(data_t)"
   ]
  },
  {
   "cell_type": "code",
   "execution_count": 116,
   "id": "44074f98",
   "metadata": {
    "scrolled": false
   },
   "outputs": [
    {
     "name": "stdout",
     "output_type": "stream",
     "text": [
      "[[2.56103232e-01 3.93468137e-01 0.00000000e+00 7.45098018e-02\n",
      "  1.91176471e-02 7.73428799e-02 4.10042113e-03 6.05736165e-02\n",
      "  4.96748748e-03 1.48187304e-01 1.38085139e-01 1.85159837e-01\n",
      "  1.18538808e-01 7.16906282e-01 3.44013845e-01 3.55458216e-01\n",
      "  1.85413237e-01 4.11986237e-01 2.01889852e-01]\n",
      " [5.35098814e-01 1.50166667e-01 0.00000000e+00 2.77777769e-02\n",
      "  1.66666667e-03 3.02281387e-02 5.42887957e-04 2.67660451e-02\n",
      "  5.86661900e-04 8.23246433e-01 7.79716377e-01 8.94170356e-01\n",
      "  7.88760696e-01 2.70665440e-01 6.66372551e-01 2.89386481e-01\n",
      "  8.94170356e-01 2.11804171e-01 1.25065773e-01]\n",
      " [5.13993692e-01 8.08936588e-01 0.00000000e+00 7.74410751e-02\n",
      "  5.05050505e-03 5.44737633e-02 1.40719343e-03 4.63349822e-02\n",
      "  1.40097198e-03 1.08789943e-01 9.14029557e-02 9.24140773e-02\n",
      "  1.42676436e-01 6.79161019e-01 7.90017879e-02 8.21286885e-01\n",
      "  1.34900800e-01 4.14491323e-01 8.92332630e-01]\n",
      " [3.02505527e-01 5.30861582e-01 0.00000000e+00 5.22598854e-02\n",
      "  4.66101695e-02 1.00816850e-01 9.42021613e-03 8.39719910e-02\n",
      "  1.10432753e-02 4.00608091e-01 3.70347226e-01 4.72460748e-01\n",
      "  3.53035779e-01 4.97146165e-01 5.70882355e-01 2.13054402e-01\n",
      "  4.72460748e-01 3.02263027e-01 1.63879166e-01]\n",
      " [2.53602814e-01 4.59865407e-01 0.00000000e+00 2.63459328e-02\n",
      "  1.37457045e-02 3.73368364e-02 2.36990363e-03 2.79012170e-02\n",
      "  2.02174405e-03 2.59422230e-02 1.77752903e-02 4.22796815e-02\n",
      "  1.64643108e-02 7.69272199e-01 2.16203765e-01 5.08343293e-01\n",
      "  4.32513955e-02 8.02618370e-01 1.80506442e-01]\n",
      " [7.68927706e-01 4.25537634e-01 0.00000000e+00 1.39784942e-02\n",
      "  2.25806452e-02 3.96418510e-02 2.97458092e-03 2.30775382e-02\n",
      "  2.08854789e-03 4.07777596e-02 3.47545358e-02 5.78697324e-02\n",
      "  2.84162617e-02 7.79345213e-01 2.23328278e-01 4.86607104e-01\n",
      "  5.88436504e-02 5.38716471e-01 2.44663113e-01]\n",
      " [7.51339751e-01 5.34125767e-01 0.00000000e+00 3.98772994e-02\n",
      "  3.83435583e-02 1.14692439e-01 1.92566045e-02 1.09008107e-01\n",
      "  1.79454883e-02 3.00517672e-01 2.79476692e-01 3.52257018e-01\n",
      "  2.65522710e-01 5.92757082e-01 4.50811984e-01 3.09472549e-01\n",
      "  3.52340594e-01 3.02533154e-01 1.64731779e-01]]\n"
     ]
    }
   ],
   "source": [
    "print(kmeans.cluster_centers_)"
   ]
  },
  {
   "cell_type": "code",
   "execution_count": 117,
   "id": "68492eb6",
   "metadata": {},
   "outputs": [],
   "source": [
    "centers = np.array(kmeans.cluster_centers_)"
   ]
  },
  {
   "cell_type": "code",
   "execution_count": 118,
   "id": "bed88bc1",
   "metadata": {},
   "outputs": [],
   "source": [
    "import matplotlib.pyplot as plt"
   ]
  },
  {
   "cell_type": "code",
   "execution_count": 119,
   "id": "efc14683",
   "metadata": {
    "scrolled": false
   },
   "outputs": [
    {
     "data": {
      "text/plain": [
       "<matplotlib.collections.PathCollection at 0x7fa638d02340>"
      ]
     },
     "execution_count": 119,
     "metadata": {},
     "output_type": "execute_result"
    },
    {
     "data": {
      "image/png": "[encoded data removed]",
      "text/plain": [
       "<Figure size 432x288 with 1 Axes>"
      ]
     },
     "metadata": {
      "needs_background": "light"
     },
     "output_type": "display_data"
    }
   ],
   "source": [
    "plt.scatter(centers[:,0], centers[:,1], marker=\"x\", color='r')"
   ]
  },
  {
   "cell_type": "code",
   "execution_count": 120,
   "id": "96ef580d",
   "metadata": {},
   "outputs": [],
   "source": [
    "from sklearn import metrics"
   ]
  },
  {
   "cell_type": "code",
   "execution_count": 121,
   "id": "72d5966e",
   "metadata": {},
   "outputs": [],
   "source": [
    "kmeans_pred = kmeans.predict(data_t)"
   ]
  },
  {
   "cell_type": "code",
   "execution_count": 122,
   "id": "249073ce",
   "metadata": {
    "scrolled": true
   },
   "outputs": [
    {
     "data": {
      "text/plain": [
       "0.6109347107661537"
      ]
     },
     "execution_count": 122,
     "metadata": {},
     "output_type": "execute_result"
    }
   ],
   "source": [
    "metrics.homogeneity_score(data_class[1], kmeans_pred)"
   ]
  },
  {
   "cell_type": "code",
   "execution_count": 123,
   "id": "6952c41b",
   "metadata": {
    "scrolled": true
   },
   "outputs": [
    {
     "data": {
      "text/plain": [
       "0.6126346286442208"
      ]
     },
     "execution_count": 123,
     "metadata": {},
     "output_type": "execute_result"
    }
   ],
   "source": [
    "metrics.completeness_score(data_class[1], kmeans_pred)"
   ]
  },
  {
   "cell_type": "markdown",
   "id": "06528ad5",
   "metadata": {},
   "source": [
    "# Question 2(c)"
   ]
  },
  {
   "cell_type": "code",
   "execution_count": 124,
   "id": "2139647b",
   "metadata": {},
   "outputs": [],
   "source": [
    "from sklearn.decomposition import PCA"
   ]
  },
  {
   "cell_type": "code",
   "execution_count": 125,
   "id": "47a4c138",
   "metadata": {
    "scrolled": true
   },
   "outputs": [
    {
     "data": {
      "text/plain": [
       "PCA()"
      ]
     },
     "execution_count": 125,
     "metadata": {},
     "output_type": "execute_result"
    }
   ],
   "source": [
    "pca = PCA()\n",
    "pca.fit(data_t)"
   ]
  },
  {
   "cell_type": "code",
   "execution_count": 126,
   "id": "c65953dd",
   "metadata": {
    "scrolled": true
   },
   "outputs": [
    {
     "name": "stdout",
     "output_type": "stream",
     "text": [
      "[6.07142340e-01 1.31969792e-01 1.01237729e-01 4.54353920e-02\n",
      " 3.54736114e-02 1.98803550e-02 1.89197030e-02 1.61540880e-02\n",
      " 1.06560085e-02 7.11337518e-03 3.92203525e-03 1.57500309e-03\n",
      " 4.89150725e-04 3.14164135e-05 2.36381041e-16 1.58615946e-16\n",
      " 1.52966845e-16 1.44466875e-16 2.87118866e-35]\n"
     ]
    }
   ],
   "source": [
    "print(pca.explained_variance_ratio_)"
   ]
  },
  {
   "cell_type": "markdown",
   "id": "d4a41060",
   "metadata": {},
   "source": [
    "Based on the explained variance ratio above we reach 95% accountability with 7 principle components. "
   ]
  },
  {
   "cell_type": "code",
   "execution_count": 127,
   "id": "3f5d3976",
   "metadata": {
    "scrolled": true
   },
   "outputs": [
    {
     "data": {
      "text/plain": [
       "PCA(n_components=7)"
      ]
     },
     "execution_count": 127,
     "metadata": {},
     "output_type": "execute_result"
    }
   ],
   "source": [
    "pca1 = PCA(n_components=7)\n",
    "pca1.fit(data_t)"
   ]
  },
  {
   "cell_type": "code",
   "execution_count": 128,
   "id": "46b7f618",
   "metadata": {
    "scrolled": true
   },
   "outputs": [
    {
     "name": "stdout",
     "output_type": "stream",
     "text": [
      "[0.60714234 0.13196979 0.10123773 0.04543539 0.03547361 0.01988035\n",
      " 0.0189197 ]\n"
     ]
    }
   ],
   "source": [
    "print(pca1.explained_variance_ratio_)"
   ]
  },
  {
   "cell_type": "code",
   "execution_count": 129,
   "id": "c1e73075",
   "metadata": {
    "scrolled": false
   },
   "outputs": [
    {
     "data": {
      "text/plain": [
       "0.9600589227704955"
      ]
     },
     "execution_count": 129,
     "metadata": {},
     "output_type": "execute_result"
    }
   ],
   "source": [
    "(pca1.explained_variance_ratio_).sum() #atleast 95% accounted for with 7 PC's"
   ]
  },
  {
   "cell_type": "code",
   "execution_count": 130,
   "id": "21a33914",
   "metadata": {},
   "outputs": [],
   "source": [
    "data_pca = pca1.transform(data_t)"
   ]
  },
  {
   "cell_type": "markdown",
   "id": "1fda638b",
   "metadata": {},
   "source": [
    "# Question 2(d)"
   ]
  },
  {
   "cell_type": "code",
   "execution_count": 131,
   "id": "b9e4d2f4",
   "metadata": {},
   "outputs": [],
   "source": [
    "kmeans_pca = KMeans(n_clusters=7, random_state=0).fit(data_pca)"
   ]
  },
  {
   "cell_type": "code",
   "execution_count": 132,
   "id": "892923c7",
   "metadata": {},
   "outputs": [],
   "source": [
    "kmeans_pca_pred = kmeans_pca.predict(data_pca)"
   ]
  },
  {
   "cell_type": "code",
   "execution_count": 133,
   "id": "49794db1",
   "metadata": {
    "scrolled": true
   },
   "outputs": [
    {
     "data": {
      "text/plain": [
       "0.6091364049733291"
      ]
     },
     "execution_count": 133,
     "metadata": {},
     "output_type": "execute_result"
    }
   ],
   "source": [
    "metrics.homogeneity_score(data_class[1], kmeans_pca_pred)"
   ]
  },
  {
   "cell_type": "code",
   "execution_count": 134,
   "id": "fe2b0afe",
   "metadata": {
    "scrolled": true
   },
   "outputs": [
    {
     "data": {
      "text/plain": [
       "0.6107955063694608"
      ]
     },
     "execution_count": 134,
     "metadata": {},
     "output_type": "execute_result"
    }
   ],
   "source": [
    "metrics.completeness_score(data_class[1], kmeans_pca_pred)"
   ]
  },
  {
   "cell_type": "markdown",
   "id": "dd4d3b34",
   "metadata": {},
   "source": [
    "# Question 2(e)"
   ]
  },
  {
   "cell_type": "markdown",
   "id": "54a40b8d",
   "metadata": {},
   "source": [
    "From above we can see that even with less data we can get similar completeness and homogeneity scores compared to the scores we got previously. Despite there being a very small change in the homogeneity and completeness score before and after PCA, we still know that there is a fall in the homogeneity score from 0.6109 to 0.6091 and the same for the completeness score from 0.612 to 0.610. "
   ]
  }
 ],
 "metadata": {
  "kernelspec": {
   "display_name": "Python 3 (ipykernel)",
   "language": "python",
   "name": "python3"
  },
  "language_info": {
   "codemirror_mode": {
    "name": "ipython",
    "version": 3
   },
   "file_extension": ".py",
   "mimetype": "text/x-python",
   "name": "python",
   "nbconvert_exporter": "python",
   "pygments_lexer": "ipython3",
   "version": "3.9.7"
  }
 },
 "nbformat": 4,
 "nbformat_minor": 5
}
